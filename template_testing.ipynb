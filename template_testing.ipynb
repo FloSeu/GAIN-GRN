{
 "cells": [
  {
   "cell_type": "code",
   "execution_count": null,
   "metadata": {},
   "outputs": [],
   "source": [
    "import numpy as np\n",
    "import re\n",
    "\n",
    "valid_collection = np.load(\"../valid_collection.q.pkl\", allow_pickle=True)\n",
    "print(dir(valid_collection))"
   ]
  },
  {
   "cell_type": "code",
   "execution_count": null,
   "metadata": {},
   "outputs": [],
   "source": [
    "def get_family(name):\n",
    "    # With the different namings, there is plenty of ambiguity regarding each aGPCR. This function mitigates this and posts A1,A2,....,V1 only from the protein name.\n",
    "    queries = [('AGR..', name, lambda x: x[-1][-2:]), #\n",
    "                ('ADGR..', name, lambda x: x[-1][-2:]), \n",
    "                ('cadher.*receptor.', name.lower(), lambda x: f\"C{x[-1][-1]}\"),\n",
    "                ('cels?r.', name.lower(), lambda x: f\"C{x[-1][-1]}\"), \n",
    "                ('latrophilin.*protein-?\\d', name.lower(), lambda x: f\"L{x[-1][-1]}\"),\n",
    "                ('latrophilin-?\\d', name.lower(), lambda x: f\"L{x[-1][-1]}\"),\n",
    "                ('GP?R133', name.upper(),lambda x: 'D1'),\n",
    "                ('GP?R126', name.upper(),lambda x: 'G6'),\n",
    "                ('GP?R?124', name.upper(),lambda x: 'A2'),\n",
    "                ('GP?R?125', name.upper(),lambda x: 'A3'),\n",
    "                ('GP?R112', name.upper(),lambda x: 'G4'),\n",
    "                ('GP?R116', name.upper(),lambda x: 'F5'),\n",
    "                ('GP?R144', name.upper(),lambda x: 'D2'),\n",
    "                ('ag-?.*-?coupled-?receptor-?.-?\\d', name.lower(),lambda x: x[-1].replace('-','')[-2:].upper()),\n",
    "                ('brain-?specific-?angiogenesis-?inhibitor-?\\d', name.lower(), lambda x: f\"B{x[-1][-1]}\"),\n",
    "                ('emr\\d', name.lower(), lambda x: f\"E{x[-1][-1]}\"),\n",
    "                ]\n",
    "    for pattern, searchstring, output in queries:\n",
    "        match = re.findall(pattern, searchstring)\n",
    "        if match != []:\n",
    "            #if output(match) == '': print(name)\n",
    "            return output(match)\n",
    "    return 'X'\n",
    "\n",
    "names = [valid_collection.collection[i].name for i in range(len(valid_collection.collection))]\n",
    "recs = [get_family(n) for n in names]\n",
    "a1_names = []\n",
    "for i, r in enumerate(recs):\n",
    "    if r == 'A1':\n",
    "        a1_names.append(names[i])\n",
    "print(a1_names)"
   ]
  },
  {
   "cell_type": "code",
   "execution_count": null,
   "metadata": {},
   "outputs": [],
   "source": [
    "orgs = [n.split(\"-\")[-1].replace(\"_\",\" \") for n in a1_names]\n",
    "a1_orgs = np.unique(orgs)\n"
   ]
  },
  {
   "cell_type": "code",
   "execution_count": null,
   "metadata": {},
   "outputs": [],
   "source": [
    "print(\", \".join(a1_orgs))"
   ]
  },
  {
   "cell_type": "code",
   "execution_count": null,
   "metadata": {},
   "outputs": [],
   "source": [
    "print(len(a1_orgs))"
   ]
  },
  {
   "cell_type": "code",
   "execution_count": null,
   "metadata": {},
   "outputs": [],
   "source": []
  }
 ],
 "metadata": {
  "kernelspec": {
   "display_name": "science",
   "language": "python",
   "name": "python3"
  },
  "language_info": {
   "codemirror_mode": {
    "name": "ipython",
    "version": 3
   },
   "file_extension": ".py",
   "mimetype": "text/x-python",
   "name": "python",
   "nbconvert_exporter": "python",
   "pygments_lexer": "ipython3",
   "version": "3.9.undefined"
  }
 },
 "nbformat": 4,
 "nbformat_minor": 2
}
