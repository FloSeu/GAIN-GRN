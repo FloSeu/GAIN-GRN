{
 "cells": [
  {
   "cell_type": "code",
   "execution_count": null,
   "metadata": {},
   "outputs": [],
   "source": [
    "# ANALYSIS FOR BRANCH PKD - poycystins without alignment\n",
    "# DEPENDENCIES\n",
    "import glob\n",
    "from shutil import copyfile\n",
    "import pickle\n",
    "import numpy as np\n",
    "import pandas as pd\n",
    "from matplotlib import pyplot as plt\n",
    "from matplotlib.ticker import (MultipleLocator, FixedLocator)\n",
    "#import logomaker\n",
    "# LOCAL IMPORTS\n",
    "from gaingrn.utils.indexing_classes import GPCRDBIndexing\n",
    "from gaingrn.utils.gain_classes import GainDomain, GainCollection, GainDomainNoAln\n",
    "import gaingrn.utils.io\n",
    "import gaingrn.utils.alignment_utils\n",
    "import gaingrn.utils.structure_utils"
   ]
  },
  {
   "cell_type": "code",
   "execution_count": null,
   "metadata": {},
   "outputs": [],
   "source": [
    "valid_seqs = gaingrn.utils.io.read_multi_seq(\"../../data/pkd/all_pkd_gain.fa\")\n",
    "stride_files = glob.glob(\"../../data/pkd/pkd_stride/*\")\n",
    "# This only contains the sigma files for truncated (?) PDBs.\n",
    "print(len(stride_files))"
   ]
  },
  {
   "cell_type": "code",
   "execution_count": null,
   "metadata": {},
   "outputs": [],
   "source": [
    "# re-offset the sequences to match the exact PDB indexing\n",
    "f_seqs = gaingrn.utils.io.read_alignment(\"../../../all_pkds.fa\")\n",
    "full_seqs = {k.split(\"-\")[0]:v for k,v in f_seqs.items()}\n",
    "print(full_seqs.keys())\n",
    "valid_adj_seqs = []\n",
    "for tup in valid_seqs:\n",
    "    name = tup[0].split(\"-\")[0]\n",
    "    x = gaingrn.utils.alignment_utils.find_the_start(longseq=full_seqs[name], shortseq=tup[1])\n",
    "    if x == 0:\n",
    "        print(\"already 1st res.\\n\", name, tup[1][:10], tup[1][-10:])\n",
    "        valid_adj_seqs.append( (name,full_seqs[name][:len(tup[1])-1]) )\n",
    "        print(full_seqs[name][:len(tup[1])-1])\n",
    "    else:\n",
    "        valid_adj_seqs.append( (name,full_seqs[name][x-1:x+len(tup[1])-1]) )\n"
   ]
  },
  {
   "cell_type": "code",
   "execution_count": null,
   "metadata": {},
   "outputs": [],
   "source": [
    "valid_collection = GainCollection(  \n",
    "                                    stride_files = stride_files,\n",
    "                                    sequence_files=None,\n",
    "                                    sequences=valid_adj_seqs,#valid_seqs,\n",
    "                                    is_truncated = True,\n",
    "                                    coil_weight=0.00, # TESTING\n",
    "                                    #domain_threshold=20, # TESTING\n",
    "                                    stride_outlier_mode=True,\n",
    "                                    no_alignment=True,\n",
    "                                    debug=False)\n",
    "#valid_collection = pd.read_pickle(\"../valid_collection.pkl\")"
   ]
  },
  {
   "cell_type": "code",
   "execution_count": null,
   "metadata": {},
   "outputs": [],
   "source": [
    "pickle.dump(valid_collection, open('../../data/pkd/pkd_collection.pkl', 'wb'), -1)"
   ]
  },
  {
   "cell_type": "code",
   "execution_count": null,
   "metadata": {},
   "outputs": [],
   "source": [
    "pdbs = glob.glob(\"../pkd_pdbs/*_rank_1_*.pdb\")\n",
    "print(f\"Found {len(pdbs)} best ranked models in target directories.\")\n",
    "valid_ct = 0\n",
    "\n",
    "for gain in valid_collection.collection:\n",
    "    valid_ct +=1\n",
    "    name = gain.name\n",
    "    tar_pdb = [p for p in pdbs if name.split(\"_\")[0] in p][0]\n",
    "    new_pdb_path = f'../trunc_pkd_pdbs/{gain.name.split(\"-\")[0]}.pdb'\n",
    "    gaingrn.utils.structure_utils.truncate_pdb(gain.start,gain.end, tar_pdb, new_pdb_path)\n",
    "print(\"Copied and truncated\", valid_ct, \"GAIN domains.\")\n",
    "    "
   ]
  },
  {
   "cell_type": "code",
   "execution_count": null,
   "metadata": {},
   "outputs": [],
   "source": [
    "valid_collection.plot_sse_hist(title=f\"Polycystins (Total: {len(valid_adj_seqs)})\",\n",
    "                               n_max=26,\n",
    "                               #savename=\"../fig/hists/%s.adj\"%(out_names[i]))\n",
    "                               savename=\"../pkd_data/pkd_sse\")"
   ]
  }
 ],
 "metadata": {
  "kernelspec": {
   "display_name": "scipy",
   "language": "python",
   "name": "python3"
  },
  "language_info": {
   "codemirror_mode": {
    "name": "ipython",
    "version": 3
   },
   "file_extension": ".py",
   "mimetype": "text/x-python",
   "name": "python",
   "nbconvert_exporter": "python",
   "pygments_lexer": "ipython3",
   "version": "3.10.9"
  },
  "vscode": {
   "interpreter": {
    "hash": "efcc3436bf700bf51081b251413b556e30c22be82f452601745119c8a669a2f3"
   }
  }
 },
 "nbformat": 4,
 "nbformat_minor": 4
}
