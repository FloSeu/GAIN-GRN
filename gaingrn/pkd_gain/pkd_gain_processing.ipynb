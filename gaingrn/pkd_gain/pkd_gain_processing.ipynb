{
 "cells": [
  {
   "cell_type": "markdown",
   "metadata": {},
   "source": [
    "# PKD_GAIN_PROCESSING\n",
    "A juypter notebook for assigning the created GAIN-GRN to the set of PKD1/PKD1L1 protein structures that have been generated and are partially shown in Figure 2 ans Supp. Fig. 3. For this, we generated another 2824 PKD1/PDK1L1 GAIN domain models and run STRIDE on them. We proceed analogously to aGPCR GAIN domains, skipping the template stage and going directly from validation to assigning the indexing."
   ]
  },
  {
   "cell_type": "code",
   "execution_count": 1,
   "metadata": {},
   "outputs": [],
   "source": [
    "# build a database from a dataset for nomenclating\n",
    "# INPUT: a collection of GAIN domain PDBs, their sequences as one large \".fa\" file\n",
    "import multiprocessing as mp\n",
    "from subprocess import Popen, PIPE\n",
    "import glob\n",
    "from shutil import copyfile\n",
    "import pickle\n",
    "import numpy as np\n",
    "import pandas as pd\n",
    "from matplotlib import pyplot as plt\n",
    "from matplotlib.ticker import (MultipleLocator, FixedLocator)\n",
    "#import logomaker\n",
    "# LOCAL IMPORTS\n",
    "import gaingrn.utils.structure_utils\n",
    "from gaingrn.utils.indexing_classes import GPCRDBIndexing\n",
    "from gaingrn.utils.gain_classes import GainDomain, GainCollection, GainDomainNoAln, FilterCollection\n",
    "import gaingrn.utils.io"
   ]
  },
  {
   "cell_type": "markdown",
   "metadata": {},
   "source": [
    "#### 1) Filter the folded PKD proteins analogously to **colabfold_stage.ipynb**\n",
    "- run **STRIDE** on all models"
   ]
  },
  {
   "cell_type": "code",
   "execution_count": null,
   "metadata": {},
   "outputs": [],
   "source": [
    "pkd_pdb_dir = \"/home/hildilab/agpcr_nom/pkd_pdbs\"\n",
    "pdbs = glob.glob(f\"{pkd_pdb_dir}/*_rank_1_*.pdb\")\n",
    "print(f\"Found {len(pdbs)} best ranked models in target directories.\")\n",
    "\n",
    "stride_folder = f\"/home/hildilab/agpcr_nom/pkds_stride\"\n",
    "stride_bin = \"/home/hildilab/lib/stride/stride\"\n",
    "           \n",
    "def compile_stride_mp_list(pdbs, stride_folder,stride_bin):\n",
    "    stride_mp_list = []\n",
    "    \n",
    "    for pdb in pdbs:\n",
    "        pdb_name = pdb.split(\"/\")[-1]\n",
    "        name = pdb_name.split(\"_unrelaxed_\")[0]\n",
    "        out_file = f\"{stride_folder}/{name}.stride\"\n",
    "        arg = [pdb, out_file, stride_bin]\n",
    "        \n",
    "        stride_mp_list.append(arg)\n",
    "        \n",
    "    return stride_mp_list\n",
    "\n",
    "def run_stride(arg):\n",
    "    pdb_file, out_file, stride_bin = arg\n",
    "    stride_command = f\"{stride_bin} {pdb_file} -f{out_file}\"\n",
    "    gaingrn.utils.io.run_command(stride_command)\n",
    "\n",
    "def execute_stride_mp(stride_mp_list, n_threads=10):\n",
    "        stride_pool = mp.Pool(n_threads)\n",
    "        stride_pool.map(run_stride, stride_mp_list)\n",
    "        print(\"Completed mutithreaded creation of STRIDE files!\")\n",
    "        \n",
    "        #execute.run_stride(pdb, out_file, stride_bin)\n",
    "    \n",
    "stride_mp_list = compile_stride_mp_list(pdbs, stride_folder, stride_bin)\n",
    "print(len(stride_mp_list))\n",
    "# MP execution of STRIDE\n",
    "execute_stride_mp(stride_mp_list, n_threads=3)"
   ]
  },
  {
   "cell_type": "code",
   "execution_count": null,
   "metadata": {},
   "outputs": [],
   "source": [
    "# Eliminate double entries (both in the original run and the added small runs)\n",
    "# Form the \"pdbs\" list\n",
    "\n",
    "stride_files = glob.glob(f\"{stride_folder}/*\")\n",
    "print(len(stride_files))\n",
    "accessions = [f.split(\".strid\")[0].split(\"/\")[-1].split(\"-\")[0] for f in stride_files]\n",
    "pdb_accessions = np.array([p.split(\"_unrelaxed_\")[0].split(\"/\")[-1].split(\"-\")[0] for p in pdbs])\n",
    "\n",
    "# Find duplicate in the original pdbs list and indicate them via > is_duplicate = True <\n",
    "is_duplicate=np.zeros([len(pdbs)], dtype=bool)\n",
    "sort_pdb_ac = np.sort(pdb_accessions)\n",
    "duplicate_list = []\n",
    "for i, pdb in enumerate(sort_pdb_ac):\n",
    "    if i+1 == len(sort_pdb_ac):\n",
    "        break\n",
    "    if pdb == sort_pdb_ac[i+1]:\n",
    "        duplicate_list.append(pdb)\n",
    "        multi_indices = np.where(pdb == pdb_accessions)[0]\n",
    "        is_duplicate[multi_indices[0]] = True\n",
    "\n",
    "np_pdbs = np.array(pdbs)\n",
    "singlet_pdbs = np_pdbs[is_duplicate == False] # This is the reduced list with ONLY UNIQUE PDBs\n",
    "print(f\"Reduced the initial set of {len(pdbs)} PDB files down to {len(singlet_pdbs)} files.\")\n",
    "\n",
    "# This is a check routine if there are PDBs in the reduced list which have NOT a STRIDE file\n",
    "singlet_pdb_accessions = np.array([p.split(\"_unrelaxed_\")[0].split(\"/\")[-1].split(\"-\")[0] for p in singlet_pdbs])\n",
    "\n",
    "counter = 0\n",
    "for ac in singlet_pdb_accessions:\n",
    "    if ac not in accessions:\n",
    "        print(ac)\n",
    "    else:\n",
    "        counter += 1\n",
    "print(f\"Found {counter}/{len(singlet_pdb_accessions)} accessions in the accession list.\")"
   ]
  },
  {
   "cell_type": "code",
   "execution_count": null,
   "metadata": {},
   "outputs": [],
   "source": [
    "fasta_file = \"../all_pkds.fa\"\n",
    "stride_folder = \"../pkds_stride\"\n",
    "sequences = gaingrn.utils.io.read_multi_seq(fasta_file)\n",
    "print(len(sequences))\n",
    "stride_files = glob.glob(\"../pkds_stride/*\")\n",
    "print(len(stride_files))\n",
    "\n",
    "filtered_pkds = FilterCollection(\n",
    "                                   stride_files = stride_files,\n",
    "                                   sequences = sequences\n",
    "                                   )\n",
    "filtered_pkds.write_all_seq(\"../../all_pkd_gain.fa\")"
   ]
  },
  {
   "cell_type": "code",
   "execution_count": 2,
   "metadata": {},
   "outputs": [],
   "source": [
    "def filter_by_receptor(sequences, selection):\n",
    "    new_list = []\n",
    "    for seq_tup in sequences:\n",
    "        if selection in seq_tup[0]:\n",
    "            new_list.append(seq_tup)\n",
    "    return new_list\n",
    "\n",
    "def filter_by_list(sequences, selection): # selection list\n",
    "    new_list = []\n",
    "    for seq_tup in sequences:\n",
    "        for it in selection:\n",
    "            if it in seq_tup[0]:\n",
    "                new_list.append(seq_tup)\n",
    "    return new_list"
   ]
  },
  {
   "cell_type": "code",
   "execution_count": 13,
   "metadata": {},
   "outputs": [
    {
     "name": "stdout",
     "output_type": "stream",
     "text": [
      "2823\n"
     ]
    }
   ],
   "source": [
    "valid_seqs = gaingrn.utils.io.read_multi_seq(\"/home/hildilab/agpcr_nom/all_pkd_gain.fa\")\n",
    "stride_files = glob.glob(\"/home/hildilab/agpcr_nom/pkd_stride/*\")\n",
    "\n",
    "# re-offset the sequences to match the exact PDB indexing\n",
    "f_seqs = gaingrn.utils.io.read_alignment(\"/home/hildilab/agpcr_nom/all_pkds.fa\")\n",
    "full_seqs = {k.split(\"-\")[0]:v for k,v in f_seqs.items()}\n",
    "\n",
    "valid_adj_seqs = []\n",
    "for tup in valid_seqs:\n",
    "    name = tup[0].split(\"-\")[0]\n",
    "    x = gaingrn.utils.structure_utils.find_the_start(longseq=full_seqs[name], shortseq=tup[1])\n",
    "    if x == 0:\n",
    "        valid_adj_seqs.append( (name,full_seqs[name][:len(tup[1])-1]) )\n",
    "    else:\n",
    "        valid_adj_seqs.append( (name,full_seqs[name][x-1:x+len(tup[1])-1]) )\n"
   ]
  },
  {
   "cell_type": "code",
   "execution_count": null,
   "metadata": {},
   "outputs": [],
   "source": [
    "valid_collection = GainCollection(  \n",
    "                                    stride_files = stride_files,\n",
    "                                    sequence_files=None,\n",
    "                                    sequences=valid_adj_seqs,\n",
    "                                    is_truncated = True,\n",
    "                                    coil_weight=0.00,\n",
    "                                    stride_outlier_mode=True,\n",
    "                                    no_alignment=True,\n",
    "                                    debug=False)\n",
    "pickle.dump(valid_collection, open('../pkd_collection.pkl', 'wb'))"
   ]
  },
  {
   "cell_type": "code",
   "execution_count": null,
   "metadata": {},
   "outputs": [],
   "source": [
    "def truncate_pdb(start, end, oldpdb, newpdb):\n",
    "    with open(oldpdb) as p:\n",
    "        data = p.readlines()\n",
    "    newdata = []\n",
    "    for line in data:\n",
    "        if line.startswith('ATOM'):\n",
    "            resid = int(line[22:26])\n",
    "            if start > resid or end < resid:\n",
    "                continue\n",
    "        newdata.append(line)\n",
    "    with open(newpdb, 'w') as new:\n",
    "        new.write(''.join(newdata))\n",
    "\n",
    "pdbs = glob.glob(\"../pkd_pdbs/*_rank_1_*.pdb\")\n",
    "print(f\"Found {len(pdbs)} best ranked models in target directories.\")\n",
    "valid_ct = 0\n",
    "\n",
    "for gain in valid_collection.collection:\n",
    "    valid_ct +=1\n",
    "    name = gain.name\n",
    "    tar_pdb = [p for p in pdbs if name.split(\"_\")[0] in p][0]\n",
    "    new_pdb_path = f'../trunc_pkd_pdbs/{gain.name.split(\"-\")[0]}.pdb'\n",
    "    truncate_pdb(gain.start,gain.end, tar_pdb, new_pdb_path)\n",
    "print(\"Copied and truncated\", valid_ct, \"GAIN domains.\")\n",
    "    "
   ]
  },
  {
   "cell_type": "code",
   "execution_count": null,
   "metadata": {},
   "outputs": [],
   "source": [
    "# PLOT SEGMENT STATISTICS\n",
    "valid_collection.plot_sse_hist(title=f\"Polycystins (Total: {len(valid_adj_seqs)})\",\n",
    "                               n_max=26,\n",
    "                               savename=\"../pkd_data/pkd_sse\")"
   ]
  },
  {
   "cell_type": "markdown",
   "metadata": {},
   "source": [
    "#### We proceed with **run_indexing_pkd.py** for generating the GAIN-GRN indexing of PKD1/PKD1L1 proteins."
   ]
  }
 ],
 "metadata": {
  "kernelspec": {
   "display_name": "scipy",
   "language": "python",
   "name": "python3"
  },
  "language_info": {
   "codemirror_mode": {
    "name": "ipython",
    "version": 3
   },
   "file_extension": ".py",
   "mimetype": "text/x-python",
   "name": "python",
   "nbconvert_exporter": "python",
   "pygments_lexer": "ipython3",
   "version": "3.10.9"
  },
  "vscode": {
   "interpreter": {
    "hash": "efcc3436bf700bf51081b251413b556e30c22be82f452601745119c8a669a2f3"
   }
  }
 },
 "nbformat": 4,
 "nbformat_minor": 4
}
