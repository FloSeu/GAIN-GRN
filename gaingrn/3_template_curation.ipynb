{
 "cells": [
  {
   "cell_type": "markdown",
   "metadata": {},
   "source": [
    "# 3 Template Curation\n",
    "A noteboook for evaluating a set of selected templates to account for dataset coverage and similarity between templates to manually curate the ideal template set.\n"
   ]
  },
  {
   "cell_type": "code",
   "execution_count": null,
   "metadata": {},
   "outputs": [],
   "source": [
    "# DEPENDENCIES\n",
    "import glob, os\n",
    "import numpy as np\n",
    "import pandas as pd\n",
    "import json\n",
    "# LOCAL IMPORTS\n",
    "#from indexing_classes import GPCRDBIndexing\n",
    "\n",
    "import matplotlib.pyplot as plt\n",
    "import gaingrn.scripts.template_utils\n",
    "import gaingrn.scripts.io\n",
    "import gaingrn.scripts.indexing_utils\n",
    "try: \n",
    "    GESAMT_BIN = os.environ.get('GESAMT_BIN')\n",
    "except:\n",
    "    GESAMT_BIN = \"/home/hildilab/lib/xtal/ccp4-8.0/ccp4-8.0/bin/gesamt\"\n",
    "\n",
    "if GESAMT_BIN is None:\n",
    "    GESAMT_BIN = \"/home/hildilab/lib/xtal/ccp4-8.0/ccp4-8.0/bin/gesamt\""
   ]
  },
  {
   "attachments": {},
   "cell_type": "markdown",
   "metadata": {},
   "source": [
    "### 1. Load the valid GAIN domain Dataset and specify the pdb path."
   ]
  },
  {
   "cell_type": "code",
   "execution_count": null,
   "metadata": {},
   "outputs": [],
   "source": [
    "# In addition to the collection, we need the corresponding PDB files.\n",
    "valid_collection = pd.read_pickle(\"../data/valid_collection.pkl\")\n",
    "allpdbs = '../../all_pdbs/*.pdb'\n",
    "print(len(valid_collection.collection))\n",
    "segments = ['H1','H2','H3','H4','H5','H6','S1','S2','S3','S4','S5','S6','S7','S8','S9','S10','S11','S12','S13','S14']\n",
    "with open(\"../data/template_history.json\",\"r\") as jj:\n",
    "    template_data = json.load(jj)"
   ]
  },
  {
   "cell_type": "markdown",
   "metadata": {},
   "source": [
    "#### For evaluation, every template is run against the __full__ dataset, generating RMSDs and 3D-aligned PDB files. One can either run directly from the cell or generate a Bash script within the folder to be run manually."
   ]
  },
  {
   "cell_type": "code",
   "execution_count": null,
   "metadata": {},
   "outputs": [],
   "source": [
    "# The template data dictionary contains the template info of all runs. We only take the final ones\n",
    "\n",
    "# RUN FOR SDB TEMPLATES\n",
    "for t_name, sdb_template in template_data[\"sdb_templates\"].items():\n",
    "    gesamt_outfolder = f'../../TESTING/{t_name}_sdb'\n",
    "    sdb_template_pdb = gaingrn.scripts.io.find_pdb(sdb_template, \"../data/template_pdbs/\")\n",
    "    gaingrn.scripts.template_utils.run_gesamt_execution(valid_collection.collection, \n",
    "                                outfolder=gesamt_outfolder,\n",
    "                                gesamt_bin=GESAMT_BIN,\n",
    "                                pdb_folder='../../all_pdbs',\n",
    "                                domain='sdb', \n",
    "                                n_threads=6, \n",
    "                                max_struc=len(valid_collection.collection), \n",
    "                                no_run=True,  # <-- CHANGE THIS IF YOU DO/DON'T WANT A DRY RUN, OTHERWISE ONLY SCRIPTS FOR EXECUTION ARE CREATED.\n",
    "                                template=sdb_template_pdb)\n",
    "\n",
    "# RUN FOR SDA TEMPLATES\n",
    "for t_name, sda_template in template_data[\"sda_templates\"].items():\n",
    "    identifier = sda_template.split(\"-\")[0]\n",
    "    sda_template_pdb = gaingrn.scripts.io.find_pdb(sda_template, '../data/template_pdbs/')\n",
    "    gesamt_outfolder = f'../../TESTING/{t_name}_{identifier}_sda'\n",
    "\n",
    "    gaingrn.scripts.template_utils.run_gesamt_execution(valid_collection.collection, \n",
    "                            outfolder=gesamt_outfolder, \n",
    "                            gesamt_bin=GESAMT_BIN,\n",
    "                            pdb_folder='../../all_pdbs', \n",
    "                            domain='sda', \n",
    "                            n_threads=6, \n",
    "                            max_struc=len(valid_collection.collection), \n",
    "                            no_run=True,  # <-- CHANGE THIS IF YOU DO/DON'T WANT A DRY RUN, OTHERWISE ONLY SCRIPTS FOR EXECUTION ARE CREATED.\n",
    "                            template=sda_template_pdb)"
   ]
  },
  {
   "cell_type": "markdown",
   "metadata": {},
   "source": [
    "### 2. Evaluate the template match quality\n",
    " The resulting Directories from each **run_gesamt_execution** are collected. dictionary for evaluation. A structural alignment is constructed for every template by stacking the pairwise matches that __GESAMT__ has generated into a MSA-compatible file. From there, the best residues of each element and the respective conservational frequency can be collected.\n",
    "\n",
    " With the constructed MSA, we can extract the most conserved residue of each segment for each template to select the segment centers.\n",
    "\n",
    " Below, this is done exemplarily on one single template in a directory of all pairwise GAIN matches to this template."
   ]
  },
  {
   "cell_type": "code",
   "execution_count": null,
   "metadata": {},
   "outputs": [],
   "source": [
    "templates = { **template_data['sda_templates'], **template_data['sdb_templates'] }\n",
    "\n",
    "for k, v in templates.items():\n",
    "    print(\"found.\")\n",
    "    print(k, v)\n",
    "    template_name = v.split(\"-\")[0]\n",
    "    if 'b' in k:\n",
    "        subdomain = 'b'\n",
    "        threshold = 1\n",
    "    else:\n",
    "        subdomain = 'a'\n",
    "        threshold = 4\n",
    "    template_gain = gaingrn.scripts.io.get_gain(v.split(\"-\")[0], valid_collection)\n",
    " \n",
    "\n",
    "    gesamt_folder = f\"../../TESTING/{k}_sd{subdomain}\"\n",
    "    outfile=f'../data/template_alignments/{template_name}_{k}.struc_aln.fa'\n",
    "\n",
    "    center_indices, center_quality, centers, structural_alignment = gaingrn.scripts.template_utils.evaluate_template(\n",
    "                    template_gain_obj=template_gain, \n",
    "                    list_of_gain_obj=valid_collection.collection, \n",
    "                    gesamt_folder=gesamt_folder, \n",
    "                    subdomain=subdomain, \n",
    "                    threshold=threshold, \n",
    "                    aln_output=outfile,\n",
    "                    gain_indices=range(len(valid_collection.collection)))\n",
    "\n",
    "    print(f\"{center_quality = }\\n{center_indices = }\\n{centers = }\")"
   ]
  },
  {
   "cell_type": "markdown",
   "metadata": {},
   "source": [
    "Since we have stored the constructed alignments, we can analyze them on the fly.\n",
    "\n",
    "Keep in mind that here, Hx and Sx do not correspond to the actual segment names, but are simply enumerated. The combination and overlap of segment centers has to be done manually."
   ]
  },
  {
   "cell_type": "code",
   "execution_count": null,
   "metadata": {},
   "outputs": [],
   "source": [
    "templates = { **template_data['sda_templates'], **template_data['sdb_templates'] }\n",
    "\n",
    "template_centers = {}\n",
    "template_quality = {}\n",
    "template_indices = []\n",
    "all_indices = []\n",
    "\n",
    "for k, v in templates.items():\n",
    "    template_name = v.split(\"-\")[0]\n",
    "\n",
    "    alignment_file = f\"../data/template_alignments/{template_name}_{k}.struc_aln.fa\"\n",
    "\n",
    "    if 'b' in k:\n",
    "        subdomain = 'b'\n",
    "        threshold = 1\n",
    "    else:\n",
    "        subdomain = 'a'\n",
    "        threshold = 4\n",
    "\n",
    "    template_gain = gaingrn.scripts.io.get_gain(v.split(\"-\")[0], valid_collection)\n",
    "    # We can also just load the finished alignments and run the template analysis from there.\n",
    "    aln = gaingrn.scripts.io.read_alignment(alignment_file)\n",
    "\n",
    "    centers, center_quality, pdb_centers = gaingrn.scripts.template_utils.get_struc_aln_centers(gain=template_gain,\n",
    "                                                                                                aln_dict = aln,\n",
    "                                                                                                subdomain=subdomain,\n",
    "                                                                                                threshold=threshold,\n",
    "                                                                                                silent=True)\n",
    "    template_centers[k] = centers\n",
    "    template_quality[k] = center_quality\n",
    "    \n",
    "    for i in centers:\n",
    "        template_indices.append(i)\n",
    "    all_indices.append(centers)\n",
    "\n",
    "best_indices, best_indices_freq  = np.unique(template_indices, return_counts=True)\n",
    "a_counts = dict(zip(best_indices, best_indices_freq)) \n",
    "center_col = {x:i for i,x in enumerate(best_indices)}\n",
    "hasCenter = np.zeros(shape=(len(best_indices), len(all_indices)))\n",
    "for fam_count, indices in enumerate(all_indices):\n",
    "    for v in indices:\n",
    "        hasCenter[center_col[v], fam_count] = 1\n",
    "\n",
    "for k in template_centers.keys():\n",
    "    print(\"TEMPLATE\", k, \":\\n\\tCenter PDB res.\\t\", template_centers[k], \"\\n\\tn_structures:\\t\", template_quality[k])"
   ]
  },
  {
   "cell_type": "markdown",
   "metadata": {},
   "source": [
    "### 4. Evaluate the current set of Templates\n",
    "\n",
    "For this. we match every template to all receptor subselections (i.e. ADGRA2). We assume that the variance within a single subselection (= every receptor type) is negligible."
   ]
  },
  {
   "cell_type": "code",
   "execution_count": null,
   "metadata": {},
   "outputs": [],
   "source": [
    "receptor_list, receptor_counts = gaingrn.scripts.indexing_utils.count_receptors(valid_collection)\n",
    "receptors = list(receptor_counts.keys())\n",
    "y = len(receptors)\n",
    "\n",
    "# Now, we need template data to evaluate on:\n",
    "with open(\"../data/template_data.json\") as tdata:\n",
    "    template_data = json.load(tdata)\n",
    "\n",
    "template_centers = {**template_data[\"sda_centers\"], **template_data[\"sdb_centers\"]}\n",
    "template_ids = list(template_data[\"template_names\"].keys())\n",
    "\n",
    "gesamt_folders = {}\n",
    "\n",
    "for t_id in template_ids:\n",
    "    if 'b' in t_id: \n",
    "                sd_string = 'sdb'\n",
    "    else: \n",
    "                sd_string = 'sda'\n",
    "    gesamt_folders[t_id] = f\"../../TESTING/{t_id}_{sd_string}\"\n",
    "\n",
    "t_distances, t_occupancies, unmatched, unmatched_counters = gaingrn.scripts.template_utils.analyze_template_matches(template_ids, template_centers, valid_collection, gesamt_folders, receptors, receptor_list)"
   ]
  },
  {
   "cell_type": "markdown",
   "metadata": {},
   "source": [
    "#### From the calculated comparisons, plot the __OCCUPANCY__, meaning the fraction of the selection where this element is occurring."
   ]
  },
  {
   "cell_type": "code",
   "execution_count": null,
   "metadata": {},
   "outputs": [],
   "source": [
    "# Plot the OCCUPANCY\n",
    "for t_id in template_ids:\n",
    "    t_centers = template_centers[t_id]\n",
    "    n_anch = len(t_centers.keys())\n",
    "    t_center_freqs = t_occupancies[t_id]\n",
    "    u_counters = unmatched_counters[t_id]\n",
    "    fig = plt.figure(figsize=[6,10], facecolor='w')\n",
    "    plt.title(f\"Template Match for : {t_id}\")\n",
    "    plt.yticks(ticks = range(len(receptors)), labels= [f'{i[0]}:{i[1]} (u:{u_counters[x]})' for x,i in enumerate(receptor_counts.items())])\n",
    "    plt.xticks(ticks = range(n_anch), labels=t_centers.keys(), rotation=90)\n",
    "    distances = np.zeros(shape=(len(receptors), n_anch), dtype=float)\n",
    "    plt.imshow(t_center_freqs, cmap='summer')\n",
    "    cbar = plt.colorbar(shrink=0.5)\n",
    "    cbar.set_label('Relative Occupancy')\n",
    "    ydim = len(receptors)\n",
    "    for y in range(ydim):\n",
    "        for x in range(n_anch):\n",
    "            if t_center_freqs[y,x] > 0.001:\n",
    "                pass\n",
    "            else:\n",
    "                plt.text(x,y,'x', horizontalalignment='center', verticalalignment='center', fontsize=18,color='k')\n",
    "    plt.savefig(f'../../TESTING/StAl{t_id}_occ.png', dpi=300)"
   ]
  },
  {
   "cell_type": "markdown",
   "metadata": {},
   "source": [
    "#### From the calculated comparisons, plot the __CENTER DISTANCE__, meaning the average distance of the matched residue to the template center."
   ]
  },
  {
   "cell_type": "code",
   "execution_count": null,
   "metadata": {},
   "outputs": [],
   "source": [
    "# Plot the DISTANCES\n",
    "for t_id in template_ids:\n",
    "    t_centers = template_centers[t_id]\n",
    "    n_anch = len(t_centers.keys())\n",
    "    t_center_freqs = t_occupancies[t_id]\n",
    "    u_counters = unmatched_counters[t_id]\n",
    "    fig = plt.figure(figsize=[6,10], facecolor='w')\n",
    "    plt.title(f\"Template Match for : {t_id}\")\n",
    "    plt.yticks(ticks = range(len(receptors)), labels= [f'{i[0]}:{i[1]} (u:{u_counters[x]})' for x,i in enumerate(receptor_counts.items())])\n",
    "    plt.xticks(ticks = range(n_anch), labels=t_centers.keys(), rotation=90)\n",
    "    distances = np.zeros(shape=(len(receptors), n_anch), dtype=float)\n",
    "    t_dists = t_distances[t_id]\n",
    "    for i,l in enumerate(t_dists):\n",
    "        distances[i,:] = l\n",
    "    plt.imshow(distances, cmap='spring')\n",
    "    cbar = plt.colorbar(shrink=0.5)\n",
    "    cbar.set_label('AA-Distance')\n",
    "    ydim = len(receptors)\n",
    "    for y in range(ydim):\n",
    "        for x in range(n_anch):\n",
    "            if t_center_freqs[y,x] > 0.001:\n",
    "                pass\n",
    "            else:\n",
    "                plt.text(x,y,'x', horizontalalignment='center', verticalalignment='center', fontsize=18,color='k')\n",
    "    plt.savefig(f'../../TESTING/StAl{t_id}_dist.png', dpi=300)"
   ]
  },
  {
   "cell_type": "markdown",
   "metadata": {},
   "source": [
    "Every unmatched element is the written to a TextFile with the following information:\n",
    "> - Template\n",
    "> - Subselection(Group)\n",
    "> - Elements in Group\n",
    "> - corr. Alignment Index or start residue\n",
    "> - Number of Structures with unmatched element\n",
    "> - average element length\n",
    "> - fraction of unmatched structures (%)\n",
    "\n",
    "If only \"X\" type receptors are present, we have a good quality match, since \"X\" denotes all unclassed receptors, which by default will have low matches when collectively matched against a single template"
   ]
  },
  {
   "cell_type": "code",
   "execution_count": null,
   "metadata": {},
   "outputs": [],
   "source": [
    "outfile = \"../../TESTING/StAl_unmatched_full.txt\"\n",
    "\n",
    "gaingrn.scripts.template_utils.write_unmatched_elements(outfile, template_ids, receptor_counts, receptor_list, unmatched)"
   ]
  },
  {
   "cell_type": "markdown",
   "metadata": {},
   "source": [
    "Construct PDB files for Visualizing the center locations for each element."
   ]
  },
  {
   "cell_type": "code",
   "execution_count": null,
   "metadata": {},
   "outputs": [],
   "source": [
    "sdb_centers = template_data[\"sdb_centers\"]\n",
    "print(templates)\n",
    "template_ids = sdb_centers.keys()\n",
    "target_folder = '../data/template_pdbs/'\n",
    "outstr = []\n",
    "print(template_ids)\n",
    "for t_id in template_ids:\n",
    "    print(t_id)\n",
    "    t_centers = sdb_centers[t_id]\n",
    "    t_pdb = gaingrn.scripts.io.find_pdb(templates[t_id], '../../all_pdbs/')\n",
    "    print(t_pdb)\n",
    "    t_metric = {v:1 for v in sdb_centers[t_id].values()}\n",
    "    outpdb = target_folder+t_id+\".b.pdb\"\n",
    "\n",
    "    gaingrn.scripts.io.score2b(t_pdb, outpdb, t_metric)\n",
    "    outstr.append(outpdb)\n",
    "\n",
    "print(\" \".join(outstr))"
   ]
  },
  {
   "cell_type": "markdown",
   "metadata": {},
   "source": [
    "Finally, create a complete set of template PDBs and move them to their directory, where they can be taken as argument for __assign_indexing__ within __assign_indexing.py__ or __assign_indexing.ipynb__"
   ]
  },
  {
   "cell_type": "code",
   "execution_count": null,
   "metadata": {},
   "outputs": [],
   "source": [
    "target_folder = '../../TESTING/template_pdbs/'\n",
    "\n",
    "try: os.mkdir(\"../../TESTING/template_pdbs\")\n",
    "except: print(\"Directory already exists.\")\n",
    "\n",
    "templates = template_data[\"template_names\"]\n",
    "\n",
    "for t_id in templates.keys():\n",
    "    print(t_id)\n",
    "    print(templates[t_id])\n",
    "    t_pdb = gaingrn.scripts.io.find_pdb(templates[t_id].split(\"-\")[0], '../../all_pdbs/')\n",
    "    print(t_pdb)\n",
    "    # Find the template in the valid_collection\n",
    "    for gain in valid_collection.collection:\n",
    "        if gain.name.split(\"-\")[0] == templates[t_id].split(\"-\")[0]:\n",
    "            print(gaingrn.scripts.structure_utils.get_pdb_extents(t_pdb, gain.subdomain_boundary))\n",
    "            \n",
    "            with open(t_pdb) as inpdb:\n",
    "                data = inpdb.readlines()\n",
    "            newdata = []\n",
    "            for l in data:\n",
    "                if not l.startswith(\"ATOM\"):\n",
    "                    newdata.append(l)\n",
    "                    continue\n",
    "                resid = int(l[22:26])\n",
    "                if \"b\" in t_id and resid < gain.subdomain_boundary:\n",
    "                    continue\n",
    "                if \"b\" not in t_id and resid > gain.subdomain_boundary:\n",
    "                    continue\n",
    "                newdata.append(l)\n",
    "            \n",
    "            with open(f\"{target_folder}{t_id}_{templates[t_id].split('-')[0]}.pdb\", \"w\") as outpdb:\n",
    "                outpdb.write(\"\".join(newdata))\n",
    "            \n",
    "            continue"
   ]
  }
 ],
 "metadata": {
  "kernelspec": {
   "display_name": "scipy",
   "language": "python",
   "name": "python3"
  },
  "language_info": {
   "codemirror_mode": {
    "name": "ipython",
    "version": 3
   },
   "file_extension": ".py",
   "mimetype": "text/x-python",
   "name": "python",
   "nbconvert_exporter": "python",
   "pygments_lexer": "ipython3",
   "version": "3.10.9"
  },
  "orig_nbformat": 4,
  "vscode": {
   "interpreter": {
    "hash": "efcc3436bf700bf51081b251413b556e30c22be82f452601745119c8a669a2f3"
   }
  }
 },
 "nbformat": 4,
 "nbformat_minor": 2
}
