{
 "cells": [
  {
   "cell_type": "markdown",
   "metadata": {},
   "source": [
    "# 2 Template Selection\n",
    "A Notebook for Picking suitable Template Structures from Subgroups of the GAIN domain Dataset."
   ]
  },
  {
   "cell_type": "code",
   "execution_count": null,
   "metadata": {},
   "outputs": [],
   "source": [
    "# DEPENDENCIES\n",
    "import glob, glob, re, os\n",
    "#from shutil import copyfile\n",
    "import numpy as np\n",
    "import pandas as pd\n",
    "# LOCAL IMPORTS\n",
    "import gaingrn.scripts.template_utils\n",
    "import gaingrn.scripts.assign\n",
    "import gaingrn.scripts.plotting_utils\n",
    "\n",
    "try: \n",
    "    GESAMT_BIN = os.environ.get('GESAMT_BIN')\n",
    "except:\n",
    "    GESAMT_BIN = \"/home/hildilab/lib/xtal/ccp4-8.0/ccp4-8.0/bin/gesamt\"\n",
    "\n",
    "if GESAMT_BIN is None:\n",
    "    GESAMT_BIN = \"/home/hildilab/lib/xtal/ccp4-8.0/ccp4-8.0/bin/gesamt\""
   ]
  },
  {
   "cell_type": "code",
   "execution_count": null,
   "metadata": {},
   "outputs": [],
   "source": [
    "# This is a remnant from the previous approach in having MSA-based anchors and is used as a comparative metric.\n",
    "valid_seqs = gaingrn.scripts.io.read_multi_seq(\"../data/seq_aln/offset_valid_seqs.fa\")\n",
    "stride_files = glob.glob(\"../data/gain_strides/*.stride\")"
   ]
  },
  {
   "cell_type": "markdown",
   "metadata": {},
   "source": [
    "### 1. Load the full GainCollection of the Dataset and habe the folder containing all GAIN PDB files."
   ]
  },
  {
   "cell_type": "code",
   "execution_count": null,
   "metadata": {},
   "outputs": [],
   "source": [
    "valid_collection = pd.read_pickle(\"../data/valid_collection.pkl\")\n",
    "allpdbs = glob.glob('../../all_pdbs/*.pdb')\n",
    "print(len(allpdbs, \"PDB files have been found.\"))"
   ]
  },
  {
   "cell_type": "markdown",
   "metadata": {},
   "source": [
    "### 2.Chunk down the Dataset into Subselections containing every subfamily (\"A\", \"B\") and receptor type (\"B1\", \"D2\")"
   ]
  },
  {
   "cell_type": "code",
   "execution_count": null,
   "metadata": {},
   "outputs": [],
   "source": [
    "fam_list = [gaingrn.scripts.io.get_agpcr_type(gain.name) for gain in valid_collection.collection]\n",
    "name_list = [gain.name for gain in valid_collection.collection]\n",
    "subfam_list = [x[0] for x in fam_list]\n",
    "receptors, counts  = np.unique(fam_list, return_counts=True)\n",
    "r_counts = list(zip(receptors,counts))\n",
    "print(\"HERE IS THE COUNT OF DETECTED aGPCR RECEPTOR PROTEINS:\", r_counts, sep=\"\\n\")\n",
    "\n",
    "fam_counts = {}\n",
    "for prot in fam_list:\n",
    "    fam = prot[0]\n",
    "    if fam not in fam_counts.keys():\n",
    "        fam_counts[fam] = 0\n",
    "    fam_counts[fam] += 1\n",
    "\n",
    "print(\"HERE IS THE COUNT OF DETECTED aGPCR SUBFAMILIES:\", fam_counts, sep=\"\\n\")"
   ]
  },
  {
   "cell_type": "markdown",
   "metadata": {},
   "source": [
    "### 3. The receptor groups to be tested are specified. The following sequence of detail was tested:\n",
    "\n",
    "> - Run1: Subfamily-specific templates\n",
    "> - Run2: Added Receptor-specific templates for low-matching receptors\n",
    "> - Run3: Added further templates for extra 14th strand S4\n",
    "\n",
    "Every subselection is clustered via a pairwise RMSD-matrix constructed from individual _GESAMT_ runs. Two template candidates are then evaluated: The _overall_ centroid and the _largest cluster_ centroid. If they do not match, the clusters are evaluated to see whether there is are separate different clusters. A manual selection of the template is then carried out.\n",
    "\n",
    "For template selection, we only use 400 randomly selected structures from the respective subset. The templates are tested afterwards to asses their quality. We assume sufficient coverage from these 400 proteins."
   ]
  },
  {
   "cell_type": "code",
   "execution_count": null,
   "metadata": {},
   "outputs": [],
   "source": [
    "# This Box is for running Subselections for Subdomain A >SDA<\n",
    "\n",
    "best_structures = {}\n",
    "best_clusters = {}\n",
    "\n",
    "manual_receptors = [\"X\"]\n",
    "\n",
    "run_prefix = \"p1\"\n",
    "print(allpdbs)\n",
    "gain_subset = valid_collection.collection\n",
    "print(len(gain_subset))\n",
    "\n",
    "gain_idx_list = range(len(fam_list)) # fam_list\n",
    "maxlen = 400\n",
    "data_length = len(gain_subset)\n",
    "if data_length > maxlen:\n",
    "    data_length = maxlen # data_length will be used.\n",
    "    stride = data_length // maxlen\n",
    "    gain_subset = gain_subset[::stride]\n",
    "    gain_subset = gain_subset[:maxlen]\n",
    "    print(len(gain_idx_list), len(gain_subset))\n",
    "\n",
    "gesamt_outfolder = f\"../../TESTING/{run_prefix}_gesamt_sda_pc\"\n",
    "\n",
    "gaingrn.scripts.template_utils.run_gesamt_execution(gain_subset, \n",
    "                        outfolder=gesamt_outfolder, \n",
    "                        pdb_folder='../../all_pdbs/', \n",
    "                        domain='sda', \n",
    "                        n_threads=4, \n",
    "                        max_struc=maxlen, \n",
    "                        gesamt_bin=GESAMT_BIN,\n",
    "                        no_run=False)\n",
    "\n",
    "distances = gaingrn.scripts.template_utils.evaluate_gesamt_files(gesamt_outfolder, n_prot=data_length, penalty_value=6.0, remove=False)\n",
    "\n",
    "print(distances.shape)\n",
    "results = gaingrn.scripts.template_utils.cluster_agglomerative(distances, gain_subset, n_cluster=9)\n",
    "gaingrn.scripts.plotting_utils.plot_heirarchy(results['reordered_distances'], groupname=f'aGPCR GAIN', savename=f'{run_prefix}_A_sda_heirarchy.png')\n",
    "gaingrn.scripts.plotting_utils.plot_matrix(results['reordered_distances'], title=f'aGPCR GAIN', savename=f'{run_prefix}_sda_ordered_matrix.png')\n",
    "\n",
    "all_best = gain_subset[results['overall_best_gain']].name\n",
    "best_list = []\n",
    "for r in \"ABCDEFGLVX\":\n",
    "    for i, c in results['cluster_best_gains']:\n",
    "        best_list.append((gain_subset[i].name, c, results['cluster_sizes'][c]))\n",
    "    best_structures[r] = all_best\n",
    "    best_clusters[r] = best_list\n",
    "    print(\"Done with run\",r)"
   ]
  },
  {
   "cell_type": "code",
   "execution_count": null,
   "metadata": {},
   "outputs": [],
   "source": [
    "# This Box is for running Subselections for Subdomain B >SDB<\n",
    "best_structures = {}\n",
    "best_clusters = {}\n",
    "\n",
    "for r in 'ABCDEFGLVX': #enumerate(receptors[:1])\n",
    "    print(r)\n",
    "    gain_subset = [ gain for i, gain in enumerate(valid_collection.collection) if fam_list[i]==r ]#fam_list[i] == r]#\n",
    "    print(len(gain_subset))\n",
    "    gain_idx_list = [ i for i,gain in enumerate(fam_list) if gain == r ] # fam_list\n",
    "    maxlen = 400\n",
    "    data_length = len(gain_subset)\n",
    "    if data_length > maxlen:\n",
    "        data_length = maxlen # data_length will be used.\n",
    "        stride = data_length // maxlen\n",
    "        gain_subset = gain_subset[::stride]\n",
    "        gain_subset = gain_subset[:maxlen]\n",
    "        print(len(gain_idx_list), len(gain_subset))\n",
    "\n",
    "    gesamt_outfolder = f\"../{run_prefix}_gesamt_sdb_pc\"\n",
    "    \n",
    "    gaingrn.scripts.template_utils.run_gesamt_execution(gain_subset, outfolder=gesamt_outfolder, gesamt_bin=GESAMT_BIN, pdb_folder='../all_pdbs/', domain='sdb', n_threads=4, max_struc=maxlen, no_run=False)\n",
    "    distances = gaingrn.scripts.template_utils.evaluate_gesamt_files(gesamt_outfolder, n_prot=data_length, penalty_value=6.0, remove=False)\n",
    "    print(distances.shape)\n",
    "    results = gaingrn.scripts.template_utils.cluster_agglomerative(distances, gain_subset, n_cluster=9)\n",
    "    gaingrn.scripts.plotting_utils.plot_heirarchy(results['reordered_distances'], groupname=f'aGPCR GAIN', savename=f'{run_prefix}_sdb_heirarchy.png')\n",
    "    gaingrn.scripts.plotting_utils.plot_matrix(results['reordered_distances'], title=f'aGPCR GAIN', savename=f'{run_prefix}_sdb_ordered_matrix.png')\n",
    "\n",
    "    all_best = gain_subset[results['overall_best_gain']].name\n",
    "    best_list = []\n",
    "    for i, c in results['cluster_best_gains']:\n",
    "        best_list.append((gain_subset[i].name, c, results['cluster_sizes'][c]))\n",
    "    best_structures[r] = all_best\n",
    "    best_clusters[r] = best_list\n",
    "    print(\"Done with run\",r)"
   ]
  },
  {
   "cell_type": "code",
   "execution_count": null,
   "metadata": {},
   "outputs": [],
   "source": [
    "print(best_structures)\n",
    "print(best_clusters)\n"
   ]
  },
  {
   "cell_type": "markdown",
   "metadata": {},
   "source": [
    "#### After creating a set of potential templates, they will each be evaluated against the whole set to remove arbitrarily similar templates, since not every receptor needs a unique template if they are too similar."
   ]
  },
  {
   "cell_type": "code",
   "execution_count": null,
   "metadata": {},
   "outputs": [],
   "source": [
    "#print(results.keys())\n",
    "#print(results['overall_best_gain'], results['cluster_best_gains'])\n",
    "all_best = gain_subset[results['overall_best_gain']].name\n",
    "best_list = []\n",
    "for i, c in results['cluster_best_gains']:\n",
    "    best_list.append((gain_subset[i].name, c, results['cluster_sizes'][c]))\n",
    "print(all_best)\n",
    "print(best_list)"
   ]
  },
  {
   "cell_type": "markdown",
   "metadata": {},
   "source": [
    "After the directories with the potential templates have been created, we proceed to __template_testing.ipynb__ to evaluate them and select our final set."
   ]
  }
 ],
 "metadata": {
  "kernelspec": {
   "display_name": "scipy",
   "language": "python",
   "name": "python3"
  },
  "language_info": {
   "codemirror_mode": {
    "name": "ipython",
    "version": 3
   },
   "file_extension": ".py",
   "mimetype": "text/x-python",
   "name": "python",
   "nbconvert_exporter": "python",
   "pygments_lexer": "ipython3",
   "version": "3.10.9"
  },
  "orig_nbformat": 4,
  "vscode": {
   "interpreter": {
    "hash": "efcc3436bf700bf51081b251413b556e30c22be82f452601745119c8a669a2f3"
   }
  }
 },
 "nbformat": 4,
 "nbformat_minor": 2
}
