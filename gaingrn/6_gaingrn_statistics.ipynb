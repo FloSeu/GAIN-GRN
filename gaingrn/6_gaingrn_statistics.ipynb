{
 "cells": [
  {
   "cell_type": "markdown",
   "metadata": {},
   "source": [
    "# 6 GAIN-GRN Statistics\n",
    "With the completed set of GAIN Domains, we analyze for individual segment and label position number, which we define as **occurrence**. \n",
    "\n",
    "We create the data for Figure 2 and Supp. Fig. 1 here."
   ]
  },
  {
   "cell_type": "code",
   "execution_count": 11,
   "metadata": {},
   "outputs": [],
   "source": [
    "# DEPENDENCIES\n",
    "import glob, os\n",
    "import numpy as np\n",
    "import pandas as pd\n",
    "import logomaker\n",
    "from scipy import stats\n",
    "import matplotlib.pyplot as plt\n",
    "from matplotlib.ticker import FixedLocator, MultipleLocator\n",
    "# LOCAL IMPORTS\n",
    "import gaingrn.scripts.io\n",
    "import gaingrn.scripts.assign\n",
    "import gaingrn.scripts.indexing_utils\n",
    "from gaingrn.scripts.indexing_classes import StAlIndexing\n",
    "from gaingrn.scripts import gain_classes as gain_classes\n",
    "\n",
    "try: \n",
    "    GESAMT_BIN = os.environ.get('GESAMT_BIN')\n",
    "except:\n",
    "    GESAMT_BIN = \"/home/hildilab/lib/xtal/ccp4-8.0/ccp4-8.0/bin/gesamt\"\n",
    "\n",
    "if GESAMT_BIN is None:\n",
    "    GESAMT_BIN = \"/home/hildilab/lib/xtal/ccp4-8.0/ccp4-8.0/bin/gesamt\""
   ]
  },
  {
   "cell_type": "code",
   "execution_count": 3,
   "metadata": {},
   "outputs": [],
   "source": [
    "stal_indexing = np.load(\"../data/stal_indexing.pkl\", allow_pickle=True)\n",
    "human_collection = np.load(\"../data/human_collection.pkl\", allow_pickle=True)\n",
    "valid_collection = np.load(\"../data/valid_collection.pkl\", allow_pickle=True)"
   ]
  },
  {
   "cell_type": "markdown",
   "metadata": {},
   "source": [
    "#### Initialize data for every receptor protein. \n",
    "Here, we take the 33 common proteins in human (where ADGRE4 is present as pesudogene) and collect data on each receptor type."
   ]
  },
  {
   "cell_type": "code",
   "execution_count": 4,
   "metadata": {},
   "outputs": [],
   "source": [
    "# Initialize Data\n",
    "receptors = [\"ADGRA1\",\"ADGRA2\",\"ADGRA3\",\"ADGRB1\",\"ADGRB2\",\"ADGRB3\",\"CELSR1\",\"CELSR2\",\"CELSR3\",\"ADGRD1\",\"ADGRD2\",\"ADGRE1\",\"ADGRE2\",\n",
    "             \"ADGRE3\",\"ADGRE4\",\"ADGRE5\",\"ADGRF1\",\"ADGRF2\",\"ADGRF3\",\"ADGRF4\",\"ADGRF5\",\"ADGRG1\",\"ADGRG2\",\"ADGRG3\",\"ADGRG4\",\"ADGRG5\",\n",
    "             \"ADGRG6\",\"ADGRG7\",\"ADGRL1\",\"ADGRL2\",\"ADGRL3\",\"ADGRL4\",\"ADGRV1\",\"unknown\",\"PKD\"]\n",
    "receptors_list = [\"A1\",\"A2\",\"A3\",\"B1\",\"B2\",\"B3\",\"C1\",\"C2\",\"C3\",\"D1\",\"D2\",\"E1\",\"E2\",\"E3\",\"E4\",\"E5\",\"F1\",\"F2\",\"F3\",\"F4\",\"F5\",\"G1\",\"G2\",\"G3\",\"G4\",\"G5\",\"G6\",\"G7\",\"L1\",\"L2\",\"L3\",\"L4\",\"V1\",\"X\"]\n",
    "elements = [\"H1\",\"H2\",\"H3\",\"H4\",\"H5\",\"H6\",\"S1\",\"S2\",\"S3\",\"S4\",\"S5\",\"S6\",\"S7\",\"S8\",\"S9\",\"S10\",\"S11\",\"S12\",\"S13\",\"S14\"]\n",
    "\n",
    "absolute_subfam_occupancy = np.zeros(shape=(10,20), dtype=int) # OCCURRENCE MATRIX PER SUBFAMILY\n",
    "absolute_receptors_occupancy = np.zeros(shape=(34,20), dtype=int) # OCCURRENCE MATRIX PER RECEPTOR\n",
    "\n",
    "n_fams = np.zeros(shape=(10), dtype=int) # Here are the number of proteins for a given subfamily\n",
    "n_receptors = np.zeros(shape=(34), dtype=int)   #              -\"\"-                           receptor\n",
    "\n",
    "el_index = dict(zip(elements, range(20)))\n",
    "fam_index = dict(zip(list(\"ABCDEFGLVX\"),range(10)))\n",
    "rec_index = dict(zip(receptors_list, range(34)))"
   ]
  },
  {
   "cell_type": "markdown",
   "metadata": {},
   "source": [
    "### 1. Construct a 2D Occupancy Matrix of each element in correspondence with each other element."
   ]
  },
  {
   "cell_type": "code",
   "execution_count": null,
   "metadata": {},
   "outputs": [],
   "source": [
    "segments = ['H1','H2','H3','H4','H5','H6','S1','S2','S3','S4','S5','S6','S7','S8','S9','S10','S11','S12','S13','S14']\n",
    "# for unique element assignments, use the keys below. These have a really low frequency though.\n",
    "#segments = ['H1','H1.D1','H1.E1','H1.F4','H2','H3','H4','H5','H6','S1','S2','S3','S4','S5','S6','S7','S8','S9','S10','S11','S12','S13','S14']\n",
    "\n",
    "loop_lengths = {}\n",
    "sse_lengths = {}\n",
    "center_residues = {}\n",
    "sse_matrix = np.zeros(shape=(len(stal_indexing.total_keys),len(stal_indexing.total_keys)))\n",
    "\n",
    "for idx in range(stal_indexing.length):\n",
    "\n",
    "    loop_lengths = gaingrn.scripts.indexing_utils.match_dirs(gaingrn.scripts.indexing_utils.get_loops(stal_indexing.intervals[idx]), loop_lengths)\n",
    "    sse_lengths =  gaingrn.scripts.indexing_utils.match_dirs(gaingrn.scripts.indexing_utils.get_sse_len(stal_indexing.intervals[idx], stal_indexing.total_keys), sse_lengths, exclude=[0])\n",
    "    center_res =   gaingrn.scripts.indexing_utils.match_dirs(gaingrn.scripts.indexing_utils.get_pos_res(stal_indexing.center_dirs[idx], valid_collection.collection[idx]), center_residues)\n",
    "\n",
    "    present_sse = stal_indexing.intervals[idx].keys()\n",
    "    for i, kk in enumerate(segments):\n",
    "        for j in range(i,len(segments)):\n",
    "            if kk in present_sse and segments[j] in present_sse:\n",
    "                sse_matrix[j,i] += 1\n",
    "\n",
    "plt.imshow(sse_matrix, cmap='gist_yarg')\n",
    "plt.xticks(ticks= range(len(segments)), labels=segments, rotation=90)\n",
    "plt.yticks(ticks= range(len(segments)), labels=segments)\n",
    "plt.xlim(-0.5,19.5)\n",
    "plt.ylim(19.5,-0.5)\n",
    "cbar = plt.colorbar(shrink=0.5)\n",
    "plt.savefig(\"../data/stal_occ_map_unique.svg\")"
   ]
  },
  {
   "cell_type": "markdown",
   "metadata": {},
   "source": [
    "### 2. Plot statistics of occupancy and pLDDT values for each labeled position per segment\n",
    "With the **all\\_plddt.tsv** file containing info about the AlphaFold2 confidence values, read them in and construct a data matrix for evaluating the element quality and occupancy."
   ]
  },
  {
   "cell_type": "code",
   "execution_count": null,
   "metadata": {},
   "outputs": [],
   "source": [
    "plddt_dir = gaingrn.scripts.indexing_utils.get_plddt_dir('../data/all_plddt.tsv')\n",
    "all_starts = [ gain.start for gain in valid_collection.collection ]\n",
    "\n",
    "plddt_values, occ_values, label_seq = gaingrn.scripts.indexing_utils.construct_id_occupancy(stal_indexing.intervals, \n",
    "                                                             stal_indexing.center_dirs, \n",
    "                                                             stal_indexing.length, \n",
    "                                                             plddt_dir, \n",
    "                                                             stal_indexing.names, \n",
    "                                                             stal_indexing.sequences,\n",
    "                                                             all_starts,\n",
    "                                                             debug=False)"
   ]
  },
  {
   "cell_type": "code",
   "execution_count": null,
   "metadata": {},
   "outputs": [],
   "source": [
    "for sse in segments:\n",
    "    # Transform the values first\n",
    "    pp = plddt_values[sse]\n",
    "    #print(occ_values[sse])\n",
    "    av_pp = {k:np.average(np.array(v))/100 for k,v in pp.items()}\n",
    "    #print(av_pp)\n",
    "    norm_occ = {k:v/14435 for k,v in occ_values[sse].items()}\n",
    "    xax = sorted(av_pp.keys())\n",
    "    y_pp = [av_pp[x] for x in xax]\n",
    "    y_occ = [norm_occ[x] for x in xax]\n",
    "\n",
    "gaingrn.scripts.indexing_utils.plot_segment_statistics(xvals=xax, y_plddt=y_pp, y_occupancy=norm_occ, savename=f\"../fig/GAIN_{sse}_stats.svg\", show=True)"
   ]
  },
  {
   "cell_type": "markdown",
   "metadata": {},
   "source": [
    "### 3. Generate Logoplots from Supp. Fig. 1 showing segment residue composition."
   ]
  },
  {
   "cell_type": "code",
   "execution_count": null,
   "metadata": {},
   "outputs": [],
   "source": [
    "# GENERATE A FULL DATAFRAME FOR THE LABELED POSITIONS AND THEIR RESPECTIVE AA FREQUENCIES FOR LOGOPLOTS\n",
    "sse_aa_freqs = {}\n",
    "aastr = 'ACDEFGHIKLMNPQRSTVWYX'\n",
    "cols = {aa:i for i,aa in enumerate(aastr)}\n",
    "for sse in segments:\n",
    "    sse_dict = label_seq[sse]\n",
    "    aafreqs = np.zeros(shape=(len(sse_dict.keys()), 21))\n",
    "    for p_index, pos in enumerate(sorted(sse_dict.keys())):\n",
    "        aas, freq = np.unique(np.array(sse_dict[pos]), return_counts=True)\n",
    "        for i, aa in enumerate(aas):\n",
    "            aafreqs[p_index, cols[aa]] = freq[i]/14435\n",
    "    sse_aa_freqs[sse] = aafreqs\n",
    "\n",
    "for sse in segments:\n",
    "\n",
    "    lframe = pd.DataFrame(data=sse_aa_freqs[sse], columns=[c for c in aastr], index = sorted(plddt_values[sse].keys()))\n",
    "\n",
    "    gaingrn.scripts.indexing_utils.plot_logo_segment(dataframe=lframe, sse=sse, threshold=0.05, savename=f\"../fig/stal_conslogo_{sse}.svg\")"
   ]
  },
  {
   "cell_type": "markdown",
   "metadata": {},
   "source": [
    "### 4. Generate the segment / position data of Figure 2.\n",
    "Collect the elements present in the respective receptor groups. First, for the human group of receptors."
   ]
  },
  {
   "cell_type": "code",
   "execution_count": 12,
   "metadata": {},
   "outputs": [
    {
     "name": "stdout",
     "output_type": "stream",
     "text": [
      "{661: 'C2', 662: 'C1', 663: 'C3', 3286: 'F3', 4428: 'B1', 4429: 'B2', 4430: 'B3', 4433: 'L1', 4434: 'L2', 4447: 'G6', 4449: 'F5', 4450: 'G4', 4453: 'V1', 4454: 'L3', 8611: 'G5', 9324: 'F1', 9572: 'G3', 10959: 'G7', 11037: 'L4', 11160: 'D2', 11294: 'F2', 11380: 'F4', 11552: 'G2', 11814: 'A3', 12667: 'E5', 13013: 'G1', 13203: 'D1', 13708: 'E3', 13716: 'A2', 13750: 'E2', 13986: 'E1'}\n"
     ]
    }
   ],
   "source": [
    "# extract the human proteins from the dataset\n",
    "human_ac = [gain.name.split(\"_\",)[0].split(\"-\")[0] for gain in human_collection.collection]\n",
    "human_idx = {}\n",
    "for ac in human_ac:\n",
    "    for i,sac in enumerate(stal_indexing.accessions):\n",
    "        if ac == sac:\n",
    "            human_idx[i] = stal_indexing.receptor_types[i]\n",
    "human_el_matrix = np.zeros(shape=(33,20), dtype=bool)\n",
    "\n",
    "for k in human_idx.keys():\n",
    "    dd = stal_indexing.indexing_dirs[k]\n",
    "    el_list = np.unique([k.split(\".\")[0] for k in dd.keys()])\n",
    "    receptors = human_idx[k]\n",
    "    for el in el_list:\n",
    "        if \"GPS\" in el:\n",
    "            continue\n",
    "        human_el_matrix[rec_index[receptors], el_index[el]] = 1"
   ]
  },
  {
   "cell_type": "markdown",
   "metadata": {},
   "source": [
    "Construct an occurrence matrix for the whole aGPCR GAIN set.\n",
    "\n",
    "For every receptor, count the number of occurrences of each segment. We define these occurrences as **occupancy**."
   ]
  },
  {
   "cell_type": "code",
   "execution_count": 6,
   "metadata": {},
   "outputs": [],
   "source": [
    "# Get a matrix : a) Receptors + OCC b) Families+ + OCC\n",
    "for i in range(len(stal_indexing.receptor_types)):\n",
    "    dd = stal_indexing.indexing_dirs[i]\n",
    "    el_list = np.unique([k.split(\".\")[0] for k in dd.keys()])\n",
    "    receptors = stal_indexing.receptor_types[i]\n",
    "    if receptors in receptors_list:\n",
    "        n_receptors[rec_index[receptors]] += 1\n",
    "        for el in el_list:\n",
    "            if el not in elements:\n",
    "                 continue\n",
    "            absolute_receptors_occupancy[rec_index[receptors], el_index[el]] += 1\n",
    "    if receptors[0] in \"ABCDEFGLVX\":\n",
    "        n_fams[fam_index[receptors[0]]] += 1\n",
    "        for el in el_list:\n",
    "            if el not in elements:\n",
    "                continue\n",
    "            absolute_subfam_occupancy[fam_index[receptors[0]], el_index[el]] += 1"
   ]
  },
  {
   "cell_type": "code",
   "execution_count": 9,
   "metadata": {},
   "outputs": [],
   "source": [
    "# Normalize matrices by frequency\n",
    "receptors_occ = absolute_receptors_occupancy / n_receptors[:,None]\n",
    "subfam_occ = absolute_subfam_occupancy / n_fams[:,None]\n",
    "\n",
    "# store the values somewhere.\n",
    "import pickle as pkl\n",
    "\n",
    "data = {\"absolute_receptors_occupancy\": absolute_receptors_occupancy,\n",
    "         \"receptors_occ\": receptors_occ,\n",
    "         \"absolute_subfam_occupancy\": absolute_subfam_occupancy,\n",
    "         \"subfam_occ\": subfam_occ,\n",
    "         \"fam_index\": fam_index,\n",
    "         \"rec_index\": rec_index,\n",
    "         \"n_receptors\": n_receptors,\n",
    "         \"n_fams\": n_fams}\n",
    "with open(\"../data/element_occ.pkl\",'wb') as occfile:\n",
    "    pkl.dump(data, occfile, -1)"
   ]
  },
  {
   "cell_type": "markdown",
   "metadata": {},
   "source": [
    "We do the same for the group of PKD1/PKD1L1 proteins.\n"
   ]
  },
  {
   "cell_type": "code",
   "execution_count": null,
   "metadata": {},
   "outputs": [],
   "source": [
    "# GET PKD OCCUPANCY. THIS IS NOT AS HIGH-QUALITY AND LIKELY NOT FILTERED FOR GOOD AND BAD GAIN DOMAINS.\n",
    "pkd_indexing = np.load(\"../data/pkd_indexing.pkl\", allow_pickle=True)\n",
    "pkd_collection = np.load(\"../data/pkd_collection.pkl\", allow_pickle=True)\n",
    "absolute_pkd_occupancy = np.zeros(shape=(20), dtype=int)\n",
    "\n",
    "invalid = 0\n",
    "for pkd in pkd_collection.collection:\n",
    "    if not pkd.hasSubdomain: invalid +=1\n",
    "print(\"Found INVALID PKD structures:\",invalid)\n",
    "\n",
    "n_pkd = 0\n",
    "pkd_elements = []\n",
    "for i in range(len(pkd_indexing.receptor_types)):\n",
    "    dd = pkd_indexing.indexing_dirs[i]\n",
    "    el_list = np.unique([k.split(\".\")[0] for k in dd.keys()])\n",
    "    receptors = pkd_indexing.receptor_types[i]\n",
    "    pkd_elements.append(len(el_list))\n",
    "    if receptors in receptors_list:\n",
    "        n_pkd += 1\n",
    "        for el in el_list:\n",
    "            if el not in elements:\n",
    "                 continue\n",
    "            absolute_pkd_occupancy[el_index[el]] += 1\n",
    "print(\"MATCH STATISTICS (NUMBER OF INDEXED ELEMENTS):\",np.unique(pkd_elements, return_counts=True))\n",
    "\n",
    "pkd_occ = absolute_pkd_occupancy/n_pkd"
   ]
  },
  {
   "cell_type": "markdown",
   "metadata": {},
   "source": [
    "Compact the aGPCR + PKD GAIN data into a single structure for plotting."
   ]
  },
  {
   "cell_type": "code",
   "execution_count": null,
   "metadata": {},
   "outputs": [],
   "source": [
    "receptors_comb_occ = np.zeros(shape=(35,20),dtype=float)\n",
    "receptors_comb_occ[:-1,:] = receptors_occ\n",
    "receptors_comb_occ[-1:,] = pkd_occ.T\n",
    "subfam_comb_occ = np.zeros(shape=(11,20),dtype=float)\n",
    "subfam_comb_occ[:-1,:] = subfam_occ\n",
    "subfam_comb_occ[-1:,] = pkd_occ.T"
   ]
  },
  {
   "cell_type": "markdown",
   "metadata": {},
   "source": [
    "Plot per Receptor type."
   ]
  },
  {
   "cell_type": "code",
   "execution_count": null,
   "metadata": {},
   "outputs": [],
   "source": [
    "def draw_circle(ax, center_coord, r=0.3, color='black'):\n",
    "    # The center of the value is the exact value of the square, therefore no offset should be needed\n",
    "    circle = plt.Circle(center_coord, r, color=color)\n",
    "    c_i = plt.Circle(center_coord, r-0.05, color='white')\n",
    "    ax.add_patch(circle)\n",
    "    ax.add_patch(c_i)\n",
    "\n",
    "plt.rcParams['font.family'] = 'FreeSans'\n",
    "from numpy.ma import masked_array\n",
    "\n",
    "fig,ax = plt.subplots(facecolor='w', figsize=[8,8])\n",
    "\n",
    "splitter = np.ones(shape=receptors_comb_occ.shape, dtype=int)\n",
    "splitter[:,6:] = 2\n",
    "\n",
    "strands = masked_array(receptors_comb_occ, splitter == 1)\n",
    "hels = masked_array(receptors_comb_occ, splitter == 2)\n",
    "ax.set_xticks(ticks = np.arange(-0.5,19.5), labels = elements, rotation=90, size=14, horizontalalignment='left')\n",
    "ax.set_yticks(ticks = np.arange(-0.5,34.5), labels = receptors, size=13, verticalalignment='top', horizontalalignment='right',style='italic')\n",
    "him = ax.imshow(hels, cmap='Blues', aspect='equal',extent = (-0.5, 19.5, 34.5, -0.5))\n",
    "sim = ax.imshow(strands, cmap='Oranges')\n",
    "#cbar = plt.colorbar(shrink=0.5)\n",
    "ax.xaxis.tick_top()\n",
    "#cbar.set_label(\"Element Occurrence\")\n",
    "\n",
    "for y in range(20):\n",
    "    for x in range(33):\n",
    "        if not human_el_matrix[x,y]:\n",
    "            draw_circle(ax, [y,x], r=0.18, color='black')\n",
    "ax.grid(True,'both', color = 'black')\n",
    "\n",
    "cb1 = plt.colorbar(him,shrink=0.7) \n",
    "cb2 = plt.colorbar(sim,shrink=0.7) \n",
    "cb2.set_ticks([])\n",
    "cb1.set_ticks(ticks=[0,1],labels=[\"0%\",\"100%\"], size=14)\n",
    "\n",
    "cb1.set_label(\"Element Occupancy\", size=14)\n",
    "\n",
    "plt.savefig(\"../receptors_occ_withpkd_circ2.svg\",dpi=600, bbox_inches='tight')"
   ]
  },
  {
   "cell_type": "markdown",
   "metadata": {},
   "source": [
    "Plot the receptor subfamilies."
   ]
  },
  {
   "cell_type": "code",
   "execution_count": null,
   "metadata": {},
   "outputs": [],
   "source": [
    "from numpy.ma import masked_array\n",
    "\n",
    "fig,ax = plt.subplots(facecolor='w', figsize=[8,4])\n",
    "\n",
    "splitter = np.ones(shape=subfam_comb_occ.shape, dtype=int)\n",
    "splitter[:,6:] = 2\n",
    "\n",
    "strands = masked_array(subfam_comb_occ, splitter == 1)\n",
    "hels = masked_array(subfam_comb_occ, splitter == 2)\n",
    "\n",
    "ax.grid(True,'both', color = 'black')\n",
    "ax.set_xticks(ticks = np.arange(-0.5,19.5), labels = elements, rotation=90, size=14, horizontalalignment='left')\n",
    "ax.set_yticks(ticks = np.arange(-0.5,10.5), labels = [\"ADGRA\",\"ADGRB\",\"CELSR\",\"ADGRD\",\"ADGRE\",\"ADGRF\",\"ADGRG\",\"ADGRL\",\"ADGRV\",\"unknown\",\"PKD\"], size=14, verticalalignment='top',  style='italic')\n",
    "him = ax.imshow(hels, cmap='Blues', aspect='equal',extent = (-0.5, 19.5, 10.5, -0.5))\n",
    "sim = ax.imshow(strands, cmap='Oranges')\n",
    "#cbar = plt.colorbar(shrink=0.5)\n",
    "#cbar.set_label(\"Element Occurrence\")\n",
    "\n",
    "cb1 = plt.colorbar(him,shrink=0.7) \n",
    "cb2 = plt.colorbar(sim,shrink=0.7) \n",
    "cb2.set_ticks([])\n",
    "cb1.set_ticks(ticks=[0,1],labels=[\"0%\",\"100%\"], size=14)\n",
    "cb1.set_label(\"Element Occupancy\", size=14)\n",
    "plt.savefig(\"../subfam_occ_withpkd.svg\",dpi=600, bbox_inches='tight')"
   ]
  },
  {
   "cell_type": "markdown",
   "metadata": {},
   "source": [
    "### 5. Map Label Position and Segment occurrences to the b-factor of a PDB file."
   ]
  },
  {
   "cell_type": "code",
   "execution_count": null,
   "metadata": {},
   "outputs": [],
   "source": [
    "# gather occupancy for each element and position label\n",
    "label_occ_dict = {}\n",
    "for indexing_dir in stal_indexing.indexing_dirs:\n",
    "    for k in indexing_dir.keys():\n",
    "        if k not in label_occ_dict:\n",
    "            label_occ_dict[k] = 0\n",
    "        label_occ_dict[k] += 1\n",
    "\n",
    "gaingrn.scripts.indexing_utils.mark_seg_cons(stal_indexing, receptors_occ, elements, \"O94910\", \"../all_pdbs/O94910_Q96IE7_Q9BU07_Q9HAR3.pdb\", \"../l1_segcons2.pdb\", fill_b=\"-1.000\")\n",
    "gaingrn.scripts.indexing_utils.mark_seg_cons(stal_indexing, receptors_occ, elements, \"Q96PE1\", \"../all_pdbs/Q96PE1_A6H8W3_D3DSW4_Q8N3R1_Q8TEM3_Q96KB2_Q9P1Z7_Q9UFY4.pdb\", \"../a2_segcons2.pdb\", fill_b=\"-1.000\")\n",
    "gaingrn.scripts.indexing_utils.mark_pos_cons(stal_indexing, label_occ_dict, \"O94910\", \"../all_pdbs/O94910_Q96IE7_Q9BU07_Q9HAR3.pdb\", \"../l1_poscons2.pdb\", fill_b=\"-1.000\")\n",
    "gaingrn.scripts.indexing_utils.mark_pos_cons(stal_indexing, label_occ_dict, \"Q96PE1\", \"../all_pdbs/Q96PE1_A6H8W3_D3DSW4_Q8N3R1_Q8TEM3_Q96KB2_Q9P1Z7_Q9UFY4.pdb\", \"../a2_poscons2.pdb\", fill_b=\"-1.000\")"
   ]
  },
  {
   "cell_type": "code",
   "execution_count": null,
   "metadata": {},
   "outputs": [],
   "source": [
    "# here, you can extract the sequence of a specific element from an UNIPROT entry in the dataset.\n",
    "\n",
    "gaingrn.scripts.indexing_utils.get_elem_seq(uniprot=\"O14514\", stal_indexing=stal_indexing, valid_collection=valid_collection, segment='H6')\n"
   ]
  }
 ],
 "metadata": {
  "kernelspec": {
   "display_name": "science",
   "language": "python",
   "name": "python3"
  },
  "language_info": {
   "codemirror_mode": {
    "name": "ipython",
    "version": 3
   },
   "file_extension": ".py",
   "mimetype": "text/x-python",
   "name": "python",
   "nbconvert_exporter": "python",
   "pygments_lexer": "ipython3",
   "version": "3.10.9"
  }
 },
 "nbformat": 4,
 "nbformat_minor": 2
}
