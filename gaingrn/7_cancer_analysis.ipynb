{
 "cells": [
  {
   "attachments": {},
   "cell_type": "markdown",
   "metadata": {},
   "source": [
    "# 7 Statistical Evaluation of Cancer Mutations and Natural Variants\n",
    "\n",
    "Cancer Integration with Data from NCGA < https://portal.gdc.cancer.gov/\n",
    "\n",
    "There is an API, however since we are only dealing with 31 GAIN domains / 32 receptors, I grabbed all data in JSON. https://docs.gdc.cancer.gov/"
   ]
  },
  {
   "cell_type": "code",
   "execution_count": null,
   "metadata": {},
   "outputs": [],
   "source": [
    "%matplotlib inline\n",
    "import glob, re\n",
    "import matplotlib.pyplot as plt\n",
    "import pandas as pd\n",
    "import gaingrn.scripts.io\n",
    "import gaingrn.scripts.mutation_utils\n",
    "from gaingrn.scripts.variant_classes import *\n",
    "\n",
    "jsons = glob.glob(\"../data/gain_json/*.json\")\n",
    "csvs = glob.glob(\"../data/snp_mane/*csv\")\n",
    "oneletter = {'Ala':'A','Arg':'R','Asn':'N','Asp':'D','Cys':'C','Gln':'Q','Glu':'E','Gly':'G','His':'H','Ile':'I','Leu':'L','Lys':'K','Met':'M','Phe':'F',\n",
    "             'Pro':'P','Pyl':'O','Ser':'S','Thr':'T','Trp':'W','Tyr':'Y','Val':'V'}"
   ]
  },
  {
   "attachments": {},
   "cell_type": "markdown",
   "metadata": {},
   "source": [
    "We need to construct a new dictionary where the indexing itself locates to. This will be appended to the GainDomain objects.\n",
    "For each GAIN domain within this collection, map the mutations by residue on the corresponding element. Then, merge all that to construct a global mutation map."
   ]
  },
  {
   "cell_type": "code",
   "execution_count": null,
   "metadata": {},
   "outputs": [],
   "source": [
    "# Initialize the human GAIN collection\n",
    "human_collection = pd.read_pickle(\"../data/human_collection.pkl\")\n",
    "\n",
    "human_accessions = [gain.name.split(\"-\")[0].split(\"_\")[0] for gain in human_collection.collection]\n",
    "human_sequences = [\"\".join(gain.sequence) for gain in human_collection.collection]\n",
    "seq_file = '../data/all_query_sequences.fasta'\n",
    "\n",
    "human_fasta_offsets = gaingrn.scripts.alignment_utils.find_offsets(seq_file,\n",
    "                                 human_accessions, \n",
    "                                 human_sequences)\n",
    "\n",
    "human_indexing = np.load(\"../data/human_indexing.pkl\", allow_pickle=True)\n",
    "\n",
    "appended_human_collection = gaingrn.scripts.assign.add_grn_labels(human_collection, human_indexing)"
   ]
  },
  {
   "attachments": {},
   "cell_type": "markdown",
   "metadata": {},
   "source": [
    "### 1. Construct the MutationAnalysis object with info to all mutations at respective GRN label. \n",
    "Also just make a list with the resids to summarize all entry occurences."
   ]
  },
  {
   "cell_type": "code",
   "execution_count": null,
   "metadata": {},
   "outputs": [],
   "source": [
    "segments = ['H1','H2','H3','H4','H5','H6','S1','S2','S3','S4','S5','S6','S7','S8','S9','S10','S11','S12','S13','S14','GPS']\n",
    "\n",
    "GainMutations = MutationAnalysis(appended_human_collection, segments, jsons, csvs, human_fasta_offsets)\n"
   ]
  },
  {
   "attachments": {},
   "cell_type": "markdown",
   "metadata": {},
   "source": [
    "In L3, there is a mismatch between canonical (UniProtKB) and the GDC form (equiv. Isoform 4) - see MSA mapping\n",
    "\n",
    "D2 (2/2)   | GDC ENST00000334810 = D2-201 (971 aa) - Uniprot Q7Z7M1 (963 aa) - Files OK - remap the four mutations in question : 496, 556, 460, 386, 507 -->  514, 529, 478, 404, X --> MSA mapping with manual curation of these four mutations\n",
    "\n",
    "F4 (23/26) | GDC ENST00000283303 (695 aa) - Uniprot Q8IZF3 (695 aa) - Re-Download resolved all errors\n",
    "\n",
    "E2 (6/20)  | GDC ENST00000315576 (823 aa) - Uniprot Q9UHX3 (823 aa) - Re-Download resolved all errors\n"
   ]
  },
  {
   "attachments": {},
   "cell_type": "markdown",
   "metadata": {},
   "source": [
    "### 2. Plot the Cancer-enrichement scores of GRN-indexed positions. \n",
    "For each SSE, count the mutations/SNPs at each position and generate a score according to \n",
    "Wright et al. 2019 https://doi.org/10.1038/s41467-019-08630-2 - cancer-enriched positions will have a positive score."
   ]
  },
  {
   "cell_type": "code",
   "execution_count": null,
   "metadata": {},
   "outputs": [],
   "source": [
    "score_dict = {}\n",
    "\n",
    "for sse in segments:\n",
    "# mutations, mut_counts\n",
    "# snps, snp_counts\n",
    "    varkeys = [k for k in GainMutations.mut_counts.keys() if sse in k]+[k for k in GainMutations.snp_counts.keys() if sse in k]\n",
    "    #print(subkeys)\n",
    "    if sse == \"GPS\":\n",
    "        x_range = (1,2,3)\n",
    "        mut_y = [GainMutations.mut_counts[\"GPS.-2\"], GainMutations.mut_counts[\"GPS.-1\"], GainMutations.mut_counts[\"GPS.+1\"]]\n",
    "        var_y = [GainMutations.snp_counts[\"GPS.-2\"], GainMutations.snp_counts[\"GPS.-1\"], GainMutations.snp_counts[\"GPS.+1\"]]\n",
    "    if sse != 'GPS':\n",
    "        x_positions = [int(x.split('.')[-1]) for x in varkeys]\n",
    "        x_range = range(min(x_positions), max(x_positions)+1)\n",
    "        print(sorted(varkeys),\"\\n\", x_range, GainMutations.mut_counts, sep=\"\\n\")\n",
    "        mut_y = gaingrn.scripts.mutation_utils.compose_y(x_range, sse, GainMutations.mut_counts)\n",
    "        var_y = gaingrn.scripts.mutation_utils.compose_y(x_range, sse, GainMutations.snp_counts)\n",
    "\n",
    "    \n",
    "    # Populate the score_dict with the score values\n",
    "    score_y = gaingrn.scripts.mutation_utils.score(mut_y,var_y)\n",
    "    if sse != \"GPS\":\n",
    "        for j,x in enumerate(x_range):\n",
    "            label = f\"{sse}{x}\"\n",
    "            score_dict[label] = score_y[j]\n",
    "\n",
    "    # Plot the cancer enrichment score per segment\n",
    "    gaingrn.scripts.mutation_utils.plot_segment_enrichment_score(sse=sse, res_range=x_range, mutations=mut_y, variants=var_y, scores=score_y, savename=f\"../../TESTING/{sse}variants.svg\", show=True)"
   ]
  },
  {
   "cell_type": "markdown",
   "metadata": {},
   "source": [
    "#### Enrichment Score can now be written to B-factor for evaluation"
   ]
  },
  {
   "cell_type": "code",
   "execution_count": null,
   "metadata": {},
   "outputs": [],
   "source": [
    "l1_pdb = gaingrn.scripts.io.find_pdb(name=\"O94910\", pdb_folder=\"../../all_pdbs/\")\n",
    "\n",
    "for i, gain in enumerate(appended_human_collection.collection):\n",
    "    if \"AGRL1\" in gain.name: \n",
    "        l1_gain = human_collection.collection[i]\n",
    "        break\n",
    "\n",
    "gaingrn.scripts.io.score2b(l1_pdb, \"../../TESTING/l1_gain_score.pdb\", l1_gain.reverse_grn_labels, score_dict)"
   ]
  },
  {
   "cell_type": "markdown",
   "metadata": {},
   "source": [
    "### 3. Enable parsing data for every GRN label position\n",
    "Provides a full list of mutations with corresponding info on receptor, impact etc. at each GRN label position."
   ]
  },
  {
   "cell_type": "code",
   "execution_count": null,
   "metadata": {},
   "outputs": [],
   "source": [
    "enriched_positions = ['GPS.-2']#['H2.55','H3.59','H4.37','H4.57','H5.50','H6.41','H6.55','S10.49','S10.50','S11.50','S14.48','S14.50']\n",
    "\n",
    "# a) Query via dedicated function into text file\n",
    "for label in enriched_positions:\n",
    "    gaingrn.scripts.mutation_utils.query_position_variants(GainMutations.generalized_mutations, label, return_aa=True, text_out=f\"../../TESTING/{label}.out\")\n",
    "\n",
    "# b)  adress the object directly, i.e. with SNPs\n",
    "for snp in GainMutations.snps[\"GPS.-2\"]:\n",
    "    print(snp[\"resname\"],snp[\"receptor\"],snp[\"HGVS Consequence\"])\n",
    "\n",
    "# c) define your own criteria for parsing the data\n",
    "poly = lambda n : n > 0.446 # > 0.446 for possibly damaging, > 0.908 for Probably Damaging\n",
    "sift = lambda n : n < 0.05 # For deleterious impacts\n",
    "\n",
    "missense_dict = gaingrn.scripts.mutation_utils.query_by_criteria((\"consequence\", \"missense\"), poly=lambda n : n > 0.446, mutation_dict=GainMutations.generalized_mutations)"
   ]
  },
  {
   "cell_type": "markdown",
   "metadata": {},
   "source": [
    "You can also directly parse the variants from the SNP CSV file."
   ]
  },
  {
   "cell_type": "code",
   "execution_count": null,
   "metadata": {},
   "outputs": [],
   "source": [
    "variants = gaingrn.scripts.mutation_utils.retrieve_csv_vars(human_collection.collection[0].name, csvs, filter_str='missense_variant', with_resid=True)\n",
    "\n",
    "# Filter for VEP annotation to only get the missense mutation\n",
    "for var in variants:\n",
    "    if 'Protein Consequence' not in var.keys():\n",
    "        continue\n",
    "    #print(var['Protein Consequence'])\n",
    "    #print(re.findall('[A-z]{3}', var['Protein Consequence']))\n",
    "    res = oneletter[re.findall('[A-z]{3}', var['Protein Consequence'])[0]] # A, D, ...\n",
    "    resnum = int(re.findall('[\\d]+', var['Protein Consequence'])[0]) # 1364\n",
    "    print(res, resnum)"
   ]
  },
  {
   "cell_type": "markdown",
   "metadata": {},
   "source": [
    "### 4. Collect and compile variant data for unindexed loops"
   ]
  },
  {
   "cell_type": "code",
   "execution_count": null,
   "metadata": {},
   "outputs": [],
   "source": [
    "loop_lengths = {}\n",
    "loop_seqs = {}\n",
    "loop_seq = {}\n",
    "loop_info = {}\n",
    "\n",
    "# Check for the indexing and collection to be in the same order\n",
    "for i, n in enumerate(human_indexing.names):\n",
    "    assert(n == appended_human_collection.collection[i].name)\n",
    "\n",
    "for idx, gain in enumerate(human_collection.collection):\n",
    "    curr_name = gain.name\n",
    "    intervals = human_indexing.intervals[i]\n",
    "    named_dir = human_indexing.indexing_dirs[idx]\n",
    "    \n",
    "    i_loc, i_dir = gaingrn.scripts.mutation_utils.get_loop_stats(intervals, gain.sequence)\n",
    "    for k, seq in i_dir.items():\n",
    "        if k not in loop_info.keys():\n",
    "            loop_info[k] = []\n",
    "        loop_info[k].append({'name':f'{gain.name}_{i_loc[k][0]+gain.start}-{i_loc[k][1]+gain.start}', 'sequence':''.join(seq)})\n",
    "\n",
    "#for loop in loop_info.keys():\n",
    "#    gaingrn.scripts.mutation_utils.loop2fasta(f\"../loops_human/{loop}.fa\", loop_info[loop])\n"
   ]
  },
  {
   "cell_type": "markdown",
   "metadata": {},
   "source": [
    "Construct a labeled dict with each connector containing the corresponding mutations for this - independent of the receptor:\n",
    "\n",
    "i.e. \"H6-S1\": [{mut1}, {mut2}]\n",
    "\n",
    "we rather not use the Alignment to sort mutations, since the loops themselves have too much variability as shown in the ALN. Subfamily-level."
   ]
  },
  {
   "cell_type": "code",
   "execution_count": null,
   "metadata": {},
   "outputs": [],
   "source": [
    "loop_muts, loop_counts = gaingrn.scripts.mutation_utils.compose_loop_vars(human_collection, jsons, resid_key='x', aa_key='aa_change', fasta_offsets=human_fasta_offsets)\n",
    "\n",
    "for loop in loop_counts.keys():\n",
    "    print(loop, loop_counts[loop])\n"
   ]
  },
  {
   "cell_type": "markdown",
   "metadata": {},
   "source": [
    "### 5. Get the TOP10 cancer- and variance-enriched positions and plot them\n",
    "\n",
    "The overall quality for S4 is very low with a Max of 2 variants per score, therefore it was excluded in the Figure."
   ]
  },
  {
   "cell_type": "code",
   "execution_count": null,
   "metadata": {},
   "outputs": [],
   "source": [
    "vm_arr = GainMutations.generate_data_array(return_list=True)\n",
    "\n",
    "print(vm_arr)\n",
    "\n",
    "vm_arr.sort(key=lambda x: x[4])\n",
    "\n",
    "#np.save(\"../datavarmut.pkl\", varmut_arr, allow_pickle=True)\n",
    "\n",
    "pos = []\n",
    "val = []\n",
    "\n",
    "for tup in vm_arr[:10]:\n",
    "    print(tup)\n",
    "    pos.append(tup[0]+\".\"+str(tup[1]))\n",
    "    val.append(tup[4])\n",
    "\n",
    "fig, ax = plt.subplots(figsize=[3,2])\n",
    "ax.spines['top'].set_visible(False)\n",
    "ax.spines['right'].set_visible(False)\n",
    "plt.tick_params(which='both', width=1)\n",
    "plt.tick_params(which='major', length=8)\n",
    "plt.tick_params(which='minor', length=6)\n",
    "plt.bar(range(len(val)),height=[-v for v in val], color=\"#9090f7\")\n",
    "plt.xticks(ticks=range(len(val)), labels=pos, rotation=90,fontname=\"FreeSans\")\n",
    "plt.yticks(ticks=[0,0.1,0.2],fontname=\"FreeSans\")\n",
    "plt.ylim(0, 0.25)\n",
    "plt.savefig(\"../TESTING/var_enriched.elem.svg\")\n",
    "\n",
    "pos=[]\n",
    "val=[]\n",
    "\n",
    "for tup in vm_arr[:-10:-1]:\n",
    "    print(tup)\n",
    "    pos.append(tup[0]+\".\"+str(tup[1]))\n",
    "    val.append(tup[4])\n",
    "\n",
    "fig, ax = plt.subplots(figsize=[3,2])\n",
    "ax.spines['top'].set_visible(False)\n",
    "ax.spines['right'].set_visible(False)\n",
    "plt.tick_params(which='both', width=1)\n",
    "plt.tick_params(which='major', length=8)\n",
    "plt.tick_params(which='minor', length=6)\n",
    "plt.bar(range(len(val)),height=val, color='#f01717')\n",
    "plt.xticks(ticks=range(len(val)), labels=pos, rotation=90, fontname=\"FreeSans\")\n",
    "plt.yticks(ticks=[0,0.1,0.2],fontname=\"FreeSans\")\n",
    "plt.ylim(0, 0.25)\n",
    "plt.savefig(\"../TESTING/mut_enriched.elem.svg\")"
   ]
  }
 ],
 "metadata": {
  "kernelspec": {
   "display_name": "science",
   "language": "python",
   "name": "python3"
  },
  "language_info": {
   "codemirror_mode": {
    "name": "ipython",
    "version": 3
   },
   "file_extension": ".py",
   "mimetype": "text/x-python",
   "name": "python",
   "nbconvert_exporter": "python",
   "pygments_lexer": "ipython3",
   "version": "3.10.9"
  },
  "vscode": {
   "interpreter": {
    "hash": "ed671274c087d00ab9ecb8e0fee95cd6aaf5c323b152e6f5d51e6ecc9c97d119"
   }
  }
 },
 "nbformat": 4,
 "nbformat_minor": 4
}
