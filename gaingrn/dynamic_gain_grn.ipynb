{
 "cells": [
  {
   "attachments": {},
   "cell_type": "markdown",
   "metadata": {},
   "source": [
    "# DYNAMIC GAIN-GRN Assigning\n",
    "This is an interactive notebook for assigning the GAIN Generic Residue Numbering Scheme to an unknown protein. Please enter the UniProtKB accession ID below."
   ]
  },
  {
   "cell_type": "code",
   "execution_count": null,
   "metadata": {},
   "outputs": [],
   "source": [
    "# Inititalize modules and functions.\n",
    "import os, tempfile, re, json\n",
    "import pickle as pkl\n",
    "import nglview as nv\n",
    "# LOCAL IMPORTS\n",
    "from gaingrn.scripts.gain_classes import GainDomainNoAln\n",
    "import gaingrn.scripts.structure_utils\n",
    "import gaingrn.scripts.request_utils\n",
    "import gaingrn.scripts.bb_angle_tools\n",
    "import gaingrn.scripts.io\n",
    "import gaingrn.scripts.assign\n",
    "try: \n",
    "    GESAMT_BIN = os.environ.get('GESAMT_BIN')\n",
    "except:\n",
    "    GESAMT_BIN = \"/home/hildilab/lib/xtal/ccp4-8.0/ccp4-8.0/bin/gesamt\"\n",
    "\n",
    "try: \n",
    "    STRIDE_BIN = os.environ.get('STRIDE_BIN')\n",
    "except:\n",
    "    STRIDE_BIN = \"/home/hildilab/lib/stride/stride\"\n",
    "\n",
    "if GESAMT_BIN is None:\n",
    "    GESAMT_BIN = \"/home/hildilab/lib/xtal/ccp4-8.0/ccp4-8.0/bin/gesamt\"\n",
    "if STRIDE_BIN is None:\n",
    "    STRIDE_BIN = \"/home/hildilab/lib/stride/stride\""
   ]
  },
  {
   "cell_type": "markdown",
   "metadata": {},
   "source": [
    "### Here are some examples of distant GAIN domains\n",
    "#### Invertebrates\n",
    "- \"Q8SZ78\" D.melanogaster mayo/CG11318\n",
    "- \"G5EDW2\" C.elegans lat-1\n",
    "- \"A1Z7G7\" D.melanogaster Cirl\n",
    "#### PKD GAIN domains\n",
    "- \"Q8R526\" M.musculus PKD1L1\n",
    "- \"H2LRU7\" O.latipes PKD2\n",
    "- \"P98161\" H.sapiens PKD1\n",
    "#### OTHER\n",
    "- \"B3SDA6\" Trichoplax adhaerens Protein kinase domain-containing protein (NEGATIVE CONTROL)\n",
    "- \"Q8CJ12\" M.musculus ADGRG2 (already in dataset)"
   ]
  },
  {
   "cell_type": "code",
   "execution_count": null,
   "metadata": {},
   "outputs": [],
   "source": [
    "uniprot_accession = \"G5EDW2\"\n",
    "output_folder = \"../../G5EDW2\"\n",
    "maxres = 360 # The maximum number of residues in a model to be evaluated. Increase this if you suspect the GAIN to be larger than that."
   ]
  },
  {
   "cell_type": "markdown",
   "metadata": {},
   "source": [
    "#### Run the following cells one after another. An **nglviewer** widget will display the step-by-step progress.\n",
    "Follow the documentation under http://nglviewer.org/nglview/release/v0.5.1/index.html#installation if you experience issues with the nglviewer widget."
   ]
  },
  {
   "cell_type": "code",
   "execution_count": null,
   "metadata": {},
   "outputs": [],
   "source": [
    "uniprot_info = gaingrn.scripts.request_utils.request_uniprot(uniprot_accession) # This is a list of dictionaries of the results\n",
    "if uniprot_info is None:\n",
    "    raise NameError(\"The provided UniProtKB accession did not yield any results. Please check your accession number.\")\n",
    "\n",
    "gps_end, gps_end_sequence, protein_name = gaingrn.scripts.request_utils.extract_gain_end(uniprot_accession, uniprot_info)\n",
    "if gps_end is not None and gps_end < maxres:\n",
    "    maxres = gps_end\n",
    "\n",
    "if not os.path.isdir(output_folder):\n",
    "    os.mkdir(output_folder)\n",
    "json.dump(uniprot_info, open(f'{output_folder}/uniprotkb_{uniprot_accession}.json', 'w'))\n",
    "\n",
    "gaingrn.scripts.request_utils.get_alphafolddb_model(uniprot_accession, output_folder)\n",
    "pdbfile = f'{output_folder}/AF-{uniprot_accession}-F1.pdb'\n",
    "jsonfile = f'{output_folder}/AF-{uniprot_accession}-F1.json'\n",
    "\n",
    "# Routine for manual determination of gps_end\n",
    "view = nv.show_file(pdbfile, background='white')\n",
    "view.background = 'white'\n",
    "view"
   ]
  },
  {
   "attachments": {},
   "cell_type": "markdown",
   "metadata": {},
   "source": [
    "#### Display the Information about this GAIN domain in NGLviewer: Subdomain A is represented as blue, Subdomain B as orange. The respective boundaries are labeled."
   ]
  },
  {
   "cell_type": "code",
   "execution_count": null,
   "metadata": {},
   "outputs": [],
   "source": [
    "if gps_end is None:\n",
    "    print(\"You need to manually set the C-terminal GAIN domain boundary. Please look into the structure and find the residue matching the GAIN domain end. You can likely find it by looking directly N-terminal of the seven-transmembrane domain, if present.\")\n",
    "    gps_end = int(input(\"Manually set the C-terminal GAIN end: \"))\n",
    "    print(\"Set gps_end to\", gps_end)\n",
    "    gps_end_sequence = gaingrn.scripts.request_utils.get_uniprot_seq(uniprot_info, uniprot_accession, c_end=gps_end)\n",
    "truncated_sequence = gps_end_sequence[gps_end-maxres:] # matches the sequences to the PDB sequence (zero-indexed!)\n",
    "\n",
    "# Run STRIDE for evaluating the secondary structure items.\n",
    "target_stride = f\"{output_folder}/AF-{uniprot_accession}-F1.stride\"\n",
    "\n",
    "gaingrn.scripts.io.run_stride(pdbfile, target_stride, STRIDE_BIN) # This will be a stride analysis of the WHOLE protein.\n",
    "outlier_stride = f\"{output_folder}/AF-{uniprot_accession}-F1.outliers.stride\"\n",
    "gaingrn.scripts.bb_angle_tools.detect_outliers(target_stride, outlier_stride, sigmas=2)\n",
    "complete_sse_dict = gaingrn.scripts.io.read_sse_loc(outlier_stride)\n",
    "\n",
    "# Cut the complete_ssse_dict down to only include entries before the detected end residue and within the maximum residue number.\n",
    "truncated_sse_dict = gaingrn.scripts.structure_utils.truncate_stride_dict(complete_sse_dict, start=gps_end-maxres, end=gps_end)\n",
    "\n",
    "# Find the GAIN domain start and subdomain boundary, if applicable\n",
    "gain_start, gain_subdomain_boundary = gaingrn.scripts.structure_utils.find_boundaries(truncated_sse_dict, seq_len=gps_end, bracket_size=30, domain_threshold=15, coil_weight=0.08, truncate_N=3)\n",
    "truncated_pdbfile = gaingrn.scripts.structure_utils.truncate_pdb(pdbfile, start=gain_start, end=gps_end) # gps_end-maxres+1 ensures that the resulting PDB has exactly $maxres resiudes\n",
    "gain_sequence = gps_end_sequence[gain_start-gps_end-1:]\n",
    "\n",
    "# Highlight Subdomain A, Subdomain B and the Boundary between them.\n",
    "view = nv.show_file(truncated_pdbfile)\n",
    "view.clear()\n",
    "c = {gain_subdomain_boundary:\"red\",gain_start:\"blue\",gps_end:\"orange\"}\n",
    "for o in [gain_subdomain_boundary, gain_start, gps_end]:\n",
    "    view.add_representation(repr_type=\"label\", name =\"label\", showBackground =True, labelType=\"res\", color=c[o],\n",
    "                     sele = f\"{o} and .CA\", xOffset = 0.5 , zOffset =5, fixedSize=True )\n",
    "    view.add_hyperball(selection=f\"{o}\", color=c[o])\n",
    "view.add_cartoon(selection=f'{gain_subdomain_boundary}-{gps_end}', color='orange')\n",
    "view.add_cartoon(selection=f'{gain_start}-{gain_subdomain_boundary}', color='blue')\n",
    "view"
   ]
  },
  {
   "attachments": {},
   "cell_type": "markdown",
   "metadata": {},
   "source": [
    "#### With the detected boundaries of GAIN subdomains, proceed to map them onto the available templates.\n",
    "For this, find the best fitting templates for each subdomain, align and assign the GAIN-GRN."
   ]
  },
  {
   "cell_type": "code",
   "execution_count": null,
   "metadata": {},
   "outputs": [],
   "source": [
    "# First, rewrite the STRIDE file for Outlier detection:\n",
    "print(f'[NOTE] Creating instance of GainDomain: {uniprot_accession}_{protein_name.replace(\" \",\"-\")}')\n",
    "target_gain = GainDomainNoAln(\n",
    "                start=gain_start, \n",
    "                subdomain_boundary=gain_subdomain_boundary, \n",
    "                end=gps_end,\n",
    "                name=f'{uniprot_accession}_{protein_name.replace(\" \",\"-\")}',\n",
    "                sequence=gain_sequence,\n",
    "                explicit_stride_file=outlier_stride,\n",
    "                is_truncated=True,\n",
    "                stride_outlier_mode=True,\n",
    "                debug=False)\n",
    "\n",
    "print(\"THE FOLLOWING HELICAL SEGMENTS IN SUBDOMAIN A WERE DETECTED:\", target_gain.sda_helices, sep=\"\\n\")\n",
    "print(\"THE FOLLOWING STRAND SEGMENTS IN SUBDOMAIN B WERE DETECTED:\", target_gain.sdb_sheets, sep=\"\\n\")\n",
    "\n",
    "pkl.dump(target_gain, open(f\"{output_folder}/{uniprot_accession}.pkl\",'wb'))\n",
    "\n",
    "gaingrn.scripts.io.write2fasta(sequence=target_gain.sequence, name=target_gain.name, filename=f\"{output_folder}/{target_gain.name}.fa\")\n",
    "\n",
    "element_intervals, element_centers, residue_labels, unindexed_elements, params = gaingrn.scripts.assign.assign_indexing(\n",
    "                                gain_obj=target_gain,\n",
    "                                file_prefix=f\"{output_folder}/indexing\",\n",
    "                                gain_pdb=truncated_pdbfile,\n",
    "                                template_dir='../data/template_pdbs/',\n",
    "                                template_json='../data/template_data.json',\n",
    "                                gesamt_bin=GESAMT_BIN,\n",
    "                                debug=False,\n",
    "                                create_pdb=True,\n",
    "                                hard_cut={\"S2\":7,\"S6\":3,\"H5\":3},\n",
    "                                patch_gps=True,\n",
    "                                template_mode='extent',\n",
    "                                sda_mode='q'\n",
    "                                )\n",
    "\n",
    "pkl.dump([element_intervals, element_centers, residue_labels, unindexed_elements, params], open(f\"{output_folder}/indexing.pkl\",'wb'))\n",
    "\n",
    "print(\"[DEBUG]\", residue_labels)\n",
    "rmsds = {sd:float(re.search(r\"RMSD\\W+\\:\\W+[0-9]+\\.[0-9]+\",open(f\"{output_folder}/indexing_{sd}.out\").read()).group(0).split()[-1]) for sd in [\"sda\",\"sdb\"]}\n",
    "#print(rmsds)\n",
    "print(f\"The RMSD values of Subdomain Matches are:\\n\\tSDA: {round(rmsds['sda'], 3)} A\\n\\tSDB: {round(rmsds['sdb'], 3)} A\")\n",
    "if rmsds[\"sdb\"] > 2.0: print(\"WARNING: The Matching RMSD in Subdomain B is very high. This GAIN domain is likely not a good fit, if a GAIN domain at all. Please check your protein further.\")\n",
    "\n",
    "#print(element_intervals, element_centers, residue_labels, unindexed_elements, params, sep=\"\\n\")\n",
    "res2label = {v:k for k,v in residue_labels.items() if v is not None}"
   ]
  },
  {
   "cell_type": "markdown",
   "metadata": {},
   "source": [
    "#### Map the generated GAIN-GRN indexing visually on the GAIN Domain model"
   ]
  },
  {
   "cell_type": "code",
   "execution_count": null,
   "metadata": {},
   "outputs": [],
   "source": [
    "view = nv.show_file(truncated_pdbfile)\n",
    "\n",
    "view.clear()\n",
    "view.background = 'white'\n",
    "ca_indices = gaingrn.scripts.structure_utils.get_ca_indices(truncated_pdbfile, offset=gaingrn.scripts.structure_utils.get_pdb_offset(truncated_pdbfile))\n",
    "label_dict = {ca_indices[res]:label for label, res in residue_labels.items() if res is not None}\n",
    "\n",
    "mysel = \",\".join([str(k) for k in label_dict.keys()])\n",
    "\n",
    "view.add_representation(repr_type=\"label\", name =\"label\", showBackground =True, labelType=\"text\", color='black', \n",
    "                        labelText=label_dict,\n",
    "                        sele = f'@{mysel}', xOffset = 0.5 , zOffset =5, fixedSize=False )\n",
    "\n",
    "view.add_cartoon(selection=f'{gain_subdomain_boundary}-{gps_end}', color='orange')\n",
    "view.add_cartoon(selection=f'{gain_start}-{gain_subdomain_boundary}', color='blue')\n",
    "\n",
    "view\n"
   ]
  },
  {
   "cell_type": "markdown",
   "metadata": {},
   "source": [
    "#### Lastly, the generated GAIN-GRN indexing is written to file.\n",
    "All GAIN-GRN-related info can now be found in your target directory."
   ]
  },
  {
   "cell_type": "code",
   "execution_count": null,
   "metadata": {},
   "outputs": [],
   "source": [
    "# Write the generated GAIN-GRN to files\n",
    "gaingrn.scripts.io.label2b(pdbfile=pdbfile, outfile=pdbfile.replace(\".pdb\",\"_grn.pdb\"),res2label=res2label, clear_b=True)\n",
    "gaingrn.scripts.io.label2b(pdbfile=truncated_pdbfile, outfile=truncated_pdbfile.replace(\".pdb\",\"_grn.pdb\"), res2label=res2label, clear_b=True)\n",
    "gaingrn.scripts.io.grn2csv(res2label, outfile=f\"{output_folder}/{uniprot_accession}_grn.csv\", target_gain=target_gain)\n",
    "print(res2label)\n",
    "print(label_dict)"
   ]
  }
 ],
 "metadata": {
  "kernelspec": {
   "display_name": "scipy",
   "language": "python",
   "name": "python3"
  },
  "language_info": {
   "codemirror_mode": {
    "name": "ipython",
    "version": 3
   },
   "file_extension": ".py",
   "mimetype": "text/x-python",
   "name": "python",
   "nbconvert_exporter": "python",
   "pygments_lexer": "ipython3",
   "version": "3.10.9"
  },
  "orig_nbformat": 4
 },
 "nbformat": 4,
 "nbformat_minor": 2
}
