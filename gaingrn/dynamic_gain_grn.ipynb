{
 "cells": [
  {
   "attachments": {},
   "cell_type": "markdown",
   "metadata": {},
   "source": [
    "# DYNAMIC GAIN-GRN Assigning\n",
    "This is an interactive notebook for assigning the GAIN Generic Residue Numbering Scheme to an unknown protein. Please enter the UniProtKB accession ID below."
   ]
  },
  {
   "cell_type": "code",
   "execution_count": 7,
   "metadata": {},
   "outputs": [],
   "source": [
    "# Inititalize modules and functions.\n",
    "import os, tempfile, re, json\n",
    "import pickle as pkl\n",
    "import nglview as nv\n",
    "# LOCAL IMPORTS\n",
    "from gaingrn.scripts.gain_classes import GainDomainNoAln\n",
    "import gaingrn.scripts.structure_utils\n",
    "import gaingrn.scripts.request_utils\n",
    "import gaingrn.scripts.bb_angle_tools\n",
    "import gaingrn.scripts.io\n",
    "import gaingrn.scripts.assign\n",
    "try: \n",
    "    GESAMT_BIN = os.environ.get('GESAMT_BIN')\n",
    "except:\n",
    "    GESAMT_BIN = \"/home/hildilab/lib/xtal/ccp4-8.0/ccp4-8.0/bin/gesamt\"\n",
    "\n",
    "try: \n",
    "    STRIDE_BIN = os.environ.get('STRIDE_BIN')\n",
    "except:\n",
    "    STRIDE_BIN = \"/home/hildilab/lib/stride/stride\"\n",
    "\n",
    "if GESAMT_BIN is None:\n",
    "    GESAMT_BIN = \"/home/hildilab/lib/xtal/ccp4-8.0/ccp4-8.0/bin/gesamt\"\n",
    "if STRIDE_BIN is None:\n",
    "    STRIDE_BIN = \"/home/hildilab/lib/stride/stride\""
   ]
  },
  {
   "cell_type": "code",
   "execution_count": 8,
   "metadata": {},
   "outputs": [
    {
     "name": "stdout",
     "output_type": "stream",
     "text": [
      "[NOTE] Found GPS entry in the UniProtKB accession entry ending at residue 542\n"
     ]
    },
    {
     "name": "stderr",
     "output_type": "stream",
     "text": [
      "  % Total    % Received % Xferd  Average Speed   Time    Time     Time  Current\n",
      "                                 Dload  Upload   Total   Spent    Left  Speed\n",
      "100  637k    0  637k    0     0  1511k      0 --:--:-- --:--:-- --:--:-- 1511k\n",
      "  % Total    % Received % Xferd  Average Speed   Time    Time     Time  Current\n",
      "                                 Dload  Upload   Total   Spent    Left  Speed\n",
      "  0     0    0     0    0     0      0      0 --:--:-- --:--:-- --:--:--     0"
     ]
    },
    {
     "name": "stdout",
     "output_type": "stream",
     "text": [
      "[NOTE] Done retrieving the model for G5EDW2 with the corresponding AlphaFoldDB accession AF-G5EDW2-F1.\n"
     ]
    },
    {
     "name": "stderr",
     "output_type": "stream",
     "text": [
      "100 2860k    0 2860k    0     0  4192k      0 --:--:-- --:--:-- --:--:-- 4194k\n"
     ]
    },
    {
     "data": {
      "application/vnd.jupyter.widget-view+json": {
       "model_id": "f48b79800487415fa10d64af95263865",
       "version_major": 2,
       "version_minor": 0
      },
      "text/plain": [
       "NGLWidget()"
      ]
     },
     "metadata": {},
     "output_type": "display_data"
    }
   ],
   "source": [
    "uniprot_accession = \"G5EDW2\"\n",
    "output_folder = \"../../\"\n",
    "### Here are some examples of distant GAIN domains\n",
    "##Invertebrates\n",
    "#   \"Q8SZ78\" D.melanogaster mayo/CG11318\n",
    "#   \"G5EDW2\" C.elegans lat-1\n",
    "#   \"A1Z7G7\" D.melanogaster Cirl\n",
    "##PKD GAIN domains\n",
    "#   \"Q8R526\" M.musculus PKD1L1\n",
    "#   \"H2LRU7\" O.latipes PKD2\n",
    "#   \"P98161\" H.sapiens PKD1\n",
    "##OTHER\n",
    "#   \"B3SDA6\" Trichoplax adhaerens Protein kinase domain-containing protein (NEGATIVE CONTROL)\n",
    "#   \"Q8CJ12\" M.musculus ADGRG2 (already in dataset)\n",
    "\n",
    "maxres = 360 # The maximum number of residues in a model to be evaluated. Increase this if you suspect the GAIN to be larger than that.\n",
    "\n",
    "uniprot_info = gaingrn.scripts.request_utils.request_uniprot(uniprot_accession) # This is a list of dictionaries of the results\n",
    "if uniprot_info is None:\n",
    "    raise NameError(\"The provided UniProtKB accession did not yield any results. Please check your accession number.\")\n",
    "\n",
    "gps_end, gps_end_sequence, protein_name = gaingrn.scripts.request_utils.extract_gain_end(uniprot_accession, uniprot_info)\n",
    "if gps_end is not None and gps_end < maxres:\n",
    "    maxres = gps_end\n",
    "\n",
    "tmp_folder = tempfile.TemporaryDirectory(dir = output_folder)\n",
    "tmp_dir = tmp_folder.name\n",
    "json.dump(uniprot_info, open(f'{tmp_dir}/uniprotkb_{uniprot_accession}.json', 'w'))\n",
    "\n",
    "gaingrn.scripts.request_utils.get_alphafolddb_model(uniprot_accession, tmp_dir)\n",
    "pdbfile = f'{tmp_dir}/AF-{uniprot_accession}-F1.pdb'\n",
    "jsonfile = f'{tmp_dir}/AF-{uniprot_accession}-F1.json'\n",
    "\n",
    "# Routine for manual determination of gps_end\n",
    "view = nv.show_file(pdbfile, background='white')\n",
    "view.background = 'white'\n",
    "view"
   ]
  },
  {
   "attachments": {},
   "cell_type": "markdown",
   "metadata": {},
   "source": [
    "#### Display the Information about this GAIN domain in NGLviewer: Subdomain A is represented as blue, Subdomain B as orange. The respective boundaries are labeled."
   ]
  },
  {
   "cell_type": "code",
   "execution_count": 9,
   "metadata": {},
   "outputs": [
    {
     "name": "stdout",
     "output_type": "stream",
     "text": [
      "Modified STRIDE file ../../tmpgpmxbcuj/AF-G5EDW2-F1.stride into ../../tmpgpmxbcuj/AF-G5EDW2-F1.outliers.stride to include outliers and the last column items[10] col 77-80 (1-indexed)\n",
      "[NOTE] Overwriting initial gain_start = 231 with 235.\n",
      "[NOTE] Truncated PDB to residues 235-542.\n"
     ]
    }
   ],
   "source": [
    "if gps_end is None:\n",
    "    print(\"You need to manually set the C-terminal GAIN domain boundary. Please look into the structure and find the residue matching the GAIN domain end. You can likely find it by looking directly N-terminal of the seven-transmembrane domain, if present.\")\n",
    "    gps_end = int(input(\"Manually set the C-terminal GAIN end: \"))\n",
    "    print(\"Set gps_end to\", gps_end)\n",
    "    gps_end_sequence = gaingrn.scripts.request_utils.get_uniprot_seq(uniprot_info, uniprot_accession, c_end=gps_end)\n",
    "truncated_sequence = gps_end_sequence[gps_end-maxres:] # matches the sequences to the PDB sequence (zero-indexed!)\n",
    "\n",
    "# Run STRIDE for evaluating the secondary structure items.\n",
    "target_stride = f\"{tmp_dir}/AF-{uniprot_accession}-F1.stride\"\n",
    "\n",
    "gaingrn.scripts.io.run_stride(pdbfile, target_stride, STRIDE_BIN) # This will be a stride analysis of the WHOLE protein.\n",
    "outlier_stride = f\"{tmp_dir}/AF-{uniprot_accession}-F1.outliers.stride\"\n",
    "gaingrn.scripts.bb_angle_tools.detect_outliers(target_stride, outlier_stride, sigmas=2)\n",
    "complete_sse_dict = gaingrn.scripts.io.read_sse_loc(outlier_stride)\n",
    "\n",
    "# Cut the complete_ssse_dict down to only include entries before the detected end residue and within the maximum residue number.\n",
    "truncated_sse_dict = gaingrn.scripts.structure_utils.truncate_stride_dict(complete_sse_dict, start=gps_end-maxres, end=gps_end)\n",
    "\n",
    "# Find the GAIN domain start and subdomain boundary, if applicable\n",
    "gain_start, gain_subdomain_boundary = gaingrn.scripts.structure_utils.find_boundaries(truncated_sse_dict, seq_len=gps_end, bracket_size=30, domain_threshold=15, coil_weight=0.08, truncate_N=3)\n",
    "truncated_pdbfile = gaingrn.scripts.structure_utils.truncate_pdb(pdbfile, start=gain_start, end=gps_end) # gps_end-maxres+1 ensures that the resulting PDB has exactly $maxres resiudes\n",
    "gain_sequence = gps_end_sequence[gain_start-gps_end-1:]\n",
    "\n",
    "# Highlight Subdomain A, Subdomain B and the Boundary between them.\n",
    "view = nv.show_file(truncated_pdbfile)\n",
    "view.clear()\n",
    "c = {gain_subdomain_boundary:\"red\",gain_start:\"blue\",gps_end:\"orange\"}\n",
    "for o in [gain_subdomain_boundary, gain_start, gps_end]:\n",
    "    view.add_representation(repr_type=\"label\", name =\"label\", showBackground =True, labelType=\"res\", color=c[o],\n",
    "                     sele = f\"{o} and .CA\", xOffset = 0.5 , zOffset =5, fixedSize=True )\n",
    "    view.add_hyperball(selection=f\"{o}\", color=c[o])\n",
    "view.add_cartoon(selection=f'{gain_subdomain_boundary}-{gps_end}', color='orange')\n",
    "view.add_cartoon(selection=f'{gain_start}-{gain_subdomain_boundary}', color='blue')\n",
    "view"
   ]
  },
  {
   "attachments": {},
   "cell_type": "markdown",
   "metadata": {},
   "source": [
    "#### With the detected boundaries of GAIN subdomains, proceed to map them onto the available templates.\n",
    "For this, find the best fitting templates for each subdomain, align and assign the GAIN-GRN."
   ]
  },
  {
   "cell_type": "code",
   "execution_count": 15,
   "metadata": {},
   "outputs": [
    {
     "name": "stdout",
     "output_type": "stream",
     "text": [
      "[NOTE] Creating instance of GainDomain: G5EDW2_Latrophilin-like-protein-1\n",
      "THE FOLLOWING HELICAL SEGMENTS IN SUBDOMAIN A WERE DETECTED:\n",
      "[[  3  18]\n",
      " [ 22  36]\n",
      " [ 42  60]\n",
      " [ 68  84]\n",
      " [ 86  91]\n",
      " [ 94 119]]\n",
      "THE FOLLOWING STRAND SEGMENTS IN SUBDOMAIN B WERE DETECTED:\n",
      "[[126 130]\n",
      " [133 137]\n",
      " [141 142]\n",
      " [150 153]\n",
      " [166 170]\n",
      " [181 189]\n",
      " [201 204]\n",
      " [211 214]\n",
      " [216 218]\n",
      " [222 229]\n",
      " [232 234]\n",
      " [243 248]\n",
      " [257 266]\n",
      " [271 273]\n",
      " [277 283]\n",
      " [286 291]\n",
      " [296 303]]\n",
      "NOTE: Written G5EDW2_Latrophilin-like-protein-1 to fasta in ../../tmpgpmxbcuj/G5EDW2_Latrophilin-like-protein-1.fa.\n",
      "[DEBUG] {'H1.42': 238, 'H1.43': 239, 'H1.44': 240, 'H1.45': 241, 'H1.46': 242, 'H1.47': 243, 'H1.48': 244, 'H1.49': 245, 'H1.50': 246, 'H1.51': 247, 'H1.52': 248, 'H1.53': 249, 'H1.54': 250, 'H1.55': 251, 'H1.56': 252, 'H1.57': 253, 'H2.41': 257, 'H2.42': 258, 'H2.43': 259, 'H2.44': 260, 'H2.45': 261, 'H2.46': 262, 'H2.47': 263, 'H2.48': 264, 'H2.49': 265, 'H2.50': 266, 'H2.51': 267, 'H2.52': 268, 'H2.53': 269, 'H2.54': 270, 'H2.55': 271, 'H3.49': 277, 'H3.50': 278, 'H3.51': 279, 'H3.52': 280, 'H3.53': 281, 'H3.54': 282, 'H3.55': 283, 'H3.56': 284, 'H3.57': 285, 'H3.58': 286, 'H3.59': 287, 'H3.60': 288, 'H3.61': 289, 'H3.62': 290, 'H3.63': 291, 'H3.64': 292, 'H3.65': 293, 'H3.66': 294, 'H3.67': 295, 'H4.42': 303, 'H4.43': 304, 'H4.44': 305, 'H4.45': 306, 'H4.46': 307, 'H4.47': 308, 'H4.48': 309, 'H4.49': 310, 'H4.50': 311, 'H4.51': 312, 'H4.52': 313, 'H4.53': 314, 'H4.54': 315, 'H4.55': 316, 'H4.56': 317, 'H4.57': 318, 'H4.58': 319, 'H5.47': 321, 'H5.48': 322, 'H5.49': 323, 'H5.50': 324, 'H5.51': 325, 'H5.52': 326, 'H6.35': 329, 'H6.36': 330, 'H6.37': 331, 'H6.38': 332, 'H6.39': 333, 'H6.40': 334, 'H6.41': 335, 'H6.42': 336, 'H6.43': 337, 'H6.44': 338, 'H6.45': 339, 'H6.46': 340, 'H6.47': 341, 'H6.48': 342, 'H6.49': 343, 'H6.50': 344, 'H6.51': 345, 'H6.52': 346, 'H6.53': 347, 'H6.54': 348, 'H6.55': 349, 'H6.56': 350, 'H6.57': 351, 'H6.58': 352, 'H6.59': 353, 'S1.48': 361, 'S1.49': 362, 'S1.50': 363, 'S1.51': 364, 'S1.52': 365, 'S2.48': 368, 'S2.49': 369, 'S2.50': 370, 'S2.51': 371, 'S2.52': 372, 'S3.47': 385, 'S3.48': 386, 'S3.49': 387, 'S3.50': 388, 'S5.47': 401, 'S5.48': 402, 'S5.49': 403, 'S5.50': 404, 'S5.51': 405, 'S6.42': 416, 'S6.43': 417, 'S6.44': 418, 'S6.45': 419, 'S6.46': 420, 'S6.47': 421, 'S6.48': 422, 'S6.49': 423, 'S6.50': 424, 'S7.48': 451, 'S7.49': 452, 'S7.50': 453, 'S8.50': 457, 'S8.51': 458, 'S8.52': 459, 'S8.53': 460, 'S8.54': 461, 'S8.55': 462, 'S8.56': 463, 'S8.57': 464, 'S9.50': 478, 'S9.51': 479, 'S9.52': 480, 'S9.53': 481, 'S9.54': 482, 'S9.55': 483, 'S10.42': 492, 'S10.43': 493, 'S10.44': 494, 'S10.45': 495, 'S10.46': 496, 'S10.47': 497, 'S10.48': 498, 'S10.49': 499, 'S10.50': 500, 'S10.51': 501, 'S11.49': 506, 'S11.50': 507, 'S11.51': 508, 'S12.50': 512, 'S12.51': 513, 'S12.52': 514, 'S12.53': 515, 'S12.54': 516, 'S12.55': 517, 'S12.56': 518, 'S13.45': 521, 'S13.46': 522, 'S13.47': 523, 'S13.48': 524, 'S13.49': 525, 'S13.50': 526, 'S14.46': 531, 'S14.47': 532, 'S14.48': 533, 'S14.49': 534, 'S14.50': 535, 'S14.51': 536, 'S14.52': 537, 'S14.53': 538, 'GPS.-2': 528, 'GPS.-1': 529, 'GPS.+1': 530}\n",
      "The RMSD values of Subdomain Matches are:\n",
      "\tSDA: 1.268 A\n",
      "\tSDB: 2.11 A\n",
      "WARNING: The Matching RMSD is very high. This GAIN domain is likely not a good fit, if a GAIN domain at all. Please check your protein further.\n"
     ]
    }
   ],
   "source": [
    "# First, rewrite the STRIDE file for Outlier detection:\n",
    "print(f'[NOTE] Creating instance of GainDomain: {uniprot_accession}_{protein_name.replace(\" \",\"-\")}')\n",
    "target_gain = GainDomainNoAln(\n",
    "                start=gain_start, \n",
    "                subdomain_boundary=gain_subdomain_boundary, \n",
    "                end=gps_end,\n",
    "                name=f'{uniprot_accession}_{protein_name.replace(\" \",\"-\")}',\n",
    "                sequence=gain_sequence,\n",
    "                explicit_stride_file=outlier_stride,\n",
    "                is_truncated=True,\n",
    "                stride_outlier_mode=True,\n",
    "                debug=False)\n",
    "\n",
    "print(\"THE FOLLOWING HELICAL SEGMENTS IN SUBDOMAIN A WERE DETECTED:\", target_gain.sda_helices, sep=\"\\n\")\n",
    "print(\"THE FOLLOWING STRAND SEGMENTS IN SUBDOMAIN B WERE DETECTED:\", target_gain.sdb_sheets, sep=\"\\n\")\n",
    "\n",
    "pkl.dump(target_gain, open(f\"{tmp_dir}/{uniprot_accession}.pkl\",'wb'))\n",
    "\n",
    "gaingrn.scripts.io.write2fasta(sequence=target_gain.sequence, name=target_gain.name, filename=f\"{tmp_dir}/{target_gain.name}.fa\")\n",
    "\n",
    "element_intervals, element_centers, residue_labels, unindexed_elements, params = gaingrn.scripts.assign.assign_indexing(\n",
    "                                gain_obj=target_gain,\n",
    "                                file_prefix=f\"{tmp_dir}/indexing\",\n",
    "                                gain_pdb=truncated_pdbfile,\n",
    "                                template_dir='../data/template_pdbs/',\n",
    "                                template_json='../data/template_data.json',\n",
    "                                gesamt_bin=GESAMT_BIN,\n",
    "                                debug=False,\n",
    "                                create_pdb=True,\n",
    "                                hard_cut={\"S2\":7,\"S6\":3,\"H5\":3},\n",
    "                                patch_gps=True,\n",
    "                                template_mode='extent',\n",
    "                                sda_mode='q'\n",
    "                                )\n",
    "\n",
    "pkl.dump([element_intervals, element_centers, residue_labels, unindexed_elements, params], open(f\"{tmp_dir}/indexing.pkl\",'wb'))\n",
    "\n",
    "print(\"[DEBUG]\", residue_labels)\n",
    "rmsds = {sd:float(re.search(r\"RMSD\\W+\\:\\W+[0-9]+\\.[0-9]+\",open(f\"{tmp_dir}/indexing_{sd}.out\").read()).group(0).split()[-1]) for sd in [\"sda\",\"sdb\"]}\n",
    "#print(rmsds)\n",
    "print(f\"The RMSD values of Subdomain Matches are:\\n\\tSDA: {round(rmsds['sda'], 3)} A\\n\\tSDB: {round(rmsds['sdb'], 3)} A\")\n",
    "if rmsds[\"sdb\"] > 2.0: print(\"WARNING: The Matching RMSD in Subdomain B is very high. This GAIN domain is likely not a good fit, if a GAIN domain at all. Please check your protein further.\")\n",
    "\n",
    "#print(element_intervals, element_centers, residue_labels, unindexed_elements, params, sep=\"\\n\")\n",
    "res2label = {v:k for k,v in residue_labels.items() if v is not None}"
   ]
  },
  {
   "cell_type": "markdown",
   "metadata": {},
   "source": [
    "#### Map the generated GAIN-GRN indexing visually on the GAIN Domain model"
   ]
  },
  {
   "cell_type": "code",
   "execution_count": 16,
   "metadata": {},
   "outputs": [
    {
     "data": {
      "application/vnd.jupyter.widget-view+json": {
       "model_id": "d57efd33263b4398af526d6ad62738bb",
       "version_major": 2,
       "version_minor": 0
      },
      "text/plain": [
       "NGLWidget()"
      ]
     },
     "metadata": {},
     "output_type": "display_data"
    }
   ],
   "source": [
    "view = nv.show_file(truncated_pdbfile)\n",
    "\n",
    "view.clear()\n",
    "view.background = 'white'\n",
    "ca_indices = gaingrn.scripts.structure_utils.get_ca_indices(truncated_pdbfile, offset=gaingrn.scripts.structure_utils.get_pdb_offset(truncated_pdbfile))\n",
    "label_dict = {ca_indices[res]:label for label, res in residue_labels.items() if res is not None}\n",
    "\n",
    "mysel = \",\".join([str(k) for k in label_dict.keys()])\n",
    "\n",
    "view.add_representation(repr_type=\"label\", name =\"label\", showBackground =True, labelType=\"text\", color='black', \n",
    "                        labelText=label_dict,\n",
    "                        sele = f'@{mysel}', xOffset = 0.5 , zOffset =5, fixedSize=False )\n",
    "\n",
    "view.add_cartoon(selection=f'{gain_subdomain_boundary}-{gps_end}', color='orange')\n",
    "view.add_cartoon(selection=f'{gain_start}-{gain_subdomain_boundary}', color='blue')\n",
    "\n",
    "view\n"
   ]
  },
  {
   "cell_type": "markdown",
   "metadata": {},
   "source": [
    "#### Lastly, the generated GAIN-GRN indexing is written to file."
   ]
  },
  {
   "cell_type": "code",
   "execution_count": null,
   "metadata": {},
   "outputs": [],
   "source": [
    "# Write the generated GAIN-GRN to files\n",
    "gaingrn.scripts.io.label2b(pdbfile=pdbfile, outfile=pdbfile.replace(\".pdb\",\"_grn.pdb\"),res2label=res2label, clear_b=True)\n",
    "gaingrn.scripts.io.label2b(pdbfile=truncated_pdbfile, outfile=truncated_pdbfile.replace(\".pdb\",\"_grn.pdb\"), res2label=res2label, clear_b=True)\n",
    "gaingrn.scripts.io.grn2csv(res2label, outfile=f\"{tmp_dir}/{uniprot_accession}_grn.csv\", target_gain=target_gain)\n",
    "print(res2label)\n",
    "print(label_dict)"
   ]
  },
  {
   "cell_type": "markdown",
   "metadata": {},
   "source": [
    "#### Here, you can clean up your temporary directory in case something went wrong."
   ]
  },
  {
   "cell_type": "code",
   "execution_count": 21,
   "metadata": {},
   "outputs": [],
   "source": [
    "y = input(f\"Do you want to delete your folder {tmp_folder.name}?:yn\")\n",
    "if y.lower() == \"y\":\n",
    "    tmp_folder.cleanup()"
   ]
  },
  {
   "cell_type": "code",
   "execution_count": null,
   "metadata": {},
   "outputs": [],
   "source": []
  }
 ],
 "metadata": {
  "kernelspec": {
   "display_name": "scipy",
   "language": "python",
   "name": "python3"
  },
  "language_info": {
   "codemirror_mode": {
    "name": "ipython",
    "version": 3
   },
   "file_extension": ".py",
   "mimetype": "text/x-python",
   "name": "python",
   "nbconvert_exporter": "python",
   "pygments_lexer": "ipython3",
   "version": "3.10.9"
  },
  "orig_nbformat": 4
 },
 "nbformat": 4,
 "nbformat_minor": 2
}
