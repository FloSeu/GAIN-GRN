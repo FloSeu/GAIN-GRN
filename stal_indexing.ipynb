{
 "cells": [
  {
   "cell_type": "code",
   "execution_count": 1,
   "metadata": {},
   "outputs": [],
   "source": [
    "# DEPENDENCIES\n",
    "import glob\n",
    "#from shutil import copyfile\n",
    "import numpy as np\n",
    "import pandas as pd\n",
    "#import logomaker\n",
    "# LOCAL IMPORTS\n",
    "#from indexing_classes import GPCRDBIndexing\n",
    "import sse_func\n",
    "import matplotlib.pyplot as plt\n",
    "import template_finder as tf\n",
    "from indexing_classes import StAlIndexing\n",
    "def find_pdb(name, pdb_folder):\n",
    "    identifier = name.split(\"-\")[0]\n",
    "    target_pdb = glob.glob(f\"{pdb_folder}/*{identifier}*.pdb\")[0]\n",
    "    return target_pdb"
   ]
  },
  {
   "cell_type": "code",
   "execution_count": 2,
   "metadata": {},
   "outputs": [],
   "source": [
    "valid_collection = pd.read_pickle(\"../valid_collection.pkl\")"
   ]
  },
  {
   "cell_type": "code",
   "execution_count": 3,
   "metadata": {},
   "outputs": [
    {
     "name": "stdout",
     "output_type": "stream",
     "text": [
      "______________________________ \n",
      "0 A0A6J3E5X4-A0A6J3E5X4_AYTFU-LOWQUALITYPROTEIN:cadherinEGFLAGseven-passG-typereceptor2-Aythya_fuligula\n",
      "1 Split by coiled residue.\n",
      "______________________________ \n",
      "1 A0A6J3FJ26-A0A6J3FJ26_SAPAP-cadherinEGFLAGseven-passG-typereceptor2isoformX1-Sapajus_apella\n",
      "1 Split by coiled residue.\n",
      "______________________________ \n",
      "2 A0A6J3FJG3-A0A6J3FJG3_SAPAP-cadherinEGFLAGseven-passG-typereceptor2isoformX3-Sapajus_apella\n",
      "1 Split by coiled residue.\n",
      "______________________________ \n",
      "3 A0A6J3FK19-A0A6J3FK19_SAPAP-cadherinEGFLAGseven-passG-typereceptor2isoformX2-Sapajus_apella\n",
      "1 Split by coiled residue.\n",
      "______________________________ \n",
      "4 A0A6J3GH67-A0A6J3GH67_SAPAP-cadherinEGFLAGseven-passG-typereceptor1isoformX1-Sapajus_apella\n",
      "1 Split by coiled residue.\n",
      "______________________________ \n",
      "5 A0A6J3GHF3-A0A6J3GHF3_SAPAP-cadherinEGFLAGseven-passG-typereceptor1isoformX2-Sapajus_apella\n",
      "1 Split by coiled residue.\n",
      "______________________________ \n",
      "6 A0A6J3GHW0-A0A6J3GHW0_SAPAP-cadherinEGFLAGseven-passG-typereceptor1isoformX3-Sapajus_apella\n",
      "1 Split by coiled residue.\n",
      "______________________________ \n",
      "7 A0A6J3ISU9-A0A6J3ISU9_SAPAP-cadherinEGFLAGseven-passG-typereceptor3isoformX5-Sapajus_apella\n",
      "1 Split by coiled residue.\n",
      "______________________________ \n",
      "8 A0A6J3ISX3-A0A6J3ISX3_SAPAP-cadherinEGFLAGseven-passG-typereceptor3isoformX1-Sapajus_apella\n",
      "1 Split by coiled residue.\n",
      "______________________________ \n",
      "9 A0A6J3IT34-A0A6J3IT34_SAPAP-cadherinEGFLAGseven-passG-typereceptor3isoformX2-Sapajus_apella\n",
      "1 Split by coiled residue.\n"
     ]
    }
   ],
   "source": [
    "for i, gain in enumerate(valid_collection.collection[:10]):\n",
    "    #if \"A0A6J3E5X4\" not in gain.name:\n",
    "    #    continue\n",
    "    #print(i)\n",
    "    file_prefix = f\"../test_stal_indexing/t_all_{i}\"\n",
    "    print(\"_\"*30, f\"\\n{i} {gain.name}\")\n",
    "    #for i, hel in enumerate(gain.sda_helices):\n",
    "    #    print(f\"H#{i}: {hel[0]+gain.start}-{hel[1]+gain.start}\")\n",
    "    #for i, hel in enumerate(gain.sdb_sheets):\n",
    "    #    print(f\"S#{i}: {hel[0]+gain.start}-{hel[1]+gain.start}\")\n",
    "    element_intervals, element_centers, residue_labels, unindexed_elements, params = tf.assign_indexing(gain, \n",
    "                                                                                                file_prefix=file_prefix, \n",
    "                                                                                                gain_pdb=find_pdb(gain.name, '../all_pdbs'), \n",
    "                                                                                                template_dir='../r2_template_pdbs/', \n",
    "                                                                                                debug=False, \n",
    "                                                                                                create_pdb=False,\n",
    "                                                                                                hard_cut={\"S2\":7,\"S6\":3,\"H5\":3},\n",
    "                                                                                                patch_gps=True\n",
    "                                                                                                )\n",
    "    split_modes = {\n",
    "        0:\"No Split.\",\n",
    "        1:\"Split by coiled residue.\",\n",
    "        2:\"Split by disordered residue.\",\n",
    "        3:\"Split by Proline/Glycine\",\n",
    "        4:\"Split by hard cut.\",\n",
    "        5:\"Overwrite by anchor priority.\"\n",
    "    }\n",
    "    if params[\"split_mode\"] > 0:\n",
    "        print(params[\"split_mode\"], split_modes[params[\"split_mode\"]])\n",
    "    #print(element_intervals, element_centers, residue_labels, unindexed_elements, sep=\"\\n\")\n"
   ]
  },
  {
   "cell_type": "code",
   "execution_count": 4,
   "metadata": {},
   "outputs": [
    {
     "name": "stdout",
     "output_type": "stream",
     "text": [
      "subl ../sigmas/sigma_2/A0A6J3IT34-A0A6J3IT34_SAPAP-cadherinEGFLAGseven-passG-typereceptor3isoformX2-Sapajus_apella.sigma_2.stride\n",
      "\n",
      "pymol ../all_pdbs/A0A6J3IT34.pdb\n",
      "['V' 'A' 'V' 'F' 'H' 'G' 'R' 'N']\n"
     ]
    }
   ],
   "source": [
    "identifier = gain.name.split('-')[0]\n",
    "\n",
    "out = tf.run_command(f\"find ../sigmas/sigma_2/ -name \\\"*{identifier}*stride\\\"\")\n",
    "print(\"subl\", out)\n",
    "print(\"pymol\", find_pdb(identifier, '../all_pdbs'))\n",
    "print(gain.sequence[717-gain.start:725-gain.start])"
   ]
  },
  {
   "cell_type": "markdown",
   "metadata": {},
   "source": []
  },
  {
   "cell_type": "code",
   "execution_count": null,
   "metadata": {},
   "outputs": [],
   "source": []
  },
  {
   "cell_type": "code",
   "execution_count": 5,
   "metadata": {},
   "outputs": [
    {
     "ename": "NameError",
     "evalue": "name 'split_mode' is not defined",
     "output_type": "error",
     "traceback": [
      "\u001b[0;31m---------------------------------------------------------------------------\u001b[0m",
      "\u001b[0;31mNameError\u001b[0m                                 Traceback (most recent call last)",
      "\u001b[1;32m/home/hildilab/projects/agpcr_nom/repo/stal_indexing.ipynb Cell 5\u001b[0m in \u001b[0;36m<cell line: 1>\u001b[0;34m()\u001b[0m\n\u001b[0;32m----> <a href='vscode-notebook-cell:/home/hildilab/projects/agpcr_nom/repo/stal_indexing.ipynb#W5sZmlsZQ%3D%3D?line=0'>1</a>\u001b[0m \u001b[39mprint\u001b[39m(element_intervals, element_centers, residue_labels, unindexed_elements, split_mode, sep\u001b[39m=\u001b[39m\u001b[39m\"\u001b[39m\u001b[39m\\n\u001b[39;00m\u001b[39m\"\u001b[39m)\n",
      "\u001b[0;31mNameError\u001b[0m: name 'split_mode' is not defined"
     ]
    }
   ],
   "source": [
    "print(element_intervals, element_centers, residue_labels, unindexed_elements,  sep=\"\\n\")"
   ]
  },
  {
   "cell_type": "code",
   "execution_count": null,
   "metadata": {},
   "outputs": [],
   "source": [
    "#offset information\n",
    "def find_offsets(fasta_file, accessions, sequences):\n",
    "    # searches through the accessions in the big sequence file,\n",
    "    # finds the start for the provided sequence\n",
    "    with open(fasta_file,\"r\") as fa:\n",
    "        fa_data = fa.read()\n",
    "        fasta_entries = fa_data.split(\">\")\n",
    "    seqs = []\n",
    "    headers = []\n",
    "    offsets = []\n",
    "    for seq in fasta_entries:\n",
    "        # Fallback for too short sequences\n",
    "        if len(seq) < 10: \n",
    "            continue\n",
    "        data = seq.strip().split(\"\\n\")\n",
    "        headers.append(data[0].split(\"|\")[1]) # This is only the UniProtKB Accession Number and will be matched EXACTLY\n",
    "        seqs.append(\"\".join(data[1:]))\n",
    "\n",
    "all_accessions = [gain.name.split(\"-\")[0] for gain in valid_collection.collection]\n",
    "all_sequences = [\"\".join(gain.sequence) for gain in valid_collection.collection]\n",
    "\n",
    "fasta_offsets = find_offsets(\"/home/hildilab/projects/GPS_massif/uniprot_query/agpcr_celsr.fasta\", \n",
    "                                 all_accessions, \n",
    "                                 all_sequences)"
   ]
  },
  {
   "cell_type": "code",
   "execution_count": 6,
   "metadata": {},
   "outputs": [
    {
     "ename": "NameError",
     "evalue": "name 'fasta_offsets' is not defined",
     "output_type": "error",
     "traceback": [
      "\u001b[0;31m---------------------------------------------------------------------------\u001b[0m",
      "\u001b[0;31mNameError\u001b[0m                                 Traceback (most recent call last)",
      "\u001b[1;32m/home/hildilab/projects/agpcr_nom/repo/stal_indexing.ipynb Cell 7\u001b[0m in \u001b[0;36m<cell line: 1>\u001b[0;34m()\u001b[0m\n\u001b[0;32m----> <a href='vscode-notebook-cell:/home/hildilab/projects/agpcr_nom/repo/stal_indexing.ipynb#X10sZmlsZQ%3D%3D?line=0'>1</a>\u001b[0m stal_indexing \u001b[39m=\u001b[39m StAlIndexing(valid_collection, prefix\u001b[39m=\u001b[39m\u001b[39m\"\u001b[39m\u001b[39m../test_stal_indexing/t_class\u001b[39m\u001b[39m\"\u001b[39m, pdb_dir\u001b[39m=\u001b[39m\u001b[39m'\u001b[39m\u001b[39m../all_pdbs/\u001b[39m\u001b[39m'\u001b[39m,  template_dir\u001b[39m=\u001b[39m\u001b[39m'\u001b[39m\u001b[39m../r2_template_pdbs/\u001b[39m\u001b[39m'\u001b[39m, fasta_offsets\u001b[39m=\u001b[39mfasta_offsets)\n",
      "\u001b[0;31mNameError\u001b[0m: name 'fasta_offsets' is not defined"
     ]
    }
   ],
   "source": [
    "stal_indexing = StAlIndexing(valid_collection, prefix=\"../test_stal_indexing/t_class\", pdb_dir='../all_pdbs/',  template_dir='../r2_template_pdbs/', fasta_offsets=fasta_offsets)"
   ]
  },
  {
   "cell_type": "code",
   "execution_count": null,
   "metadata": {},
   "outputs": [],
   "source": []
  }
 ],
 "metadata": {
  "kernelspec": {
   "display_name": "scipy",
   "language": "python",
   "name": "python3"
  },
  "language_info": {
   "codemirror_mode": {
    "name": "ipython",
    "version": 3
   },
   "file_extension": ".py",
   "mimetype": "text/x-python",
   "name": "python",
   "nbconvert_exporter": "python",
   "pygments_lexer": "ipython3",
   "version": "3.9.10"
  },
  "orig_nbformat": 4
 },
 "nbformat": 4,
 "nbformat_minor": 2
}
