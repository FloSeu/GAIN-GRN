{
 "cells": [
  {
   "cell_type": "code",
   "execution_count": 1,
   "metadata": {},
   "outputs": [],
   "source": [
    "# DEPENDENCIES\n",
    "import glob\n",
    "#from shutil import copyfile\n",
    "import numpy as np\n",
    "import pandas as pd\n",
    "#import logomaker\n",
    "# LOCAL IMPORTS\n",
    "#from indexing_classes import GPCRDBIndexing\n",
    "import sse_func\n",
    "import matplotlib.pyplot as plt\n",
    "import template_finder as tf\n",
    "\n",
    "def find_pdb(name, pdb_folder):\n",
    "    identifier = name.split(\"-\")[0]\n",
    "    target_pdb = glob.glob(f\"{pdb_folder}/*{identifier}*.pdb\")[0]\n",
    "    return target_pdb"
   ]
  },
  {
   "cell_type": "code",
   "execution_count": 2,
   "metadata": {},
   "outputs": [],
   "source": [
    "valid_collection = pd.read_pickle(\"../valid_collection.pkl\")"
   ]
  },
  {
   "cell_type": "code",
   "execution_count": 3,
   "metadata": {},
   "outputs": [
    {
     "name": "stdout",
     "output_type": "stream",
     "text": [
      "______________________________ \n",
      "0 A0A6A4VP58-A0A6A4VP58_AMPAM-CadherinEGFLAGseven-passG-typereceptor3-Amphibalanus_amphitrite\n",
      "[DEBUG] assign_indexing: gain_obj.start = 229\n",
      "\tgain_obj.end = 640\n",
      "\tgain_obj.subdomain_boundary = 426\n",
      "\tgain_pdb = '../all_pdbs/A0A6A4VP58.pdb'\n",
      "Looking up best template for agpcr_type = 'C3': best_a = 'C' best_b = 'E5b'\n",
      "[DEBUG] assign_indexing: Found receptor type and best corresponding templates:\n",
      "\tagpcr_type = 'C3'\n",
      "\tbest_a = 'C'\n",
      "\tbest_b = 'E5b'\n",
      "\ta_centers = {'H1': 463, 'H2': 484, 'H3': 498, 'H4': 541, 'H5': 549, 'H6': 567}\n",
      "\tb_centers = {'S1': 324, 'S2': 333, 'S3': 350, 'S4': 357, 'S5': 375, 'S6': 407, 'S7': 414, 'S8': 431, 'S9': 450, 'S10': 459, 'S11': 464, 'S12': 476, 'S13': 487}\n",
      "[DEBUG]: find_anchor_matches: file = '../test_stal_indexing/t_all_0_sda.out', parsing_dict = {454: (247, 4.0), 455: (None, None), 456: (248, 4.06), 457: (249, 3.22), 458: (250, 3.08), 459: (251, 1.58), 460: (252, 0.83), 461: (253, 2.21), 462: (254, 0.83), 463: (255, 2.04), 464: (256, 3.58), 465: (257, 3.65), 466: (None, None), 467: (None, None), 468: (258, 4.36), 469: (None, None), 470: (259, 0.94), 471: (260, 2.96), 472: (261, 2.29), 473: (262, 3.36), 474: (264, 2.05), 475: (266, 2.36), 476: (267, 2.27), 477: (268, 1.42), 478: (269, 1.06), 479: (270, 0.94), 480: (271, 1.03), 481: (272, 0.67), 482: (273, 0.87), 483: (274, 1.03), 484: (275, 0.96), 485: (276, 1.14), 486: (277, 1.62), 487: (278, 1.74), 488: (279, 1.15), 489: (280, 2.64), 490: (281, 3.78), 491: (282, 4.16), 494: (323, 5.92), 495: (327, 0.77), 496: (328, 1.4), 497: (329, 0.82), 498: (330, 0.46), 499: (331, 1.23), 500: (332, 1.3), 501: (333, 0.56), 502: (334, 0.68), 503: (335, 1.24), 504: (336, 0.87), 505: (337, 0.47), 506: (338, 0.6), 507: (339, 0.09), 508: (340, 0.21), 509: (341, 0.56), 510: (342, 0.91), 511: (343, 0.95), 512: (345, 4.71), 513: (346, 3.89), 514: (None, None), 515: (347, 2.38), 516: (348, 1.98), 517: (349, 3.0), 518: (351, 1.28), 519: (352, 2.48), 521: (355, 3.88), 522: (None, None), 523: (356, 3.57), 524: (357, 3.26), 525: (None, None), 526: (358, 2.83), 529: (361, 1.27), 530: (362, 3.64), 531: (363, 3.73), 532: (364, 2.53), 533: (365, 2.78), 534: (366, 2.44), 535: (367, 2.31), 536: (368, 3.57), 537: (369, 3.34), 538: (370, 1.84), 539: (371, 3.87), 542: (374, 3.72), 543: (375, 2.19), 544: (376, 2.32), 545: (377, 1.9), 546: (379, 0.95), 547: (380, 2.06), 548: (381, 3.07), 549: (382, 2.81), 550: (383, 1.72), 551: (384, 0.95), 552: (385, 3.55), 553: (388, 4.54), 554: (389, 4.17), 555: (400, 3.47), 556: (401, 4.09), 557: (402, 2.12), 558: (403, 2.43), 559: (404, 1.54), 560: (406, 3.15), 561: (407, 2.2), 562: (408, 1.34), 563: (409, 2.4), 564: (410, 1.92), 565: (411, 0.57), 566: (412, 1.38), 567: (413, 1.93), 568: (414, 0.65), 569: (415, 1.26), 570: (416, 2.09), 571: (417, 0.55), 572: (418, 2.21), 573: (419, 3.79), 574: (420, 3.24), 575: (421, 2.04), 576: (423, 3.03), 578: (425, 4.31), 579: (426, 5.28), 580: (None, None), 581: (None, None)}\n"
     ]
    },
    {
     "ename": "KeyError",
     "evalue": "541",
     "output_type": "error",
     "traceback": [
      "\u001b[0;31m---------------------------------------------------------------------------\u001b[0m",
      "\u001b[0;31mKeyError\u001b[0m                                  Traceback (most recent call last)",
      "\u001b[1;32m/home/hildilab/projects/agpcr_nom/repo/stal_indexing.ipynb Cell 3\u001b[0m in \u001b[0;36m<cell line: 1>\u001b[0;34m()\u001b[0m\n\u001b[1;32m      <a href='vscode-notebook-cell:/home/hildilab/projects/agpcr_nom/repo/stal_indexing.ipynb#W2sZmlsZQ%3D%3D?line=5'>6</a>\u001b[0m \u001b[39mprint\u001b[39m(\u001b[39m\"\u001b[39m\u001b[39m_\u001b[39m\u001b[39m\"\u001b[39m\u001b[39m*\u001b[39m\u001b[39m30\u001b[39m, \u001b[39mf\u001b[39m\u001b[39m\"\u001b[39m\u001b[39m\\n\u001b[39;00m\u001b[39m{\u001b[39;00mi\u001b[39m}\u001b[39;00m\u001b[39m \u001b[39m\u001b[39m{\u001b[39;00mgain\u001b[39m.\u001b[39mname\u001b[39m}\u001b[39;00m\u001b[39m\"\u001b[39m)\n\u001b[1;32m      <a href='vscode-notebook-cell:/home/hildilab/projects/agpcr_nom/repo/stal_indexing.ipynb#W2sZmlsZQ%3D%3D?line=6'>7</a>\u001b[0m \u001b[39m#for i, hel in enumerate(gain.sda_helices):\u001b[39;00m\n\u001b[1;32m      <a href='vscode-notebook-cell:/home/hildilab/projects/agpcr_nom/repo/stal_indexing.ipynb#W2sZmlsZQ%3D%3D?line=7'>8</a>\u001b[0m \u001b[39m#    print(f\"H#{i}: {hel[0]+gain.start}-{hel[1]+gain.start}\")\u001b[39;00m\n\u001b[1;32m      <a href='vscode-notebook-cell:/home/hildilab/projects/agpcr_nom/repo/stal_indexing.ipynb#W2sZmlsZQ%3D%3D?line=8'>9</a>\u001b[0m \u001b[39m#for i, hel in enumerate(gain.sdb_sheets):\u001b[39;00m\n\u001b[1;32m     <a href='vscode-notebook-cell:/home/hildilab/projects/agpcr_nom/repo/stal_indexing.ipynb#W2sZmlsZQ%3D%3D?line=9'>10</a>\u001b[0m \u001b[39m#    print(f\"S#{i}: {hel[0]+gain.start}-{hel[1]+gain.start}\")\u001b[39;00m\n\u001b[0;32m---> <a href='vscode-notebook-cell:/home/hildilab/projects/agpcr_nom/repo/stal_indexing.ipynb#W2sZmlsZQ%3D%3D?line=10'>11</a>\u001b[0m element_intervals, element_centers, residue_labels, unindexed_elements \u001b[39m=\u001b[39m tf\u001b[39m.\u001b[39;49massign_indexing(gain, \n\u001b[1;32m     <a href='vscode-notebook-cell:/home/hildilab/projects/agpcr_nom/repo/stal_indexing.ipynb#W2sZmlsZQ%3D%3D?line=11'>12</a>\u001b[0m                                                                                             file_prefix\u001b[39m=\u001b[39;49mfile_prefix, \n\u001b[1;32m     <a href='vscode-notebook-cell:/home/hildilab/projects/agpcr_nom/repo/stal_indexing.ipynb#W2sZmlsZQ%3D%3D?line=12'>13</a>\u001b[0m                                                                                             gain_pdb\u001b[39m=\u001b[39;49mfind_pdb(gain\u001b[39m.\u001b[39;49mname, \u001b[39m'\u001b[39;49m\u001b[39m../all_pdbs\u001b[39;49m\u001b[39m'\u001b[39;49m), \n\u001b[1;32m     <a href='vscode-notebook-cell:/home/hildilab/projects/agpcr_nom/repo/stal_indexing.ipynb#W2sZmlsZQ%3D%3D?line=13'>14</a>\u001b[0m                                                                                             template_dir\u001b[39m=\u001b[39;49m\u001b[39m'\u001b[39;49m\u001b[39m../r2_template_pdbs/\u001b[39;49m\u001b[39m'\u001b[39;49m, \n\u001b[1;32m     <a href='vscode-notebook-cell:/home/hildilab/projects/agpcr_nom/repo/stal_indexing.ipynb#W2sZmlsZQ%3D%3D?line=14'>15</a>\u001b[0m                                                                                             debug\u001b[39m=\u001b[39;49m\u001b[39mTrue\u001b[39;49;00m, \n\u001b[1;32m     <a href='vscode-notebook-cell:/home/hildilab/projects/agpcr_nom/repo/stal_indexing.ipynb#W2sZmlsZQ%3D%3D?line=15'>16</a>\u001b[0m                                                                                             create_pdb\u001b[39m=\u001b[39;49m\u001b[39mFalse\u001b[39;49;00m)\n",
      "File \u001b[0;32m~/projects/agpcr_nom/repo/template_finder.py:1019\u001b[0m, in \u001b[0;36massign_indexing\u001b[0;34m(gain_obj, file_prefix, gain_pdb, template_dir, debug, create_pdb)\u001b[0m\n\u001b[1;32m   1005\u001b[0m \u001b[39m# Not needed if the template chains in the template PDBs are already !A\u001b[39;00m\n\u001b[1;32m   1006\u001b[0m \u001b[39m\"\"\"    def rewrite_chains(pdb):\u001b[39;00m\n\u001b[1;32m   1007\u001b[0m \u001b[39m    with open(pdb) as p:\u001b[39;00m\n\u001b[1;32m   1008\u001b[0m \u001b[39m        data = p.read()\u001b[39;00m\n\u001b[0;32m   (...)\u001b[0m\n\u001b[1;32m   1016\u001b[0m \u001b[39m    rewrite_chains(f\"{file_prefix}_sda.pdb\")\u001b[39;00m\n\u001b[1;32m   1017\u001b[0m \u001b[39m    rewrite_chains(f\"{file_prefix}_sdb.pdb\")\"\"\"\u001b[39;00m\n\u001b[0;32m-> 1019\u001b[0m target_a_centers \u001b[39m=\u001b[39m find_anchor_matches(\u001b[39mf\u001b[39;49m\u001b[39m'\u001b[39;49m\u001b[39m{\u001b[39;49;00mfile_prefix\u001b[39m}\u001b[39;49;00m\u001b[39m_sda.out\u001b[39;49m\u001b[39m'\u001b[39;49m, a_centers, isTarget\u001b[39m=\u001b[39;49m\u001b[39mFalse\u001b[39;49;00m, debug\u001b[39m=\u001b[39;49mdebug)\n\u001b[1;32m   1020\u001b[0m target_b_centers \u001b[39m=\u001b[39m find_anchor_matches(\u001b[39mf\u001b[39m\u001b[39m'\u001b[39m\u001b[39m{\u001b[39;00mfile_prefix\u001b[39m}\u001b[39;00m\u001b[39m_sdb.out\u001b[39m\u001b[39m'\u001b[39m, b_centers, isTarget\u001b[39m=\u001b[39m\u001b[39mFalse\u001b[39;00m, debug\u001b[39m=\u001b[39mdebug)\n\u001b[1;32m   1022\u001b[0m \u001b[39mif\u001b[39;00m debug:\n",
      "File \u001b[0;32m~/projects/agpcr_nom/repo/template_finder.py:370\u001b[0m, in \u001b[0;36mfind_anchor_matches\u001b[0;34m(file, anchor_dict, isTarget, return_unmatched, debug)\u001b[0m\n\u001b[1;32m    368\u001b[0m         matched_residues[anchor_name] \u001b[39m=\u001b[39m (\u001b[39mNone\u001b[39;00m, \u001b[39mNone\u001b[39;00m)\n\u001b[1;32m    369\u001b[0m         \u001b[39mcontinue\u001b[39;00m\n\u001b[0;32m--> 370\u001b[0m     matched_residues[anchor_name] \u001b[39m=\u001b[39m parsing_dict[anchor_res]\n\u001b[1;32m    372\u001b[0m \u001b[39mreturn\u001b[39;00m matched_residues\n",
      "\u001b[0;31mKeyError\u001b[0m: 541"
     ]
    }
   ],
   "source": [
    "for i, gain in enumerate(valid_collection.collection[93:94]):\n",
    "    #if \"A0A6J3E5X4\" not in gain.name:\n",
    "    #    continue\n",
    "    #print(i)\n",
    "    file_prefix = f\"../test_stal_indexing/t_all_{i}\"\n",
    "    print(\"_\"*30, f\"\\n{i} {gain.name}\")\n",
    "    #for i, hel in enumerate(gain.sda_helices):\n",
    "    #    print(f\"H#{i}: {hel[0]+gain.start}-{hel[1]+gain.start}\")\n",
    "    #for i, hel in enumerate(gain.sdb_sheets):\n",
    "    #    print(f\"S#{i}: {hel[0]+gain.start}-{hel[1]+gain.start}\")\n",
    "    element_intervals, element_centers, residue_labels, unindexed_elements = tf.assign_indexing(gain, \n",
    "                                                                                                file_prefix=file_prefix, \n",
    "                                                                                                gain_pdb=find_pdb(gain.name, '../all_pdbs'), \n",
    "                                                                                                template_dir='../r2_template_pdbs/', \n",
    "                                                                                                debug=True, \n",
    "                                                                                                create_pdb=False)\n",
    "    #print(element_intervals, element_centers, residue_labels, unindexed_elements, sep=\"\\n\")"
   ]
  },
  {
   "cell_type": "code",
   "execution_count": null,
   "metadata": {},
   "outputs": [
    {
     "name": "stdout",
     "output_type": "stream",
     "text": [
      "../all_pdbs/A0A6A4VP58.pdb\n",
      "['E' 'Q' 'E' 'L' 'N' 'T' 'F' 'M' 'N' 'L' 'V' 'N' 'L' 'A' 'S' 'Q' 'L' 'L'\n",
      " 'E' 'N' 'K' 'H' 'H' 'N' 'K' 'W' 'K' 'G' 'I' 'E' 'L' 'Q' 'N' 'N' 'K' 'K'\n",
      " 'E' 'R' 'E' 'Q' 'K' 'I']\n"
     ]
    }
   ],
   "source": [
    "print(find_pdb(\"A0A6A4VP58\", '../all_pdbs'))\n",
    "print(gain.sequence[353-gain.start:395-gain.start])"
   ]
  },
  {
   "cell_type": "code",
   "execution_count": null,
   "metadata": {},
   "outputs": [],
   "source": []
  }
 ],
 "metadata": {
  "kernelspec": {
   "display_name": "scipy",
   "language": "python",
   "name": "python3"
  },
  "language_info": {
   "codemirror_mode": {
    "name": "ipython",
    "version": 3
   },
   "file_extension": ".py",
   "mimetype": "text/x-python",
   "name": "python",
   "nbconvert_exporter": "python",
   "pygments_lexer": "ipython3",
   "version": "3.9.10"
  },
  "orig_nbformat": 4
 },
 "nbformat": 4,
 "nbformat_minor": 2
}
