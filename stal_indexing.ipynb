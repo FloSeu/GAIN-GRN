{
 "cells": [
  {
   "cell_type": "code",
   "execution_count": null,
   "metadata": {},
   "outputs": [],
   "source": [
    "# DEPENDENCIES\n",
    "import glob\n",
    "#from shutil import copyfile\n",
    "import numpy as np\n",
    "import pandas as pd\n",
    "#import logomaker\n",
    "# LOCAL IMPORTS\n",
    "#from indexing_classes import GPCRDBIndexing\n",
    "import sse_func\n",
    "import matplotlib.pyplot as plt\n",
    "import template_finder as tf\n",
    "\n",
    "def find_pdb(name, pdb_folder):\n",
    "    identifier = name.split(\"-\")[0]\n",
    "    target_pdb = glob.glob(f\"{pdb_folder}/*{identifier}*.pdb\")[0]\n",
    "    return target_pdb"
   ]
  },
  {
   "cell_type": "code",
   "execution_count": null,
   "metadata": {},
   "outputs": [],
   "source": [
    "valid_collection = pd.read_pickle(\"../valid_collection.pkl\")"
   ]
  },
  {
   "cell_type": "code",
   "execution_count": null,
   "metadata": {},
   "outputs": [],
   "source": [
    "for i, gain in enumerate(valid_collection.collection[:10]):\n",
    "    #if \"A0A6J3E5X4\" not in gain.name:\n",
    "    #    continue\n",
    "    #print(i)\n",
    "    file_prefix = f\"../test_stal_indexing/t_all_{i}\"\n",
    "    print(\"_\"*30, f\"\\n{i} {gain.name}\")\n",
    "    #for i, hel in enumerate(gain.sda_helices):\n",
    "    #    print(f\"H#{i}: {hel[0]+gain.start}-{hel[1]+gain.start}\")\n",
    "    #for i, hel in enumerate(gain.sdb_sheets):\n",
    "    #    print(f\"S#{i}: {hel[0]+gain.start}-{hel[1]+gain.start}\")\n",
    "    element_intervals, element_centers, residue_labels, unindexed_elements, params = tf.assign_indexing(gain, \n",
    "                                                                                                file_prefix=file_prefix, \n",
    "                                                                                                gain_pdb=find_pdb(gain.name, '../all_pdbs'), \n",
    "                                                                                                template_dir='../r2_template_pdbs/', \n",
    "                                                                                                debug=False, \n",
    "                                                                                                create_pdb=False,\n",
    "                                                                                                hard_cut={\"S2\":7,\"S6\":3,\"H5\":3},\n",
    "                                                                                                patch_gps=True\n",
    "                                                                                                )\n",
    "    split_modes = {\n",
    "        0:\"No Split.\",\n",
    "        1:\"Split by coiled residue.\",\n",
    "        2:\"Split by disordered residue.\",\n",
    "        3:\"Split by Proline/Glycine\",\n",
    "        4:\"Split by hard cut.\",\n",
    "        5:\"Overwrite by anchor priority.\"\n",
    "    }\n",
    "    if params[\"split_mode\"] > 0:\n",
    "        print(params[\"split_mode\"], split_modes[params[\"split_mode\"]])\n",
    "    #print(element_intervals, element_centers, residue_labels, unindexed_elements, sep=\"\\n\")\n"
   ]
  },
  {
   "cell_type": "code",
   "execution_count": null,
   "metadata": {},
   "outputs": [],
   "source": [
    "identifier = gain.name.split('-')[0]\n",
    "\n",
    "out = tf.run_command(f\"find ../sigmas/sigma_2/ -name \\\"*{identifier}*stride\\\"\")\n",
    "print(\"subl\", out)\n",
    "print(\"pymol\", find_pdb(identifier, '../all_pdbs'))\n",
    "print(gain.sequence[717-gain.start:725-gain.start])"
   ]
  },
  {
   "cell_type": "code",
   "execution_count": null,
   "metadata": {},
   "outputs": [],
   "source": [
    "print(element_intervals, element_centers, residue_labels, unindexed_elements, split_mode, sep=\"\\n\")"
   ]
  },
  {
   "cell_type": "code",
   "execution_count": null,
   "metadata": {},
   "outputs": [],
   "source": []
  }
 ],
 "metadata": {
  "kernelspec": {
   "display_name": "scipy",
   "language": "python",
   "name": "python3"
  },
  "language_info": {
   "codemirror_mode": {
    "name": "ipython",
    "version": 3
   },
   "file_extension": ".py",
   "mimetype": "text/x-python",
   "name": "python",
   "nbconvert_exporter": "python",
   "pygments_lexer": "ipython3",
   "version": "3.9.10"
  },
  "orig_nbformat": 4
 },
 "nbformat": 4,
 "nbformat_minor": 2
}
