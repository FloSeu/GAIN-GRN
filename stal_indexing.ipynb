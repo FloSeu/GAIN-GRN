{
 "cells": [
  {
   "cell_type": "code",
   "execution_count": 1,
   "metadata": {},
   "outputs": [],
   "source": [
    "# DEPENDENCIES\n",
    "import glob\n",
    "#from shutil import copyfile\n",
    "import numpy as np\n",
    "import pandas as pd\n",
    "#import logomaker\n",
    "# LOCAL IMPORTS\n",
    "#from indexing_classes import GPCRDBIndexing\n",
    "import sse_func\n",
    "import matplotlib.pyplot as plt\n",
    "import template_finder as tf\n",
    "from indexing_classes import StAlIndexing\n",
    "def find_pdb(name, pdb_folder):\n",
    "    identifier = name.split(\"-\")[0]\n",
    "    target_pdb = glob.glob(f\"{pdb_folder}/*{identifier}*.pdb\")[0]\n",
    "    return target_pdb"
   ]
  },
  {
   "cell_type": "code",
   "execution_count": 2,
   "metadata": {},
   "outputs": [],
   "source": [
    "valid_collection = pd.read_pickle(\"../valid_collection.pkl\")"
   ]
  },
  {
   "cell_type": "code",
   "execution_count": 3,
   "metadata": {},
   "outputs": [
    {
     "name": "stdout",
     "output_type": "stream",
     "text": [
      "______________________________ \n",
      "0 A0A6J3E5X4-A0A6J3E5X4_AYTFU-LOWQUALITYPROTEIN:cadherinEGFLAGseven-passG-typereceptor2-Aythya_fuligula\n",
      "1 Split by coiled residue.\n",
      "______________________________ \n",
      "1 A0A6J3FJ26-A0A6J3FJ26_SAPAP-cadherinEGFLAGseven-passG-typereceptor2isoformX1-Sapajus_apella\n",
      "1 Split by coiled residue.\n",
      "______________________________ \n",
      "2 A0A6J3FJG3-A0A6J3FJG3_SAPAP-cadherinEGFLAGseven-passG-typereceptor2isoformX3-Sapajus_apella\n",
      "1 Split by coiled residue.\n",
      "______________________________ \n",
      "3 A0A6J3FK19-A0A6J3FK19_SAPAP-cadherinEGFLAGseven-passG-typereceptor2isoformX2-Sapajus_apella\n",
      "1 Split by coiled residue.\n",
      "______________________________ \n",
      "4 A0A6J3GH67-A0A6J3GH67_SAPAP-cadherinEGFLAGseven-passG-typereceptor1isoformX1-Sapajus_apella\n",
      "1 Split by coiled residue.\n",
      "______________________________ \n",
      "5 A0A6J3GHF3-A0A6J3GHF3_SAPAP-cadherinEGFLAGseven-passG-typereceptor1isoformX2-Sapajus_apella\n",
      "1 Split by coiled residue.\n",
      "______________________________ \n",
      "6 A0A6J3GHW0-A0A6J3GHW0_SAPAP-cadherinEGFLAGseven-passG-typereceptor1isoformX3-Sapajus_apella\n",
      "1 Split by coiled residue.\n",
      "______________________________ \n",
      "7 A0A6J3ISU9-A0A6J3ISU9_SAPAP-cadherinEGFLAGseven-passG-typereceptor3isoformX5-Sapajus_apella\n",
      "1 Split by coiled residue.\n",
      "______________________________ \n",
      "8 A0A6J3ISX3-A0A6J3ISX3_SAPAP-cadherinEGFLAGseven-passG-typereceptor3isoformX1-Sapajus_apella\n",
      "1 Split by coiled residue.\n",
      "______________________________ \n",
      "9 A0A6J3IT34-A0A6J3IT34_SAPAP-cadherinEGFLAGseven-passG-typereceptor3isoformX2-Sapajus_apella\n",
      "1 Split by coiled residue.\n"
     ]
    }
   ],
   "source": [
    "for i, gain in enumerate(valid_collection.collection[:10]):\n",
    "    #if \"A0A6J3E5X4\" not in gain.name:\n",
    "    #    continue\n",
    "    #print(i)\n",
    "    file_prefix = f\"../test_stal_indexing/t_all_{i}\"\n",
    "    print(\"_\"*30, f\"\\n{i} {gain.name}\")\n",
    "    #for i, hel in enumerate(gain.sda_helices):\n",
    "    #    print(f\"H#{i}: {hel[0]+gain.start}-{hel[1]+gain.start}\")\n",
    "    #for i, hel in enumerate(gain.sdb_sheets):\n",
    "    #    print(f\"S#{i}: {hel[0]+gain.start}-{hel[1]+gain.start}\")\n",
    "    element_intervals, element_centers, residue_labels, unindexed_elements, params = tf.assign_indexing(gain, \n",
    "                                                                                                file_prefix=file_prefix, \n",
    "                                                                                                gain_pdb=find_pdb(gain.name, '../all_pdbs'), \n",
    "                                                                                                template_dir='../r2_template_pdbs/', \n",
    "                                                                                                debug=False, \n",
    "                                                                                                create_pdb=False,\n",
    "                                                                                                hard_cut={\"S2\":7,\"S6\":3,\"H5\":3},\n",
    "                                                                                                patch_gps=True\n",
    "                                                                                                )\n",
    "    split_modes = {\n",
    "        0:\"No Split.\",\n",
    "        1:\"Split by coiled residue.\",\n",
    "        2:\"Split by disordered residue.\",\n",
    "        3:\"Split by Proline/Glycine\",\n",
    "        4:\"Split by hard cut.\",\n",
    "        5:\"Overwrite by anchor priority.\"\n",
    "    }\n",
    "    if params[\"split_mode\"] > 0:\n",
    "        print(params[\"split_mode\"], split_modes[params[\"split_mode\"]])\n",
    "    #print(element_intervals, element_centers, residue_labels, unindexed_elements, sep=\"\\n\")\n"
   ]
  },
  {
   "cell_type": "code",
   "execution_count": 4,
   "metadata": {},
   "outputs": [
    {
     "name": "stdout",
     "output_type": "stream",
     "text": [
      "subl ../sigmas/sigma_2/A0A6J3IT34-A0A6J3IT34_SAPAP-cadherinEGFLAGseven-passG-typereceptor3isoformX2-Sapajus_apella.sigma_2.stride\n",
      "\n",
      "pymol ../all_pdbs/A0A6J3IT34.pdb\n",
      "['V' 'A' 'V' 'F' 'H' 'G' 'R' 'N']\n"
     ]
    }
   ],
   "source": [
    "identifier = gain.name.split('-')[0]\n",
    "\n",
    "out = tf.run_command(f\"find ../sigmas/sigma_2/ -name \\\"*{identifier}*stride\\\"\")\n",
    "print(\"subl\", out)\n",
    "print(\"pymol\", find_pdb(identifier, '../all_pdbs'))\n",
    "print(gain.sequence[717-gain.start:725-gain.start])"
   ]
  },
  {
   "cell_type": "code",
   "execution_count": 5,
   "metadata": {},
   "outputs": [
    {
     "name": "stdout",
     "output_type": "stream",
     "text": [
      "{'H1': [452, 466], 'H2': [473, 489], 'H3': [495, 514], 'H4': [527, 540], 'H5': [542, 554], 'H6': [562, 579], 'S1': [588, 592], 'S2': [595, 602], 'S3': [611, 614], 'S4': [633, 637], 'S5': [677, 684], 'S6': [708, 710], 'S7': [714, 721], 'S8': [729, 739], 'S9': [750, 755], 'S10': [765, 767], 'S11': [771, 776], 'S12': [780, 787], 'S13': [789, 796], 'GPS': [787, 789]}\n",
      "{'H1.50': 462, 'H2.50': 483, 'H3.50': 497, 'H4.50': 540, 'H5.50': 548, 'H6.50': 570, 'S1.50': 588, 'S2.50': 597, 'S3.50': 614, 'S4.50': 634, 'S5.50': 678, 'S6.50': 708, 'S7.50': 715, 'S8.50': 735, 'S9.50': 751, 'S10.50': 766, 'S11.50': 771, 'S12.50': 783, 'S13.50': 794, 'GPS': (788, 0.61)}\n",
      "{'H1.40': 452, 'H1.41': 453, 'H1.42': 454, 'H1.43': 455, 'H1.44': 456, 'H1.45': 457, 'H1.46': 458, 'H1.47': 459, 'H1.48': 460, 'H1.49': 461, 'H1.50': 462, 'H1.51': 463, 'H1.52': 464, 'H1.53': 465, 'H1.54': 466, 'H2.40': 473, 'H2.41': 474, 'H2.42': 475, 'H2.43': 476, 'H2.44': 477, 'H2.45': 478, 'H2.46': 479, 'H2.47': 480, 'H2.48': 481, 'H2.49': 482, 'H2.50': 483, 'H2.51': 484, 'H2.52': 485, 'H2.53': 486, 'H2.54': 487, 'H2.55': 488, 'H2.56': 489, 'H3.48': 495, 'H3.49': 496, 'H3.50': 497, 'H3.51': 498, 'H3.52': 499, 'H3.53': 500, 'H3.54': 501, 'H3.55': 502, 'H3.56': 503, 'H3.57': 504, 'H3.58': 505, 'H3.59': 506, 'H3.60': 507, 'H3.61': 508, 'H3.62': 509, 'H3.63': 510, 'H3.64': 511, 'H3.65': 512, 'H3.66': 513, 'H3.67': 514, 'H4.37': 527, 'H4.38': 528, 'H4.39': 529, 'H4.40': 530, 'H4.41': 531, 'H4.42': 532, 'H4.43': 533, 'H4.44': 534, 'H4.45': 535, 'H4.46': 536, 'H4.47': 537, 'H4.48': 538, 'H4.49': 539, 'H4.50': 540, 'H5.44': 542, 'H5.45': 543, 'H5.46': 544, 'H5.47': 545, 'H5.48': 546, 'H5.49': 547, 'H5.50': 548, 'H5.51': 549, 'H5.52': 550, 'H5.53': 551, 'H5.54': 552, 'H5.55': 553, 'H5.56': 554, 'H6.42': 562, 'H6.43': 563, 'H6.44': 564, 'H6.45': 565, 'H6.46': 566, 'H6.47': 567, 'H6.48': 568, 'H6.49': 569, 'H6.50': 570, 'H6.51': 571, 'H6.52': 572, 'H6.53': 573, 'H6.54': 574, 'H6.55': 575, 'H6.56': 576, 'H6.57': 577, 'H6.58': 578, 'H6.59': 579, 'S1.50': 588, 'S1.51': 589, 'S1.52': 590, 'S1.53': 591, 'S1.54': 592, 'S2.48': 595, 'S2.49': 596, 'S2.50': 597, 'S2.51': 598, 'S2.52': 599, 'S2.53': 600, 'S2.54': 601, 'S2.55': 602, 'S3.47': 611, 'S3.48': 612, 'S3.49': 613, 'S3.50': 614, 'S4.49': 633, 'S4.50': 634, 'S4.51': 635, 'S4.52': 636, 'S4.53': 637, 'S5.49': 677, 'S5.50': 678, 'S5.51': 679, 'S5.52': 680, 'S5.53': 681, 'S5.54': 682, 'S5.55': 683, 'S5.56': 684, 'S6.50': 708, 'S6.51': 709, 'S6.52': 710, 'S7.49': 714, 'S7.50': 715, 'S7.51': 716, 'S7.52': 717, 'S7.53': 718, 'S7.54': 719, 'S7.55': 720, 'S7.56': 721, 'S8.44': 729, 'S8.45': 730, 'S8.46': 731, 'S8.47': 732, 'S8.48': 733, 'S8.49': 734, 'S8.50': 735, 'S8.51': 736, 'S8.52': 737, 'S8.53': 738, 'S8.54': 739, 'S9.49': 750, 'S9.50': 751, 'S9.51': 752, 'S9.52': 753, 'S9.53': 754, 'S9.54': 755, 'S10.49': 765, 'S10.50': 766, 'S10.51': 767, 'S11.50': 771, 'S11.51': 772, 'S11.52': 773, 'S11.53': 774, 'S11.54': 775, 'S11.55': 776, 'S12.47': 780, 'S12.48': 781, 'S12.49': 782, 'S12.50': 783, 'S12.51': 784, 'S12.52': 785, 'S12.53': 786, 'S12.54': 787, 'S13.45': 789, 'S13.46': 790, 'S13.47': 791, 'S13.48': 792, 'S13.49': 793, 'S13.50': 794, 'S13.51': 795, 'S13.52': 796, 'GPS-2': 787, 'GPS-1': 788, 'GPS+1': 789}\n",
      "[517, 622]\n",
      "{'sda_template': 'C', 'sdb_template': 'E5b', 'split_mode': 1, 'receptor': 'C3'}\n"
     ]
    }
   ],
   "source": [
    "print(element_intervals, element_centers, residue_labels, unindexed_elements, params, sep=\"\\n\")"
   ]
  },
  {
   "cell_type": "code",
   "execution_count": 6,
   "metadata": {},
   "outputs": [],
   "source": [
    "#offset information\n",
    "def find_offsets(fasta_file, accessions, sequences):\n",
    "    # searches through the accessions in the big sequence file,\n",
    "    # finds the start for the provided sequence\n",
    "    with open(fasta_file,\"r\") as fa:\n",
    "        fa_data = fa.read()\n",
    "        fasta_entries = fa_data.split(\">\")\n",
    "    seqs = []\n",
    "    headers = []\n",
    "    offsets = []\n",
    "    for seq in fasta_entries:\n",
    "        # Fallback for too short sequences\n",
    "        if len(seq) < 10: \n",
    "            continue\n",
    "        data = seq.strip().split(\"\\n\")\n",
    "        headers.append(data[0].split(\"|\")[1]) # This is only the UniProtKB Accession Number and will be matched EXACTLY\n",
    "        seqs.append(\"\".join(data[1:]))\n",
    "\n",
    "all_accessions = [gain.name.split(\"-\")[0] for gain in valid_collection.collection]\n",
    "all_sequences = [\"\".join(gain.sequence) for gain in valid_collection.collection]\n",
    "\n",
    "fasta_offsets = find_offsets(\"/home/hildilab/projects/GPS_massif/uniprot_query/agpcr_celsr.fasta\", \n",
    "                                 all_accessions, \n",
    "                                 all_sequences)"
   ]
  },
  {
   "cell_type": "code",
   "execution_count": 8,
   "metadata": {},
   "outputs": [
    {
     "ename": "TypeError",
     "evalue": "object of type 'GainCollection' has no len()",
     "output_type": "error",
     "traceback": [
      "\u001b[0;31m---------------------------------------------------------------------------\u001b[0m",
      "\u001b[0;31mTypeError\u001b[0m                                 Traceback (most recent call last)",
      "\u001b[1;32m/home/hildilab/projects/agpcr_nom/repo/stal_indexing.ipynb Cell 7\u001b[0m in \u001b[0;36m<cell line: 1>\u001b[0;34m()\u001b[0m\n\u001b[0;32m----> <a href='vscode-notebook-cell:/home/hildilab/projects/agpcr_nom/repo/stal_indexing.ipynb#W6sZmlsZQ%3D%3D?line=0'>1</a>\u001b[0m stal_indexing \u001b[39m=\u001b[39m StAlIndexing(valid_collection, \n\u001b[1;32m      <a href='vscode-notebook-cell:/home/hildilab/projects/agpcr_nom/repo/stal_indexing.ipynb#W6sZmlsZQ%3D%3D?line=1'>2</a>\u001b[0m                              prefix\u001b[39m=\u001b[39;49m\u001b[39m\"\u001b[39;49m\u001b[39m../test_stal_indexing/t_class\u001b[39;49m\u001b[39m\"\u001b[39;49m, \n\u001b[1;32m      <a href='vscode-notebook-cell:/home/hildilab/projects/agpcr_nom/repo/stal_indexing.ipynb#W6sZmlsZQ%3D%3D?line=2'>3</a>\u001b[0m                              pdb_dir\u001b[39m=\u001b[39;49m\u001b[39m'\u001b[39;49m\u001b[39m../all_pdbs/\u001b[39;49m\u001b[39m'\u001b[39;49m,  \n\u001b[1;32m      <a href='vscode-notebook-cell:/home/hildilab/projects/agpcr_nom/repo/stal_indexing.ipynb#W6sZmlsZQ%3D%3D?line=3'>4</a>\u001b[0m                              template_dir\u001b[39m=\u001b[39;49m\u001b[39m'\u001b[39;49m\u001b[39m../r2_template_pdbs/\u001b[39;49m\u001b[39m'\u001b[39;49m, \n\u001b[1;32m      <a href='vscode-notebook-cell:/home/hildilab/projects/agpcr_nom/repo/stal_indexing.ipynb#W6sZmlsZQ%3D%3D?line=4'>5</a>\u001b[0m                              fasta_offsets\u001b[39m=\u001b[39;49mfasta_offsets,\n\u001b[1;32m      <a href='vscode-notebook-cell:/home/hildilab/projects/agpcr_nom/repo/stal_indexing.ipynb#W6sZmlsZQ%3D%3D?line=5'>6</a>\u001b[0m                              n_threads\u001b[39m=\u001b[39;49m\u001b[39m6\u001b[39;49m,\n\u001b[1;32m      <a href='vscode-notebook-cell:/home/hildilab/projects/agpcr_nom/repo/stal_indexing.ipynb#W6sZmlsZQ%3D%3D?line=6'>7</a>\u001b[0m                              debug\u001b[39m=\u001b[39;49m\u001b[39mFalse\u001b[39;49;00m)\n\u001b[1;32m      <a href='vscode-notebook-cell:/home/hildilab/projects/agpcr_nom/repo/stal_indexing.ipynb#W6sZmlsZQ%3D%3D?line=8'>9</a>\u001b[0m \u001b[39m\"\"\"stal_indexing = StAlIndexing(valid_collection.collection[200:300], \u001b[39;00m\n\u001b[1;32m     <a href='vscode-notebook-cell:/home/hildilab/projects/agpcr_nom/repo/stal_indexing.ipynb#W6sZmlsZQ%3D%3D?line=9'>10</a>\u001b[0m \u001b[39m                             prefix=\"../test_stal_indexing/t_class\", \u001b[39;00m\n\u001b[1;32m     <a href='vscode-notebook-cell:/home/hildilab/projects/agpcr_nom/repo/stal_indexing.ipynb#W6sZmlsZQ%3D%3D?line=10'>11</a>\u001b[0m \u001b[39m                             pdb_dir='../all_pdbs/',  \u001b[39;00m\n\u001b[1;32m     <a href='vscode-notebook-cell:/home/hildilab/projects/agpcr_nom/repo/stal_indexing.ipynb#W6sZmlsZQ%3D%3D?line=11'>12</a>\u001b[0m \u001b[39m                             template_dir='../r2_template_pdbs/',\u001b[39;00m\n\u001b[1;32m     <a href='vscode-notebook-cell:/home/hildilab/projects/agpcr_nom/repo/stal_indexing.ipynb#W6sZmlsZQ%3D%3D?line=12'>13</a>\u001b[0m \u001b[39m                             n_threads=6,\u001b[39;00m\n\u001b[1;32m     <a href='vscode-notebook-cell:/home/hildilab/projects/agpcr_nom/repo/stal_indexing.ipynb#W6sZmlsZQ%3D%3D?line=13'>14</a>\u001b[0m \u001b[39m                             debug=False)\"\"\"\u001b[39;00m\n",
      "File \u001b[0;32m~/projects/agpcr_nom/repo/indexing_classes.py:16\u001b[0m, in \u001b[0;36mStAlIndexing.__init__\u001b[0;34m(self, list_of_gain_obj, prefix, pdb_dir, template_dir, n_threads, fasta_offsets, debug)\u001b[0m\n\u001b[1;32m     13\u001b[0m     target_pdb \u001b[39m=\u001b[39m glob\u001b[39m.\u001b[39mglob(\u001b[39mf\u001b[39m\u001b[39m\"\u001b[39m\u001b[39m{\u001b[39;00mpdb_folder\u001b[39m}\u001b[39;00m\u001b[39m/*\u001b[39m\u001b[39m{\u001b[39;00midentifier\u001b[39m}\u001b[39;00m\u001b[39m*.pdb\u001b[39m\u001b[39m\"\u001b[39m)[\u001b[39m0\u001b[39m]\n\u001b[1;32m     14\u001b[0m     \u001b[39mreturn\u001b[39;00m target_pdb\n\u001b[0;32m---> 16\u001b[0m length \u001b[39m=\u001b[39m \u001b[39mlen\u001b[39;49m(list_of_gain_obj)\n\u001b[1;32m     17\u001b[0m \u001b[39m#names = np.empty([length], dtype=object)\u001b[39;00m\n\u001b[1;32m     18\u001b[0m \u001b[39m#indexing_dirs = np.empty([length], dtype=object)\u001b[39;00m\n\u001b[1;32m     19\u001b[0m \u001b[39m#center_dirs = np.empty([length], dtype=object)\u001b[39;00m\n\u001b[1;32m     20\u001b[0m \u001b[39m#offsets = np.zeros([length], dtype=int)\u001b[39;00m\n\u001b[1;32m     21\u001b[0m total_keys \u001b[39m=\u001b[39m []\n",
      "\u001b[0;31mTypeError\u001b[0m: object of type 'GainCollection' has no len()"
     ]
    }
   ],
   "source": [
    "stal_indexing = StAlIndexing(valid_collection.collection, \n",
    "                             prefix=\"../test_stal_indexing/t_class\", \n",
    "                             pdb_dir='../all_pdbs/',  \n",
    "                             template_dir='../r2_template_pdbs/', \n",
    "                             fasta_offsets=fasta_offsets,\n",
    "                             n_threads=6,\n",
    "                             debug=False)\n",
    "\n",
    "\"\"\"stal_indexing = StAlIndexing(valid_collection.collection[200:300], \n",
    "                             prefix=\"../test_stal_indexing/t_class\", \n",
    "                             pdb_dir='../all_pdbs/',  \n",
    "                             template_dir='../r2_template_pdbs/',\n",
    "                             n_threads=6,\n",
    "                             debug=False)\"\"\"\n"
   ]
  },
  {
   "cell_type": "code",
   "execution_count": null,
   "metadata": {},
   "outputs": [],
   "source": [
    "import pickle\n",
    "with open(\"stal_indexing.pkl\",\"wb\") as save:\n",
    "    pickle.dump(stal_indexing, save)"
   ]
  },
  {
   "cell_type": "code",
   "execution_count": null,
   "metadata": {},
   "outputs": [],
   "source": []
  }
 ],
 "metadata": {
  "kernelspec": {
   "display_name": "scipy",
   "language": "python",
   "name": "python3"
  },
  "language_info": {
   "codemirror_mode": {
    "name": "ipython",
    "version": 3
   },
   "file_extension": ".py",
   "mimetype": "text/x-python",
   "name": "python",
   "nbconvert_exporter": "python",
   "pygments_lexer": "ipython3",
   "version": "3.9.10"
  },
  "orig_nbformat": 4
 },
 "nbformat": 4,
 "nbformat_minor": 2
}
