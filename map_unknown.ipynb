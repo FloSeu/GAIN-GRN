{
 "cells": [
  {
   "attachments": {},
   "cell_type": "markdown",
   "metadata": {},
   "source": [
    "This is an interactive notebook for assigning the GAIN Generic Residue Numbering Scheme to an unknown protein. Please enter the UniProtKB accession ID below."
   ]
  },
  {
   "cell_type": "code",
   "execution_count": 27,
   "metadata": {},
   "outputs": [],
   "source": [
    "import requests, os, tempfile#, json\n",
    "import nglview as nv\n",
    "# local\n",
    "import sse_func\n",
    "import matplotlib.pyplot as plt\n",
    "import numpy as np\n",
    "def retrieve_uniprot(accession:str):\n",
    "    # Replace {accession} with the actual accession number of the protein you're interested in\n",
    "\n",
    "# Make the API call to retrieve the protein information in XML format\n",
    "    #response = requests.get(f\"https://www.uniprot.org/uniprot/{accession}.xml\")\n",
    "    response = requests.get(f\"https://rest.uniprot.org/uniprotkb/search?query=accession:{accession}&format=json\")\n",
    "    # Check if the API call was successful (HTTP status code 200 means success)\n",
    "    if response.status_code == 200:\n",
    "        # Extract the protein information from the XML response\n",
    "        #protein_info = response.content.decode(\"utf-8\")\n",
    "        #print(protein_info)\n",
    "        return response.json()[\"results\"]\n",
    "    \n",
    "    print(\"Failed to retrieve protein information.\")\n",
    "    return None\n",
    "\n",
    "def extract_gain_end(uniprot_accession:str, uniprot_info:list):\n",
    "    # Takes the result of the API call (from response.json) and tries to extract the GPS record (ProSite Rule), returns the end value\n",
    "    # This might in the future be updated to include set GAIN domain boundaries, if UniProtKB has then been updated with them.\n",
    "    # Returns also the sequence until including the gps_end residue number\n",
    "    if len(uniprot_info) > 1: # If more than one match, find the correct one in via accession. More of a failsafe\n",
    "        for entry in uniprot_info:\n",
    "            if entry['primaryAccession'] == uniprot_accession:\n",
    "                target_info = entry\n",
    "    else:\n",
    "        target_info = uniprot_info[0]\n",
    "\n",
    "    # Parse the entry features and find the \"GPS domain\" (which is of course not a domain...)\n",
    "    if 'features' not in target_info.keys():\n",
    "        print(\"FEATURES entry not found in target UniProt entry. Continuing to manual GPS/GAIN boundary specification.\")\n",
    "        return None, None\n",
    "    \n",
    "    for feature in target_info[\"features\"]:\n",
    "        if \"description\" in feature.keys() and feature[\"description\"].upper() == \"GPS\":\n",
    "            end_res = feature[\"location\"][\"end\"][\"value\"]\n",
    "            print(f\"[NOTE]: Found GPS entry in the UniProtKB accession entry ending at residue {end_res}\")\n",
    "            truncated_sequence = target_info[\"sequence\"][\"value\"][:end_res] # zero_indexed!\n",
    "            return end_res, truncated_sequence\n",
    "        \n",
    "    print(\"No GPS entry found. Continuing to manual GPS/GAIN boundary specification.\")\n",
    "    return None, None\n",
    "\n",
    "def get_alphafolddb_model(uniprot_accession, tmp_dir):\n",
    "    alphafold_id = f\"AF-{uniprot_accession}-F1\"\n",
    "    database_version = \"v4\"\n",
    "    model_url = f'https://alphafold.ebi.ac.uk/files/{alphafold_id}-model_{database_version}.pdb'\n",
    "    error_url = f'https://alphafold.ebi.ac.uk/files/{alphafold_id}-predicted_aligned_error_{database_version}.json'\n",
    "\n",
    "    # This creates a PDB and a JSON file for the target protein. They need to be read.\n",
    "    os.system(f'curl {model_url} -o {tmp_dir}/{alphafold_id}.pdb')\n",
    "    os.system(f'curl {error_url} -o {tmp_dir}/{alphafold_id}.json')\n",
    "    print(f\"[NOTE] Done retrieving the model for {uniprot_accession} with the corresponding AlphaFoldDB accession {alphafold_id}.\")\n",
    "\n",
    "def truncate_pdb(pdbfile:str, start:int, end:int):\n",
    "    # truncates pdbfile at the start and end residue, including them.\n",
    "    pdblines = open(pdbfile).readlines()\n",
    "    newlines = []\n",
    "    for line in pdblines:\n",
    "        if line.startswith(\"ATOM\") and ( int(line[22:26]) < start or int(line[22:26]) > end ):\n",
    "            continue\n",
    "        if line.startswith(\"TER\"):\n",
    "            prev_info = newlines[-1]\n",
    "            new_TER_line = f\"TER   {str(int(prev_info[7:12])+1).rjust(5)}      {prev_info[17:26]}                                                      \\n\"\n",
    "            newlines.append(new_TER_line)\n",
    "            continue\n",
    "        newlines.append(line)\n",
    "\n",
    "    open(f'{pdbfile.replace(\".pdb\",\"_trunc.pdb\")}', 'w').write(\"\".join(newlines))\n",
    "    print(f\"[NOTE] Truncated PDB at residue {gps_end}.\")\n",
    "    return pdbfile.replace(\".pdb\",\"_trunc.pdb\")\n",
    "\n",
    "def truncate_stride_dict(stride_dict:dict, start:int, end:int):\n",
    "    # removes entries from the dictionary where the ssestart is behind the end or the sseend is before the start.\n",
    "    truncated_dict = {}\n",
    "    for key, list in stride_dict.items():\n",
    "        trunc_list = [tup for tup in list if (tup[0] < end and tup[1] > start)]\n",
    "        truncated_dict[key] = trunc_list\n",
    "    return truncated_dict\n"
   ]
  },
  {
   "cell_type": "code",
   "execution_count": 43,
   "metadata": {},
   "outputs": [
    {
     "name": "stdout",
     "output_type": "stream",
     "text": [
      "[NOTE]: Found GPS entry in the UniProtKB accession entry ending at residue 610\n",
      "[NOTE] Done retrieving the model for Q8CJ12 with the corresponding AlphaFoldDB accession AF-Q8CJ12-F1.\n",
      "DEBUG /home/hildilab/lib/stride/stride ../tmpxmxutdmz/AF-Q8CJ12-F1.pdb -f../tmpxmxutdmz/AF-Q8CJ12-F1.stride\n",
      "{'AlphaHelix': [(366, 380), (387, 401), (405, 409), (411, 425), (493, 499)], '310Helix': [], 'Strand': [(432, 437), (440, 446), (455, 460), (466, 468), (477, 483), (501, 507), (521, 523), (527, 532), (544, 549), (559, 566), (575, 577), (581, 587), (590, 595), (600, 606)], 'TurnIV': [(449, 452), (462, 465), (470, 473), (477, 480), (511, 514), (532, 535), (568, 571)], 'TurnI': [(380, 383), (437, 440), (448, 451), (461, 464), (474, 477), (484, 487), (486, 489), (488, 491), (510, 513), (515, 518), (518, 521), (555, 558), (566, 569), (587, 590), (607, 610), (608, 611)], 'TurnII': [(578, 581)], 'TurnVIII': [(430, 433), (507, 510), (540, 543), (550, 553)], \"TurnI'\": [(569, 572), (570, 573)], \"TurnII'\": [], 'GammaInv': [(362, 364)]}\n",
      "354 428 610\n"
     ]
    }
   ],
   "source": [
    "uniprot_accession = \"Q8CJ12\"\n",
    "\n",
    "maxres = 360 # The maximum number of residues in a model to be evaluated. Increase this if you suspect the GAIN to be larger than that.\n",
    "\n",
    "uniprot_info = retrieve_uniprot(uniprot_accession) # This is a list of dictionaries of the results\n",
    "if uniprot_info is None:\n",
    "    raise NameError(\"The provided UniProtKB accession did not yield any results. Please check your accession number.\")\n",
    "\n",
    "gps_end, gps_end_sequence = extract_gain_end(uniprot_accession, uniprot_info)\n",
    "if gps_end < maxres:\n",
    "    maxres = gps_end\n",
    "\n",
    "tmp_folder = tempfile.TemporaryDirectory(dir = '../')\n",
    "tmp_dir = tmp_folder.name\n",
    "\n",
    "get_alphafolddb_model(uniprot_accession, tmp_dir)\n",
    "pdbfile = f'{tmp_dir}/AF-{uniprot_accession}-F1.pdb'\n",
    "jsonfile = f'{tmp_dir}/AF-{uniprot_accession}-F1.json'\n",
    "\n",
    "\n",
    "truncated_sequence = gps_end_sequence[gps_end-maxres:] # matches the sequences to the PDB sequence (zero-indexed!)\n",
    "\n",
    "# Run STRIDE for evaluating the secondary structure items.\n",
    "stride_bin = '/home/hildilab/lib/stride/stride'\n",
    "os.system(f\"{stride_bin} {pdbfile} -f{tmp_dir}/AF-{uniprot_accession}-F1.stride\") # This will be a stride analysis of the WHOLE protein.\n",
    "stride_file = f\"{tmp_dir}/AF-{uniprot_accession}-F1.stride\"\n",
    "complete_sse_dict = sse_func.read_sse_loc(stride_file)\n",
    "# Cut the complete_ssse_dict down to only include entries before the detected end residue and within the maximum residue number.\n",
    "truncated_sse_dict = truncate_stride_dict(complete_sse_dict, start=gps_end-maxres, end=gps_end)\n",
    "# Find the GAIN domain start and subdomain boundary, if applicable\n",
    "gain_start, gain_subdomain_boundary = sse_func.find_boundaries(truncated_sse_dict, seq_len=gps_end, bracket_size=30, domain_threshold=15, coil_weight=0.08, truncate_N=True)\n",
    "\n"
   ]
  },
  {
   "cell_type": "code",
   "execution_count": 44,
   "metadata": {},
   "outputs": [
    {
     "name": "stdout",
     "output_type": "stream",
     "text": [
      "[NOTE] Truncated PDB at residue 610.\n",
      "../tmpxmxutdmz/AF-Q8CJ12-F1_trunc.pdb\n",
      "SKPVVPQATIISHVASDFSLAEPLDHALMTPSTPSLTQESNLPSPQPTIPLASSPATDLPVQSVVVSSLPQTDLSHTLSPVQSSIPSPTTPAPSVPTELVTISTPPGETVVNTSTVSDLEAQVSQMEKALSLGSLEPNLAGEMVNRVSKLLHSPPALLAPLAQRLLKVVDAIGLQLNFSSTTISLTSPSLALAVIRVNASNFNTTTFAAQDPTNLQVSLETPPPENSIGAITLPSSLMNNLPANDVELASRIQFNFFETPALFQDPSLENLTLISYVISSSVTNMTIKNLTRNVTVALKHINPSPDDLTVKCVFWDLGRNGGKGGWSSDGCSVKDKRMNETICTCSHLTSFGILLDLSRT\n",
      "360\n"
     ]
    },
    {
     "data": {
      "application/vnd.jupyter.widget-view+json": {
       "model_id": "5bc51d9f01a14e65993ad579bce00275",
       "version_major": 2,
       "version_minor": 0
      },
      "text/plain": [
       "NGLWidget()"
      ]
     },
     "metadata": {},
     "output_type": "display_data"
    }
   ],
   "source": [
    "#print(open(pdbfile).readlines())\n",
    "#print(json.loads(open(jsonfile, 'rb').read()))\n",
    "truncated_pdbfile = truncate_pdb(pdbfile, start=gain_start, end=gps_end) # gps_end-maxres+1 ensures that the resulting PDB has exactly $maxres resiudes\n",
    "# Now, with truncated_sequence and truncated_pdbfile, proceed with\n",
    "print(truncated_pdbfile)\n",
    "print(truncated_sequence, len(truncated_sequence), sep=\"\\n\")\n",
    "view = nv.show_file(truncated_pdbfile)\n",
    "view"
   ]
  },
  {
   "cell_type": "code",
   "execution_count": 4,
   "metadata": {},
   "outputs": [],
   "source": [
    "tmp_folder.cleanup()"
   ]
  }
 ],
 "metadata": {
  "kernelspec": {
   "display_name": "scipy",
   "language": "python",
   "name": "python3"
  },
  "language_info": {
   "codemirror_mode": {
    "name": "ipython",
    "version": 3
   },
   "file_extension": ".py",
   "mimetype": "text/x-python",
   "name": "python",
   "nbconvert_exporter": "python",
   "pygments_lexer": "ipython3",
   "version": "3.9.10"
  },
  "orig_nbformat": 4
 },
 "nbformat": 4,
 "nbformat_minor": 2
}
