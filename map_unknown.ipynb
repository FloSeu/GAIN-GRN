{
 "cells": [
  {
   "attachments": {},
   "cell_type": "markdown",
   "metadata": {},
   "source": [
    "This is an interactive notebook for assigning the GAIN Generic Residue Numbering Scheme to an unknown protein. Please enter the UniProtKB accession ID below."
   ]
  },
  {
   "cell_type": "code",
   "execution_count": 6,
   "metadata": {},
   "outputs": [],
   "source": [
    "# Inititalize modules and functions.\n",
    "import requests, os, tempfile, re, json\n",
    "import nglview as nv\n",
    "# local\n",
    "import sse_func\n",
    "from gain_classes import ExtractedGain\n",
    "import template_finder\n",
    "\n",
    "gesamt_bin = \"/home/hildilab/lib/xtal/ccp4-8.0/bin/gesamt\"\n",
    "\n",
    "def get_ca_indices(pdbfile, offset=0):\n",
    "    atoms = [l for l in open(pdbfile).readlines() if l[13:15] == \"CA\" and l.startswith(\"ATOM\")]\n",
    "    ca_indices = {int(l[22:26]):int(l[6:11])-offset for l in atoms}\n",
    "    return ca_indices\n",
    "\n",
    "def get_pdb_offset(pdbfile):\n",
    "    match = re.findall(\"ATOM\\s+\\d+\", open(pdbfile).read())\n",
    "    offset = int(match[0].split()[-1])\n",
    "    return offset\n",
    "\n",
    "def retrieve_uniprot(accession:str):\n",
    "    # Make the API call to retrieve the protein information in JSON format using the accession number as query\n",
    "    response = requests.get(f\"https://rest.uniprot.org/uniprotkb/search?query=accession:{accession}&format=json\")\n",
    "    # Check if the API call was successful (HTTP status code 200 means success)\n",
    "    if response.status_code == 200:\n",
    "        # decode via json(), only return \"results\" (no other entry anyway.)\n",
    "        return response.json()[\"results\"]\n",
    "    \n",
    "    print(\"Failed to retrieve protein information.\")\n",
    "    return None\n",
    "\n",
    "def extract_gain_end(uniprot_accession:str, uniprot_info:list):\n",
    "    # Takes the result of the API call (from response.json) and tries to extract the GPS record (ProSite Rule), returns the end value\n",
    "    # This might in the future be updated to include set GAIN domain boundaries, if UniProtKB has then been updated with them.\n",
    "    # Returns also the sequence until including the gps_end residue number\n",
    "    if len(uniprot_info) > 1: # If more than one match, find the correct one in via accession. More of a failsafe\n",
    "        for entry in uniprot_info:\n",
    "            if entry['primaryAccession'] == uniprot_accession:\n",
    "                target_info = entry\n",
    "    else:\n",
    "        target_info = uniprot_info[0]\n",
    "    try: \n",
    "        protein_name = target_info['proteinDescription']['recommendedName']['fullName']['value']\n",
    "    except: \n",
    "        protein_name='unnamed_protein'\n",
    "    # Parse the entry features and find the \"GPS domain\" (which is of course not a domain...)\n",
    "    if 'features' not in target_info.keys():\n",
    "        print(\"FEATURES entry not found in target UniProt entry. Continuing to manual GPS/GAIN boundary specification.\")\n",
    "        return None, None, protein_name\n",
    "    \n",
    "    for feature in target_info[\"features\"]:\n",
    "        if \"description\" in feature.keys() and feature[\"description\"].upper() == \"GPS\":\n",
    "            end_res = feature[\"location\"][\"end\"][\"value\"]\n",
    "            print(f\"[NOTE] Found GPS entry in the UniProtKB accession entry ending at residue {end_res}\")\n",
    "            truncated_sequence = target_info[\"sequence\"][\"value\"][:end_res] # zero_indexed!\n",
    "            return end_res, truncated_sequence, protein_name\n",
    "        \n",
    "    print(\"No GPS entry found. Continuing to manual GPS/GAIN boundary specification.\")\n",
    "    return None, None, protein_name\n",
    "\n",
    "def get_alphafolddb_model(uniprot_accession, tmp_dir):\n",
    "    alphafold_id = f\"AF-{uniprot_accession}-F1\"\n",
    "    database_version = \"v4\"\n",
    "    model_url = f'https://alphafold.ebi.ac.uk/files/{alphafold_id}-model_{database_version}.pdb'\n",
    "    error_url = f'https://alphafold.ebi.ac.uk/files/{alphafold_id}-predicted_aligned_error_{database_version}.json'\n",
    "\n",
    "    # This creates a PDB and a JSON file for the target protein. They need to be read.\n",
    "    os.system(f'curl {model_url} -o {tmp_dir}/{alphafold_id}.pdb')\n",
    "    os.system(f'curl {error_url} -o {tmp_dir}/{alphafold_id}.json')\n",
    "    print(f\"[NOTE] Done retrieving the model for {uniprot_accession} with the corresponding AlphaFoldDB accession {alphafold_id}.\")\n",
    "    \n",
    "    data = open(f'{tmp_dir}/{alphafold_id}.pdb').readlines()[0]\n",
    "    if \"Error\" in data:\n",
    "        print(data[0])\n",
    "        raise FileNotFoundError(f\"The Model is invalid. Target URL = https://alphafold.ebi.ac.uk/files/{alphafold_id}-model_{database_version}.pdb\")\n",
    "\n",
    "def truncate_pdb(pdbfile:str, start:int, end:int):\n",
    "    # truncates pdbfile at the start and end residue, including them.\n",
    "    pdblines = open(pdbfile).readlines()\n",
    "    newlines = []\n",
    "    for line in pdblines:\n",
    "        if line.startswith(\"ATOM\") and ( int(line[22:26]) < start or int(line[22:26]) > end ):\n",
    "            continue\n",
    "        if line.startswith(\"TER\"):\n",
    "            prev_info = newlines[-1]\n",
    "            new_TER_line = f\"TER   {str(int(prev_info[7:12])+1).rjust(5)}      {prev_info[17:26]}                                                      \\n\"\n",
    "            newlines.append(new_TER_line)\n",
    "            continue\n",
    "        newlines.append(line)\n",
    "\n",
    "    open(f'{pdbfile.replace(\".pdb\",\"_trunc.pdb\")}', 'w').write(\"\".join(newlines))\n",
    "    print(f\"[NOTE] Truncated PDB to residues {start }-{end}.\")\n",
    "    return pdbfile.replace(\".pdb\",\"_trunc.pdb\")\n",
    "\n",
    "def truncate_stride_dict(stride_dict:dict, start:int, end:int):\n",
    "    # removes entries from the dictionary where the ssestart is behind the end or the sseend is before the start.\n",
    "    truncated_dict = {}\n",
    "    for key, list in stride_dict.items():\n",
    "        trunc_list = [tup for tup in list if (tup[0] < end and tup[1] > start)]\n",
    "        truncated_dict[key] = trunc_list\n",
    "    return truncated_dict\n",
    "\n",
    "def get_seq(uniprot_info, uniprot_accession, c_end=None):\n",
    "    if len(uniprot_info) > 1: # If more than one match, find the correct one in via accession. More of a failsafe\n",
    "        for entry in uniprot_info:\n",
    "            if entry['primaryAccession'] == uniprot_accession:\n",
    "                target_info = entry\n",
    "    else:\n",
    "        target_info = uniprot_info[0]\n",
    "\n",
    "    if c_end is not None:\n",
    "        return target_info[\"sequence\"][\"value\"][:c_end] # zero_indexed!\n",
    "    \n",
    "    return target_info[\"sequence\"][\"value\"]"
   ]
  },
  {
   "cell_type": "code",
   "execution_count": 2,
   "metadata": {},
   "outputs": [
    {
     "name": "stdout",
     "output_type": "stream",
     "text": [
      "[NOTE] Found GPS entry in the UniProtKB accession entry ending at residue 739\n"
     ]
    },
    {
     "data": {
      "application/vnd.jupyter.widget-view+json": {
       "model_id": "63845200eed449e4926ca31369912b7b",
       "version_major": 2,
       "version_minor": 0
      },
      "text/plain": [
       "NGLWidget()"
      ]
     },
     "metadata": {},
     "output_type": "display_data"
    },
    {
     "name": "stdout",
     "output_type": "stream",
     "text": [
      "[NOTE] Done retrieving the model for A1Z7G7 with the corresponding AlphaFoldDB accession AF-A1Z7G7-F1.\n"
     ]
    }
   ],
   "source": [
    "uniprot_accession = \"A1Z7G7\"#\"H2LRU7\"#\"B3SDA6\"#\"Q8CJ12\"#\"H2LRU7\"#\"Q8CJ12\"\n",
    "\n",
    "maxres = 360 # The maximum number of residues in a model to be evaluated. Increase this if you suspect the GAIN to be larger than that.\n",
    "\n",
    "uniprot_info = retrieve_uniprot(uniprot_accession) # This is a list of dictionaries of the results\n",
    "if uniprot_info is None:\n",
    "    raise NameError(\"The provided UniProtKB accession did not yield any results. Please check your accession number.\")\n",
    "\n",
    "gps_end, gps_end_sequence, protein_name = extract_gain_end(uniprot_accession, uniprot_info)\n",
    "if gps_end is not None and gps_end < maxres:\n",
    "    maxres = gps_end\n",
    "\n",
    "tmp_folder = tempfile.TemporaryDirectory(dir = '../')\n",
    "tmp_dir = tmp_folder.name\n",
    "json.dump(uniprot_info, open(f'{tmp_dir}/uniprotkb_{uniprot_accession}.json', 'w'))\n",
    "\n",
    "get_alphafolddb_model(uniprot_accession, tmp_dir)\n",
    "pdbfile = f'{tmp_dir}/AF-{uniprot_accession}-F1.pdb'\n",
    "jsonfile = f'{tmp_dir}/AF-{uniprot_accession}-F1.json'\n",
    "\n",
    "# Routine for manual determination of gps_end\n",
    "view = nv.show_file(pdbfile)\n",
    "view\n"
   ]
  },
  {
   "attachments": {},
   "cell_type": "markdown",
   "metadata": {},
   "source": [
    "Display the Information about this GAIN domain in NGLviewer: Subdomain A is represented as blue, Subdomain B as orange. The respective boundaries are labeled."
   ]
  },
  {
   "cell_type": "code",
   "execution_count": 3,
   "metadata": {},
   "outputs": [
    {
     "name": "stdout",
     "output_type": "stream",
     "text": [
      "Modified STRIDE file ../tmp_2nrt4i2/AF-A1Z7G7-F1.stride into ../tmp_2nrt4i2/AF-A1Z7G7-F1.outliers.stride to include outliers and the last column items[10] col 77-80 (1-indexed)\n",
      "[NOTE] Overwriting initial gain_start = 423 with 420.\n",
      "[NOTE] Truncated PDB to residues 420-739.\n"
     ]
    }
   ],
   "source": [
    "if gps_end is None:\n",
    "    print(\"You need to manually set the C-terminal GAIN domain boundary. Please look into the structure and find the residue matching the GAIN domain end. You can likely find it by looking directly N-terminal of the seven-transmembrane domain, if present.\")\n",
    "    gps_end = int(input(\"Manually set the C-terminal GAIN end: \"))\n",
    "    print(\"Set gps_end to\", gps_end)\n",
    "    gps_end_sequence = get_seq(uniprot_info, uniprot_accession, c_end=gps_end)\n",
    "    \n",
    "truncated_sequence = gps_end_sequence[gps_end-maxres:] # matches the sequences to the PDB sequence (zero-indexed!)\n",
    "\n",
    "# Run STRIDE for evaluating the secondary structure items.\n",
    "stride_bin = '/home/hildilab/lib/stride/stride'\n",
    "os.system(f\"{stride_bin} {pdbfile} -f{tmp_dir}/AF-{uniprot_accession}-F1.stride\") # This will be a stride analysis of the WHOLE protein.\n",
    "raw_stride_file = f\"{tmp_dir}/AF-{uniprot_accession}-F1.stride\"\n",
    "stride_file = f\"{tmp_dir}/AF-{uniprot_accession}-F1.outliers.stride\"\n",
    "sse_func.detect_outliers(raw_stride_file, stride_file, sigmas=2)\n",
    "complete_sse_dict = sse_func.read_sse_loc(stride_file)\n",
    "\n",
    "# Cut the complete_ssse_dict down to only include entries before the detected end residue and within the maximum residue number.\n",
    "truncated_sse_dict = truncate_stride_dict(complete_sse_dict, start=gps_end-maxres, end=gps_end)\n",
    "\n",
    "# Find the GAIN domain start and subdomain boundary, if applicable\n",
    "gain_start, gain_subdomain_boundary = sse_func.find_boundaries(truncated_sse_dict, seq_len=gps_end, bracket_size=30, domain_threshold=15, coil_weight=0.08, truncate_N=3)\n",
    "truncated_pdbfile = truncate_pdb(pdbfile, start=gain_start, end=gps_end) # gps_end-maxres+1 ensures that the resulting PDB has exactly $maxres resiudes\n",
    "gain_sequence = gps_end_sequence[gain_start-gps_end-1:]"
   ]
  },
  {
   "cell_type": "code",
   "execution_count": 4,
   "metadata": {},
   "outputs": [
    {
     "data": {
      "application/vnd.jupyter.widget-view+json": {
       "model_id": "3386a8ad26ed46afa412cef40ad545e9",
       "version_major": 2,
       "version_minor": 0
      },
      "text/plain": [
       "NGLWidget()"
      ]
     },
     "metadata": {},
     "output_type": "display_data"
    }
   ],
   "source": [
    "# Highlight Subdomain A, Subdomain B and the Boundary between them.\n",
    "view = nv.show_file(truncated_pdbfile)\n",
    "view.clear()\n",
    "c = {gain_subdomain_boundary:\"red\",gain_start:\"blue\",gps_end:\"orange\"}\n",
    "for o in [gain_subdomain_boundary, gain_start, gps_end]:\n",
    "    view.add_representation(repr_type=\"label\", name =\"label\", showBackground =True, labelType=\"res\", color=c[o],\n",
    "                     sele = f\"{o} and .CA\", xOffset = 0.5 , zOffset =5, fixedSize=True )\n",
    "    view.add_hyperball(selection=f\"{o}\", color=c[o])\n",
    "view.add_cartoon(selection=f'{gain_subdomain_boundary}-{gps_end}', color='orange')\n",
    "view.add_cartoon(selection=f'{gain_start}-{gain_subdomain_boundary}', color='blue')\n",
    "view"
   ]
  },
  {
   "attachments": {},
   "cell_type": "markdown",
   "metadata": {},
   "source": [
    "With the detected boundaries of GAIN subdomains, proceed to map them onto the available templates.\n",
    "Find the best fitting templates for each subdomain and align, creating a residue Numbering."
   ]
  },
  {
   "cell_type": "code",
   "execution_count": 8,
   "metadata": {},
   "outputs": [
    {
     "name": "stdout",
     "output_type": "stream",
     "text": [
      "Modified STRIDE file ../tmp_2nrt4i2/AF-A1Z7G7-F1.outliers.stride into ../tmp_2nrt4i2/AF-A1Z7G7-F1.outliers.outliers.stride to include outliers and the last column items[10] col 77-80 (1-indexed)\n",
      "[NOTE] Creating instance of GainDomain: A1Z7G7_Latrophilin-Cirl\n",
      "NOTE: Written A1Z7G7_Latrophilin-Cirl to fasta in ../tmp_2nrt4i2/A1Z7G7_Latrophilin-Cirl.fa.\n",
      "The RMSD values of Subdomain Matches are:\n",
      "\tSDA: 1.012 A\n",
      "\tSDB: 1.869 A\n"
     ]
    }
   ],
   "source": [
    "# Firste, rewrite the STRIDE file for Outlier detection:\n",
    "mod_stride_file = stride_file.replace(\".stride\",\".outliers.stride\")\n",
    "sse_func.detect_outliers(stride_file, mod_stride_file, sigmas=2)\n",
    "\n",
    "print(f'[NOTE] Creating instance of GainDomain: {uniprot_accession}_{protein_name.replace(\" \",\"-\")}')\n",
    "target_gain = ExtractedGain(\n",
    "                start=gain_start, \n",
    "                subdomain_boundary=gain_subdomain_boundary, \n",
    "                end=gps_end,\n",
    "                name=f'{uniprot_accession}_{protein_name.replace(\" \",\"-\")}',\n",
    "                sequence=gain_sequence,\n",
    "                stride_file=mod_stride_file,\n",
    "                is_truncated=True,\n",
    "                stride_outlier_mode=True,\n",
    "                debug=False)\n",
    "dir(target_gain)\n",
    "sse_func.write2fasta(sequence=target_gain.sequence, name=target_gain.name, filename=f\"{tmp_dir}/{target_gain.name}.fa\")\n",
    "element_intervals, element_centers, residue_labels, unindexed_elements, params = template_finder.assign_indexing(\n",
    "                                gain_obj=target_gain,\n",
    "                                file_prefix=f\"{tmp_dir}/indexing\",\n",
    "                                gain_pdb=truncated_pdbfile,\n",
    "                                template_dir='../r2_template_pdbs/',\n",
    "                                template_json='template_data.json',\n",
    "                                gesamt_bin=gesamt_bin,\n",
    "                                debug=False,\n",
    "                                create_pdb=True,\n",
    "                                hard_cut={\"S2\":7,\"S6\":3,\"H5\":3},\n",
    "                                patch_gps=True\n",
    "                                )\n",
    "\n",
    "    \n",
    "rmsds = {sd:float(re.search(r\"RMSD\\W+\\:\\W+[0-9]+\\.[0-9]+\",open(f\"{tmp_dir}/indexing_{sd}.out\").read()).group(0).split()[-1]) for sd in [\"sda\",\"sdb\"]}\n",
    "#print(rmsds)\n",
    "print(f\"The RMSD values of Subdomain Matches are:\\n\\tSDA: {round(rmsds['sda'], 3)} A\\n\\tSDB: {round(rmsds['sdb'], 3)} A\")\n",
    "if rmsds[\"sdb\"] > 2.0: print(\"WARNING: The Matching RMSD is very high. This GAIN domain is likely not a good fit, if a GAIN domain at all. Please check your protein further.\")\n",
    "#print(element_intervals, element_centers, residue_labels, unindexed_elements, params)\n",
    "res2label = {v:k for k,v in residue_labels.items() if v is not None}"
   ]
  },
  {
   "cell_type": "code",
   "execution_count": 10,
   "metadata": {},
   "outputs": [
    {
     "data": {
      "application/vnd.jupyter.widget-view+json": {
       "model_id": "187becc3fe2d4c24bddaf70cdeca5497",
       "version_major": 2,
       "version_minor": 0
      },
      "text/plain": [
       "NGLWidget()"
      ]
     },
     "metadata": {},
     "output_type": "display_data"
    }
   ],
   "source": [
    "# Map the indexing onto the structure\n",
    "view = nv.show_file(truncated_pdbfile)\n",
    "view.clear()\n",
    "\n",
    "ca_indices = get_ca_indices(truncated_pdbfile, offset=get_pdb_offset(truncated_pdbfile))\n",
    "label_dict = {ca_indices[res]:label for label, res in residue_labels.items() if res is not None}\n",
    "\n",
    "mysel = \",\".join([str(k) for k in label_dict.keys()])\n",
    "\n",
    "view.add_representation(repr_type=\"label\", name =\"label\", showBackground =True, labelType=\"text\", color='black', \n",
    "                        labelText=label_dict,\n",
    "                        sele = f'@{mysel}', xOffset = 0.5 , zOffset =5, fixedSize=False )\n",
    "\n",
    "view.add_cartoon(selection=f'{gain_subdomain_boundary}-{gps_end}', color='orange')\n",
    "view.add_cartoon(selection=f'{gain_start}-{gain_subdomain_boundary}', color='blue')\n",
    "\n",
    "view\n"
   ]
  },
  {
   "cell_type": "code",
   "execution_count": 11,
   "metadata": {},
   "outputs": [
    {
     "name": "stdout",
     "output_type": "stream",
     "text": [
      "Written residue labels to PDB file CA entries : ../tmp_2nrt4i2/AF-A1Z7G7-F1_grn.pdb\n",
      "Written residue labels to PDB file CA entries : ../tmp_2nrt4i2/AF-A1Z7G7-F1_trunc_grn.pdb\n"
     ]
    }
   ],
   "source": [
    "def label2b(pdbfile, outfile, res2label, clear_b=False):\n",
    "    data = open(pdbfile).readlines()\n",
    "    newdata = []\n",
    "    for l in data:\n",
    "        if not l.startswith(\"ATOM\"):\n",
    "            newdata.append(l)\n",
    "            continue\n",
    "        if not l[13:15] == \"CA\" or int(l[22:26]) not in res2label.keys():\n",
    "            #print(l[13:14], int(l[22:26]))\n",
    "            if clear_b:\n",
    "                k = l[:60]+\"      \"+l[67:]\n",
    "            newdata.append(k)\n",
    "            continue\n",
    "        k = l[:60]+res2label[int(l[22:26])].rjust(6)+l[67:]\n",
    "        newdata.append(k)\n",
    "    open(outfile, 'w').write(\"\".join(newdata))\n",
    "    print(f\"Written residue labels to PDB file CA entries : {outfile}\")\n",
    "\n",
    "label2b(pdbfile=pdbfile, outfile=pdbfile.replace(\".pdb\",\"_grn.pdb\"),res2label=res2label, clear_b=True)\n",
    "label2b(pdbfile=truncated_pdbfile, outfile=truncated_pdbfile.replace(\".pdb\",\"_grn.pdb\"), res2label=res2label, clear_b=True)"
   ]
  },
  {
   "cell_type": "code",
   "execution_count": 12,
   "metadata": {},
   "outputs": [
    {
     "name": "stdout",
     "output_type": "stream",
     "text": [
      "{422: 'H1.42', 423: 'H1.43', 424: 'H1.44', 425: 'H1.45', 426: 'H1.46', 427: 'H1.47', 428: 'H1.48', 429: 'H1.49', 430: 'H1.50', 431: 'H1.51', 432: 'H1.52', 438: 'H2.43', 439: 'H2.44', 440: 'H2.45', 441: 'H2.46', 442: 'H2.47', 443: 'H2.48', 444: 'H2.49', 445: 'H2.50', 446: 'H2.51', 447: 'H2.52', 448: 'H2.53', 449: 'H2.54', 456: 'H3.48', 457: 'H3.49', 458: 'H3.50', 459: 'H3.51', 460: 'H3.52', 461: 'H3.53', 462: 'H3.54', 463: 'H3.55', 464: 'H3.56', 465: 'H3.57', 466: 'H3.58', 467: 'H3.59', 468: 'H3.60', 469: 'H3.61', 470: 'H3.62', 471: 'H3.63', 472: 'H3.64', 473: 'H3.65', 474: 'H3.66', 475: 'H3.67', 476: 'H3.68', 483: 'H4.35', 484: 'H4.36', 485: 'H4.37', 486: 'H4.38', 487: 'H4.39', 488: 'H4.40', 489: 'H4.41', 490: 'H4.42', 491: 'H4.43', 492: 'H4.44', 493: 'H4.45', 494: 'H4.46', 495: 'H4.47', 496: 'H4.48', 497: 'H4.49', 498: 'H4.50', 499: 'H4.51', 500: 'H4.52', 501: 'H4.53', 502: 'H4.54', 503: 'H4.55', 504: 'H4.56', 507: 'H5.44', 508: 'H5.45', 509: 'H5.46', 510: 'H5.47', 511: 'H5.48', 512: 'H5.49', 513: 'H5.50', 514: 'H5.51', 515: 'H5.52', 518: 'H6.35', 519: 'H6.36', 520: 'H6.37', 521: 'H6.38', 522: 'H6.39', 523: 'H6.40', 524: 'H6.41', 525: 'H6.42', 526: 'H6.43', 527: 'H6.44', 528: 'H6.45', 529: 'H6.46', 530: 'H6.47', 531: 'H6.48', 532: 'H6.49', 533: 'H6.50', 534: 'H6.51', 535: 'H6.52', 536: 'H6.53', 537: 'H6.54', 538: 'H6.55', 539: 'H6.56', 540: 'H6.57', 541: 'H6.58', 542: 'H6.59', 547: 'S1.48', 548: 'S1.49', 549: 'S1.50', 550: 'S1.51', 551: 'S1.52', 552: 'S1.53', 553: 'S1.54', 556: 'S2.48', 557: 'S2.49', 558: 'S2.50', 559: 'S2.51', 560: 'S2.52', 561: 'S2.53', 562: 'S2.54', 563: 'S2.55', 564: 'S2.56', 572: 'S3.48', 573: 'S3.49', 574: 'S3.50', 586: 'S5.47', 587: 'S5.48', 588: 'S5.49', 589: 'S5.50', 602: 'S6.42', 603: 'S6.43', 604: 'S6.44', 605: 'S6.45', 606: 'S6.46', 607: 'S6.47', 608: 'S6.48', 609: 'S6.49', 610: 'S6.50', 672: 'S9.44', 673: 'S9.45', 674: 'S9.46', 675: 'S9.47', 676: 'S9.48', 677: 'S9.49', 678: 'S9.50', 679: 'S9.51', 680: 'S9.52', 681: 'S9.53', 682: 'S9.54', 683: 'S9.55', 690: 'S10.42', 691: 'S10.43', 692: 'S10.44', 693: 'S10.45', 694: 'S10.46', 695: 'S10.47', 696: 'S10.48', 697: 'S10.49', 698: 'S10.50', 699: 'S10.51', 704: 'S11.49', 705: 'S11.50', 706: 'S11.51', 710: 'S12.50', 711: 'S12.51', 712: 'S12.52', 713: 'S12.53', 714: 'S12.54', 715: 'S12.55', 716: 'S12.56', 719: 'S13.45', 720: 'S13.46', 721: 'S13.47', 722: 'S13.48', 723: 'S13.49', 724: 'S13.50', 725: 'S13.51', 726: 'GPS-2', 727: 'GPS-1', 729: 'S14.46', 730: 'S14.47', 731: 'S14.48', 732: 'S14.49', 733: 'S14.50', 734: 'S14.51', 735: 'S14.52', 736: 'S14.53', 737: 'S14.54', 728: 'GPS+1'}\n"
     ]
    }
   ],
   "source": [
    "#tmp_folder.cleanup()\n",
    "print(res2label)"
   ]
  },
  {
   "cell_type": "code",
   "execution_count": null,
   "metadata": {},
   "outputs": [],
   "source": []
  }
 ],
 "metadata": {
  "kernelspec": {
   "display_name": "scipy",
   "language": "python",
   "name": "python3"
  },
  "language_info": {
   "codemirror_mode": {
    "name": "ipython",
    "version": 3
   },
   "file_extension": ".py",
   "mimetype": "text/x-python",
   "name": "python",
   "nbconvert_exporter": "python",
   "pygments_lexer": "ipython3",
   "version": "3.9.10"
  },
  "orig_nbformat": 4
 },
 "nbformat": 4,
 "nbformat_minor": 2
}
