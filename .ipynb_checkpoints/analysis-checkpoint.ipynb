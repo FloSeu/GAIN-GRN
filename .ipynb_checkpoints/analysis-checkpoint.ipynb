{
 "cells": [
  {
   "cell_type": "code",
   "execution_count": 1,
   "metadata": {},
   "outputs": [],
   "source": [
    "# build a database from a dataset for nomenclating\n",
    "# INPUT: a collection of GAIN domain PDBs, their sequences as one large \".fa\" file\n",
    "from gain_classes import GainDomain, GainCollection, Anchors, GPS\n",
    "import sse_func\n",
    "import execute\n",
    "import numpy as np\n",
    "import glob\n",
    "#import multiprocessing as mp\n",
    "#from subprocess import Popen, PIPE\n",
    "from tqdm import tqdm\n",
    "from matplotlib import pyplot as plt\n",
    "from shutil import copyfile\n",
    "import math"
   ]
  },
  {
   "cell_type": "code",
   "execution_count": 2,
   "metadata": {},
   "outputs": [],
   "source": [
    "def filter_by_receptor(sequences, selection):\n",
    "    new_list = []\n",
    "    for seq_tup in sequences:\n",
    "        if selection in seq_tup[0]:\n",
    "            new_list.append(seq_tup)\n",
    "    return new_list\n",
    "\n",
    "def filter_by_list(sequences, selection): # selection list\n",
    "    new_list = []\n",
    "    for seq_tup in sequences:\n",
    "        for it in selection:\n",
    "            if it in seq_tup[0]:\n",
    "                new_list.append(seq_tup)\n",
    "    return new_list"
   ]
  },
  {
   "cell_type": "code",
   "execution_count": 3,
   "metadata": {},
   "outputs": [
    {
     "name": "stdout",
     "output_type": "stream",
     "text": [
      "14435\n"
     ]
    }
   ],
   "source": [
    "valid_seqs = sse_func.read_multi_seq(\"/home/hildilab/projects/agpcr_nom/app_gain_gain.fa\")\n",
    "print(len(valid_seqs))\n",
    "#quality_file = \"/home/hildilab/projects/agpcr_nom/app_gain_gain.mafft.jal\"\n",
    "quality_file = \"/home/hildilab/projects/agpcr_nom/app_gain_gain_mafft.16.jal\"\n",
    "#alignment_file = \"/home/hildilab/projects/agpcr_nom/app_gain_gain.mafft.fa\"\n",
    "alignment_file = \"/home/hildilab/projects/agpcr_nom/app_gain_gain_mafft.16.fa\"\n",
    "#stride_folder = \"/home/hildilab/projects/agpcr_nom/all_gps_stride\"\n",
    "#stride_files = glob.glob(\"/home/hildilab/projects/agpcr_nom/all_gps_stride/*\")\n",
    "stride_files = glob.glob(\"/home/hildilab/projects/agpcr_nom/sigmas/sigma_2/*\")\n",
    "# This only contains the sigma files for truncated (?) PDBs.\n",
    "quality = sse_func.read_quality(quality_file)\n",
    "#gps_minus_one = 6781 # -1 of the ACTUAL COLUMN (6782) in JALVIEW since there is is ONE-INDEXED\n",
    "gps_minus_one = 6607\n",
    "aln_cutoff = 6645 # 6826 \n",
    "\n",
    "alignment_dict = sse_func.read_alignment(alignment_file, aln_cutoff)"
   ]
  },
  {
   "cell_type": "code",
   "execution_count": 4,
   "metadata": {},
   "outputs": [
    {
     "name": "stdout",
     "output_type": "stream",
     "text": [
      "[NOTE] GainCollection.__init__: Found sequences object.\n"
     ]
    },
    {
     "name": "stderr",
     "output_type": "stream",
     "text": [
      "  1%|█▏                                                                                                                                                                | 107/14435 [00:00<02:06, 113.25it/s]"
     ]
    },
    {
     "name": "stdout",
     "output_type": "stream",
     "text": [
      "[WARNING] sse_func.find_boundaries : There are still secondary-structure associated residues within the Subdomain connecting loop. Please check if this is within limits:\n",
      "scored_seq[helix_end+1:sheet_start] = array([0, 0, 0, 0, 0, 1, 0, 0, 0])\n"
     ]
    },
    {
     "name": "stderr",
     "output_type": "stream",
     "text": [
      "  3%|████▍                                                                                                                                                             | 392/14435 [00:03<02:06, 110.89it/s]"
     ]
    },
    {
     "name": "stdout",
     "output_type": "stream",
     "text": [
      "[WARNING] sse_func.find_boundaries : There are still secondary-structure associated residues within the Subdomain connecting loop. Please check if this is within limits:\n",
      "scored_seq[helix_end+1:sheet_start] = array([0, 0, 0, 0, 0, 0, 0, 1, 0, 0, 0, 0, 0, 0, 0, 0, 0, 0, 0, 0, 0, 0,\n",
      "       0, 0, 0, 0, 0, 0, 0, 0, 0, 0])\n"
     ]
    },
    {
     "name": "stderr",
     "output_type": "stream",
     "text": [
      "  3%|█████▏                                                                                                                                                            | 464/14435 [00:04<02:04, 112.21it/s]"
     ]
    },
    {
     "name": "stdout",
     "output_type": "stream",
     "text": [
      "[WARNING] sse_func.find_boundaries : There are still secondary-structure associated residues within the Subdomain connecting loop. Please check if this is within limits:\n",
      "scored_seq[helix_end+1:sheet_start] = array([0, 0, 0, 0, 0, 0, 0, 1, 0, 0, 0, 0, 0, 0, 0, 0, 0, 0, 0, 0, 0])\n"
     ]
    },
    {
     "name": "stderr",
     "output_type": "stream",
     "text": [
      "  6%|█████████▉                                                                                                                                                        | 886/14435 [00:07<01:56, 116.71it/s]"
     ]
    },
    {
     "name": "stdout",
     "output_type": "stream",
     "text": [
      "[WARNING] sse_func.find_boundaries : There are still secondary-structure associated residues within the Subdomain connecting loop. Please check if this is within limits:\n",
      "scored_seq[helix_end+1:sheet_start] = array([0, 1, 0, 0, 0, 0, 0, 0, 0, 0, 0])\n",
      "[WARNING] sse_func.find_boundaries : There are still secondary-structure associated residues within the Subdomain connecting loop. Please check if this is within limits:\n",
      "scored_seq[helix_end+1:sheet_start] = array([0, 1, 0, 0, 0, 0, 0, 0, 0, 0, 0])\n",
      "[WARNING] sse_func.find_boundaries : There are still secondary-structure associated residues within the Subdomain connecting loop. Please check if this is within limits:\n",
      "scored_seq[helix_end+1:sheet_start] = array([0, 1, 0, 0, 0, 0, 0, 0, 0, 0, 0])\n",
      "[WARNING] sse_func.find_boundaries : There are still secondary-structure associated residues within the Subdomain connecting loop. Please check if this is within limits:\n",
      "scored_seq[helix_end+1:sheet_start] = array([0, 1, 0, 0, 0, 0, 0, 0, 0, 0, 0])\n",
      "[WARNING] sse_func.find_boundaries : There are still secondary-structure associated residues within the Subdomain connecting loop. Please check if this is within limits:\n",
      "scored_seq[helix_end+1:sheet_start] = array([0, 1, 0, 0, 0, 0, 0, 0, 0, 0, 0])\n",
      "[WARNING] sse_func.find_boundaries : There are still secondary-structure associated residues within the Subdomain connecting loop. Please check if this is within limits:\n",
      "scored_seq[helix_end+1:sheet_start] = array([0, 1, 0, 0, 0, 0, 0, 0, 0, 0, 0])\n",
      "[WARNING] sse_func.find_boundaries : There are still secondary-structure associated residues within the Subdomain connecting loop. Please check if this is within limits:\n",
      "scored_seq[helix_end+1:sheet_start] = array([0, 1, 0, 0, 0, 0, 0, 0, 0, 0, 0])\n",
      "[WARNING] sse_func.find_boundaries : There are still secondary-structure associated residues within the Subdomain connecting loop. Please check if this is within limits:\n",
      "scored_seq[helix_end+1:sheet_start] = array([0, 1, 0, 0, 0, 0, 0, 0, 0, 0, 0])\n",
      "[WARNING] sse_func.find_boundaries : There are still secondary-structure associated residues within the Subdomain connecting loop. Please check if this is within limits:\n",
      "scored_seq[helix_end+1:sheet_start] = array([0, 1, 0, 0, 0, 0, 0, 0, 0, 0, 0])\n",
      "[WARNING] sse_func.find_boundaries : There are still secondary-structure associated residues within the Subdomain connecting loop. Please check if this is within limits:\n",
      "scored_seq[helix_end+1:sheet_start] = array([0, 1, 0, 0, 0, 0, 0, 0, 0, 0, 0])\n"
     ]
    },
    {
     "name": "stderr",
     "output_type": "stream",
     "text": [
      "  9%|██████████████                                                                                                                                                   | 1261/14435 [00:11<01:55, 113.94it/s]"
     ]
    },
    {
     "name": "stdout",
     "output_type": "stream",
     "text": [
      "[WARNING] sse_func.find_boundaries : There are still secondary-structure associated residues within the Subdomain connecting loop. Please check if this is within limits:\n",
      "scored_seq[helix_end+1:sheet_start] = array([0, 1, 0, 0, 0, 0, 0, 0, 0, 0, 0])\n"
     ]
    },
    {
     "name": "stderr",
     "output_type": "stream",
     "text": [
      "  9%|██████████████▍                                                                                                                                                  | 1296/14435 [00:11<02:04, 105.53it/s]"
     ]
    },
    {
     "name": "stdout",
     "output_type": "stream",
     "text": [
      "[WARNING] sse_func.find_boundaries : There are still secondary-structure associated residues within the Subdomain connecting loop. Please check if this is within limits:\n",
      "scored_seq[helix_end+1:sheet_start] = array([0, 1, 0, 0, 0, 0, 0])\n"
     ]
    },
    {
     "name": "stderr",
     "output_type": "stream",
     "text": [
      "  9%|██████████████▋                                                                                                                                                  | 1318/14435 [00:11<02:07, 103.15it/s]"
     ]
    },
    {
     "name": "stdout",
     "output_type": "stream",
     "text": [
      "[WARNING] sse_func.find_boundaries : There are still secondary-structure associated residues within the Subdomain connecting loop. Please check if this is within limits:\n",
      "scored_seq[helix_end+1:sheet_start] = array([0, 1, 0, 0, 0, 0, 0])\n",
      "[WARNING] sse_func.find_boundaries : There are still secondary-structure associated residues within the Subdomain connecting loop. Please check if this is within limits:\n",
      "scored_seq[helix_end+1:sheet_start] = array([0, 1, 0, 0, 0, 0, 0])\n"
     ]
    },
    {
     "name": "stderr",
     "output_type": "stream",
     "text": [
      " 10%|███████████████▋                                                                                                                                                 | 1402/14435 [00:12<01:51, 116.78it/s]"
     ]
    },
    {
     "name": "stdout",
     "output_type": "stream",
     "text": [
      "[WARNING] sse_func.find_boundaries : There are still secondary-structure associated residues within the Subdomain connecting loop. Please check if this is within limits:\n",
      "scored_seq[helix_end+1:sheet_start] = array([0, 1, 0, 0, 0, 0, 0, 0, 0, 0, 0])\n",
      "[WARNING] sse_func.find_boundaries : There are still secondary-structure associated residues within the Subdomain connecting loop. Please check if this is within limits:\n",
      "scored_seq[helix_end+1:sheet_start] = array([0, 1, 0, 0, 0, 0, 0, 0, 0, 0, 0])\n",
      "[WARNING] sse_func.find_boundaries : There are still secondary-structure associated residues within the Subdomain connecting loop. Please check if this is within limits:\n",
      "scored_seq[helix_end+1:sheet_start] = array([0, 1, 0, 0, 0, 0, 0, 0, 0, 0, 0])\n",
      "[WARNING] sse_func.find_boundaries : There are still secondary-structure associated residues within the Subdomain connecting loop. Please check if this is within limits:\n",
      "scored_seq[helix_end+1:sheet_start] = array([0, 1, 0, 0, 0, 0, 0, 0, 0, 0, 0])\n",
      "[WARNING] sse_func.find_boundaries : There are still secondary-structure associated residues within the Subdomain connecting loop. Please check if this is within limits:\n",
      "scored_seq[helix_end+1:sheet_start] = array([0, 1, 0, 0, 0, 0, 0, 0, 0, 0, 0])\n",
      "[WARNING] sse_func.find_boundaries : There are still secondary-structure associated residues within the Subdomain connecting loop. Please check if this is within limits:\n",
      "scored_seq[helix_end+1:sheet_start] = array([0, 1, 0, 0, 0, 0, 0, 0, 0, 0, 0])\n",
      "[WARNING] sse_func.find_boundaries : There are still secondary-structure associated residues within the Subdomain connecting loop. Please check if this is within limits:\n",
      "scored_seq[helix_end+1:sheet_start] = array([0, 1, 0, 0, 0, 0, 0, 0, 0, 0, 0])\n",
      "[WARNING] sse_func.find_boundaries : There are still secondary-structure associated residues within the Subdomain connecting loop. Please check if this is within limits:\n",
      "scored_seq[helix_end+1:sheet_start] = array([0, 1, 0, 0, 0, 0, 0, 0, 0, 0, 0])\n",
      "[WARNING] sse_func.find_boundaries : There are still secondary-structure associated residues within the Subdomain connecting loop. Please check if this is within limits:\n",
      "scored_seq[helix_end+1:sheet_start] = array([0, 1, 0, 0, 0, 0, 0, 0, 0, 0, 0])\n",
      "[WARNING] sse_func.find_boundaries : There are still secondary-structure associated residues within the Subdomain connecting loop. Please check if this is within limits:\n",
      "scored_seq[helix_end+1:sheet_start] = array([0, 1, 0, 0, 0, 0, 0, 0, 0, 0, 0])\n"
     ]
    },
    {
     "name": "stderr",
     "output_type": "stream",
     "text": [
      " 12%|███████████████████▊                                                                                                                                             | 1771/14435 [00:15<01:54, 110.99it/s]"
     ]
    },
    {
     "name": "stdout",
     "output_type": "stream",
     "text": [
      "[WARNING] sse_func.find_boundaries : There are still secondary-structure associated residues within the Subdomain connecting loop. Please check if this is within limits:\n",
      "scored_seq[helix_end+1:sheet_start] = array([0, 1, 0, 0, 0, 0, 0])\n"
     ]
    },
    {
     "name": "stderr",
     "output_type": "stream",
     "text": [
      " 13%|████████████████████▎                                                                                                                                            | 1819/14435 [00:16<01:53, 110.98it/s]"
     ]
    },
    {
     "name": "stdout",
     "output_type": "stream",
     "text": [
      "[WARNING] sse_func.find_boundaries : There are still secondary-structure associated residues within the Subdomain connecting loop. Please check if this is within limits:\n",
      "scored_seq[helix_end+1:sheet_start] = array([0, 1, 0, 0, 0, 0, 0])\n"
     ]
    },
    {
     "name": "stderr",
     "output_type": "stream",
     "text": [
      " 13%|█████████████████████▏                                                                                                                                           | 1904/14435 [00:17<01:55, 108.89it/s]"
     ]
    },
    {
     "name": "stdout",
     "output_type": "stream",
     "text": [
      "[WARNING] sse_func.find_boundaries : There are still secondary-structure associated residues within the Subdomain connecting loop. Please check if this is within limits:\n",
      "scored_seq[helix_end+1:sheet_start] = array([0, 1, 0, 0, 0, 0, 0, 0, 0, 0, 0])\n"
     ]
    },
    {
     "name": "stderr",
     "output_type": "stream",
     "text": [
      " 14%|██████████████████████                                                                                                                                           | 1973/14435 [00:17<01:50, 112.69it/s]"
     ]
    },
    {
     "name": "stdout",
     "output_type": "stream",
     "text": [
      "[WARNING] sse_func.find_boundaries : There are still secondary-structure associated residues within the Subdomain connecting loop. Please check if this is within limits:\n",
      "scored_seq[helix_end+1:sheet_start] = array([0, 1, 0, 0, 0, 0, 0])\n",
      "[WARNING] sse_func.find_boundaries : There are still secondary-structure associated residues within the Subdomain connecting loop. Please check if this is within limits:\n",
      "scored_seq[helix_end+1:sheet_start] = array([0, 1, 0, 0, 0, 0, 0])\n"
     ]
    },
    {
     "name": "stderr",
     "output_type": "stream",
     "text": [
      " 14%|██████████████████████▌                                                                                                                                          | 2022/14435 [00:18<01:48, 114.31it/s]"
     ]
    },
    {
     "name": "stdout",
     "output_type": "stream",
     "text": [
      "[WARNING] sse_func.find_boundaries : There are still secondary-structure associated residues within the Subdomain connecting loop. Please check if this is within limits:\n",
      "scored_seq[helix_end+1:sheet_start] = array([0, 1, 0, 0, 0, 0, 0])\n"
     ]
    },
    {
     "name": "stderr",
     "output_type": "stream",
     "text": [
      " 15%|███████████████████████▎                                                                                                                                         | 2094/14435 [00:18<01:51, 110.55it/s]"
     ]
    },
    {
     "name": "stdout",
     "output_type": "stream",
     "text": [
      "[WARNING] sse_func.find_boundaries : There are still secondary-structure associated residues within the Subdomain connecting loop. Please check if this is within limits:\n",
      "scored_seq[helix_end+1:sheet_start] = array([0, 1, 0, 0, 0, 0, 0])\n",
      "[WARNING] sse_func.find_boundaries : There are still secondary-structure associated residues within the Subdomain connecting loop. Please check if this is within limits:\n",
      "scored_seq[helix_end+1:sheet_start] = array([0, 1, 0, 0, 0, 0, 0])\n"
     ]
    },
    {
     "name": "stderr",
     "output_type": "stream",
     "text": [
      " 16%|█████████████████████████▌                                                                                                                                       | 2294/14435 [00:20<01:44, 115.74it/s]"
     ]
    },
    {
     "name": "stdout",
     "output_type": "stream",
     "text": [
      "[WARNING] sse_func.find_boundaries : There are still secondary-structure associated residues within the Subdomain connecting loop. Please check if this is within limits:\n",
      "scored_seq[helix_end+1:sheet_start] = array([0, 1, 0, 0, 0, 0, 0])\n"
     ]
    },
    {
     "name": "stderr",
     "output_type": "stream",
     "text": [
      " 16%|██████████████████████████                                                                                                                                       | 2342/14435 [00:20<01:54, 105.88it/s]"
     ]
    },
    {
     "name": "stdout",
     "output_type": "stream",
     "text": [
      "[WARNING] sse_func.find_boundaries : There are still secondary-structure associated residues within the Subdomain connecting loop. Please check if this is within limits:\n",
      "scored_seq[helix_end+1:sheet_start] = array([0, 1, 0, 0, 0, 0, 0])\n",
      "[WARNING] sse_func.find_boundaries : There are still secondary-structure associated residues within the Subdomain connecting loop. Please check if this is within limits:\n",
      "scored_seq[helix_end+1:sheet_start] = array([0, 1, 0, 0, 0, 0, 0])\n"
     ]
    },
    {
     "name": "stderr",
     "output_type": "stream",
     "text": [
      " 17%|███████████████████████████▉                                                                                                                                     | 2507/14435 [00:22<01:55, 103.72it/s]"
     ]
    },
    {
     "name": "stdout",
     "output_type": "stream",
     "text": [
      "[WARNING] sse_func.find_boundaries : There are still secondary-structure associated residues within the Subdomain connecting loop. Please check if this is within limits:\n",
      "scored_seq[helix_end+1:sheet_start] = array([0, 1, 0, 0, 0, 0, 0])\n",
      "[WARNING] sse_func.find_boundaries : There are still secondary-structure associated residues within the Subdomain connecting loop. Please check if this is within limits:\n",
      "scored_seq[helix_end+1:sheet_start] = array([0, 1, 0, 0, 0, 0, 0])\n"
     ]
    },
    {
     "name": "stderr",
     "output_type": "stream",
     "text": [
      " 18%|████████████████████████████▉                                                                                                                                    | 2590/14435 [00:23<01:48, 109.16it/s]"
     ]
    },
    {
     "name": "stdout",
     "output_type": "stream",
     "text": [
      "[WARNING] sse_func.find_boundaries : There are still secondary-structure associated residues within the Subdomain connecting loop. Please check if this is within limits:\n",
      "scored_seq[helix_end+1:sheet_start] = array([0, 1, 0, 0, 0, 0, 0])\n",
      "[WARNING] sse_func.find_boundaries : There are still secondary-structure associated residues within the Subdomain connecting loop. Please check if this is within limits:\n",
      "scored_seq[helix_end+1:sheet_start] = array([0, 1, 0, 0, 0, 0, 0, 0, 0, 0, 0])\n",
      "[WARNING] sse_func.find_boundaries : There are still secondary-structure associated residues within the Subdomain connecting loop. Please check if this is within limits:\n",
      "scored_seq[helix_end+1:sheet_start] = array([0, 1, 0, 0, 0, 0, 0])\n"
     ]
    },
    {
     "name": "stderr",
     "output_type": "stream",
     "text": [
      " 19%|██████████████████████████████                                                                                                                                   | 2695/14435 [00:24<01:44, 112.82it/s]"
     ]
    },
    {
     "name": "stdout",
     "output_type": "stream",
     "text": [
      "[WARNING] sse_func.find_boundaries : There are still secondary-structure associated residues within the Subdomain connecting loop. Please check if this is within limits:\n",
      "scored_seq[helix_end+1:sheet_start] = array([0, 1, 0, 0, 0, 0, 0])\n",
      "[WARNING] sse_func.find_boundaries : There are still secondary-structure associated residues within the Subdomain connecting loop. Please check if this is within limits:\n",
      "scored_seq[helix_end+1:sheet_start] = array([0, 1, 0, 0, 0, 0, 0, 0, 0, 0, 0])\n"
     ]
    },
    {
     "name": "stderr",
     "output_type": "stream",
     "text": [
      " 19%|██████████████████████████████▎                                                                                                                                  | 2719/14435 [00:24<01:50, 106.50it/s]"
     ]
    },
    {
     "name": "stdout",
     "output_type": "stream",
     "text": [
      "[WARNING] sse_func.find_boundaries : There are still secondary-structure associated residues within the Subdomain connecting loop. Please check if this is within limits:\n",
      "scored_seq[helix_end+1:sheet_start] = array([0, 1, 0, 0, 0, 0, 0, 0, 0, 0, 0])\n",
      "[WARNING] sse_func.find_boundaries : There are still secondary-structure associated residues within the Subdomain connecting loop. Please check if this is within limits:\n",
      "scored_seq[helix_end+1:sheet_start] = array([0, 1, 0, 0, 0, 0, 0])\n",
      "[WARNING] sse_func.find_boundaries : There are still secondary-structure associated residues within the Subdomain connecting loop. Please check if this is within limits:\n",
      "scored_seq[helix_end+1:sheet_start] = array([0, 1, 0, 0, 0, 0, 0])\n",
      "[WARNING] sse_func.find_boundaries : There are still secondary-structure associated residues within the Subdomain connecting loop. Please check if this is within limits:\n",
      "scored_seq[helix_end+1:sheet_start] = array([0, 1, 0, 0, 0, 0, 0])\n"
     ]
    },
    {
     "name": "stderr",
     "output_type": "stream",
     "text": [
      " 19%|███████████████████████████████▏                                                                                                                                 | 2791/14435 [00:25<01:40, 115.98it/s]"
     ]
    },
    {
     "name": "stdout",
     "output_type": "stream",
     "text": [
      "[WARNING] sse_func.find_boundaries : There are still secondary-structure associated residues within the Subdomain connecting loop. Please check if this is within limits:\n",
      "scored_seq[helix_end+1:sheet_start] = array([0, 1, 0, 0, 0, 0, 0])\n",
      "[WARNING] sse_func.find_boundaries : There are still secondary-structure associated residues within the Subdomain connecting loop. Please check if this is within limits:\n",
      "scored_seq[helix_end+1:sheet_start] = array([0, 1, 0, 0, 0, 0, 0, 0, 0, 0, 0])\n",
      "[WARNING] sse_func.find_boundaries : There are still secondary-structure associated residues within the Subdomain connecting loop. Please check if this is within limits:\n",
      "scored_seq[helix_end+1:sheet_start] = array([0, 1, 0, 0, 0, 0, 0, 0, 0, 0, 0])\n",
      "[WARNING] sse_func.find_boundaries : There are still secondary-structure associated residues within the Subdomain connecting loop. Please check if this is within limits:\n",
      "scored_seq[helix_end+1:sheet_start] = array([0, 1, 0, 0, 0, 0, 0, 0, 0, 0, 0])\n",
      "[WARNING] sse_func.find_boundaries : There are still secondary-structure associated residues within the Subdomain connecting loop. Please check if this is within limits:\n",
      "scored_seq[helix_end+1:sheet_start] = array([0, 1, 0, 0, 0, 0, 0, 0, 0, 0, 0])\n",
      "[WARNING] sse_func.find_boundaries : There are still secondary-structure associated residues within the Subdomain connecting loop. Please check if this is within limits:\n",
      "scored_seq[helix_end+1:sheet_start] = array([0, 1, 0, 0, 0, 0, 0, 0, 0, 0, 0])\n",
      "[WARNING] sse_func.find_boundaries : There are still secondary-structure associated residues within the Subdomain connecting loop. Please check if this is within limits:\n",
      "scored_seq[helix_end+1:sheet_start] = array([0, 1, 0, 0, 0, 0, 0, 0, 0, 0, 0])\n",
      "[WARNING] sse_func.find_boundaries : There are still secondary-structure associated residues within the Subdomain connecting loop. Please check if this is within limits:\n",
      "scored_seq[helix_end+1:sheet_start] = array([0, 1, 0, 0, 0, 0, 0, 0, 0, 0, 0])\n",
      "[WARNING] sse_func.find_boundaries : There are still secondary-structure associated residues within the Subdomain connecting loop. Please check if this is within limits:\n",
      "scored_seq[helix_end+1:sheet_start] = array([0, 1, 0, 0, 0, 0, 0, 0, 0, 0, 0])\n",
      "[WARNING] sse_func.find_boundaries : There are still secondary-structure associated residues within the Subdomain connecting loop. Please check if this is within limits:\n",
      "scored_seq[helix_end+1:sheet_start] = array([0, 1, 0, 0, 0, 0, 0, 0, 0, 0, 0])\n",
      "[WARNING] sse_func.find_boundaries : There are still secondary-structure associated residues within the Subdomain connecting loop. Please check if this is within limits:\n",
      "scored_seq[helix_end+1:sheet_start] = array([0, 1, 0, 0, 0, 0, 0, 0, 0, 0, 0])\n",
      "[WARNING] sse_func.find_boundaries : There are still secondary-structure associated residues within the Subdomain connecting loop. Please check if this is within limits:\n",
      "scored_seq[helix_end+1:sheet_start] = array([0, 1, 0, 0, 0, 0, 0, 0, 0, 0, 0])\n",
      "[WARNING] sse_func.find_boundaries : There are still secondary-structure associated residues within the Subdomain connecting loop. Please check if this is within limits:\n",
      "scored_seq[helix_end+1:sheet_start] = array([0, 1, 0, 0, 0, 0, 0, 0, 0, 0, 0])\n"
     ]
    },
    {
     "name": "stderr",
     "output_type": "stream",
     "text": [
      " 20%|███████████████████████████████▉                                                                                                                                 | 2864/14435 [00:25<01:41, 114.08it/s]"
     ]
    },
    {
     "name": "stdout",
     "output_type": "stream",
     "text": [
      "[WARNING] sse_func.find_boundaries : There are still secondary-structure associated residues within the Subdomain connecting loop. Please check if this is within limits:\n",
      "scored_seq[helix_end+1:sheet_start] = array([0, 1, 0, 0, 0, 0, 0])\n",
      "[WARNING] sse_func.find_boundaries : There are still secondary-structure associated residues within the Subdomain connecting loop. Please check if this is within limits:\n",
      "scored_seq[helix_end+1:sheet_start] = array([0, 1, 0, 0, 0, 0, 0])\n",
      "[WARNING] sse_func.find_boundaries : There are still secondary-structure associated residues within the Subdomain connecting loop. Please check if this is within limits:\n",
      "scored_seq[helix_end+1:sheet_start] = array([0, 1, 0, 0, 0, 0, 0, 0, 0, 0, 0])\n",
      "[WARNING] sse_func.find_boundaries : There are still secondary-structure associated residues within the Subdomain connecting loop. Please check if this is within limits:\n",
      "scored_seq[helix_end+1:sheet_start] = array([0, 1, 0, 0, 0, 0, 0, 0, 0, 0, 0])\n",
      "[WARNING] sse_func.find_boundaries : There are still secondary-structure associated residues within the Subdomain connecting loop. Please check if this is within limits:\n",
      "scored_seq[helix_end+1:sheet_start] = array([0, 1, 0, 0, 0, 0, 0, 0, 0, 0, 0])\n",
      "[WARNING] sse_func.find_boundaries : There are still secondary-structure associated residues within the Subdomain connecting loop. Please check if this is within limits:\n",
      "scored_seq[helix_end+1:sheet_start] = array([0, 1, 0, 0, 0, 0, 0, 0, 0, 0, 0])\n",
      "[WARNING] sse_func.find_boundaries : There are still secondary-structure associated residues within the Subdomain connecting loop. Please check if this is within limits:\n",
      "scored_seq[helix_end+1:sheet_start] = array([0, 1, 0, 0, 0, 0, 0, 0, 0, 0, 0])\n",
      "[WARNING] sse_func.find_boundaries : There are still secondary-structure associated residues within the Subdomain connecting loop. Please check if this is within limits:\n",
      "scored_seq[helix_end+1:sheet_start] = array([0, 1, 0, 0, 0, 0, 0, 0, 0, 0, 0])\n",
      "[WARNING] sse_func.find_boundaries : There are still secondary-structure associated residues within the Subdomain connecting loop. Please check if this is within limits:\n",
      "scored_seq[helix_end+1:sheet_start] = array([0, 1, 0, 0, 0, 0, 0, 0, 0, 0, 0])\n",
      "[WARNING] sse_func.find_boundaries : There are still secondary-structure associated residues within the Subdomain connecting loop. Please check if this is within limits:\n",
      "scored_seq[helix_end+1:sheet_start] = array([0, 1, 0, 0, 0, 0, 0, 0, 0, 0, 0])\n",
      "[WARNING] sse_func.find_boundaries : There are still secondary-structure associated residues within the Subdomain connecting loop. Please check if this is within limits:\n",
      "scored_seq[helix_end+1:sheet_start] = array([0, 1, 0, 0, 0, 0, 0, 0, 0, 0, 0])\n",
      "[WARNING] sse_func.find_boundaries : There are still secondary-structure associated residues within the Subdomain connecting loop. Please check if this is within limits:\n",
      "scored_seq[helix_end+1:sheet_start] = array([0, 1, 0, 0, 0, 0, 0, 0, 0, 0, 0])\n",
      "[WARNING] sse_func.find_boundaries : There are still secondary-structure associated residues within the Subdomain connecting loop. Please check if this is within limits:\n",
      "scored_seq[helix_end+1:sheet_start] = array([0, 1, 0, 0, 0, 0, 0, 0, 0, 0, 0])\n"
     ]
    },
    {
     "name": "stderr",
     "output_type": "stream",
     "text": [
      " 20%|████████████████████████████████▏                                                                                                                                | 2890/14435 [00:25<01:35, 120.32it/s]"
     ]
    },
    {
     "name": "stdout",
     "output_type": "stream",
     "text": [
      "[WARNING] sse_func.find_boundaries : There are still secondary-structure associated residues within the Subdomain connecting loop. Please check if this is within limits:\n",
      "scored_seq[helix_end+1:sheet_start] = array([0, 1, 0, 0, 0, 0, 0, 0, 0, 0, 0])\n",
      "[WARNING] sse_func.find_boundaries : There are still secondary-structure associated residues within the Subdomain connecting loop. Please check if this is within limits:\n",
      "scored_seq[helix_end+1:sheet_start] = array([0, 1, 0, 0, 0, 0, 0, 0, 0, 0, 0])\n",
      "[WARNING] sse_func.find_boundaries : There are still secondary-structure associated residues within the Subdomain connecting loop. Please check if this is within limits:\n",
      "scored_seq[helix_end+1:sheet_start] = array([0, 1, 0, 0, 0, 0, 0, 0, 0, 0, 0])\n",
      "[WARNING] sse_func.find_boundaries : There are still secondary-structure associated residues within the Subdomain connecting loop. Please check if this is within limits:\n",
      "scored_seq[helix_end+1:sheet_start] = array([0, 1, 0, 0, 0, 0, 0, 0, 0, 0, 0])\n",
      "[WARNING] sse_func.find_boundaries : There are still secondary-structure associated residues within the Subdomain connecting loop. Please check if this is within limits:\n",
      "scored_seq[helix_end+1:sheet_start] = array([0, 1, 0, 0, 0, 0, 0, 0, 0, 0, 0])\n",
      "[WARNING] sse_func.find_boundaries : There are still secondary-structure associated residues within the Subdomain connecting loop. Please check if this is within limits:\n",
      "scored_seq[helix_end+1:sheet_start] = array([0, 1, 0, 0, 0, 0, 0, 0, 0, 0, 0])\n",
      "[WARNING] sse_func.find_boundaries : There are still secondary-structure associated residues within the Subdomain connecting loop. Please check if this is within limits:\n",
      "scored_seq[helix_end+1:sheet_start] = array([0, 1, 0, 0, 0, 0, 0, 0, 0, 0, 0])\n",
      "[WARNING] sse_func.find_boundaries : There are still secondary-structure associated residues within the Subdomain connecting loop. Please check if this is within limits:\n",
      "scored_seq[helix_end+1:sheet_start] = array([0, 1, 0, 0, 0, 0, 0, 0, 0, 0, 0])\n",
      "[WARNING] sse_func.find_boundaries : There are still secondary-structure associated residues within the Subdomain connecting loop. Please check if this is within limits:\n",
      "scored_seq[helix_end+1:sheet_start] = array([0, 1, 0, 0, 0, 0, 0, 0, 0, 0, 0])\n",
      "[WARNING] sse_func.find_boundaries : There are still secondary-structure associated residues within the Subdomain connecting loop. Please check if this is within limits:\n",
      "scored_seq[helix_end+1:sheet_start] = array([0, 1, 0, 0, 0, 0, 0, 0, 0, 0, 0])\n",
      "[WARNING] sse_func.find_boundaries : There are still secondary-structure associated residues within the Subdomain connecting loop. Please check if this is within limits:\n",
      "scored_seq[helix_end+1:sheet_start] = array([0, 1, 0, 0, 0, 0, 0, 0, 0, 0, 0])\n",
      "[WARNING] sse_func.find_boundaries : There are still secondary-structure associated residues within the Subdomain connecting loop. Please check if this is within limits:\n",
      "scored_seq[helix_end+1:sheet_start] = array([0, 1, 0, 0, 0, 0, 0, 0, 0, 0, 0])\n"
     ]
    },
    {
     "name": "stderr",
     "output_type": "stream",
     "text": [
      " 21%|█████████████████████████████████▋                                                                                                                               | 3025/14435 [00:27<01:40, 113.23it/s]"
     ]
    },
    {
     "name": "stdout",
     "output_type": "stream",
     "text": [
      "[WARNING] sse_func.find_boundaries : There are still secondary-structure associated residues within the Subdomain connecting loop. Please check if this is within limits:\n",
      "scored_seq[helix_end+1:sheet_start] = array([0, 1, 0, 0, 0, 0, 0])\n"
     ]
    },
    {
     "name": "stderr",
     "output_type": "stream",
     "text": [
      " 22%|██████████████████████████████████▉                                                                                                                              | 3134/14435 [00:28<01:39, 113.31it/s]"
     ]
    },
    {
     "name": "stdout",
     "output_type": "stream",
     "text": [
      "[WARNING] sse_func.find_boundaries : There are still secondary-structure associated residues within the Subdomain connecting loop. Please check if this is within limits:\n",
      "scored_seq[helix_end+1:sheet_start] = array([0, 1, 0, 0, 0, 0, 0])\n",
      "[WARNING] sse_func.find_boundaries : There are still secondary-structure associated residues within the Subdomain connecting loop. Please check if this is within limits:\n",
      "scored_seq[helix_end+1:sheet_start] = array([0, 1, 0, 0, 0, 0, 0, 0, 0, 0, 0])\n"
     ]
    },
    {
     "name": "stderr",
     "output_type": "stream",
     "text": [
      " 22%|████████████████████████████████████▏                                                                                                                            | 3244/14435 [00:29<01:35, 117.45it/s]"
     ]
    },
    {
     "name": "stdout",
     "output_type": "stream",
     "text": [
      "[WARNING] sse_func.find_boundaries : There are still secondary-structure associated residues within the Subdomain connecting loop. Please check if this is within limits:\n",
      "scored_seq[helix_end+1:sheet_start] = array([0, 1, 0, 0, 0, 0, 0, 0, 0, 0, 0])\n",
      "[WARNING] sse_func.find_boundaries : There are still secondary-structure associated residues within the Subdomain connecting loop. Please check if this is within limits:\n",
      "scored_seq[helix_end+1:sheet_start] = array([0, 1, 0, 0, 0, 0, 0, 0, 0, 0, 0])\n",
      "[WARNING] sse_func.find_boundaries : There are still secondary-structure associated residues within the Subdomain connecting loop. Please check if this is within limits:\n",
      "scored_seq[helix_end+1:sheet_start] = array([0, 1, 0, 0, 0, 0, 0, 0, 0, 0, 0])\n",
      "[WARNING] sse_func.find_boundaries : There are still secondary-structure associated residues within the Subdomain connecting loop. Please check if this is within limits:\n",
      "scored_seq[helix_end+1:sheet_start] = array([0, 1, 0, 0, 0, 0, 0, 0, 0, 0, 0])\n",
      "[WARNING] sse_func.find_boundaries : There are still secondary-structure associated residues within the Subdomain connecting loop. Please check if this is within limits:\n",
      "scored_seq[helix_end+1:sheet_start] = array([0, 1, 0, 0, 0, 0, 0, 0, 0, 0, 0])\n",
      "[WARNING] sse_func.find_boundaries : There are still secondary-structure associated residues within the Subdomain connecting loop. Please check if this is within limits:\n",
      "scored_seq[helix_end+1:sheet_start] = array([0, 1, 0, 0, 0, 0, 0, 0, 0, 0, 0])\n",
      "[WARNING] sse_func.find_boundaries : There are still secondary-structure associated residues within the Subdomain connecting loop. Please check if this is within limits:\n",
      "scored_seq[helix_end+1:sheet_start] = array([0, 1, 0, 0, 0, 0, 0, 0, 0, 0, 0])\n",
      "[WARNING] sse_func.find_boundaries : There are still secondary-structure associated residues within the Subdomain connecting loop. Please check if this is within limits:\n",
      "scored_seq[helix_end+1:sheet_start] = array([0, 1, 0, 0, 0, 0, 0, 0, 0, 0, 0])\n",
      "[WARNING] sse_func.find_boundaries : There are still secondary-structure associated residues within the Subdomain connecting loop. Please check if this is within limits:\n",
      "scored_seq[helix_end+1:sheet_start] = array([0, 1, 0, 0, 0, 0, 0, 0, 0, 0, 0])\n",
      "[WARNING] sse_func.find_boundaries : There are still secondary-structure associated residues within the Subdomain connecting loop. Please check if this is within limits:\n",
      "scored_seq[helix_end+1:sheet_start] = array([0, 1, 0, 0, 0, 0, 0, 0, 0, 0, 0])\n",
      "[WARNING] sse_func.find_boundaries : There are still secondary-structure associated residues within the Subdomain connecting loop. Please check if this is within limits:\n",
      "scored_seq[helix_end+1:sheet_start] = array([0, 1, 0, 0, 0, 0, 0, 0, 0, 0, 0])\n"
     ]
    },
    {
     "name": "stderr",
     "output_type": "stream",
     "text": [
      " 23%|█████████████████████████████████████▌                                                                                                                           | 3372/14435 [00:30<01:33, 118.95it/s]"
     ]
    },
    {
     "name": "stdout",
     "output_type": "stream",
     "text": [
      "[WARNING] sse_func.find_boundaries : There are still secondary-structure associated residues within the Subdomain connecting loop. Please check if this is within limits:\n",
      "scored_seq[helix_end+1:sheet_start] = array([0, 0, 1, 0, 0, 0, 0, 0, 0])\n"
     ]
    },
    {
     "name": "stderr",
     "output_type": "stream",
     "text": [
      " 24%|██████████████████████████████████████▍                                                                                                                          | 3446/14435 [00:30<01:34, 116.42it/s]"
     ]
    },
    {
     "name": "stdout",
     "output_type": "stream",
     "text": [
      "[WARNING] sse_func.find_boundaries : There are still secondary-structure associated residues within the Subdomain connecting loop. Please check if this is within limits:\n",
      "scored_seq[helix_end+1:sheet_start] = array([0, 1, 0, 0, 0, 0, 0, 0, 0, 0, 0])\n"
     ]
    },
    {
     "name": "stderr",
     "output_type": "stream",
     "text": [
      " 25%|███████████████████████████████████████▌                                                                                                                         | 3546/14435 [00:31<01:33, 116.51it/s]"
     ]
    },
    {
     "name": "stdout",
     "output_type": "stream",
     "text": [
      "[WARNING] sse_func.find_boundaries : There are still secondary-structure associated residues within the Subdomain connecting loop. Please check if this is within limits:\n",
      "scored_seq[helix_end+1:sheet_start] = array([0, 1, 0, 0, 0, 0, 0])\n",
      "[WARNING] sse_func.find_boundaries : There are still secondary-structure associated residues within the Subdomain connecting loop. Please check if this is within limits:\n",
      "scored_seq[helix_end+1:sheet_start] = array([0, 1, 0, 0, 0, 0, 0, 0, 0, 0, 0])\n",
      "[WARNING] sse_func.find_boundaries : There are still secondary-structure associated residues within the Subdomain connecting loop. Please check if this is within limits:\n",
      "scored_seq[helix_end+1:sheet_start] = array([0, 1, 0, 0, 0, 0, 0, 0, 0, 0, 0])\n",
      "[WARNING] sse_func.find_boundaries : There are still secondary-structure associated residues within the Subdomain connecting loop. Please check if this is within limits:\n",
      "scored_seq[helix_end+1:sheet_start] = array([0, 1, 0, 0, 0, 0, 0, 0, 0, 0, 0])\n",
      "[WARNING] sse_func.find_boundaries : There are still secondary-structure associated residues within the Subdomain connecting loop. Please check if this is within limits:\n",
      "scored_seq[helix_end+1:sheet_start] = array([0, 1, 0, 0, 0, 0, 0, 0, 0, 0, 0])\n"
     ]
    },
    {
     "name": "stderr",
     "output_type": "stream",
     "text": [
      " 25%|████████████████████████████████████████                                                                                                                         | 3592/14435 [00:32<01:40, 107.40it/s]"
     ]
    },
    {
     "name": "stdout",
     "output_type": "stream",
     "text": [
      "[WARNING] sse_func.find_boundaries : There are still secondary-structure associated residues within the Subdomain connecting loop. Please check if this is within limits:\n",
      "scored_seq[helix_end+1:sheet_start] = array([0, 1, 0, 0, 0, 0, 0, 0, 0, 0, 0])\n",
      "[WARNING] sse_func.find_boundaries : There are still secondary-structure associated residues within the Subdomain connecting loop. Please check if this is within limits:\n",
      "scored_seq[helix_end+1:sheet_start] = array([0, 1, 0, 0, 0, 0, 0, 0, 0, 0, 0])\n"
     ]
    },
    {
     "name": "stderr",
     "output_type": "stream",
     "text": [
      " 25%|████████████████████████████████████████▌                                                                                                                         | 3615/14435 [00:32<02:01, 89.02it/s]"
     ]
    },
    {
     "name": "stdout",
     "output_type": "stream",
     "text": [
      "[WARNING] sse_func.find_boundaries : There are still secondary-structure associated residues within the Subdomain connecting loop. Please check if this is within limits:\n",
      "scored_seq[helix_end+1:sheet_start] = array([0, 1, 0, 0, 0, 0, 0, 0, 0, 0, 0])\n"
     ]
    },
    {
     "name": "stderr",
     "output_type": "stream",
     "text": [
      " 25%|████████████████████████████████████████▉                                                                                                                        | 3673/14435 [00:32<01:37, 110.31it/s]"
     ]
    },
    {
     "name": "stdout",
     "output_type": "stream",
     "text": [
      "[WARNING] sse_func.find_boundaries : There are still secondary-structure associated residues within the Subdomain connecting loop. Please check if this is within limits:\n",
      "scored_seq[helix_end+1:sheet_start] = array([0, 1, 0, 0, 0, 0, 0, 0, 0, 0, 0])\n",
      "[WARNING] sse_func.find_boundaries : There are still secondary-structure associated residues within the Subdomain connecting loop. Please check if this is within limits:\n",
      "scored_seq[helix_end+1:sheet_start] = array([0, 1, 0, 0, 0, 0, 0, 0, 0, 0, 0])\n",
      "[WARNING] sse_func.find_boundaries : There are still secondary-structure associated residues within the Subdomain connecting loop. Please check if this is within limits:\n",
      "scored_seq[helix_end+1:sheet_start] = array([0, 1, 0, 0, 0, 0, 0, 0, 0, 0, 0])\n",
      "[WARNING] sse_func.find_boundaries : There are still secondary-structure associated residues within the Subdomain connecting loop. Please check if this is within limits:\n",
      "scored_seq[helix_end+1:sheet_start] = array([0, 1, 0, 0, 0, 0, 0, 0, 0, 0, 0])\n",
      "[WARNING] sse_func.find_boundaries : There are still secondary-structure associated residues within the Subdomain connecting loop. Please check if this is within limits:\n",
      "scored_seq[helix_end+1:sheet_start] = array([0, 1, 0, 0, 0, 0, 0, 0, 0, 0, 0])\n",
      "[WARNING] sse_func.find_boundaries : There are still secondary-structure associated residues within the Subdomain connecting loop. Please check if this is within limits:\n",
      "scored_seq[helix_end+1:sheet_start] = array([0, 1, 0, 0, 0, 0, 0, 0, 0, 0, 0])\n",
      "[WARNING] sse_func.find_boundaries : There are still secondary-structure associated residues within the Subdomain connecting loop. Please check if this is within limits:\n",
      "scored_seq[helix_end+1:sheet_start] = array([0, 1, 0, 0, 0, 0, 0, 0, 0, 0, 0])\n",
      "[WARNING] sse_func.find_boundaries : There are still secondary-structure associated residues within the Subdomain connecting loop. Please check if this is within limits:\n",
      "scored_seq[helix_end+1:sheet_start] = array([0, 1, 0, 0, 0, 0, 0, 0, 0, 0, 0])\n",
      "[WARNING] sse_func.find_boundaries : There are still secondary-structure associated residues within the Subdomain connecting loop. Please check if this is within limits:\n",
      "scored_seq[helix_end+1:sheet_start] = array([0, 1, 0, 0, 0, 0, 0, 0, 0, 0, 0])\n",
      "[WARNING] sse_func.find_boundaries : There are still secondary-structure associated residues within the Subdomain connecting loop. Please check if this is within limits:\n",
      "scored_seq[helix_end+1:sheet_start] = array([0, 1, 0, 0, 0, 0, 0, 0, 0, 0, 0])\n",
      "[WARNING] sse_func.find_boundaries : There are still secondary-structure associated residues within the Subdomain connecting loop. Please check if this is within limits:\n",
      "scored_seq[helix_end+1:sheet_start] = array([0, 1, 0, 0, 0, 0, 0, 0, 0, 0, 0])\n",
      "[WARNING] sse_func.find_boundaries : There are still secondary-structure associated residues within the Subdomain connecting loop. Please check if this is within limits:\n",
      "scored_seq[helix_end+1:sheet_start] = array([0, 1, 0, 0, 0, 0, 0, 0, 0, 0, 0])\n",
      "[WARNING] sse_func.find_boundaries : There are still secondary-structure associated residues within the Subdomain connecting loop. Please check if this is within limits:\n",
      "scored_seq[helix_end+1:sheet_start] = array([0, 1, 0, 0, 0, 0, 0, 0, 0, 0, 0])\n"
     ]
    },
    {
     "name": "stderr",
     "output_type": "stream",
     "text": [
      " 26%|█████████████████████████████████████████▌                                                                                                                       | 3722/14435 [00:33<01:30, 117.98it/s]"
     ]
    },
    {
     "name": "stdout",
     "output_type": "stream",
     "text": [
      "[WARNING] sse_func.find_boundaries : There are still secondary-structure associated residues within the Subdomain connecting loop. Please check if this is within limits:\n",
      "scored_seq[helix_end+1:sheet_start] = array([0, 1, 0, 0, 0, 0, 0, 0, 0, 0, 0])\n",
      "[WARNING] sse_func.find_boundaries : There are still secondary-structure associated residues within the Subdomain connecting loop. Please check if this is within limits:\n",
      "scored_seq[helix_end+1:sheet_start] = array([0, 1, 0, 0, 0, 0, 0, 0, 0, 0, 0])\n",
      "[WARNING] sse_func.find_boundaries : There are still secondary-structure associated residues within the Subdomain connecting loop. Please check if this is within limits:\n",
      "scored_seq[helix_end+1:sheet_start] = array([0, 1, 0, 0, 0, 0, 0, 0, 0, 0, 0])\n",
      "[WARNING] sse_func.find_boundaries : There are still secondary-structure associated residues within the Subdomain connecting loop. Please check if this is within limits:\n",
      "scored_seq[helix_end+1:sheet_start] = array([0, 1, 0, 0, 0, 0, 0, 0, 0, 0, 0])\n",
      "[WARNING] sse_func.find_boundaries : There are still secondary-structure associated residues within the Subdomain connecting loop. Please check if this is within limits:\n",
      "scored_seq[helix_end+1:sheet_start] = array([0, 1, 0, 0, 0, 0, 0, 0, 0, 0, 0])\n",
      "[WARNING] sse_func.find_boundaries : There are still secondary-structure associated residues within the Subdomain connecting loop. Please check if this is within limits:\n",
      "scored_seq[helix_end+1:sheet_start] = array([0, 1, 0, 0, 0, 0, 0, 0, 0, 0, 0])\n",
      "[WARNING] sse_func.find_boundaries : There are still secondary-structure associated residues within the Subdomain connecting loop. Please check if this is within limits:\n",
      "scored_seq[helix_end+1:sheet_start] = array([0, 1, 0, 0, 0, 0, 0, 0, 0, 0, 0])\n",
      "[WARNING] sse_func.find_boundaries : There are still secondary-structure associated residues within the Subdomain connecting loop. Please check if this is within limits:\n",
      "scored_seq[helix_end+1:sheet_start] = array([0, 1, 0, 0, 0, 0, 0, 0, 0, 0, 0])\n",
      "[WARNING] sse_func.find_boundaries : There are still secondary-structure associated residues within the Subdomain connecting loop. Please check if this is within limits:\n",
      "scored_seq[helix_end+1:sheet_start] = array([0, 1, 0, 0, 0, 0, 0, 0, 0, 0, 0])\n",
      "[WARNING] sse_func.find_boundaries : There are still secondary-structure associated residues within the Subdomain connecting loop. Please check if this is within limits:\n",
      "scored_seq[helix_end+1:sheet_start] = array([0, 1, 0, 0, 0, 0, 0, 0, 0, 0, 0])\n",
      "[WARNING] sse_func.find_boundaries : There are still secondary-structure associated residues within the Subdomain connecting loop. Please check if this is within limits:\n",
      "scored_seq[helix_end+1:sheet_start] = array([0, 1, 0, 0, 0, 0, 0, 0, 0, 0, 0])\n"
     ]
    },
    {
     "name": "stderr",
     "output_type": "stream",
     "text": [
      " 26%|██████████████████████████████████████████▌                                                                                                                      | 3818/14435 [00:34<01:36, 109.86it/s]"
     ]
    },
    {
     "name": "stdout",
     "output_type": "stream",
     "text": [
      "[WARNING] sse_func.find_boundaries : There are still secondary-structure associated residues within the Subdomain connecting loop. Please check if this is within limits:\n",
      "scored_seq[helix_end+1:sheet_start] = array([0, 1, 0, 0, 0, 0, 0, 0, 0, 0, 0])\n",
      "[WARNING] sse_func.find_boundaries : There are still secondary-structure associated residues within the Subdomain connecting loop. Please check if this is within limits:\n",
      "scored_seq[helix_end+1:sheet_start] = array([0, 1, 0, 0, 0, 0, 0, 0, 0, 0, 0])\n"
     ]
    },
    {
     "name": "stderr",
     "output_type": "stream",
     "text": [
      " 27%|███████████████████████████████████████████▍                                                                                                                     | 3889/14435 [00:34<01:31, 114.94it/s]"
     ]
    },
    {
     "name": "stdout",
     "output_type": "stream",
     "text": [
      "[WARNING] sse_func.find_boundaries : There are still secondary-structure associated residues within the Subdomain connecting loop. Please check if this is within limits:\n",
      "scored_seq[helix_end+1:sheet_start] = array([0, 1, 0, 0, 0, 0, 0, 0, 0, 0, 0])\n",
      "[WARNING] sse_func.find_boundaries : There are still secondary-structure associated residues within the Subdomain connecting loop. Please check if this is within limits:\n",
      "scored_seq[helix_end+1:sheet_start] = array([0, 1, 0, 0, 0, 0, 0, 0, 0, 0, 0])\n",
      "[WARNING] sse_func.find_boundaries : There are still secondary-structure associated residues within the Subdomain connecting loop. Please check if this is within limits:\n",
      "scored_seq[helix_end+1:sheet_start] = array([0, 1, 0, 0, 0, 0, 0, 0, 0, 0, 0])\n",
      "[WARNING] sse_func.find_boundaries : There are still secondary-structure associated residues within the Subdomain connecting loop. Please check if this is within limits:\n",
      "scored_seq[helix_end+1:sheet_start] = array([0, 1, 0, 0, 0, 0, 0, 0, 0, 0, 0])\n",
      "[WARNING] sse_func.find_boundaries : There are still secondary-structure associated residues within the Subdomain connecting loop. Please check if this is within limits:\n",
      "scored_seq[helix_end+1:sheet_start] = array([0, 1, 0, 0, 0, 0, 0, 0, 0, 0, 0])\n",
      "[WARNING] sse_func.find_boundaries : There are still secondary-structure associated residues within the Subdomain connecting loop. Please check if this is within limits:\n",
      "scored_seq[helix_end+1:sheet_start] = array([0, 1, 0, 0, 0, 0, 0, 0, 0, 0, 0])\n",
      "[WARNING] sse_func.find_boundaries : There are still secondary-structure associated residues within the Subdomain connecting loop. Please check if this is within limits:\n",
      "scored_seq[helix_end+1:sheet_start] = array([0, 1, 0, 0, 0, 0, 0, 0, 0, 0, 0])\n",
      "[WARNING] sse_func.find_boundaries : There are still secondary-structure associated residues within the Subdomain connecting loop. Please check if this is within limits:\n",
      "scored_seq[helix_end+1:sheet_start] = array([0, 1, 0, 0, 0, 0, 0, 0, 0, 0, 0])\n",
      "[WARNING] sse_func.find_boundaries : There are still secondary-structure associated residues within the Subdomain connecting loop. Please check if this is within limits:\n",
      "scored_seq[helix_end+1:sheet_start] = array([0, 1, 0, 0, 0, 0, 0, 0, 0, 0, 0])\n",
      "[WARNING] sse_func.find_boundaries : There are still secondary-structure associated residues within the Subdomain connecting loop. Please check if this is within limits:\n",
      "scored_seq[helix_end+1:sheet_start] = array([0, 1, 0, 0, 0, 0, 0, 0, 0, 0, 0])\n",
      "[WARNING] sse_func.find_boundaries : There are still secondary-structure associated residues within the Subdomain connecting loop. Please check if this is within limits:\n",
      "scored_seq[helix_end+1:sheet_start] = array([0, 1, 0, 0, 0, 0, 0, 0, 0, 0, 0])\n",
      "[WARNING] sse_func.find_boundaries : There are still secondary-structure associated residues within the Subdomain connecting loop. Please check if this is within limits:\n",
      "scored_seq[helix_end+1:sheet_start] = array([0, 1, 0, 0, 0, 0, 0, 0, 0, 0, 0])\n",
      "[WARNING] sse_func.find_boundaries : There are still secondary-structure associated residues within the Subdomain connecting loop. Please check if this is within limits:\n",
      "scored_seq[helix_end+1:sheet_start] = array([0, 1, 0, 0, 0, 0, 0, 0, 0, 0, 0])\n",
      "[WARNING] sse_func.find_boundaries : There are still secondary-structure associated residues within the Subdomain connecting loop. Please check if this is within limits:\n",
      "scored_seq[helix_end+1:sheet_start] = array([0, 1, 0, 0, 0, 0, 0, 0, 0, 0, 0])\n",
      "[WARNING] sse_func.find_boundaries : There are still secondary-structure associated residues within the Subdomain connecting loop. Please check if this is within limits:\n",
      "scored_seq[helix_end+1:sheet_start] = array([0, 1, 0, 0, 0, 0, 0, 0, 0, 0, 0])\n",
      "[WARNING] sse_func.find_boundaries : There are still secondary-structure associated residues within the Subdomain connecting loop. Please check if this is within limits:\n",
      "scored_seq[helix_end+1:sheet_start] = array([0, 1, 0, 0, 0, 0, 0, 0, 0, 0, 0])\n",
      "[WARNING] sse_func.find_boundaries : There are still secondary-structure associated residues within the Subdomain connecting loop. Please check if this is within limits:\n",
      "scored_seq[helix_end+1:sheet_start] = array([0, 1, 0, 0, 0, 0, 0, 0, 0, 0, 0])\n",
      "[WARNING] sse_func.find_boundaries : There are still secondary-structure associated residues within the Subdomain connecting loop. Please check if this is within limits:\n",
      "scored_seq[helix_end+1:sheet_start] = array([0, 1, 0, 0, 0, 0, 0, 0, 0, 0, 0])\n"
     ]
    },
    {
     "name": "stderr",
     "output_type": "stream",
     "text": [
      " 27%|███████████████████████████████████████████▊                                                                                                                     | 3925/14435 [00:35<01:35, 109.51it/s]"
     ]
    },
    {
     "name": "stdout",
     "output_type": "stream",
     "text": [
      "[WARNING] sse_func.find_boundaries : There are still secondary-structure associated residues within the Subdomain connecting loop. Please check if this is within limits:\n",
      "scored_seq[helix_end+1:sheet_start] = array([0, 1, 0, 0, 0, 0, 0])\n"
     ]
    },
    {
     "name": "stderr",
     "output_type": "stream",
     "text": [
      " 28%|████████████████████████████████████████████▎                                                                                                                    | 3971/14435 [00:35<01:37, 107.77it/s]"
     ]
    },
    {
     "name": "stdout",
     "output_type": "stream",
     "text": [
      "[WARNING] sse_func.find_boundaries : There are still secondary-structure associated residues within the Subdomain connecting loop. Please check if this is within limits:\n",
      "scored_seq[helix_end+1:sheet_start] = array([0, 1, 0, 0, 0, 0, 0, 0, 0, 0, 0])\n",
      "[WARNING] sse_func.find_boundaries : There are still secondary-structure associated residues within the Subdomain connecting loop. Please check if this is within limits:\n",
      "scored_seq[helix_end+1:sheet_start] = array([0, 1, 0, 0, 0, 0, 0])\n"
     ]
    },
    {
     "name": "stderr",
     "output_type": "stream",
     "text": [
      " 28%|████████████████████████████████████████████▊                                                                                                                    | 4020/14435 [00:35<01:34, 109.76it/s]"
     ]
    },
    {
     "name": "stdout",
     "output_type": "stream",
     "text": [
      "[WARNING] sse_func.find_boundaries : There are still secondary-structure associated residues within the Subdomain connecting loop. Please check if this is within limits:\n",
      "scored_seq[helix_end+1:sheet_start] = array([0, 1, 0, 0, 0, 0, 0])\n"
     ]
    },
    {
     "name": "stderr",
     "output_type": "stream",
     "text": [
      " 28%|█████████████████████████████████████████████▌                                                                                                                   | 4082/14435 [00:36<01:33, 111.21it/s]"
     ]
    },
    {
     "name": "stdout",
     "output_type": "stream",
     "text": [
      "[WARNING] sse_func.find_boundaries : There are still secondary-structure associated residues within the Subdomain connecting loop. Please check if this is within limits:\n",
      "scored_seq[helix_end+1:sheet_start] = array([ 0,  0,  0,  0,  0,  0,  0,  0,  0,  0,  0,  0,  1,  1,  0,  0, -1,\n",
      "       -1,  0,  0,  0,  0,  0])\n"
     ]
    },
    {
     "name": "stderr",
     "output_type": "stream",
     "text": [
      " 29%|██████████████████████████████████████████████▊                                                                                                                  | 4199/14435 [00:37<01:35, 107.50it/s]"
     ]
    },
    {
     "name": "stdout",
     "output_type": "stream",
     "text": [
      "[WARNING] sse_func.find_boundaries : There are still secondary-structure associated residues within the Subdomain connecting loop. Please check if this is within limits:\n",
      "scored_seq[helix_end+1:sheet_start] = array([0, 1, 0, 0, 0, 0, 0])\n",
      "[WARNING] sse_func.find_boundaries : There are still secondary-structure associated residues within the Subdomain connecting loop. Please check if this is within limits:\n",
      "scored_seq[helix_end+1:sheet_start] = array([0, 1, 0, 0, 0, 0, 0])\n",
      "[WARNING] sse_func.find_boundaries : There are still secondary-structure associated residues within the Subdomain connecting loop. Please check if this is within limits:\n",
      "scored_seq[helix_end+1:sheet_start] = array([0, 1, 0, 0, 0, 0, 0, 0, 0, 0, 0])\n"
     ]
    },
    {
     "name": "stderr",
     "output_type": "stream",
     "text": [
      " 29%|███████████████████████████████████████████████▍                                                                                                                 | 4256/14435 [00:38<01:37, 104.12it/s]"
     ]
    },
    {
     "name": "stdout",
     "output_type": "stream",
     "text": [
      "[WARNING] sse_func.find_boundaries : There are still secondary-structure associated residues within the Subdomain connecting loop. Please check if this is within limits:\n",
      "scored_seq[helix_end+1:sheet_start] = array([0, 1, 0, 0, 0, 0, 0, 0, 0, 0, 0])\n",
      "[WARNING] sse_func.find_boundaries : There are still secondary-structure associated residues within the Subdomain connecting loop. Please check if this is within limits:\n",
      "scored_seq[helix_end+1:sheet_start] = array([0, 1, 0, 0, 0, 0, 0, 0, 0, 0, 0])\n",
      "[WARNING] sse_func.find_boundaries : There are still secondary-structure associated residues within the Subdomain connecting loop. Please check if this is within limits:\n",
      "scored_seq[helix_end+1:sheet_start] = array([0, 1, 0, 0, 0, 0, 0, 0, 0, 0, 0])\n",
      "[WARNING] sse_func.find_boundaries : There are still secondary-structure associated residues within the Subdomain connecting loop. Please check if this is within limits:\n",
      "scored_seq[helix_end+1:sheet_start] = array([0, 1, 0, 0, 0, 0, 0, 0, 0, 0, 0])\n",
      "[WARNING] sse_func.find_boundaries : There are still secondary-structure associated residues within the Subdomain connecting loop. Please check if this is within limits:\n",
      "scored_seq[helix_end+1:sheet_start] = array([0, 1, 0, 0, 0, 0, 0])\n"
     ]
    },
    {
     "name": "stderr",
     "output_type": "stream",
     "text": [
      "\r",
      " 30%|███████████████████████████████████████████████▌                                                                                                                 | 4267/14435 [00:38<01:41, 100.45it/s]"
     ]
    },
    {
     "name": "stdout",
     "output_type": "stream",
     "text": [
      "[WARNING] sse_func.find_boundaries : There are still secondary-structure associated residues within the Subdomain connecting loop. Please check if this is within limits:\n",
      "scored_seq[helix_end+1:sheet_start] = array([0, 1, 0, 0, 0, 0, 0])\n"
     ]
    },
    {
     "name": "stderr",
     "output_type": "stream",
     "text": [
      " 30%|████████████████████████████████████████████████▍                                                                                                                | 4343/14435 [00:39<01:38, 102.84it/s]"
     ]
    },
    {
     "name": "stdout",
     "output_type": "stream",
     "text": [
      "[WARNING] sse_func.find_boundaries : There are still secondary-structure associated residues within the Subdomain connecting loop. Please check if this is within limits:\n",
      "scored_seq[helix_end+1:sheet_start] = array([0, 1, 0, 0, 0, 0, 0])\n",
      "[WARNING] sse_func.find_boundaries : There are still secondary-structure associated residues within the Subdomain connecting loop. Please check if this is within limits:\n",
      "scored_seq[helix_end+1:sheet_start] = array([0, 1, 0, 0, 0, 0, 0])\n"
     ]
    },
    {
     "name": "stderr",
     "output_type": "stream",
     "text": [
      " 31%|█████████████████████████████████████████████████▊                                                                                                               | 4464/14435 [00:40<01:29, 111.27it/s]"
     ]
    },
    {
     "name": "stdout",
     "output_type": "stream",
     "text": [
      "[WARNING] sse_func.find_boundaries : There are still secondary-structure associated residues within the Subdomain connecting loop. Please check if this is within limits:\n",
      "scored_seq[helix_end+1:sheet_start] = array([0, 1, 0, 0, 0, 0, 0])\n"
     ]
    },
    {
     "name": "stderr",
     "output_type": "stream",
     "text": [
      " 31%|██████████████████████████████████████████████████▏                                                                                                              | 4500/14435 [00:40<01:25, 115.78it/s]"
     ]
    },
    {
     "name": "stdout",
     "output_type": "stream",
     "text": [
      "[WARNING] sse_func.find_boundaries : There are still secondary-structure associated residues within the Subdomain connecting loop. Please check if this is within limits:\n",
      "scored_seq[helix_end+1:sheet_start] = array([0, 1, 0, 0, 0, 0, 0, 0, 0, 0, 0])\n",
      "[WARNING] sse_func.find_boundaries : There are still secondary-structure associated residues within the Subdomain connecting loop. Please check if this is within limits:\n",
      "scored_seq[helix_end+1:sheet_start] = array([0, 1, 0, 0, 0, 0, 0, 0, 0, 0, 0])\n",
      "[WARNING] sse_func.find_boundaries : There are still secondary-structure associated residues within the Subdomain connecting loop. Please check if this is within limits:\n",
      "scored_seq[helix_end+1:sheet_start] = array([0, 1, 0, 0, 0, 0, 0, 0, 0, 0, 0])\n",
      "[WARNING] sse_func.find_boundaries : There are still secondary-structure associated residues within the Subdomain connecting loop. Please check if this is within limits:\n",
      "scored_seq[helix_end+1:sheet_start] = array([0, 1, 0, 0, 0, 0, 0, 0, 0, 0, 0])\n",
      "[WARNING] sse_func.find_boundaries : There are still secondary-structure associated residues within the Subdomain connecting loop. Please check if this is within limits:\n",
      "scored_seq[helix_end+1:sheet_start] = array([0, 1, 0, 0, 0, 0, 0, 0, 0, 0, 0])\n",
      "[WARNING] sse_func.find_boundaries : There are still secondary-structure associated residues within the Subdomain connecting loop. Please check if this is within limits:\n",
      "scored_seq[helix_end+1:sheet_start] = array([0, 1, 0, 0, 0, 0, 0, 0, 0, 0, 0])\n"
     ]
    },
    {
     "name": "stderr",
     "output_type": "stream",
     "text": [
      " 31%|██████████████████████████████████████████████████▍                                                                                                              | 4525/14435 [00:40<01:25, 116.44it/s]"
     ]
    },
    {
     "name": "stdout",
     "output_type": "stream",
     "text": [
      "[WARNING] sse_func.find_boundaries : There are still secondary-structure associated residues within the Subdomain connecting loop. Please check if this is within limits:\n",
      "scored_seq[helix_end+1:sheet_start] = array([0, 1, 0, 0, 0, 0, 0, 0, 0, 0, 0])\n"
     ]
    },
    {
     "name": "stderr",
     "output_type": "stream",
     "text": [
      " 32%|███████████████████████████████████████████████████▌                                                                                                             | 4624/14435 [00:41<01:24, 115.83it/s]"
     ]
    },
    {
     "name": "stdout",
     "output_type": "stream",
     "text": [
      "[WARNING] sse_func.find_boundaries : There are still secondary-structure associated residues within the Subdomain connecting loop. Please check if this is within limits:\n",
      "scored_seq[helix_end+1:sheet_start] = array([0, 1, 0, 0, 0, 0, 0])\n",
      "[WARNING] sse_func.find_boundaries : There are still secondary-structure associated residues within the Subdomain connecting loop. Please check if this is within limits:\n",
      "scored_seq[helix_end+1:sheet_start] = array([0, 1, 0, 0, 0, 0, 0])\n"
     ]
    },
    {
     "name": "stderr",
     "output_type": "stream",
     "text": [
      " 34%|███████████████████████████████████████████████████████▎                                                                                                         | 4960/14435 [00:44<01:22, 114.88it/s]"
     ]
    },
    {
     "name": "stdout",
     "output_type": "stream",
     "text": [
      "[WARNING] sse_func.find_boundaries : There are still secondary-structure associated residues within the Subdomain connecting loop. Please check if this is within limits:\n",
      "scored_seq[helix_end+1:sheet_start] = array([0, 1, 0, 0, 0, 0, 0, 0, 0, 0, 0])\n"
     ]
    },
    {
     "name": "stderr",
     "output_type": "stream",
     "text": [
      " 35%|███████████████████████████████████████████████████████▉                                                                                                         | 5020/14435 [00:44<01:23, 113.38it/s]"
     ]
    },
    {
     "name": "stdout",
     "output_type": "stream",
     "text": [
      "[WARNING] sse_func.find_boundaries : There are still secondary-structure associated residues within the Subdomain connecting loop. Please check if this is within limits:\n",
      "scored_seq[helix_end+1:sheet_start] = array([0, 1, 0, 0, 0, 0, 0])\n"
     ]
    },
    {
     "name": "stderr",
     "output_type": "stream",
     "text": [
      " 35%|████████████████████████████████████████████████████████▊                                                                                                        | 5093/14435 [00:45<01:21, 114.01it/s]"
     ]
    },
    {
     "name": "stdout",
     "output_type": "stream",
     "text": [
      "[WARNING] sse_func.find_boundaries : There are still secondary-structure associated residues within the Subdomain connecting loop. Please check if this is within limits:\n",
      "scored_seq[helix_end+1:sheet_start] = array([0, 1, 0, 0, 0, 0, 0, 0, 0, 0, 0])\n"
     ]
    },
    {
     "name": "stderr",
     "output_type": "stream",
     "text": [
      "\r",
      " 35%|█████████████████████████████████████████████████████████▎                                                                                                        | 5105/14435 [00:45<01:49, 85.43it/s]"
     ]
    },
    {
     "name": "stdout",
     "output_type": "stream",
     "text": [
      "[WARNING] sse_func.find_boundaries : There are still secondary-structure associated residues within the Subdomain connecting loop. Please check if this is within limits:\n",
      "scored_seq[helix_end+1:sheet_start] = array([0, 1, 0, 0, 0, 0, 0, 0, 0, 0, 0])\n",
      "[WARNING] sse_func.find_boundaries : There are still secondary-structure associated residues within the Subdomain connecting loop. Please check if this is within limits:\n",
      "scored_seq[helix_end+1:sheet_start] = array([0, 1, 0, 0, 0, 0, 0, 0, 0, 0, 0])\n",
      "[WARNING] sse_func.find_boundaries : There are still secondary-structure associated residues within the Subdomain connecting loop. Please check if this is within limits:\n",
      "scored_seq[helix_end+1:sheet_start] = array([0, 1, 0, 0, 0, 0, 0, 0, 0, 0, 0])\n"
     ]
    },
    {
     "name": "stderr",
     "output_type": "stream",
     "text": [
      " 36%|█████████████████████████████████████████████████████████▌                                                                                                        | 5129/14435 [00:46<01:35, 97.43it/s]"
     ]
    },
    {
     "name": "stdout",
     "output_type": "stream",
     "text": [
      "[WARNING] sse_func.find_boundaries : There are still secondary-structure associated residues within the Subdomain connecting loop. Please check if this is within limits:\n",
      "scored_seq[helix_end+1:sheet_start] = array([0, 1, 0, 0, 0, 0, 0])\n",
      "[WARNING] sse_func.find_boundaries : There are still secondary-structure associated residues within the Subdomain connecting loop. Please check if this is within limits:\n",
      "scored_seq[helix_end+1:sheet_start] = array([0, 1, 0, 0, 0, 0, 0, 0, 0, 0, 0])\n",
      "[WARNING] sse_func.find_boundaries : There are still secondary-structure associated residues within the Subdomain connecting loop. Please check if this is within limits:\n",
      "scored_seq[helix_end+1:sheet_start] = array([0, 1, 0, 0, 0, 0, 0])\n"
     ]
    },
    {
     "name": "stderr",
     "output_type": "stream",
     "text": [
      " 36%|█████████████████████████████████████████████████████████▊                                                                                                       | 5178/14435 [00:46<01:22, 112.48it/s]"
     ]
    },
    {
     "name": "stdout",
     "output_type": "stream",
     "text": [
      "[WARNING] sse_func.find_boundaries : There are still secondary-structure associated residues within the Subdomain connecting loop. Please check if this is within limits:\n",
      "scored_seq[helix_end+1:sheet_start] = array([0, 1, 0, 0, 0, 0, 0])\n",
      "[WARNING] sse_func.find_boundaries : There are still secondary-structure associated residues within the Subdomain connecting loop. Please check if this is within limits:\n",
      "scored_seq[helix_end+1:sheet_start] = array([0, 1, 0, 0, 0, 0, 0, 0, 0, 0, 0])\n"
     ]
    },
    {
     "name": "stderr",
     "output_type": "stream",
     "text": [
      " 37%|███████████████████████████████████████████████████████████▏                                                                                                     | 5310/14435 [00:47<01:21, 111.78it/s]"
     ]
    },
    {
     "name": "stdout",
     "output_type": "stream",
     "text": [
      "[WARNING] sse_func.find_boundaries : There are still secondary-structure associated residues within the Subdomain connecting loop. Please check if this is within limits:\n",
      "scored_seq[helix_end+1:sheet_start] = array([0, 1, 0, 0, 0, 0, 0, 0, 0, 0, 0])\n",
      "[WARNING] sse_func.find_boundaries : There are still secondary-structure associated residues within the Subdomain connecting loop. Please check if this is within limits:\n",
      "scored_seq[helix_end+1:sheet_start] = array([0, 1, 0, 0, 0, 0, 0, 0, 0, 0, 0])\n",
      "[WARNING] sse_func.find_boundaries : There are still secondary-structure associated residues within the Subdomain connecting loop. Please check if this is within limits:\n",
      "scored_seq[helix_end+1:sheet_start] = array([0, 1, 0, 0, 0, 0, 0, 0, 0, 0, 0])\n"
     ]
    },
    {
     "name": "stderr",
     "output_type": "stream",
     "text": [
      " 37%|███████████████████████████████████████████████████████████▉                                                                                                     | 5372/14435 [00:48<01:16, 118.83it/s]"
     ]
    },
    {
     "name": "stdout",
     "output_type": "stream",
     "text": [
      "[WARNING] sse_func.find_boundaries : There are still secondary-structure associated residues within the Subdomain connecting loop. Please check if this is within limits:\n",
      "scored_seq[helix_end+1:sheet_start] = array([0, 1, 0, 0, 0, 0, 0, 0, 0, 0, 0])\n",
      "[WARNING] sse_func.find_boundaries : There are still secondary-structure associated residues within the Subdomain connecting loop. Please check if this is within limits:\n",
      "scored_seq[helix_end+1:sheet_start] = array([0, 1, 0, 0, 0, 0, 0, 0, 0, 0, 0])\n",
      "[WARNING] sse_func.find_boundaries : There are still secondary-structure associated residues within the Subdomain connecting loop. Please check if this is within limits:\n",
      "scored_seq[helix_end+1:sheet_start] = array([0, 1, 0, 0, 0, 0, 0, 0, 0, 0, 0])\n",
      "[WARNING] sse_func.find_boundaries : There are still secondary-structure associated residues within the Subdomain connecting loop. Please check if this is within limits:\n",
      "scored_seq[helix_end+1:sheet_start] = array([0, 1, 0, 0, 0, 0, 0, 0, 0, 0, 0])\n",
      "[WARNING] sse_func.find_boundaries : There are still secondary-structure associated residues within the Subdomain connecting loop. Please check if this is within limits:\n",
      "scored_seq[helix_end+1:sheet_start] = array([0, 1, 0, 0, 0, 0, 0, 0, 0, 0, 0])\n",
      "[WARNING] sse_func.find_boundaries : There are still secondary-structure associated residues within the Subdomain connecting loop. Please check if this is within limits:\n",
      "scored_seq[helix_end+1:sheet_start] = array([0, 1, 0, 0, 0, 0, 0, 0, 0, 0, 0])\n",
      "[WARNING] sse_func.find_boundaries : There are still secondary-structure associated residues within the Subdomain connecting loop. Please check if this is within limits:\n",
      "scored_seq[helix_end+1:sheet_start] = array([0, 1, 0, 0, 0, 0, 0, 0, 0, 0, 0])\n",
      "[WARNING] sse_func.find_boundaries : There are still secondary-structure associated residues within the Subdomain connecting loop. Please check if this is within limits:\n",
      "scored_seq[helix_end+1:sheet_start] = array([0, 1, 0, 0, 0, 0, 0, 0, 0, 0, 0])\n",
      "[WARNING] sse_func.find_boundaries : There are still secondary-structure associated residues within the Subdomain connecting loop. Please check if this is within limits:\n",
      "scored_seq[helix_end+1:sheet_start] = array([0, 1, 0, 0, 0, 0, 0, 0, 0, 0, 0])\n",
      "[WARNING] sse_func.find_boundaries : There are still secondary-structure associated residues within the Subdomain connecting loop. Please check if this is within limits:\n",
      "scored_seq[helix_end+1:sheet_start] = array([0, 1, 0, 0, 0, 0, 0, 0, 0, 0, 0])\n",
      "[WARNING] sse_func.find_boundaries : There are still secondary-structure associated residues within the Subdomain connecting loop. Please check if this is within limits:\n",
      "scored_seq[helix_end+1:sheet_start] = array([0, 1, 0, 0, 0, 0, 0, 0, 0, 0, 0])\n",
      "[WARNING] sse_func.find_boundaries : There are still secondary-structure associated residues within the Subdomain connecting loop. Please check if this is within limits:\n",
      "scored_seq[helix_end+1:sheet_start] = array([0, 1, 0, 0, 0, 0, 0, 0, 0, 0, 0])\n",
      "[WARNING] sse_func.find_boundaries : There are still secondary-structure associated residues within the Subdomain connecting loop. Please check if this is within limits:\n",
      "scored_seq[helix_end+1:sheet_start] = array([0, 1, 0, 0, 0, 0, 0, 0, 0, 0, 0])\n",
      "[WARNING] sse_func.find_boundaries : There are still secondary-structure associated residues within the Subdomain connecting loop. Please check if this is within limits:\n",
      "scored_seq[helix_end+1:sheet_start] = array([0, 1, 0, 0, 0, 0, 0, 0, 0, 0, 0])\n"
     ]
    },
    {
     "name": "stderr",
     "output_type": "stream",
     "text": [
      " 38%|████████████████████████████████████████████████████████████▌                                                                                                    | 5433/14435 [00:48<01:19, 113.02it/s]"
     ]
    },
    {
     "name": "stdout",
     "output_type": "stream",
     "text": [
      "[WARNING] sse_func.find_boundaries : There are still secondary-structure associated residues within the Subdomain connecting loop. Please check if this is within limits:\n",
      "scored_seq[helix_end+1:sheet_start] = array([0, 1, 0, 0, 0, 0, 0, 0, 0, 0, 0])\n",
      "[WARNING] sse_func.find_boundaries : There are still secondary-structure associated residues within the Subdomain connecting loop. Please check if this is within limits:\n",
      "scored_seq[helix_end+1:sheet_start] = array([0, 1, 0, 0, 0, 0, 0, 0, 0, 0, 0])\n",
      "[WARNING] sse_func.find_boundaries : There are still secondary-structure associated residues within the Subdomain connecting loop. Please check if this is within limits:\n",
      "scored_seq[helix_end+1:sheet_start] = array([0, 1, 0, 0, 0, 0, 0, 0, 0, 0, 0])\n",
      "[WARNING] sse_func.find_boundaries : There are still secondary-structure associated residues within the Subdomain connecting loop. Please check if this is within limits:\n",
      "scored_seq[helix_end+1:sheet_start] = array([0, 1, 0, 0, 0, 0, 0, 0, 0, 0, 0])\n",
      "[WARNING] sse_func.find_boundaries : There are still secondary-structure associated residues within the Subdomain connecting loop. Please check if this is within limits:\n",
      "scored_seq[helix_end+1:sheet_start] = array([0, 1, 0, 0, 0, 0, 0, 0, 0, 0, 0])\n",
      "[WARNING] sse_func.find_boundaries : There are still secondary-structure associated residues within the Subdomain connecting loop. Please check if this is within limits:\n",
      "scored_seq[helix_end+1:sheet_start] = array([0, 1, 0, 0, 0, 0, 0, 0, 0, 0, 0])\n",
      "[WARNING] sse_func.find_boundaries : There are still secondary-structure associated residues within the Subdomain connecting loop. Please check if this is within limits:\n",
      "scored_seq[helix_end+1:sheet_start] = array([0, 1, 0, 0, 0, 0, 0, 0, 0, 0, 0])\n",
      "[WARNING] sse_func.find_boundaries : There are still secondary-structure associated residues within the Subdomain connecting loop. Please check if this is within limits:\n",
      "scored_seq[helix_end+1:sheet_start] = array([0, 1, 0, 0, 0, 0, 0, 0, 0, 0, 0])\n",
      "[WARNING] sse_func.find_boundaries : There are still secondary-structure associated residues within the Subdomain connecting loop. Please check if this is within limits:\n",
      "scored_seq[helix_end+1:sheet_start] = array([0, 1, 0, 0, 0, 0, 0, 0, 0, 0, 0])\n",
      "[WARNING] sse_func.find_boundaries : There are still secondary-structure associated residues within the Subdomain connecting loop. Please check if this is within limits:\n",
      "scored_seq[helix_end+1:sheet_start] = array([0, 1, 0, 0, 0, 0, 0, 0, 0, 0, 0])\n",
      "[WARNING] sse_func.find_boundaries : There are still secondary-structure associated residues within the Subdomain connecting loop. Please check if this is within limits:\n",
      "scored_seq[helix_end+1:sheet_start] = array([0, 1, 0, 0, 0, 0, 0, 0, 0, 0, 0])\n",
      "[WARNING] sse_func.find_boundaries : There are still secondary-structure associated residues within the Subdomain connecting loop. Please check if this is within limits:\n",
      "scored_seq[helix_end+1:sheet_start] = array([0, 1, 0, 0, 0, 0, 0, 0, 0, 0, 0])\n"
     ]
    },
    {
     "name": "stderr",
     "output_type": "stream",
     "text": [
      " 39%|██████████████████████████████████████████████████████████████▍                                                                                                  | 5603/14435 [00:50<01:15, 116.67it/s]"
     ]
    },
    {
     "name": "stdout",
     "output_type": "stream",
     "text": [
      "[WARNING] sse_func.find_boundaries : There are still secondary-structure associated residues within the Subdomain connecting loop. Please check if this is within limits:\n",
      "scored_seq[helix_end+1:sheet_start] = array([0, 1, 0, 0, 0, 0, 0])\n",
      "[WARNING] sse_func.find_boundaries : There are still secondary-structure associated residues within the Subdomain connecting loop. Please check if this is within limits:\n",
      "scored_seq[helix_end+1:sheet_start] = array([0, 1, 0, 0, 0, 0, 0])\n"
     ]
    },
    {
     "name": "stderr",
     "output_type": "stream",
     "text": [
      " 39%|██████████████████████████████████████████████████████████████▊                                                                                                  | 5629/14435 [00:50<01:13, 119.62it/s]"
     ]
    },
    {
     "name": "stdout",
     "output_type": "stream",
     "text": [
      "[WARNING] sse_func.find_boundaries : There are still secondary-structure associated residues within the Subdomain connecting loop. Please check if this is within limits:\n",
      "scored_seq[helix_end+1:sheet_start] = array([0, 1, 0, 0, 0, 0, 0, 0, 0, 0, 0])\n",
      "[WARNING] sse_func.find_boundaries : There are still secondary-structure associated residues within the Subdomain connecting loop. Please check if this is within limits:\n",
      "scored_seq[helix_end+1:sheet_start] = array([0, 1, 0, 0, 0, 0, 0, 0, 0, 0, 0])\n",
      "[WARNING] sse_func.find_boundaries : There are still secondary-structure associated residues within the Subdomain connecting loop. Please check if this is within limits:\n",
      "scored_seq[helix_end+1:sheet_start] = array([0, 1, 0, 0, 0, 0, 0, 0, 0, 0, 0])\n",
      "[WARNING] sse_func.find_boundaries : There are still secondary-structure associated residues within the Subdomain connecting loop. Please check if this is within limits:\n",
      "scored_seq[helix_end+1:sheet_start] = array([0, 1, 0, 0, 0, 0, 0, 0, 0, 0, 0])\n",
      "[WARNING] sse_func.find_boundaries : There are still secondary-structure associated residues within the Subdomain connecting loop. Please check if this is within limits:\n",
      "scored_seq[helix_end+1:sheet_start] = array([0, 1, 0, 0, 0, 0, 0, 0, 0, 0, 0])\n",
      "[WARNING] sse_func.find_boundaries : There are still secondary-structure associated residues within the Subdomain connecting loop. Please check if this is within limits:\n",
      "scored_seq[helix_end+1:sheet_start] = array([0, 1, 0, 0, 0, 0, 0, 0, 0, 0, 0])\n",
      "[WARNING] sse_func.find_boundaries : There are still secondary-structure associated residues within the Subdomain connecting loop. Please check if this is within limits:\n",
      "scored_seq[helix_end+1:sheet_start] = array([0, 1, 0, 0, 0, 0, 0, 0, 0, 0, 0])\n",
      "[WARNING] sse_func.find_boundaries : There are still secondary-structure associated residues within the Subdomain connecting loop. Please check if this is within limits:\n",
      "scored_seq[helix_end+1:sheet_start] = array([0, 1, 0, 0, 0, 0, 0, 0, 0, 0, 0])\n",
      "[WARNING] sse_func.find_boundaries : There are still secondary-structure associated residues within the Subdomain connecting loop. Please check if this is within limits:\n",
      "scored_seq[helix_end+1:sheet_start] = array([0, 1, 0, 0, 0, 0, 0, 0, 0, 0, 0])\n",
      "[WARNING] sse_func.find_boundaries : There are still secondary-structure associated residues within the Subdomain connecting loop. Please check if this is within limits:\n",
      "scored_seq[helix_end+1:sheet_start] = array([0, 1, 0, 0, 0, 0, 0, 0, 0, 0, 0])\n",
      "[WARNING] sse_func.find_boundaries : There are still secondary-structure associated residues within the Subdomain connecting loop. Please check if this is within limits:\n",
      "scored_seq[helix_end+1:sheet_start] = array([0, 1, 0, 0, 0, 0, 0, 0, 0, 0, 0])\n"
     ]
    },
    {
     "name": "stderr",
     "output_type": "stream",
     "text": [
      " 40%|███████████████████████████████████████████████████████████████▌                                                                                                 | 5702/14435 [00:51<01:14, 117.27it/s]"
     ]
    },
    {
     "name": "stdout",
     "output_type": "stream",
     "text": [
      "[WARNING] sse_func.find_boundaries : There are still secondary-structure associated residues within the Subdomain connecting loop. Please check if this is within limits:\n",
      "scored_seq[helix_end+1:sheet_start] = array([0, 1, 0, 0, 0, 0, 0])\n",
      "[WARNING] sse_func.find_boundaries : There are still secondary-structure associated residues within the Subdomain connecting loop. Please check if this is within limits:\n",
      "scored_seq[helix_end+1:sheet_start] = array([0, 0, 0, 0, 0, 1, 1, 1, 0, 0, 0, 0, 0, 0, 0, 0, 0, 0, 0, 0, 0])\n",
      "[WARNING] sse_func.find_boundaries : There are still secondary-structure associated residues within the Subdomain connecting loop. Please check if this is within limits:\n",
      "scored_seq[helix_end+1:sheet_start] = array([0, 0, 0, 0, 0, 1, 1, 1, 0, 0, 0, 0, 0, 0, 0, 0, 0, 0, 0, 0, 0])\n"
     ]
    },
    {
     "name": "stderr",
     "output_type": "stream",
     "text": [
      " 40%|████████████████████████████████████████████████████████████████▎                                                                                                | 5764/14435 [00:51<01:13, 117.18it/s]"
     ]
    },
    {
     "name": "stdout",
     "output_type": "stream",
     "text": [
      "[WARNING] sse_func.find_boundaries : There are still secondary-structure associated residues within the Subdomain connecting loop. Please check if this is within limits:\n",
      "scored_seq[helix_end+1:sheet_start] = array([0, 0, 0, 0, 0, 0, 0, 1, 0, 0, 0, 0, 0, 0, 0, 0, 0])\n",
      "[WARNING] sse_func.find_boundaries : There are still secondary-structure associated residues within the Subdomain connecting loop. Please check if this is within limits:\n",
      "scored_seq[helix_end+1:sheet_start] = array([0, 1, 0, 0, 0, 0, 0])\n"
     ]
    },
    {
     "name": "stderr",
     "output_type": "stream",
     "text": [
      " 40%|████████████████████████████████████████████████████████████████▌                                                                                                | 5788/14435 [00:51<01:16, 112.88it/s]"
     ]
    },
    {
     "name": "stdout",
     "output_type": "stream",
     "text": [
      "[WARNING] sse_func.find_boundaries : There are still secondary-structure associated residues within the Subdomain connecting loop. Please check if this is within limits:\n",
      "scored_seq[helix_end+1:sheet_start] = array([0, 1, 0, 0, 0, 0, 0])\n",
      "[WARNING] sse_func.find_boundaries : There are still secondary-structure associated residues within the Subdomain connecting loop. Please check if this is within limits:\n",
      "scored_seq[helix_end+1:sheet_start] = array([0, 1, 0, 0, 0, 0, 0])\n",
      "[WARNING] sse_func.find_boundaries : There are still secondary-structure associated residues within the Subdomain connecting loop. Please check if this is within limits:\n",
      "scored_seq[helix_end+1:sheet_start] = array([ 0,  0,  0,  0,  0,  0,  0,  0,  1,  1,  0, -1, -1,  0,  0,  0,  0,\n",
      "        0])\n"
     ]
    },
    {
     "name": "stderr",
     "output_type": "stream",
     "text": [
      " 41%|██████████████████████████████████████████████████████████████████▌                                                                                              | 5965/14435 [00:53<01:13, 115.54it/s]"
     ]
    },
    {
     "name": "stdout",
     "output_type": "stream",
     "text": [
      "[WARNING] sse_func.find_boundaries : There are still secondary-structure associated residues within the Subdomain connecting loop. Please check if this is within limits:\n",
      "scored_seq[helix_end+1:sheet_start] = array([0, 0, 0, 0, 1, 0, 0, 0, 0])\n"
     ]
    },
    {
     "name": "stderr",
     "output_type": "stream",
     "text": [
      " 43%|████████████████████████████████████████████████████████████████████▉                                                                                            | 6179/14435 [00:55<01:09, 118.96it/s]"
     ]
    },
    {
     "name": "stdout",
     "output_type": "stream",
     "text": [
      "[WARNING] sse_func.find_boundaries : There are still secondary-structure associated residues within the Subdomain connecting loop. Please check if this is within limits:\n",
      "scored_seq[helix_end+1:sheet_start] = array([0, 1, 0, 0, 0, 0, 0, 0, 0, 0, 0])\n",
      "[WARNING] sse_func.find_boundaries : There are still secondary-structure associated residues within the Subdomain connecting loop. Please check if this is within limits:\n",
      "scored_seq[helix_end+1:sheet_start] = array([0, 1, 0, 0, 0, 0, 0, 0, 0, 0, 0])\n",
      "[WARNING] sse_func.find_boundaries : There are still secondary-structure associated residues within the Subdomain connecting loop. Please check if this is within limits:\n",
      "scored_seq[helix_end+1:sheet_start] = array([0, 1, 0, 0, 0, 0, 0, 0, 0, 0, 0])\n",
      "[WARNING] sse_func.find_boundaries : There are still secondary-structure associated residues within the Subdomain connecting loop. Please check if this is within limits:\n",
      "scored_seq[helix_end+1:sheet_start] = array([0, 1, 0, 0, 0, 0, 0, 0, 0, 0, 0])\n",
      "[WARNING] sse_func.find_boundaries : There are still secondary-structure associated residues within the Subdomain connecting loop. Please check if this is within limits:\n",
      "scored_seq[helix_end+1:sheet_start] = array([0, 1, 0, 0, 0, 0, 0, 0, 0, 0, 0])\n",
      "[WARNING] sse_func.find_boundaries : There are still secondary-structure associated residues within the Subdomain connecting loop. Please check if this is within limits:\n",
      "scored_seq[helix_end+1:sheet_start] = array([0, 1, 0, 0, 0, 0, 0, 0, 0, 0, 0])\n",
      "[WARNING] sse_func.find_boundaries : There are still secondary-structure associated residues within the Subdomain connecting loop. Please check if this is within limits:\n",
      "scored_seq[helix_end+1:sheet_start] = array([0, 1, 0, 0, 0, 0, 0, 0, 0, 0, 0])\n",
      "[WARNING] sse_func.find_boundaries : There are still secondary-structure associated residues within the Subdomain connecting loop. Please check if this is within limits:\n",
      "scored_seq[helix_end+1:sheet_start] = array([0, 1, 0, 0, 0, 0, 0, 0, 0, 0, 0])\n",
      "[WARNING] sse_func.find_boundaries : There are still secondary-structure associated residues within the Subdomain connecting loop. Please check if this is within limits:\n",
      "scored_seq[helix_end+1:sheet_start] = array([0, 1, 0, 0, 0, 0, 0, 0, 0, 0, 0])\n",
      "[WARNING] sse_func.find_boundaries : There are still secondary-structure associated residues within the Subdomain connecting loop. Please check if this is within limits:\n",
      "scored_seq[helix_end+1:sheet_start] = array([0, 1, 0, 0, 0, 0, 0, 0, 0, 0, 0])\n",
      "[WARNING] sse_func.find_boundaries : There are still secondary-structure associated residues within the Subdomain connecting loop. Please check if this is within limits:\n",
      "scored_seq[helix_end+1:sheet_start] = array([0, 1, 0, 0, 0, 0, 0, 0, 0, 0, 0])\n",
      "[WARNING] sse_func.find_boundaries : There are still secondary-structure associated residues within the Subdomain connecting loop. Please check if this is within limits:\n",
      "scored_seq[helix_end+1:sheet_start] = array([0, 1, 0, 0, 0, 0, 0, 0, 0, 0, 0])\n",
      "[WARNING] sse_func.find_boundaries : There are still secondary-structure associated residues within the Subdomain connecting loop. Please check if this is within limits:\n",
      "scored_seq[helix_end+1:sheet_start] = array([0, 1, 0, 0, 0, 0, 0, 0, 0, 0, 0])\n"
     ]
    },
    {
     "name": "stderr",
     "output_type": "stream",
     "text": [
      " 43%|█████████████████████████████████████████████████████████████████████▍                                                                                           | 6228/14435 [00:55<01:10, 116.24it/s]"
     ]
    },
    {
     "name": "stdout",
     "output_type": "stream",
     "text": [
      "[WARNING] sse_func.find_boundaries : There are still secondary-structure associated residues within the Subdomain connecting loop. Please check if this is within limits:\n",
      "scored_seq[helix_end+1:sheet_start] = array([0, 1, 0, 0, 0, 0, 0, 0, 0, 0, 0])\n",
      "[WARNING] sse_func.find_boundaries : There are still secondary-structure associated residues within the Subdomain connecting loop. Please check if this is within limits:\n",
      "scored_seq[helix_end+1:sheet_start] = array([0, 1, 0, 0, 0, 0, 0, 0, 0, 0, 0])\n",
      "[WARNING] sse_func.find_boundaries : There are still secondary-structure associated residues within the Subdomain connecting loop. Please check if this is within limits:\n",
      "scored_seq[helix_end+1:sheet_start] = array([0, 1, 0, 0, 0, 0, 0, 0, 0, 0, 0])\n",
      "[WARNING] sse_func.find_boundaries : There are still secondary-structure associated residues within the Subdomain connecting loop. Please check if this is within limits:\n",
      "scored_seq[helix_end+1:sheet_start] = array([0, 1, 0, 0, 0, 0, 0, 0, 0, 0, 0])\n",
      "[WARNING] sse_func.find_boundaries : There are still secondary-structure associated residues within the Subdomain connecting loop. Please check if this is within limits:\n",
      "scored_seq[helix_end+1:sheet_start] = array([0, 1, 0, 0, 0, 0, 0, 0, 0, 0, 0])\n"
     ]
    },
    {
     "name": "stderr",
     "output_type": "stream",
     "text": [
      " 43%|█████████████████████████████████████████████████████████████████████▋                                                                                           | 6252/14435 [00:55<01:11, 114.17it/s]"
     ]
    },
    {
     "name": "stdout",
     "output_type": "stream",
     "text": [
      "[WARNING] sse_func.find_boundaries : There are still secondary-structure associated residues within the Subdomain connecting loop. Please check if this is within limits:\n",
      "scored_seq[helix_end+1:sheet_start] = array([0, 1, 0, 0, 0, 0, 0])\n"
     ]
    },
    {
     "name": "stderr",
     "output_type": "stream",
     "text": [
      " 44%|██████████████████████████████████████████████████████████████████████▊                                                                                          | 6350/14435 [00:56<01:10, 115.41it/s]"
     ]
    },
    {
     "name": "stdout",
     "output_type": "stream",
     "text": [
      "[WARNING] sse_func.find_boundaries : There are still secondary-structure associated residues within the Subdomain connecting loop. Please check if this is within limits:\n",
      "scored_seq[helix_end+1:sheet_start] = array([0, 1, 0, 0, 0, 0, 0, 0, 0, 0, 0])\n"
     ]
    },
    {
     "name": "stderr",
     "output_type": "stream",
     "text": [
      " 44%|███████████████████████████████████████████████████████████████████████                                                                                          | 6374/14435 [00:56<01:12, 111.41it/s]"
     ]
    },
    {
     "name": "stdout",
     "output_type": "stream",
     "text": [
      "[WARNING] sse_func.find_boundaries : There are still secondary-structure associated residues within the Subdomain connecting loop. Please check if this is within limits:\n",
      "scored_seq[helix_end+1:sheet_start] = array([0, 1, 0, 0, 0, 0, 0])\n"
     ]
    },
    {
     "name": "stderr",
     "output_type": "stream",
     "text": [
      " 45%|█████████████████████████████████████████████████████████████████████████                                                                                        | 6549/14435 [00:58<01:08, 114.63it/s]"
     ]
    },
    {
     "name": "stdout",
     "output_type": "stream",
     "text": [
      "[WARNING] sse_func.find_boundaries : There are still secondary-structure associated residues within the Subdomain connecting loop. Please check if this is within limits:\n",
      "scored_seq[helix_end+1:sheet_start] = array([0, 1, 0, 0, 0, 0, 0])\n"
     ]
    },
    {
     "name": "stderr",
     "output_type": "stream",
     "text": [
      " 47%|███████████████████████████████████████████████████████████████████████████▌                                                                                     | 6777/14435 [01:00<01:07, 113.14it/s]"
     ]
    },
    {
     "name": "stdout",
     "output_type": "stream",
     "text": [
      "[WARNING] sse_func.find_boundaries : There are still secondary-structure associated residues within the Subdomain connecting loop. Please check if this is within limits:\n",
      "scored_seq[helix_end+1:sheet_start] = array([0, 1, 0, 0, 0, 0, 0])\n",
      "[WARNING] sse_func.find_boundaries : There are still secondary-structure associated residues within the Subdomain connecting loop. Please check if this is within limits:\n",
      "scored_seq[helix_end+1:sheet_start] = array([0, 1, 0, 0, 0, 0, 0])\n"
     ]
    },
    {
     "name": "stderr",
     "output_type": "stream",
     "text": [
      " 47%|███████████████████████████████████████████████████████████████████████████▉                                                                                     | 6814/14435 [01:00<01:06, 114.21it/s]"
     ]
    },
    {
     "name": "stdout",
     "output_type": "stream",
     "text": [
      "[WARNING] sse_func.find_boundaries : There are still secondary-structure associated residues within the Subdomain connecting loop. Please check if this is within limits:\n",
      "scored_seq[helix_end+1:sheet_start] = array([0, 1, 0, 0, 0, 0, 0])\n",
      "[WARNING] sse_func.find_boundaries : There are still secondary-structure associated residues within the Subdomain connecting loop. Please check if this is within limits:\n",
      "scored_seq[helix_end+1:sheet_start] = array([0, 1, 0, 0, 0, 0, 0, 0, 0, 0, 0])\n",
      "[WARNING] sse_func.find_boundaries : There are still secondary-structure associated residues within the Subdomain connecting loop. Please check if this is within limits:\n",
      "scored_seq[helix_end+1:sheet_start] = array([0, 1, 0, 0, 0, 0, 0, 0, 0, 0, 0])\n",
      "[WARNING] sse_func.find_boundaries : There are still secondary-structure associated residues within the Subdomain connecting loop. Please check if this is within limits:\n",
      "scored_seq[helix_end+1:sheet_start] = array([0, 1, 0, 0, 0, 0, 0, 0, 0, 0, 0])\n",
      "[WARNING] sse_func.find_boundaries : There are still secondary-structure associated residues within the Subdomain connecting loop. Please check if this is within limits:\n",
      "scored_seq[helix_end+1:sheet_start] = array([0, 1, 0, 0, 0, 0, 0, 0, 0, 0, 0])\n"
     ]
    },
    {
     "name": "stderr",
     "output_type": "stream",
     "text": [
      " 47%|████████████████████████████████████████████████████████████████████████████▎                                                                                    | 6838/14435 [01:00<01:06, 114.75it/s]"
     ]
    },
    {
     "name": "stdout",
     "output_type": "stream",
     "text": [
      "[WARNING] sse_func.find_boundaries : There are still secondary-structure associated residues within the Subdomain connecting loop. Please check if this is within limits:\n",
      "scored_seq[helix_end+1:sheet_start] = array([0, 1, 0, 0, 0, 0, 0, 0, 0, 0, 0])\n",
      "[WARNING] sse_func.find_boundaries : There are still secondary-structure associated residues within the Subdomain connecting loop. Please check if this is within limits:\n",
      "scored_seq[helix_end+1:sheet_start] = array([0, 1, 0, 0, 0, 0, 0, 0, 0, 0, 0])\n",
      "[WARNING] sse_func.find_boundaries : There are still secondary-structure associated residues within the Subdomain connecting loop. Please check if this is within limits:\n",
      "scored_seq[helix_end+1:sheet_start] = array([0, 1, 0, 0, 0, 0, 0, 0, 0, 0, 0])\n"
     ]
    },
    {
     "name": "stderr",
     "output_type": "stream",
     "text": [
      " 49%|███████████████████████████████████████████████████████████████████████████████▍                                                                                 | 7120/14435 [01:03<01:05, 111.65it/s]"
     ]
    },
    {
     "name": "stdout",
     "output_type": "stream",
     "text": [
      "[WARNING] sse_func.find_boundaries : There are still secondary-structure associated residues within the Subdomain connecting loop. Please check if this is within limits:\n",
      "scored_seq[helix_end+1:sheet_start] = array([0, 1, 0, 0, 0, 0, 0, 0, 0, 0, 0])\n",
      "[WARNING] sse_func.find_boundaries : There are still secondary-structure associated residues within the Subdomain connecting loop. Please check if this is within limits:\n",
      "scored_seq[helix_end+1:sheet_start] = array([0, 1, 0, 0, 0, 0, 0, 0, 0, 0, 0])\n",
      "[WARNING] sse_func.find_boundaries : There are still secondary-structure associated residues within the Subdomain connecting loop. Please check if this is within limits:\n",
      "scored_seq[helix_end+1:sheet_start] = array([0, 1, 0, 0, 0, 0, 0, 0, 0, 0, 0])\n"
     ]
    },
    {
     "name": "stderr",
     "output_type": "stream",
     "text": [
      " 50%|████████████████████████████████████████████████████████████████████████████████▍                                                                                | 7209/14435 [01:04<00:58, 122.50it/s]"
     ]
    },
    {
     "name": "stdout",
     "output_type": "stream",
     "text": [
      "[WARNING] sse_func.find_boundaries : There are still secondary-structure associated residues within the Subdomain connecting loop. Please check if this is within limits:\n",
      "scored_seq[helix_end+1:sheet_start] = array([0, 1, 0, 0, 0, 0, 0])\n"
     ]
    },
    {
     "name": "stderr",
     "output_type": "stream",
     "text": [
      " 51%|██████████████████████████████████████████████████████████████████████████████████▍                                                                              | 7395/14435 [01:05<00:58, 120.93it/s]"
     ]
    },
    {
     "name": "stdout",
     "output_type": "stream",
     "text": [
      "[WARNING] sse_func.find_boundaries : There are still secondary-structure associated residues within the Subdomain connecting loop. Please check if this is within limits:\n",
      "scored_seq[helix_end+1:sheet_start] = array([0, 1, 0, 0, 0, 0, 0, 0, 0, 0, 0])\n",
      "[WARNING] sse_func.find_boundaries : There are still secondary-structure associated residues within the Subdomain connecting loop. Please check if this is within limits:\n",
      "scored_seq[helix_end+1:sheet_start] = array([0, 1, 0, 0, 0, 0, 0, 0, 0, 0, 0])\n",
      "[WARNING] sse_func.find_boundaries : There are still secondary-structure associated residues within the Subdomain connecting loop. Please check if this is within limits:\n",
      "scored_seq[helix_end+1:sheet_start] = array([0, 1, 0, 0, 0, 0, 0, 0, 0, 0, 0])\n",
      "[WARNING] sse_func.find_boundaries : There are still secondary-structure associated residues within the Subdomain connecting loop. Please check if this is within limits:\n",
      "scored_seq[helix_end+1:sheet_start] = array([0, 1, 0, 0, 0, 0, 0, 0, 0, 0, 0])\n",
      "[WARNING] sse_func.find_boundaries : There are still secondary-structure associated residues within the Subdomain connecting loop. Please check if this is within limits:\n",
      "scored_seq[helix_end+1:sheet_start] = array([0, 1, 0, 0, 0, 0, 0, 0, 0, 0, 0])\n",
      "[WARNING] sse_func.find_boundaries : There are still secondary-structure associated residues within the Subdomain connecting loop. Please check if this is within limits:\n",
      "scored_seq[helix_end+1:sheet_start] = array([0, 1, 0, 0, 0, 0, 0, 0, 0, 0, 0])\n",
      "[WARNING] sse_func.find_boundaries : There are still secondary-structure associated residues within the Subdomain connecting loop. Please check if this is within limits:\n",
      "scored_seq[helix_end+1:sheet_start] = array([0, 1, 0, 0, 0, 0, 0, 0, 0, 0, 0])\n",
      "[WARNING] sse_func.find_boundaries : There are still secondary-structure associated residues within the Subdomain connecting loop. Please check if this is within limits:\n",
      "scored_seq[helix_end+1:sheet_start] = array([0, 1, 0, 0, 0, 0, 0, 0, 0, 0, 0])\n",
      "[WARNING] sse_func.find_boundaries : There are still secondary-structure associated residues within the Subdomain connecting loop. Please check if this is within limits:\n",
      "scored_seq[helix_end+1:sheet_start] = array([0, 1, 0, 0, 0, 0, 0, 0, 0, 0, 0])\n",
      "[WARNING] sse_func.find_boundaries : There are still secondary-structure associated residues within the Subdomain connecting loop. Please check if this is within limits:\n",
      "scored_seq[helix_end+1:sheet_start] = array([0, 1, 0, 0, 0, 0, 0, 0, 0, 0, 0])\n",
      "[WARNING] sse_func.find_boundaries : There are still secondary-structure associated residues within the Subdomain connecting loop. Please check if this is within limits:\n",
      "scored_seq[helix_end+1:sheet_start] = array([0, 1, 0, 0, 0, 0, 0, 0, 0, 0, 0])\n",
      "[WARNING] sse_func.find_boundaries : There are still secondary-structure associated residues within the Subdomain connecting loop. Please check if this is within limits:\n",
      "scored_seq[helix_end+1:sheet_start] = array([0, 1, 0, 0, 0, 0, 0, 0, 0, 0, 0])\n"
     ]
    },
    {
     "name": "stderr",
     "output_type": "stream",
     "text": [
      " 52%|████████████████████████████████████████████████████████████████████████████████████▎                                                                            | 7554/14435 [01:07<01:02, 110.86it/s]"
     ]
    },
    {
     "name": "stdout",
     "output_type": "stream",
     "text": [
      "[WARNING] sse_func.find_boundaries : There are still secondary-structure associated residues within the Subdomain connecting loop. Please check if this is within limits:\n",
      "scored_seq[helix_end+1:sheet_start] = array([0, 1, 0, 0, 0, 0, 0, 0, 0, 0, 0])\n"
     ]
    },
    {
     "name": "stderr",
     "output_type": "stream",
     "text": [
      " 53%|█████████████████████████████████████████████████████████████████████████████████████▌                                                                           | 7675/14435 [01:08<00:56, 119.02it/s]"
     ]
    },
    {
     "name": "stdout",
     "output_type": "stream",
     "text": [
      "[WARNING] sse_func.find_boundaries : There are still secondary-structure associated residues within the Subdomain connecting loop. Please check if this is within limits:\n",
      "scored_seq[helix_end+1:sheet_start] = array([0, 1, 0, 0, 0, 0, 0, 0, 0, 0, 0])\n",
      "[WARNING] sse_func.find_boundaries : There are still secondary-structure associated residues within the Subdomain connecting loop. Please check if this is within limits:\n",
      "scored_seq[helix_end+1:sheet_start] = array([0, 1, 0, 0, 0, 0, 0, 0, 0, 0, 0])\n",
      "[WARNING] sse_func.find_boundaries : There are still secondary-structure associated residues within the Subdomain connecting loop. Please check if this is within limits:\n",
      "scored_seq[helix_end+1:sheet_start] = array([0, 1, 0, 0, 0, 0, 0, 0, 0, 0, 0])\n",
      "[WARNING] sse_func.find_boundaries : There are still secondary-structure associated residues within the Subdomain connecting loop. Please check if this is within limits:\n",
      "scored_seq[helix_end+1:sheet_start] = array([0, 1, 0, 0, 0, 0, 0, 0, 0, 0, 0])\n",
      "[WARNING] sse_func.find_boundaries : There are still secondary-structure associated residues within the Subdomain connecting loop. Please check if this is within limits:\n",
      "scored_seq[helix_end+1:sheet_start] = array([0, 1, 0, 0, 0, 0, 0, 0, 0, 0, 0])\n",
      "[WARNING] sse_func.find_boundaries : There are still secondary-structure associated residues within the Subdomain connecting loop. Please check if this is within limits:\n",
      "scored_seq[helix_end+1:sheet_start] = array([0, 1, 0, 0, 0, 0, 0, 0, 0, 0, 0])\n",
      "[WARNING] sse_func.find_boundaries : There are still secondary-structure associated residues within the Subdomain connecting loop. Please check if this is within limits:\n",
      "scored_seq[helix_end+1:sheet_start] = array([0, 1, 0, 0, 0, 0, 0, 0, 0, 0, 0])\n",
      "[WARNING] sse_func.find_boundaries : There are still secondary-structure associated residues within the Subdomain connecting loop. Please check if this is within limits:\n",
      "scored_seq[helix_end+1:sheet_start] = array([0, 1, 0, 0, 0, 0, 0, 0, 0, 0, 0])\n",
      "[WARNING] sse_func.find_boundaries : There are still secondary-structure associated residues within the Subdomain connecting loop. Please check if this is within limits:\n",
      "scored_seq[helix_end+1:sheet_start] = array([0, 1, 0, 0, 0, 0, 0, 0, 0, 0, 0])\n",
      "[WARNING] sse_func.find_boundaries : There are still secondary-structure associated residues within the Subdomain connecting loop. Please check if this is within limits:\n",
      "scored_seq[helix_end+1:sheet_start] = array([0, 1, 0, 0, 0, 0, 0, 0, 0, 0, 0])\n"
     ]
    },
    {
     "name": "stderr",
     "output_type": "stream",
     "text": [
      " 54%|██████████████████████████████████████████████████████████████████████████████████████▏                                                                          | 7725/14435 [01:08<00:58, 114.02it/s]"
     ]
    },
    {
     "name": "stdout",
     "output_type": "stream",
     "text": [
      "[WARNING] sse_func.find_boundaries : There are still secondary-structure associated residues within the Subdomain connecting loop. Please check if this is within limits:\n",
      "scored_seq[helix_end+1:sheet_start] = array([0, 1, 0, 0, 0, 0, 0])\n"
     ]
    },
    {
     "name": "stderr",
     "output_type": "stream",
     "text": [
      " 54%|██████████████████████████████████████████████████████████████████████████████████████▊                                                                          | 7786/14435 [01:09<00:59, 112.28it/s]"
     ]
    },
    {
     "name": "stdout",
     "output_type": "stream",
     "text": [
      "[WARNING] sse_func.find_boundaries : There are still secondary-structure associated residues within the Subdomain connecting loop. Please check if this is within limits:\n",
      "scored_seq[helix_end+1:sheet_start] = array([0, 1, 0, 0, 0, 0, 0])\n"
     ]
    },
    {
     "name": "stderr",
     "output_type": "stream",
     "text": [
      " 54%|███████████████████████████████████████████████████████████████████████████████████████▌                                                                         | 7846/14435 [01:09<00:59, 110.26it/s]"
     ]
    },
    {
     "name": "stdout",
     "output_type": "stream",
     "text": [
      "[WARNING] sse_func.find_boundaries : There are still secondary-structure associated residues within the Subdomain connecting loop. Please check if this is within limits:\n",
      "scored_seq[helix_end+1:sheet_start] = array([0, 1, 0, 0, 0, 0, 0])\n",
      "[WARNING] sse_func.find_boundaries : There are still secondary-structure associated residues within the Subdomain connecting loop. Please check if this is within limits:\n",
      "scored_seq[helix_end+1:sheet_start] = array([0, 1, 0, 0, 0, 0, 0, 0, 0, 0, 0])\n"
     ]
    },
    {
     "name": "stderr",
     "output_type": "stream",
     "text": [
      " 55%|███████████████████████████████████████████████████████████████████████████████████████▉                                                                         | 7882/14435 [01:10<00:57, 113.93it/s]"
     ]
    },
    {
     "name": "stdout",
     "output_type": "stream",
     "text": [
      "[WARNING] sse_func.find_boundaries : There are still secondary-structure associated residues within the Subdomain connecting loop. Please check if this is within limits:\n",
      "scored_seq[helix_end+1:sheet_start] = array([0, 1, 0, 0, 0, 0, 0, 0, 0, 0, 0])\n"
     ]
    },
    {
     "name": "stderr",
     "output_type": "stream",
     "text": [
      " 55%|█████████████████████████████████████████████████████████████████████████████████████████                                                                        | 7986/14435 [01:10<00:53, 119.51it/s]"
     ]
    },
    {
     "name": "stdout",
     "output_type": "stream",
     "text": [
      "[WARNING] sse_func.find_boundaries : There are still secondary-structure associated residues within the Subdomain connecting loop. Please check if this is within limits:\n",
      "scored_seq[helix_end+1:sheet_start] = array([0, 1, 0, 0, 0, 0, 0, 0, 0, 0, 0])\n",
      "[WARNING] sse_func.find_boundaries : There are still secondary-structure associated residues within the Subdomain connecting loop. Please check if this is within limits:\n",
      "scored_seq[helix_end+1:sheet_start] = array([0, 1, 1, 0, 0, 0])\n",
      "No GPS residue present in this Domain. Is this really a GAIN?\n",
      "[DEBUG] gain_classes.GPS : ALTERNATIVE GPS DETECTION! DEBUG:last_sheets = [(605, 607), (610, 613)]\n"
     ]
    },
    {
     "name": "stderr",
     "output_type": "stream",
     "text": [
      " 56%|█████████████████████████████████████████████████████████████████████████████████████████▋                                                                       | 8046/14435 [01:11<01:01, 104.64it/s]"
     ]
    },
    {
     "name": "stdout",
     "output_type": "stream",
     "text": [
      "[WARNING] sse_func.find_boundaries : There are still secondary-structure associated residues within the Subdomain connecting loop. Please check if this is within limits:\n",
      "scored_seq[helix_end+1:sheet_start] = array([0, 1, 0, 0, 0, 0, 0, 0, 0, 0])\n"
     ]
    },
    {
     "name": "stderr",
     "output_type": "stream",
     "text": [
      " 57%|███████████████████████████████████████████████████████████████████████████████████████████                                                                      | 8164/14435 [01:12<00:54, 115.51it/s]"
     ]
    },
    {
     "name": "stdout",
     "output_type": "stream",
     "text": [
      "[WARNING] sse_func.find_boundaries : There are still secondary-structure associated residues within the Subdomain connecting loop. Please check if this is within limits:\n",
      "scored_seq[helix_end+1:sheet_start] = array([0, 1, 0, 0, 0, 0, 0, 0, 0, 0, 0])\n",
      "[WARNING] sse_func.find_boundaries : There are still secondary-structure associated residues within the Subdomain connecting loop. Please check if this is within limits:\n",
      "scored_seq[helix_end+1:sheet_start] = array([0, 0, 0, 0, 0, 0, 0, 1, 0, 0, 0, 0, 0, 0, 0, 0, 0, 0, 0, 0, 0])\n"
     ]
    },
    {
     "name": "stderr",
     "output_type": "stream",
     "text": [
      " 58%|█████████████████████████████████████████████████████████████████████████████████████████████▏                                                                   | 8359/14435 [01:14<00:54, 110.57it/s]"
     ]
    },
    {
     "name": "stdout",
     "output_type": "stream",
     "text": [
      "[WARNING] sse_func.find_boundaries : There are still secondary-structure associated residues within the Subdomain connecting loop. Please check if this is within limits:\n",
      "scored_seq[helix_end+1:sheet_start] = array([0, 1, 0, 0, 0, 0, 0])\n",
      "[WARNING] sse_func.find_boundaries : There are still secondary-structure associated residues within the Subdomain connecting loop. Please check if this is within limits:\n",
      "scored_seq[helix_end+1:sheet_start] = array([0, 1, 0, 0, 0, 0, 0])\n",
      "[WARNING] sse_func.find_boundaries : There are still secondary-structure associated residues within the Subdomain connecting loop. Please check if this is within limits:\n",
      "scored_seq[helix_end+1:sheet_start] = array([0, 1, 0, 0, 0, 0, 0])\n",
      "[WARNING] sse_func.find_boundaries : There are still secondary-structure associated residues within the Subdomain connecting loop. Please check if this is within limits:\n",
      "scored_seq[helix_end+1:sheet_start] = array([0, 1, 0, 0, 0, 0, 0])\n"
     ]
    },
    {
     "name": "stderr",
     "output_type": "stream",
     "text": [
      " 58%|█████████████████████████████████████████████████████████████████████████████████████████████▉                                                                   | 8419/14435 [01:14<00:53, 112.99it/s]"
     ]
    },
    {
     "name": "stdout",
     "output_type": "stream",
     "text": [
      "[WARNING] sse_func.find_boundaries : There are still secondary-structure associated residues within the Subdomain connecting loop. Please check if this is within limits:\n",
      "scored_seq[helix_end+1:sheet_start] = array([0, 1, 0, 0, 0, 0, 0, 0, 0, 0, 0])\n",
      "[WARNING] sse_func.find_boundaries : There are still secondary-structure associated residues within the Subdomain connecting loop. Please check if this is within limits:\n",
      "scored_seq[helix_end+1:sheet_start] = array([0, 1, 0, 0, 0, 0, 0, 0, 0, 0, 0])\n"
     ]
    },
    {
     "name": "stderr",
     "output_type": "stream",
     "text": [
      " 59%|███████████████████████████████████████████████████████████████████████████████████████████████▋                                                                 | 8584/14435 [01:15<00:45, 128.31it/s]"
     ]
    },
    {
     "name": "stdout",
     "output_type": "stream",
     "text": [
      "[WARNING] sse_func.find_boundaries : There are still secondary-structure associated residues within the Subdomain connecting loop. Please check if this is within limits:\n",
      "scored_seq[helix_end+1:sheet_start] = array([0, 1, 0, 0, 0, 0, 0, 0, 0, 0, 0])\n",
      "[WARNING] sse_func.find_boundaries : There are still secondary-structure associated residues within the Subdomain connecting loop. Please check if this is within limits:\n",
      "scored_seq[helix_end+1:sheet_start] = array([0, 1, 0, 0, 0, 0, 0, 0, 0, 0, 0])\n",
      "[WARNING] sse_func.find_boundaries : There are still secondary-structure associated residues within the Subdomain connecting loop. Please check if this is within limits:\n",
      "scored_seq[helix_end+1:sheet_start] = array([0, 1, 0, 0, 0, 0, 0, 0, 0, 0, 0])\n"
     ]
    },
    {
     "name": "stderr",
     "output_type": "stream",
     "text": [
      " 63%|████████████████████████████████████████████████████████████████████████████████████████████████████▉                                                            | 9046/14435 [01:19<00:39, 135.34it/s]"
     ]
    },
    {
     "name": "stdout",
     "output_type": "stream",
     "text": [
      "[WARNING] sse_func.find_boundaries : There are still secondary-structure associated residues within the Subdomain connecting loop. Please check if this is within limits:\n",
      "scored_seq[helix_end+1:sheet_start] = array([0, 1, 0, 0, 0, 0, 0])\n"
     ]
    },
    {
     "name": "stderr",
     "output_type": "stream",
     "text": [
      " 63%|█████████████████████████████████████████████████████████████████████████████████████████████████████▉                                                           | 9145/14435 [01:20<00:42, 123.13it/s]"
     ]
    },
    {
     "name": "stdout",
     "output_type": "stream",
     "text": [
      "[WARNING] sse_func.find_boundaries : There are still secondary-structure associated residues within the Subdomain connecting loop. Please check if this is within limits:\n",
      "scored_seq[helix_end+1:sheet_start] = array([0, 1, 0, 0, 0, 0, 0])\n"
     ]
    },
    {
     "name": "stderr",
     "output_type": "stream",
     "text": [
      " 64%|██████████████████████████████████████████████████████████████████████████████████████████████████████▍                                                          | 9184/14435 [01:20<00:42, 122.96it/s]"
     ]
    },
    {
     "name": "stdout",
     "output_type": "stream",
     "text": [
      "[WARNING] sse_func.find_boundaries : There are still secondary-structure associated residues within the Subdomain connecting loop. Please check if this is within limits:\n",
      "scored_seq[helix_end+1:sheet_start] = array([0, 1, 0, 0, 0, 0, 0, 0, 0, 0, 0])\n",
      "[WARNING] sse_func.find_boundaries : There are still secondary-structure associated residues within the Subdomain connecting loop. Please check if this is within limits:\n",
      "scored_seq[helix_end+1:sheet_start] = array([0, 1, 0, 0, 0, 0, 0, 0, 0, 0, 0])\n"
     ]
    },
    {
     "name": "stderr",
     "output_type": "stream",
     "text": [
      " 65%|████████████████████████████████████████████████████████████████████████████████████████████████████████▉                                                        | 9411/14435 [01:22<00:42, 118.73it/s]"
     ]
    },
    {
     "name": "stdout",
     "output_type": "stream",
     "text": [
      "[WARNING] sse_func.find_boundaries : There are still secondary-structure associated residues within the Subdomain connecting loop. Please check if this is within limits:\n",
      "scored_seq[helix_end+1:sheet_start] = array([0, 1, 0, 0, 0, 0, 0, 0, 0, 0, 0])\n"
     ]
    },
    {
     "name": "stderr",
     "output_type": "stream",
     "text": [
      " 66%|██████████████████████████████████████████████████████████████████████████████████████████████████████████▋                                                      | 9567/14435 [01:23<00:34, 142.44it/s]"
     ]
    },
    {
     "name": "stdout",
     "output_type": "stream",
     "text": [
      "[WARNING] sse_func.find_boundaries : There are still secondary-structure associated residues within the Subdomain connecting loop. Please check if this is within limits:\n",
      "scored_seq[helix_end+1:sheet_start] = array([0, 0, 0, 0, 0, 1, 0, 0, 0, 0, 0])\n"
     ]
    },
    {
     "name": "stderr",
     "output_type": "stream",
     "text": [
      " 67%|███████████████████████████████████████████████████████████████████████████████████████████████████████████▏                                                     | 9609/14435 [01:24<00:39, 122.88it/s]"
     ]
    },
    {
     "name": "stdout",
     "output_type": "stream",
     "text": [
      "[WARNING] sse_func.find_boundaries : There are still secondary-structure associated residues within the Subdomain connecting loop. Please check if this is within limits:\n",
      "scored_seq[helix_end+1:sheet_start] = array([0, 1, 0, 0, 0, 0, 0])\n",
      "[WARNING] sse_func.find_boundaries : There are still secondary-structure associated residues within the Subdomain connecting loop. Please check if this is within limits:\n",
      "scored_seq[helix_end+1:sheet_start] = array([0, 1, 0, 0, 0, 0, 0])\n",
      "[WARNING] sse_func.find_boundaries : There are still secondary-structure associated residues within the Subdomain connecting loop. Please check if this is within limits:\n",
      "scored_seq[helix_end+1:sheet_start] = array([0, 1, 0, 0, 0, 0, 0])\n",
      "[WARNING] sse_func.find_boundaries : There are still secondary-structure associated residues within the Subdomain connecting loop. Please check if this is within limits:\n",
      "scored_seq[helix_end+1:sheet_start] = array([0, 1, 0, 0, 0, 0, 0])\n"
     ]
    },
    {
     "name": "stderr",
     "output_type": "stream",
     "text": [
      " 67%|███████████████████████████████████████████████████████████████████████████████████████████████████████████▍                                                     | 9635/14435 [01:24<00:40, 119.00it/s]"
     ]
    },
    {
     "name": "stdout",
     "output_type": "stream",
     "text": [
      "[WARNING] sse_func.find_boundaries : There are still secondary-structure associated residues within the Subdomain connecting loop. Please check if this is within limits:\n",
      "scored_seq[helix_end+1:sheet_start] = array([0, 1, 0, 0, 0, 0, 0])\n",
      "[WARNING] sse_func.find_boundaries : There are still secondary-structure associated residues within the Subdomain connecting loop. Please check if this is within limits:\n",
      "scored_seq[helix_end+1:sheet_start] = array([0, 1, 0, 0, 0, 0, 0])\n",
      "[WARNING] sse_func.find_boundaries : There are still secondary-structure associated residues within the Subdomain connecting loop. Please check if this is within limits:\n",
      "scored_seq[helix_end+1:sheet_start] = array([0, 1, 0, 0, 0, 0, 0, 0, 0, 0, 0])\n"
     ]
    },
    {
     "name": "stderr",
     "output_type": "stream",
     "text": [
      " 68%|█████████████████████████████████████████████████████████████████████████████████████████████████████████████▍                                                   | 9809/14435 [01:25<00:36, 126.89it/s]"
     ]
    },
    {
     "name": "stdout",
     "output_type": "stream",
     "text": [
      "[WARNING] sse_func.find_boundaries : There are still secondary-structure associated residues within the Subdomain connecting loop. Please check if this is within limits:\n",
      "scored_seq[helix_end+1:sheet_start] = array([0, 1, 0, 0, 0, 0, 0, 0, 0, 0, 0])\n",
      "[WARNING] sse_func.find_boundaries : There are still secondary-structure associated residues within the Subdomain connecting loop. Please check if this is within limits:\n",
      "scored_seq[helix_end+1:sheet_start] = array([0, 1, 0, 0, 0, 0, 0, 0, 0, 0, 0])\n",
      "[WARNING] sse_func.find_boundaries : There are still secondary-structure associated residues within the Subdomain connecting loop. Please check if this is within limits:\n",
      "scored_seq[helix_end+1:sheet_start] = array([0, 1, 0, 0, 0, 0, 0, 0, 0, 0, 0])\n",
      "[WARNING] sse_func.find_boundaries : There are still secondary-structure associated residues within the Subdomain connecting loop. Please check if this is within limits:\n",
      "scored_seq[helix_end+1:sheet_start] = array([0, 1, 0, 0, 0, 0, 0, 0])\n",
      "[WARNING] sse_func.find_boundaries : There are still secondary-structure associated residues within the Subdomain connecting loop. Please check if this is within limits:\n",
      "scored_seq[helix_end+1:sheet_start] = array([0, 1, 0, 0, 0, 0, 0, 0, 0, 0, 0])\n",
      "[WARNING] sse_func.find_boundaries : There are still secondary-structure associated residues within the Subdomain connecting loop. Please check if this is within limits:\n",
      "scored_seq[helix_end+1:sheet_start] = array([0, 1, 0, 0, 0, 0, 0, 0, 0, 0, 0])\n",
      "[WARNING] sse_func.find_boundaries : There are still secondary-structure associated residues within the Subdomain connecting loop. Please check if this is within limits:\n",
      "scored_seq[helix_end+1:sheet_start] = array([0, 1, 0, 0, 0, 0, 0, 0, 0, 0, 0])\n",
      "[WARNING] sse_func.find_boundaries : There are still secondary-structure associated residues within the Subdomain connecting loop. Please check if this is within limits:\n",
      "scored_seq[helix_end+1:sheet_start] = array([0, 1, 0, 0, 0, 0, 0, 0, 0, 0, 0])\n",
      "[WARNING] sse_func.find_boundaries : There are still secondary-structure associated residues within the Subdomain connecting loop. Please check if this is within limits:\n",
      "scored_seq[helix_end+1:sheet_start] = array([0, 1, 0, 0, 0, 0, 0, 0, 0, 0, 0])\n",
      "[WARNING] sse_func.find_boundaries : There are still secondary-structure associated residues within the Subdomain connecting loop. Please check if this is within limits:\n",
      "scored_seq[helix_end+1:sheet_start] = array([0, 1, 0, 0, 0, 0, 0, 0, 0, 0, 0])\n",
      "[WARNING] sse_func.find_boundaries : There are still secondary-structure associated residues within the Subdomain connecting loop. Please check if this is within limits:\n",
      "scored_seq[helix_end+1:sheet_start] = array([0, 1, 0, 0, 0, 0, 0, 0, 0, 0, 0])\n",
      "[WARNING] sse_func.find_boundaries : There are still secondary-structure associated residues within the Subdomain connecting loop. Please check if this is within limits:\n",
      "scored_seq[helix_end+1:sheet_start] = array([0, 1, 0, 0, 0, 0, 0, 0, 0, 0, 0])\n",
      "[WARNING] sse_func.find_boundaries : There are still secondary-structure associated residues within the Subdomain connecting loop. Please check if this is within limits:\n",
      "scored_seq[helix_end+1:sheet_start] = array([0, 1, 0, 0, 0, 0, 0, 0])\n",
      "[WARNING] sse_func.find_boundaries : There are still secondary-structure associated residues within the Subdomain connecting loop. Please check if this is within limits:\n",
      "scored_seq[helix_end+1:sheet_start] = array([0, 1, 0, 0, 0, 0, 0, 0, 0, 0, 0])\n",
      "[WARNING] sse_func.find_boundaries : There are still secondary-structure associated residues within the Subdomain connecting loop. Please check if this is within limits:\n",
      "scored_seq[helix_end+1:sheet_start] = array([0, 1, 0, 0, 0, 0, 0, 0, 0, 0, 0])\n"
     ]
    },
    {
     "name": "stderr",
     "output_type": "stream",
     "text": [
      " 68%|█████████████████████████████████████████████████████████████████████████████████████████████████████████████▋                                                   | 9836/14435 [01:25<00:35, 127.78it/s]"
     ]
    },
    {
     "name": "stdout",
     "output_type": "stream",
     "text": [
      "[WARNING] sse_func.find_boundaries : There are still secondary-structure associated residues within the Subdomain connecting loop. Please check if this is within limits:\n",
      "scored_seq[helix_end+1:sheet_start] = array([0, 1, 0, 0, 0, 0, 0, 0, 0, 0, 0])\n",
      "[WARNING] sse_func.find_boundaries : There are still secondary-structure associated residues within the Subdomain connecting loop. Please check if this is within limits:\n",
      "scored_seq[helix_end+1:sheet_start] = array([0, 1, 0, 0, 0, 0, 0, 0, 0, 0, 0])\n",
      "[WARNING] sse_func.find_boundaries : There are still secondary-structure associated residues within the Subdomain connecting loop. Please check if this is within limits:\n",
      "scored_seq[helix_end+1:sheet_start] = array([0, 1, 0, 0, 0, 0, 0, 0, 0, 0, 0])\n"
     ]
    },
    {
     "name": "stderr",
     "output_type": "stream",
     "text": [
      " 71%|█████████████████████████████████████████████████████████████████████████████████████████████████████████████████▊                                              | 10266/14435 [01:29<00:34, 122.42it/s]"
     ]
    },
    {
     "name": "stdout",
     "output_type": "stream",
     "text": [
      "[WARNING] sse_func.find_boundaries : There are still secondary-structure associated residues within the Subdomain connecting loop. Please check if this is within limits:\n",
      "scored_seq[helix_end+1:sheet_start] = array([0, 0, 0, 0, 0, 0, 0, 1, 0, 0, 0, 0, 0, 0, 0, 0, 0])\n"
     ]
    },
    {
     "name": "stderr",
     "output_type": "stream",
     "text": [
      " 74%|██████████████████████████████████████████████████████████████████████████████████████████████████████████████████████▉                                         | 10731/14435 [01:33<00:29, 124.19it/s]"
     ]
    },
    {
     "name": "stdout",
     "output_type": "stream",
     "text": [
      "[WARNING] sse_func.find_boundaries : There are still secondary-structure associated residues within the Subdomain connecting loop. Please check if this is within limits:\n",
      "scored_seq[helix_end+1:sheet_start] = array([0, 0, 0, 0, 0, 0, 0, 1, 0, 0, 0, 0, 0, 0, 0, 0, 0])\n"
     ]
    },
    {
     "name": "stderr",
     "output_type": "stream",
     "text": [
      " 75%|████████████████████████████████████████████████████████████████████████████████████████████████████████████████████████▏                                       | 10840/14435 [01:34<00:28, 125.88it/s]"
     ]
    },
    {
     "name": "stdout",
     "output_type": "stream",
     "text": [
      "[WARNING] sse_func.find_boundaries : There are still secondary-structure associated residues within the Subdomain connecting loop. Please check if this is within limits:\n",
      "scored_seq[helix_end+1:sheet_start] = array([0, 1, 0, 0, 0, 0, 0, 0, 0, 0, 0])\n",
      "[WARNING] sse_func.find_boundaries : There are still secondary-structure associated residues within the Subdomain connecting loop. Please check if this is within limits:\n",
      "scored_seq[helix_end+1:sheet_start] = array([0, 1, 0, 0, 0, 0, 0, 0, 0, 0, 0])\n",
      "[WARNING] sse_func.find_boundaries : There are still secondary-structure associated residues within the Subdomain connecting loop. Please check if this is within limits:\n",
      "scored_seq[helix_end+1:sheet_start] = array([0, 1, 0, 0, 0, 0, 0, 0, 0, 0, 0])\n",
      "[WARNING] sse_func.find_boundaries : There are still secondary-structure associated residues within the Subdomain connecting loop. Please check if this is within limits:\n",
      "scored_seq[helix_end+1:sheet_start] = array([0, 1, 0, 0, 0, 0, 0, 0, 0, 0, 0])\n",
      "[WARNING] sse_func.find_boundaries : There are still secondary-structure associated residues within the Subdomain connecting loop. Please check if this is within limits:\n",
      "scored_seq[helix_end+1:sheet_start] = array([0, 1, 0, 0, 0, 0, 0, 0, 0, 0, 0])\n",
      "[WARNING] sse_func.find_boundaries : There are still secondary-structure associated residues within the Subdomain connecting loop. Please check if this is within limits:\n",
      "scored_seq[helix_end+1:sheet_start] = array([0, 1, 0, 0, 0, 0, 0, 0, 0, 0, 0])\n",
      "[WARNING] sse_func.find_boundaries : There are still secondary-structure associated residues within the Subdomain connecting loop. Please check if this is within limits:\n",
      "scored_seq[helix_end+1:sheet_start] = array([0, 1, 0, 0, 0, 0, 0, 0, 0, 0, 0])\n",
      "[WARNING] sse_func.find_boundaries : There are still secondary-structure associated residues within the Subdomain connecting loop. Please check if this is within limits:\n",
      "scored_seq[helix_end+1:sheet_start] = array([0, 1, 0, 0, 0, 0, 0, 0, 0, 0, 0])\n",
      "[WARNING] sse_func.find_boundaries : There are still secondary-structure associated residues within the Subdomain connecting loop. Please check if this is within limits:\n",
      "scored_seq[helix_end+1:sheet_start] = array([0, 1, 0, 0, 0, 0, 0, 0, 0, 0, 0])\n",
      "[WARNING] sse_func.find_boundaries : There are still secondary-structure associated residues within the Subdomain connecting loop. Please check if this is within limits:\n",
      "scored_seq[helix_end+1:sheet_start] = array([0, 1, 0, 0, 0, 0, 0, 0, 0, 0, 0])\n"
     ]
    },
    {
     "name": "stderr",
     "output_type": "stream",
     "text": [
      " 75%|████████████████████████████████████████████████████████████████████████████████████████████████████████████████████████▍                                       | 10866/14435 [01:34<00:28, 123.90it/s]"
     ]
    },
    {
     "name": "stdout",
     "output_type": "stream",
     "text": [
      "[WARNING] sse_func.find_boundaries : There are still secondary-structure associated residues within the Subdomain connecting loop. Please check if this is within limits:\n",
      "scored_seq[helix_end+1:sheet_start] = array([0, 1, 0, 0, 0, 0, 0, 0, 0, 0, 0])\n",
      "[WARNING] sse_func.find_boundaries : There are still secondary-structure associated residues within the Subdomain connecting loop. Please check if this is within limits:\n",
      "scored_seq[helix_end+1:sheet_start] = array([0, 1, 0, 0, 0, 0, 0, 0, 0, 0, 0])\n",
      "[WARNING] sse_func.find_boundaries : There are still secondary-structure associated residues within the Subdomain connecting loop. Please check if this is within limits:\n",
      "scored_seq[helix_end+1:sheet_start] = array([0, 1, 0, 0, 0, 0, 0, 0, 0, 0, 0])\n",
      "[WARNING] sse_func.find_boundaries : There are still secondary-structure associated residues within the Subdomain connecting loop. Please check if this is within limits:\n",
      "scored_seq[helix_end+1:sheet_start] = array([0, 1, 0, 0, 0, 0, 0, 0, 0, 0, 0])\n",
      "[WARNING] sse_func.find_boundaries : There are still secondary-structure associated residues within the Subdomain connecting loop. Please check if this is within limits:\n",
      "scored_seq[helix_end+1:sheet_start] = array([0, 1, 0, 0, 0, 0, 0, 0, 0, 0, 0])\n",
      "[WARNING] sse_func.find_boundaries : There are still secondary-structure associated residues within the Subdomain connecting loop. Please check if this is within limits:\n",
      "scored_seq[helix_end+1:sheet_start] = array([0, 1, 0, 0, 0, 0, 0, 0, 0, 0, 0])\n",
      "[WARNING] sse_func.find_boundaries : There are still secondary-structure associated residues within the Subdomain connecting loop. Please check if this is within limits:\n",
      "scored_seq[helix_end+1:sheet_start] = array([0, 1, 0, 0, 0, 0, 0, 0, 0, 0, 0])\n",
      "[WARNING] sse_func.find_boundaries : There are still secondary-structure associated residues within the Subdomain connecting loop. Please check if this is within limits:\n",
      "scored_seq[helix_end+1:sheet_start] = array([0, 1, 0, 0, 0, 0, 0, 0, 0, 0, 0])\n",
      "[WARNING] sse_func.find_boundaries : There are still secondary-structure associated residues within the Subdomain connecting loop. Please check if this is within limits:\n",
      "scored_seq[helix_end+1:sheet_start] = array([0, 1, 0, 0, 0, 0, 0, 0, 0, 0, 0])\n"
     ]
    },
    {
     "name": "stderr",
     "output_type": "stream",
     "text": [
      " 76%|██████████████████████████████████████████████████████████████████████████████████████████████████████████████████████████                                      | 11016/14435 [01:35<00:26, 129.67it/s]"
     ]
    },
    {
     "name": "stdout",
     "output_type": "stream",
     "text": [
      "[WARNING] sse_func.find_boundaries : There are still secondary-structure associated residues within the Subdomain connecting loop. Please check if this is within limits:\n",
      "scored_seq[helix_end+1:sheet_start] = array([0, 1, 0, 0, 0, 0, 0, 0, 0, 0, 0])\n",
      "[WARNING] sse_func.find_boundaries : There are still secondary-structure associated residues within the Subdomain connecting loop. Please check if this is within limits:\n",
      "scored_seq[helix_end+1:sheet_start] = array([0, 1, 0, 0, 0, 0, 0, 0, 0, 0, 0])\n",
      "[WARNING] sse_func.find_boundaries : There are still secondary-structure associated residues within the Subdomain connecting loop. Please check if this is within limits:\n",
      "scored_seq[helix_end+1:sheet_start] = array([0, 1, 0, 0, 0, 0, 0, 0, 0, 0, 0])\n",
      "[WARNING] sse_func.find_boundaries : There are still secondary-structure associated residues within the Subdomain connecting loop. Please check if this is within limits:\n",
      "scored_seq[helix_end+1:sheet_start] = array([0, 1, 0, 0, 0, 0, 0, 0])\n",
      "[WARNING] sse_func.find_boundaries : There are still secondary-structure associated residues within the Subdomain connecting loop. Please check if this is within limits:\n",
      "scored_seq[helix_end+1:sheet_start] = array([0, 1, 0, 0, 0, 0, 0, 0, 0, 0, 0])\n",
      "[WARNING] sse_func.find_boundaries : There are still secondary-structure associated residues within the Subdomain connecting loop. Please check if this is within limits:\n",
      "scored_seq[helix_end+1:sheet_start] = array([0, 1, 0, 0, 0, 0, 0, 0, 0, 0, 0])\n",
      "[WARNING] sse_func.find_boundaries : There are still secondary-structure associated residues within the Subdomain connecting loop. Please check if this is within limits:\n",
      "scored_seq[helix_end+1:sheet_start] = array([0, 1, 0, 0, 0, 0, 0, 0, 0, 0, 0])\n",
      "[WARNING] sse_func.find_boundaries : There are still secondary-structure associated residues within the Subdomain connecting loop. Please check if this is within limits:\n",
      "scored_seq[helix_end+1:sheet_start] = array([0, 1, 0, 0, 0, 0, 0, 0, 0, 0, 0])\n",
      "[WARNING] sse_func.find_boundaries : There are still secondary-structure associated residues within the Subdomain connecting loop. Please check if this is within limits:\n",
      "scored_seq[helix_end+1:sheet_start] = array([0, 1, 0, 0, 0, 0, 0, 0, 0, 0, 0])\n",
      "[WARNING] sse_func.find_boundaries : There are still secondary-structure associated residues within the Subdomain connecting loop. Please check if this is within limits:\n",
      "scored_seq[helix_end+1:sheet_start] = array([0, 1, 0, 0, 0, 0, 0, 0, 0, 0, 0])\n",
      "[WARNING] sse_func.find_boundaries : There are still secondary-structure associated residues within the Subdomain connecting loop. Please check if this is within limits:\n",
      "scored_seq[helix_end+1:sheet_start] = array([0, 1, 0, 0, 0, 0, 0, 0, 0, 0, 0])\n",
      "[WARNING] sse_func.find_boundaries : There are still secondary-structure associated residues within the Subdomain connecting loop. Please check if this is within limits:\n",
      "scored_seq[helix_end+1:sheet_start] = array([0, 1, 0, 0, 0, 0, 0, 0, 0, 0, 0])\n",
      "[WARNING] sse_func.find_boundaries : There are still secondary-structure associated residues within the Subdomain connecting loop. Please check if this is within limits:\n",
      "scored_seq[helix_end+1:sheet_start] = array([0, 1, 0, 0, 0, 0, 0, 0, 0, 0, 0])\n"
     ]
    },
    {
     "name": "stderr",
     "output_type": "stream",
     "text": [
      " 77%|███████████████████████████████████████████████████████████████████████████████████████████████████████████████████████████▋                                    | 11163/14435 [01:36<00:27, 121.01it/s]"
     ]
    },
    {
     "name": "stdout",
     "output_type": "stream",
     "text": [
      "[WARNING] sse_func.find_boundaries : There are still secondary-structure associated residues within the Subdomain connecting loop. Please check if this is within limits:\n",
      "scored_seq[helix_end+1:sheet_start] = array([0, 1, 0, 0, 0, 0, 0, 0, 0, 0, 0])\n"
     ]
    },
    {
     "name": "stderr",
     "output_type": "stream",
     "text": [
      " 78%|████████████████████████████████████████████████████████████████████████████████████████████████████████████████████████████▍                                   | 11228/14435 [01:37<00:26, 123.21it/s]"
     ]
    },
    {
     "name": "stdout",
     "output_type": "stream",
     "text": [
      "[WARNING] sse_func.find_boundaries : There are still secondary-structure associated residues within the Subdomain connecting loop. Please check if this is within limits:\n",
      "scored_seq[helix_end+1:sheet_start] = array([0, 0, 0, 0, 0, 0, 0, 1, 0, 0, 0, 0, 0, 0, 0, 0, 0])\n",
      "[WARNING] sse_func.find_boundaries : There are still secondary-structure associated residues within the Subdomain connecting loop. Please check if this is within limits:\n",
      "scored_seq[helix_end+1:sheet_start] = array([0, 0, 0, 0, 0, 0, 0, 1, 0, 0, 0, 0, 0, 0, 0, 0, 0])\n"
     ]
    },
    {
     "name": "stderr",
     "output_type": "stream",
     "text": [
      " 79%|█████████████████████████████████████████████████████████████████████████████████████████████████████████████████████████████▌                                  | 11333/14435 [01:37<00:24, 129.05it/s]"
     ]
    },
    {
     "name": "stdout",
     "output_type": "stream",
     "text": [
      "[WARNING] sse_func.find_boundaries : There are still secondary-structure associated residues within the Subdomain connecting loop. Please check if this is within limits:\n",
      "scored_seq[helix_end+1:sheet_start] = array([0, 1, 0, 0, 0, 0, 0, 0, 0, 0, 0])\n",
      "[WARNING] sse_func.find_boundaries : There are still secondary-structure associated residues within the Subdomain connecting loop. Please check if this is within limits:\n",
      "scored_seq[helix_end+1:sheet_start] = array([0, 1, 0, 0, 0, 0, 0, 0, 0, 0, 0])\n",
      "[WARNING] sse_func.find_boundaries : There are still secondary-structure associated residues within the Subdomain connecting loop. Please check if this is within limits:\n",
      "scored_seq[helix_end+1:sheet_start] = array([0, 1, 0, 0, 0, 0, 0, 0, 0, 0, 0])\n",
      "[WARNING] sse_func.find_boundaries : There are still secondary-structure associated residues within the Subdomain connecting loop. Please check if this is within limits:\n",
      "scored_seq[helix_end+1:sheet_start] = array([0, 1, 0, 0, 0, 0, 0, 0, 0, 0, 0])\n"
     ]
    },
    {
     "name": "stderr",
     "output_type": "stream",
     "text": [
      " 80%|███████████████████████████████████████████████████████████████████████████████████████████████████████████████████████████████▍                                | 11495/14435 [01:39<00:23, 124.78it/s]"
     ]
    },
    {
     "name": "stdout",
     "output_type": "stream",
     "text": [
      "[WARNING] sse_func.find_boundaries : There are still secondary-structure associated residues within the Subdomain connecting loop. Please check if this is within limits:\n",
      "scored_seq[helix_end+1:sheet_start] = array([0, 0, 0, 1, 1, 0, 0, 0, 0, 0, 0, 0, 0, 0, 0, 0, 0, 0, 0, 0, 0, 0,\n",
      "       0, 0, 0, 0, 0, 0, 0, 0, 0, 0, 0, 0, 0, 0, 0, 0, 0, 0, 0, 0, 0, 0,\n",
      "       0, 0, 0, 0, 0, 0, 0, 0, 0, 0, 0, 0, 0, 0, 0, 0, 0, 0, 0, 0, 0, 0,\n",
      "       0, 0])\n"
     ]
    },
    {
     "name": "stderr",
     "output_type": "stream",
     "text": [
      " 81%|██████████████████████████████████████████████████████████████████████████████████████████████████████████████████████████████████▏                             | 11740/14435 [01:41<00:22, 118.91it/s]"
     ]
    },
    {
     "name": "stdout",
     "output_type": "stream",
     "text": [
      "[WARNING] sse_func.find_boundaries : There are still secondary-structure associated residues within the Subdomain connecting loop. Please check if this is within limits:\n",
      "scored_seq[helix_end+1:sheet_start] = array([0, 0, 0, 0, 0, 1, 1, 1, 0, 0, 0, 0, 0, 0, 0, 0, 0, 0, 0, 0, 0])\n"
     ]
    },
    {
     "name": "stderr",
     "output_type": "stream",
     "text": [
      " 82%|██████████████████████████████████████████████████████████████████████████████████████████████████████████████████████████████████▋                             | 11792/14435 [01:41<00:22, 118.14it/s]"
     ]
    },
    {
     "name": "stdout",
     "output_type": "stream",
     "text": [
      "[WARNING] sse_func.find_boundaries : There are still secondary-structure associated residues within the Subdomain connecting loop. Please check if this is within limits:\n",
      "scored_seq[helix_end+1:sheet_start] = array([0, 0, 0, 0, 0, 0, 0, 1, 0, 0, 0, 0, 0, 0, 0, 0, 0])\n",
      "[WARNING] sse_func.find_boundaries : There are still secondary-structure associated residues within the Subdomain connecting loop. Please check if this is within limits:\n",
      "scored_seq[helix_end+1:sheet_start] = array([0, 0, 0, 0, 0, 0, 0, 1, 0, 0, 0, 0, 0, 0, 0, 0, 0])\n"
     ]
    },
    {
     "name": "stderr",
     "output_type": "stream",
     "text": [
      " 82%|███████████████████████████████████████████████████████████████████████████████████████████████████████████████████████████████████▎                            | 11843/14435 [01:42<00:21, 121.78it/s]"
     ]
    },
    {
     "name": "stdout",
     "output_type": "stream",
     "text": [
      "[WARNING] sse_func.find_boundaries : There are still secondary-structure associated residues within the Subdomain connecting loop. Please check if this is within limits:\n",
      "scored_seq[helix_end+1:sheet_start] = array([0, 1, 0, 0, 0, 0, 0, 0, 0, 0, 0])\n",
      "[WARNING] sse_func.find_boundaries : There are still secondary-structure associated residues within the Subdomain connecting loop. Please check if this is within limits:\n",
      "scored_seq[helix_end+1:sheet_start] = array([0, 1, 0, 0, 0, 0, 0, 0, 0, 0, 0])\n",
      "[WARNING] sse_func.find_boundaries : There are still secondary-structure associated residues within the Subdomain connecting loop. Please check if this is within limits:\n",
      "scored_seq[helix_end+1:sheet_start] = array([0, 1, 0, 0, 0, 0, 0, 0, 0, 0, 0])\n",
      "[WARNING] sse_func.find_boundaries : There are still secondary-structure associated residues within the Subdomain connecting loop. Please check if this is within limits:\n",
      "scored_seq[helix_end+1:sheet_start] = array([0, 1, 0, 0, 0, 0, 0, 0, 0, 0, 0])\n",
      "[WARNING] sse_func.find_boundaries : There are still secondary-structure associated residues within the Subdomain connecting loop. Please check if this is within limits:\n",
      "scored_seq[helix_end+1:sheet_start] = array([0, 1, 0, 0, 0, 0, 0, 0, 0, 0, 0])\n",
      "[WARNING] sse_func.find_boundaries : There are still secondary-structure associated residues within the Subdomain connecting loop. Please check if this is within limits:\n",
      "scored_seq[helix_end+1:sheet_start] = array([0, 1, 0, 0, 0, 0, 0, 0, 0, 0, 0])\n",
      "[WARNING] sse_func.find_boundaries : There are still secondary-structure associated residues within the Subdomain connecting loop. Please check if this is within limits:\n",
      "scored_seq[helix_end+1:sheet_start] = array([0, 1, 0, 0, 0, 0, 0, 0, 0, 0, 0])\n",
      "[WARNING] sse_func.find_boundaries : There are still secondary-structure associated residues within the Subdomain connecting loop. Please check if this is within limits:\n",
      "scored_seq[helix_end+1:sheet_start] = array([0, 1, 0, 0, 0, 0, 0, 0, 0, 0, 0])\n"
     ]
    },
    {
     "name": "stderr",
     "output_type": "stream",
     "text": [
      " 83%|█████████████████████████████████████████████████████████████████████████████████████████████████████████████████████████████████████▎                          | 12025/14435 [01:43<00:19, 122.36it/s]"
     ]
    },
    {
     "name": "stdout",
     "output_type": "stream",
     "text": [
      "[WARNING] sse_func.find_boundaries : There are still secondary-structure associated residues within the Subdomain connecting loop. Please check if this is within limits:\n",
      "scored_seq[helix_end+1:sheet_start] = array([0, 1, 0, 0, 0, 0, 0, 0, 0, 0, 0])\n"
     ]
    },
    {
     "name": "stderr",
     "output_type": "stream",
     "text": [
      " 85%|███████████████████████████████████████████████████████████████████████████████████████████████████████████████████████████████████████▏                        | 12200/14435 [01:45<00:18, 119.37it/s]"
     ]
    },
    {
     "name": "stdout",
     "output_type": "stream",
     "text": [
      "[WARNING] sse_func.find_boundaries : There are still secondary-structure associated residues within the Subdomain connecting loop. Please check if this is within limits:\n",
      "scored_seq[helix_end+1:sheet_start] = array([0, 1, 0, 0, 0, 0, 0])\n",
      "[WARNING] sse_func.find_boundaries : There are still secondary-structure associated residues within the Subdomain connecting loop. Please check if this is within limits:\n",
      "scored_seq[helix_end+1:sheet_start] = array([0, 1, 0, 0, 0, 0, 0])\n",
      "[WARNING] sse_func.find_boundaries : There are still secondary-structure associated residues within the Subdomain connecting loop. Please check if this is within limits:\n",
      "scored_seq[helix_end+1:sheet_start] = array([0, 1, 0, 0, 0, 0, 0, 0, 0, 0, 0])\n",
      "[WARNING] sse_func.find_boundaries : There are still secondary-structure associated residues within the Subdomain connecting loop. Please check if this is within limits:\n",
      "scored_seq[helix_end+1:sheet_start] = array([0, 1, 0, 0, 0, 0, 0, 0, 0, 0, 0])\n"
     ]
    },
    {
     "name": "stderr",
     "output_type": "stream",
     "text": [
      " 85%|████████████████████████████████████████████████████████████████████████████████████████████████████████████████████████████████████████▋                       | 12337/14435 [01:46<00:17, 123.28it/s]"
     ]
    },
    {
     "name": "stdout",
     "output_type": "stream",
     "text": [
      "[WARNING] sse_func.find_boundaries : There are still secondary-structure associated residues within the Subdomain connecting loop. Please check if this is within limits:\n",
      "scored_seq[helix_end+1:sheet_start] = array([0, 0, 1, 1, 0, 0, 0, 0])\n"
     ]
    },
    {
     "name": "stderr",
     "output_type": "stream",
     "text": [
      " 86%|██████████████████████████████████████████████████████████████████████████████████████████████████████████████████████████████████████████                      | 12451/14435 [01:47<00:14, 140.99it/s]"
     ]
    },
    {
     "name": "stdout",
     "output_type": "stream",
     "text": [
      "No GPS residue present in this Domain. Is this really a GAIN?\n",
      "[DEBUG] gain_classes.GPS : ALTERNATIVE GPS DETECTION! DEBUG:last_sheets = [(212, 213), (231, 232)]\n"
     ]
    },
    {
     "name": "stderr",
     "output_type": "stream",
     "text": [
      " 87%|███████████████████████████████████████████████████████████████████████████████████████████████████████████████████████████████████████████▋                    | 12605/14435 [01:48<00:15, 121.67it/s]"
     ]
    },
    {
     "name": "stdout",
     "output_type": "stream",
     "text": [
      "[WARNING] sse_func.find_boundaries : There are still secondary-structure associated residues within the Subdomain connecting loop. Please check if this is within limits:\n",
      "scored_seq[helix_end+1:sheet_start] = array([0, 1, 0, 0, 0, 0, 0, 0, 0, 0, 0])\n",
      "[WARNING] sse_func.find_boundaries : There are still secondary-structure associated residues within the Subdomain connecting loop. Please check if this is within limits:\n",
      "scored_seq[helix_end+1:sheet_start] = array([0, 1, 0, 0, 0, 0, 0, 0, 0, 0, 0])\n"
     ]
    },
    {
     "name": "stderr",
     "output_type": "stream",
     "text": [
      " 88%|████████████████████████████████████████████████████████████████████████████████████████████████████████████████████████████████████████████▏                   | 12643/14435 [01:48<00:15, 118.25it/s]"
     ]
    },
    {
     "name": "stdout",
     "output_type": "stream",
     "text": [
      "[WARNING] sse_func.find_boundaries : There are still secondary-structure associated residues within the Subdomain connecting loop. Please check if this is within limits:\n",
      "scored_seq[helix_end+1:sheet_start] = array([0, 0, 0, 0, 1, 1, 0, 0, 0, 0, 0, 0, 0, 0, 0, 0, 0, 0, 0, 0, 0, 0,\n",
      "       0, 0, 0, 0, 0, 0, 0, 0, 0, 0, 0, 0, 0, 0])\n"
     ]
    },
    {
     "name": "stderr",
     "output_type": "stream",
     "text": [
      " 90%|████████████████████████████████████████████████████████████████████████████████████████████████████████████████████████████████████████████████▋               | 13056/14435 [01:51<00:10, 130.46it/s]"
     ]
    },
    {
     "name": "stdout",
     "output_type": "stream",
     "text": [
      "[WARNING] sse_func.find_boundaries : There are still secondary-structure associated residues within the Subdomain connecting loop. Please check if this is within limits:\n",
      "scored_seq[helix_end+1:sheet_start] = array([0, 0, 0, 0, 0, 0, 0, 1, 0, 0, 0, 0, 0, 0, 0, 0, 0])\n"
     ]
    },
    {
     "name": "stderr",
     "output_type": "stream",
     "text": [
      " 91%|██████████████████████████████████████████████████████████████████████████████████████████████████████████████████████████████████████████████████▏             | 13194/14435 [01:52<00:10, 122.41it/s]"
     ]
    },
    {
     "name": "stdout",
     "output_type": "stream",
     "text": [
      "[WARNING] sse_func.find_boundaries : There are still secondary-structure associated residues within the Subdomain connecting loop. Please check if this is within limits:\n",
      "scored_seq[helix_end+1:sheet_start] = array([0, 1, 0, 0, 0, 0, 0])\n",
      "[WARNING] sse_func.find_boundaries : There are still secondary-structure associated residues within the Subdomain connecting loop. Please check if this is within limits:\n",
      "scored_seq[helix_end+1:sheet_start] = array([0, 1, 0, 0, 0, 0, 0])\n",
      "[WARNING] sse_func.find_boundaries : There are still secondary-structure associated residues within the Subdomain connecting loop. Please check if this is within limits:\n",
      "scored_seq[helix_end+1:sheet_start] = array([0, 1, 0, 0, 0, 0, 0])\n"
     ]
    },
    {
     "name": "stderr",
     "output_type": "stream",
     "text": [
      " 92%|███████████████████████████████████████████████████████████████████████████████████████████████████████████████████████████████████████████████████▉            | 13347/14435 [01:54<00:09, 118.22it/s]"
     ]
    },
    {
     "name": "stdout",
     "output_type": "stream",
     "text": [
      "[WARNING] sse_func.find_boundaries : There are still secondary-structure associated residues within the Subdomain connecting loop. Please check if this is within limits:\n",
      "scored_seq[helix_end+1:sheet_start] = array([0, 1, 0, 0, 0, 0, 0, 0, 0])\n",
      "No GPS residue present in this Domain. Is this really a GAIN?\n",
      "[DEBUG] gain_classes.GPS : ALTERNATIVE GPS DETECTION! DEBUG:last_sheets = [(779, 786), (788, 795)]\n",
      "[WARNING] sse_func.find_boundaries : There are still secondary-structure associated residues within the Subdomain connecting loop. Please check if this is within limits:\n",
      "scored_seq[helix_end+1:sheet_start] = array([0, 1, 0, 0, 0, 0, 0, 0, 0, 0, 0])\n",
      "[WARNING] sse_func.find_boundaries : There are still secondary-structure associated residues within the Subdomain connecting loop. Please check if this is within limits:\n",
      "scored_seq[helix_end+1:sheet_start] = array([0, 1, 0, 0, 0, 0, 0, 0, 0, 0, 0])\n",
      "[WARNING] sse_func.find_boundaries : There are still secondary-structure associated residues within the Subdomain connecting loop. Please check if this is within limits:\n",
      "scored_seq[helix_end+1:sheet_start] = array([0, 1, 0, 0, 0, 0, 0, 0, 0, 0, 0])\n",
      "[WARNING] sse_func.find_boundaries : There are still secondary-structure associated residues within the Subdomain connecting loop. Please check if this is within limits:\n",
      "scored_seq[helix_end+1:sheet_start] = array([0, 1, 0, 0, 0, 0, 0, 0, 0, 0, 0])\n",
      "[WARNING] sse_func.find_boundaries : There are still secondary-structure associated residues within the Subdomain connecting loop. Please check if this is within limits:\n",
      "scored_seq[helix_end+1:sheet_start] = array([0, 1, 0, 0, 0, 0, 0, 0, 0, 0, 0])\n",
      "[WARNING] sse_func.find_boundaries : There are still secondary-structure associated residues within the Subdomain connecting loop. Please check if this is within limits:\n",
      "scored_seq[helix_end+1:sheet_start] = array([0, 1, 0, 0, 0, 0, 0, 0, 0, 0, 0])\n"
     ]
    },
    {
     "name": "stderr",
     "output_type": "stream",
     "text": [
      " 93%|████████████████████████████████████████████████████████████████████████████████████████████████████████████████████████████████████████████████████▎           | 13385/14435 [01:54<00:08, 119.98it/s]"
     ]
    },
    {
     "name": "stdout",
     "output_type": "stream",
     "text": [
      "[WARNING] sse_func.find_boundaries : There are still secondary-structure associated residues within the Subdomain connecting loop. Please check if this is within limits:\n",
      "scored_seq[helix_end+1:sheet_start] = array([0, 0, 0, 0, 0, 0, 0, 0, 1, 0, 0, 0, 0, 0, 0, 0, 0, 0])\n"
     ]
    },
    {
     "name": "stderr",
     "output_type": "stream",
     "text": [
      " 94%|██████████████████████████████████████████████████████████████████████████████████████████████████████████████████████████████████████████████████████▋         | 13590/14435 [01:56<00:06, 131.00it/s]"
     ]
    },
    {
     "name": "stdout",
     "output_type": "stream",
     "text": [
      "[WARNING] sse_func.find_boundaries : There are still secondary-structure associated residues within the Subdomain connecting loop. Please check if this is within limits:\n",
      "scored_seq[helix_end+1:sheet_start] = array([0, 0, 0, 0, 0, 0, 1, 1, 0, 0, 0, 0, 0, 0, 0, 0, 0, 0, 0, 0, 0, 0,\n",
      "       0, 0, 0, 0])\n"
     ]
    },
    {
     "name": "stderr",
     "output_type": "stream",
     "text": [
      " 96%|████████████████████████████████████████████████████████████████████████████████████████████████████████████████████████████████████████████████████████▉       | 13796/14435 [01:57<00:04, 128.20it/s]"
     ]
    },
    {
     "name": "stdout",
     "output_type": "stream",
     "text": [
      "[WARNING] sse_func.find_boundaries : There are still secondary-structure associated residues within the Subdomain connecting loop. Please check if this is within limits:\n",
      "scored_seq[helix_end+1:sheet_start] = array([0, 0, 0, 0, 0, 0, 0, 0, 1, 0, 0, 0, 0, 0, 0, 0, 0, 0, 0, 0, 0, 0,\n",
      "       0, 0, 0, 0, 0, 0, 0, 0, 0, 0, 0, 0, 0, 0, 0, 0])\n"
     ]
    },
    {
     "name": "stderr",
     "output_type": "stream",
     "text": [
      " 97%|██████████████████████████████████████████████████████████████████████████████████████████████████████████████████████████████████████████████████████████▌     | 13944/14435 [01:58<00:03, 124.93it/s]"
     ]
    },
    {
     "name": "stdout",
     "output_type": "stream",
     "text": [
      "[WARNING] sse_func.find_boundaries : There are still secondary-structure associated residues within the Subdomain connecting loop. Please check if this is within limits:\n",
      "scored_seq[helix_end+1:sheet_start] = array([0, 1, 0, 0, 0, 0, 0, 0, 0, 0, 0])\n"
     ]
    },
    {
     "name": "stderr",
     "output_type": "stream",
     "text": [
      " 99%|█████████████████████████████████████████████████████████████████████████████████████████████████████████████████████████████████████████████████████████████▋  | 14224/14435 [02:01<00:01, 125.82it/s]"
     ]
    },
    {
     "name": "stdout",
     "output_type": "stream",
     "text": [
      "[WARNING] sse_func.find_boundaries : There are still secondary-structure associated residues within the Subdomain connecting loop. Please check if this is within limits:\n",
      "scored_seq[helix_end+1:sheet_start] = array([0, 1, 0, 0, 0, 0, 0])\n"
     ]
    },
    {
     "name": "stderr",
     "output_type": "stream",
     "text": [
      "100%|████████████████████████████████████████████████████████████████████████████████████████████████████████████████████████████████████████████████████████████████| 14435/14435 [02:02<00:00, 117.54it/s]"
     ]
    },
    {
     "name": "stdout",
     "output_type": "stream",
     "text": [
      "Completed collection with 3 invalid structures.\n"
     ]
    },
    {
     "name": "stderr",
     "output_type": "stream",
     "text": [
      "\n"
     ]
    }
   ],
   "source": [
    "valid_collection = GainCollection(  alignment_file = alignment_file,\n",
    "                                    aln_cutoff = aln_cutoff,\n",
    "                                    quality = quality,\n",
    "                                    gps_index = gps_minus_one,\n",
    "                                    stride_files = stride_files,\n",
    "                                    sequence_files=None,\n",
    "                                    sequences=valid_seqs,\n",
    "                                    alignment_dict = alignment_dict,\n",
    "                                    is_truncated = True,\n",
    "                                    #coil_weight=0.08, # TESTING\n",
    "                                    #domain_threshold=20, # TESTING\n",
    "                                    stride_outlier_mode=True)\n",
    "#for gain in valid_collection.collection:\n",
    "#    gain.create_indexing()"
   ]
  },
  {
   "cell_type": "code",
   "execution_count": null,
   "metadata": {},
   "outputs": [],
   "source": [
    "receptor_list = [\"AGRA2\",\"AGRA3\", \"AGRB1\", \"AGRB2\", \"AGRB3\", \"AGRC1\", \"AGRC2\", \"AGRC3\", \"AGRD1\", \n",
    "                \"AGRD2\", \"AGRE1\", \"AGRE2\", \"AGRE3\", \"AGRE4\", \"AGRE5\", \"AGRF1\", \"AGRF2\", \"AGRF3\", \n",
    "                \"AGRF4\", \"AGRF5\", \"AGRG1\", \"AGRG2\", \"AGRG3\", \"AGRG4\", \"AGRG5\", \"AGRG6\", \"AGRG7\", \n",
    "                \"AGRL1\", \"AGRL2\", \"AGRL3\", \"AGRL4\", \"AGRV1\", \"AGRA\", \"AGRB\", \"AGRC\", \"AGRD\", \n",
    "                \"AGRE\", \"AGRF\", \"AGRG\", \"AGRL\", \"AGRV\", \"_\" ]\n",
    "                #[\"EGFLAGseven-passG-typereceptor1\", \"CELR1\", \"CELSR1\"], \n",
    "                #[\"EGFLAGseven-passG-typereceptor2\", \"CELR2\", \"CELSR2\"]\n",
    "                #[\"EGFLAGseven-passG-typereceptor3\", \"CELR3\", \"CELSR3\"]]\n",
    "                 \n",
    "\"\"\"receptor_list = [[\"EGFLAGseven-passG-typereceptor1\", \"CELR1\", \"CELSR1\"], \n",
    "                 [\"EGFLAGseven-passG-typereceptor2\", \"CELR2\", \"CELSR2\"],\n",
    "                 [\"EGFLAGseven-passG-typereceptor3\", \"CELR3\", \"CELSR3\"],\n",
    "                 [\"EGFLAGseven-passG-typereceptor\", \"CELR\", \"CELSR\"]]\"\"\"\n",
    "#out_names = (\"ADGRC1\", \"ADGRC2\", \"ADGRC3\", \"ADGRC\")\n",
    "for i,group in enumerate(receptor_list):\n",
    "    parse_string = group\n",
    "    \n",
    "    print(parse_string)\n",
    "    filtered_sequences = filter_by_receptor(valid_seqs, parse_string)\n",
    "    #filtered_sequences = filter_by_list(valid_seqs, group)\n",
    "    if len(filtered_sequences) == 0:\n",
    "        continue\n",
    "    print(f\"Parsed with {parse_string = }: Result : {len(filtered_sequences)} Sequences\")\n",
    "    parsed_collection = GainCollection( alignment_file = alignment_file,\n",
    "                                        aln_cutoff = aln_cutoff,\n",
    "                                        quality = quality,\n",
    "                                        gps_index = gps_minus_one,\n",
    "                                        stride_files = stride_files,\n",
    "                                        sequence_files=None,\n",
    "                                        sequences=filtered_sequences,\n",
    "                                        alignment_dict = alignment_dict,\n",
    "                                        is_truncated = True,\n",
    "                                        coil_weight=0.08 # testing\n",
    "                                         )\n",
    "    parsed_collection.plot_sse_hist(title=f\"Receptor group: {parse_string} (Total: {len(filtered_sequences)})\",\n",
    "                                   n_max=16,\n",
    "                                   #savename=\"hists/%s.adj\"%(out_names[i]))\n",
    "                                   savename=\"hists/%s\"%(str(group)))"
   ]
  },
  {
   "cell_type": "code",
   "execution_count": null,
   "metadata": {},
   "outputs": [],
   "source": [
    "    parse_string = \"_\"\n",
    "    print(parse_string)\n",
    "    filtered_sequences = filter_by_receptor(valid_seqs, parse_string)\n",
    "    #if len(filtered_sequences) == 0:\n",
    "    print(f\"Parsed with {parse_string = }: Result : {len(filtered_sequences)} Sequences\")\n",
    "    parsed_collection = GainCollection( alignment_file = alignment_file,\n",
    "                                        aln_cutoff = aln_cutoff,\n",
    "                                        quality = quality,\n",
    "                                        gps_index = gps_minus_one,\n",
    "                                        stride_files = stride_files,\n",
    "                                        sequence_files=None,\n",
    "                                        sequences=filtered_sequences,\n",
    "                                        alignment_dict = alignment_dict,\n",
    "                                        is_truncated = True\n",
    "                                         )\n",
    "    parsed_collection.plot_sse_hist(title=f\"Receptor group: {parse_string} (Total: {len(filtered_sequences)})\",\n",
    "                                   n_max=16,\n",
    "                                   savename=\"hists/%s\"%(str(group)))\""
   ]
  },
  {
   "cell_type": "code",
   "execution_count": 5,
   "metadata": {},
   "outputs": [
    {
     "name": "stdout",
     "output_type": "stream",
     "text": [
      "17212\n"
     ]
    }
   ],
   "source": [
    "# Function for Parsing out specific Files from the overall dataset based on selection\n",
    "def grab_selection(parse_string, stride_path, pdb_list, sequences, profile_path, target_dir, seqs=None):\n",
    "    # grabs PDB file, stride file, profiles, sequence from FASTA and copies to target dir.\n",
    "    if seqs is None:\n",
    "        sub_seqs = [seq for seq in sequences if parse_string.lower() in seq[0].lower()]\n",
    "    else: sub_seqs = seqs\n",
    "    print(f\"Found {len(sub_seqs)} sequences.\")\n",
    "    strides = glob.glob(stride_path+\"*.stride\")#\n",
    "    profiles = glob.glob(profile_path+\"*.png\")\n",
    "    \n",
    "    sub_strides = []\n",
    "    sub_profiles = []\n",
    "    sub_pdbs = []\n",
    "    \n",
    "    for seq in sub_seqs:\n",
    "        ac = seq[0].split(\"-\")[0]\n",
    "        [sub_profiles.append(prof) for prof in profiles if ac in prof]\n",
    "        [sub_strides.append(stride) for stride in strides if ac in stride]\n",
    "        [sub_pdbs.append(pdb) for pdb in pdb_list if ac in pdb]\n",
    "    \n",
    "    for prof in sub_profiles:\n",
    "        name = prof.split(\"/\")[-1]\n",
    "        copyfile(prof, target_dir+\"profiles/\"+name)\n",
    "    \n",
    "    for stride in sub_strides:\n",
    "        name = stride.split(\"/\")[-1]\n",
    "        copyfile(stride, target_dir+\"strides/\"+name)\n",
    "    \n",
    "    for pdb in sub_pdbs:\n",
    "        name = pdb.split(\"/\")[-1]\n",
    "        copyfile(pdb, target_dir+\"pdbs/\"+name)\n",
    "        \n",
    "    for seq in sub_seqs:\n",
    "        sse_func.write2fasta(seq[1]+\"\\n\", seq[0], target_dir+\"seqs/\"+seq[0]+\".fa\")\n",
    "        \n",
    "    print(f\"Copied {len(sub_pdbs)} PDB files, {len(sub_strides)} STRIDE files,\",\n",
    "          f\" {len(sub_profiles)} Profiles and {len(sub_seqs)} Sequences\",\n",
    "          f\"for Selection {parse_string}\")\n",
    "    \n",
    "root_path = \"/home/hildilab/projects/agpcr_nom/\"\n",
    "profile_path = root_path+\"all_gps_profiles/\"\n",
    "pdb_list = glob.glob(f\"{root_path}all_gps*/batch*/*rank_1_*.pdb\")\n",
    "print(len(pdb_list))\n",
    "#valid_seqs\n",
    "target_dir = root_path+\"human/\""
   ]
  },
  {
   "cell_type": "code",
   "execution_count": null,
   "metadata": {},
   "outputs": [],
   "source": [
    "\"\"\"grab_selection(parse_string='HUMAN',\n",
    "              stride_path = root_path+\"all_gps_stride/\",\n",
    "              pdb_list = pdb_list,\n",
    "              sequences = valid_seqs,\n",
    "              profile_path = profile_path,\n",
    "              target_dir = target_dir)\"\"\""
   ]
  },
  {
   "cell_type": "code",
   "execution_count": null,
   "metadata": {},
   "outputs": [],
   "source": []
  },
  {
   "cell_type": "code",
   "execution_count": 6,
   "metadata": {},
   "outputs": [
    {
     "name": "stdout",
     "output_type": "stream",
     "text": [
      "[NOTE] GainCollection.__init__: Found sequences object.\n"
     ]
    },
    {
     "name": "stderr",
     "output_type": "stream",
     "text": [
      "100%|██████████████████████████████████████████████████████████████████████████████████████████████████████████████████████████████████████████████████████████████████████| 31/31 [00:00<00:00, 229.29it/s]"
     ]
    },
    {
     "name": "stdout",
     "output_type": "stream",
     "text": [
      "[DEBUG] gain_classes.GainDomain : O94910_Q96IE7_Q9BU07_Q9HAR3-AGRL1_HUMAN-AGRL1-Homo_sapiens\n",
      "DETECTED ALTERED GAIN DOMAIN DETECTION. TRUNCATING @ RESIDUE : 2\n",
      "\tself.start = 479\tself.end = 798\n",
      "\tlen(sequence) = 321\n",
      "\tself.end-self.start+1 = 320\n",
      "[DEBUG]: gain_classes.GainDomain : \n",
      "\t len(sequence) = 321, len(self.sequence) = 319\n",
      "LSNCTSPWVNQVAQKIKSGENAANIASELARHTRGSIYAGDVSSSVKLMEQLLDILDAQLQALRPIERESAGKNYNKMHKRERTCKDYIKAVVETVDNLLRPEALESWKDMNATEQVHTATMLLDVLEEGAFLLADNVREPARFLAAKENVVLEVTVLNTEGQVQELVFPQEEYPRKNSIQLSAKTIKQNSRNGVVKVVFILYNNLGLFLSTENATVKLAGEAGPGGPGGASLVVNSQVIAASINKESSRVFLMDPVIFTVAHLEDKNHFNANCSFWNYSERSMLGYWSTQGCRLVESNKTHTTCACSHLTNFAVLMAHRE\n",
      "NCTSPWVNQVAQKIKSGENAANIASELARHTRGSIYAGDVSSSVKLMEQLLDILDAQLQALRPIERESAGKNYNKMHKRERTCKDYIKAVVETVDNLLRPEALESWKDMNATEQVHTATMLLDVLEEGAFLLADNVREPARFLAAKENVVLEVTVLNTEGQVQELVFPQEEYPRKNSIQLSAKTIKQNSRNGVVKVVFILYNNLGLFLSTENATVKLAGEAGPGGPGGASLVVNSQVIAASINKESSRVFLMDPVIFTVAHLEDKNHFNANCSFWNYSERSMLGYWSTQGCRLVESNKTHTTCACSHLTNFAVLMAHRE\n",
      "[DEBUG] gain_classes.GainDomain : O95490_A5XEI2_B1ALT8_B1ALT9_B1ALU0_B1ALU2_B1ALU4_B1ALU5_B1ALU6-AGRL2_HUMAN-AGRL2-Homo_sapiens\n",
      "DETECTED ALTERED GAIN DOMAIN DETECTION. TRUNCATING @ RESIDUE : 2\n",
      "\tself.start = 482\tself.end = 798\n",
      "\tlen(sequence) = 318\n",
      "\tself.end-self.start+1 = 317\n",
      "[DEBUG]: gain_classes.GainDomain : \n",
      "\t len(sequence) = 318, len(self.sequence) = 316\n",
      "LSNCTSHWVNQLAQKIRSGENAASLANELAKHTKGPVFAGDVSSSVRLMEQLVDILDAQLQELKPSEKDSAGRSYNKLQKREKTCRAYLKAIVDTVDNLLRPEALESWKHMNSSEQAHTATMLLDTLEEGAFVLADNLLEPTRVSMPTENIVLEVAVLSTEGQIQDFKFPLGIKGAGSSIQLSANTVKQNSRNGLAKLVFIIYRSLGQFLSTENATIKLGADFIGRNSTIAVNSHVISVSINKESSRVYLTDPVLFTLPHIDPDNYFNANCSFWNYSERTMMGYWSTQGCKLVDTNKTRTTCACSHLTNFAILMAHRE\n",
      "NCTSHWVNQLAQKIRSGENAASLANELAKHTKGPVFAGDVSSSVRLMEQLVDILDAQLQELKPSEKDSAGRSYNKLQKREKTCRAYLKAIVDTVDNLLRPEALESWKHMNSSEQAHTATMLLDTLEEGAFVLADNLLEPTRVSMPTENIVLEVAVLSTEGQIQDFKFPLGIKGAGSSIQLSANTVKQNSRNGLAKLVFIIYRSLGQFLSTENATIKLGADFIGRNSTIAVNSHVISVSINKESSRVYLTDPVLFTLPHIDPDNYFNANCSFWNYSERTMMGYWSTQGCKLVDTNKTRTTCACSHLTNFAILMAHRE\n",
      "[WARNING] sse_func.find_boundaries : There are still secondary-structure associated residues within the Subdomain connecting loop. Please check if this is within limits:\n",
      "scored_seq[helix_end+1:sheet_start] = array([0.08, 1.  , 0.08, 0.08, 0.08, 0.08, 0.08])\n",
      "[DEBUG] gain_classes.GainDomain : Q8IZF6_A2A2J1_A2A2J2_Q5EGP2_Q86SM6-AGRG4_HUMAN-AGRG4-Homo_sapiens\n",
      "DETECTED ALTERED GAIN DOMAIN DETECTION. TRUNCATING @ RESIDUE : 2\n",
      "\tself.start = 517\tself.end = 796\n",
      "\tlen(sequence) = 281\n",
      "\tself.end-self.start+1 = 280\n",
      "[DEBUG]: gain_classes.GainDomain : \n",
      "\t len(sequence) = 281, len(self.sequence) = 279\n",
      "ELPDKIVDLANITISDENAEDVAEHILNLINESPALGKEETKIIVSKISDISQCDEISMNLTHVMLQIINVVLEKQNNSASDLHEISNEILRIIERTGHKMEFSGQIANLTVAGLALAVLRGDHTFDGMAFSIHSYEEGTDPEIFLGNVPVGGILASIYLPKSLTERIPLSNLQTILFNFFGQTSLFKTKNVTKALTTYVVSASISDDMFIQNLADPVVITLQHIGGNQNYGQVHCAFWDFENNNGLGGWNSSGCKVKETNVNYTICQCDHLTHFGVLMDL\n",
      "PDKIVDLANITISDENAEDVAEHILNLINESPALGKEETKIIVSKISDISQCDEISMNLTHVMLQIINVVLEKQNNSASDLHEISNEILRIIERTGHKMEFSGQIANLTVAGLALAVLRGDHTFDGMAFSIHSYEEGTDPEIFLGNVPVGGILASIYLPKSLTERIPLSNLQTILFNFFGQTSLFKTKNVTKALTTYVVSASISDDMFIQNLADPVVITLQHIGGNQNYGQVHCAFWDFENNNGLGGWNSSGCKVKETNVNYTICQCDHLTHFGVLMDL\n",
      "[DEBUG] gain_classes.GainDomain : Q9HAR2_E9PE04_O94867_Q9NWK5-AGRL3_HUMAN-AGRL3-Homo_sapiens\n",
      "DETECTED ALTERED GAIN DOMAIN DETECTION. TRUNCATING @ RESIDUE : 2\n",
      "\tself.start = 494\tself.end = 798\n",
      "\tlen(sequence) = 306\n",
      "\tself.end-self.start+1 = 305\n",
      "[DEBUG]: gain_classes.GainDomain : \n",
      "\t len(sequence) = 306, len(self.sequence) = 304\n",
      "LSNCSSPWVNHITQKLKSGETAANIARELAEQTRNHLNAGDITYSVRAMDQLVGLLDVQLRNLTPGGKDSAARSLNKAMVETVNNLLQPQALNAWRDLTTSDQLRAATMLLHTVEESAFVLADNLLKTDIVRENTDNIKLEVARLSTEGNLEDLKFPENMGHGSTIQLSANTLKQNGRNGEIRVAFVLYNNLGPYLSTENASMKLGTEALSTNHSVIVNSPVITAAINKEFSNKVYLADPVVFTVKHIKQSEENFNPNCSFWSYSKRTMTGYWSTQGCRLLTTNKTHTTCSCNHLTNFAVLMAHVE\n",
      "NCSSPWVNHITQKLKSGETAANIARELAEQTRNHLNAGDITYSVRAMDQLVGLLDVQLRNLTPGGKDSAARSLNKAMVETVNNLLQPQALNAWRDLTTSDQLRAATMLLHTVEESAFVLADNLLKTDIVRENTDNIKLEVARLSTEGNLEDLKFPENMGHGSTIQLSANTLKQNGRNGEIRVAFVLYNNLGPYLSTENASMKLGTEALSTNHSVIVNSPVITAAINKEFSNKVYLADPVVFTVKHIKQSEENFNPNCSFWSYSKRTMTGYWSTQGCRLLTTNKTHTTCSCNHLTNFAVLMAHVE\n",
      "[DEBUG] gain_classes.GainDomain : Q86Y34_Q6ZMF4_Q86SL9_Q8IZF1-AGRG3_HUMAN-AGRG3-Homo_sapiens\n",
      "DETECTED ALTERED GAIN DOMAIN DETECTION. TRUNCATING @ RESIDUE : 2\n",
      "\tself.start = 23\tself.end = 258\n",
      "\tlen(sequence) = 237\n",
      "\tself.end-self.start+1 = 236\n",
      "[DEBUG]: gain_classes.GainDomain : \n",
      "\t len(sequence) = 237, len(self.sequence) = 235\n",
      "KPTEGPRNTCLGSNNMYDIFNLNDKALCFTKCRQSGSDSCNVENLQRYWLNYEAHLMKEGLTQKVNTPFLKALVQNLSTNTAEDFYFSLEPSQVPRQVMKDEDKPPDRVRLPKSLFRSLPGNRSVVRLAVTILDIGPGTLFKGPRLGLGDGSGVLNNRLVGLSVGQMHVTKLAEPLEIVFSHQRPPPNMTLTCVFWDVTKGTTGDWSSEGCSTEVRPEGTVCCCDHLTFFALLLRPT\n",
      "TEGPRNTCLGSNNMYDIFNLNDKALCFTKCRQSGSDSCNVENLQRYWLNYEAHLMKEGLTQKVNTPFLKALVQNLSTNTAEDFYFSLEPSQVPRQVMKDEDKPPDRVRLPKSLFRSLPGNRSVVRLAVTILDIGPGTLFKGPRLGLGDGSGVLNNRLVGLSVGQMHVTKLAEPLEIVFSHQRPPPNMTLTCVFWDVTKGTTGDWSSEGCSTEVRPEGTVCCCDHLTFFALLLRPT\n",
      "[DEBUG] gain_classes.GainDomain : Q9HBW9_B1AR71_Q5KU34-AGRL4_HUMAN-AGRL4-Homo_sapiens\n",
      "DETECTED ALTERED GAIN DOMAIN DETECTION. TRUNCATING @ RESIDUE : 2\n",
      "\tself.start = 113\tself.end = 414\n",
      "\tlen(sequence) = 303\n",
      "\tself.end-self.start+1 = 302\n",
      "[DEBUG]: gain_classes.GainDomain : \n",
      "\t len(sequence) = 303, len(self.sequence) = 301\n",
      "ANCHLDNVCIAANINKTLTKIRSIKEPVALLQEVYRNSVTDLSPTDIITYIEILAESSSLLGYKNNTISAKDTLSNSTLTEFVKTVNNFVQRDTFVVWDKLSVNHRRTHLTKLMHTVEQATLRISQSFQKTTEFDTNSTDIALKVFFFDSYNMKHIHPHMNMDGDYINIFPKRKAAYDSNGNVAVAFVYYKSIGPLLSSSDNFLLKPQNYDNSEEEERVISSVISVSMSSNPPTLYELEKITFTLSHRKVTDRYRSLCAFWNYSPDTMNGSWSSEGCELTYSNETHTSCRCNHLTHFAILMSS\n",
      "CHLDNVCIAANINKTLTKIRSIKEPVALLQEVYRNSVTDLSPTDIITYIEILAESSSLLGYKNNTISAKDTLSNSTLTEFVKTVNNFVQRDTFVVWDKLSVNHRRTHLTKLMHTVEQATLRISQSFQKTTEFDTNSTDIALKVFFFDSYNMKHIHPHMNMDGDYINIFPKRKAAYDSNGNVAVAFVYYKSIGPLLSSSDNFLLKPQNYDNSEEEERVISSVISVSMSSNPPTLYELEKITFTLSHRKVTDRYRSLCAFWNYSPDTMNGSWSSEGCELTYSNETHTSCRCNHLTHFAILMSS\n",
      "[DEBUG] gain_classes.GainDomain : Q7Z7M1_Q86SL4_Q8NH12-AGRD2_HUMAN-AGRD2-Homo_sapiens\n",
      "DETECTED ALTERED GAIN DOMAIN DETECTION. TRUNCATING @ RESIDUE : 40\n",
      "\tself.start = 395\tself.end = 646\n",
      "\tlen(sequence) = 291\n",
      "\tself.end-self.start+1 = 252\n",
      "[DEBUG]: gain_classes.GainDomain : \n",
      "\t len(sequence) = 291, len(self.sequence) = 251\n",
      "YRTEPYRRLQDAQSWPGQDVISRVNALANDIVLLPDPLSEVHGALSPAEASSFLGLLEHVLAMEMAPLGPAALLAVVRFLKRVVALGAGDPELLLTGPWEQLSQGVVSVASLVLEEQVADTWLSLREVIGGPMALVASVQRLAPLLSTSMTSERPRMRIQHRHAGLSGVTVIHSWFTSRVFQHTLEGPDLEPQAPASSEEANRVQRFLSTQVGSAIISSEVWDVTGEVNVAMTFHLQHRAQSPLFPPHPPSPYTGGAWATTGCSVAALYLDSTACFCNHSTSFAILLQIYE\n",
      "VHGALSPAEASSFLGLLEHVLAMEMAPLGPAALLAVVRFLKRVVALGAGDPELLLTGPWEQLSQGVVSVASLVLEEQVADTWLSLREVIGGPMALVASVQRLAPLLSTSMTSERPRMRIQHRHAGLSGVTVIHSWFTSRVFQHTLEGPDLEPQAPASSEEANRVQRFLSTQVGSAIISSEVWDVTGEVNVAMTFHLQHRAQSPLFPPHPPSPYTGGAWATTGCSVAALYLDSTACFCNHSTSFAILLQIYE\n",
      "[DEBUG] gain_classes.GainDomain : Q8IZF7_Q2PNZ1_Q86SL6_Q8NGU5_Q8TDT5-AGRF2_HUMAN-AGRF2-Homo_sapiens\n",
      "DETECTED ALTERED GAIN DOMAIN DETECTION. TRUNCATING @ RESIDUE : 21\n",
      "\tself.start = 174\tself.end = 436\n",
      "\tlen(sequence) = 283\n",
      "\tself.end-self.start+1 = 263\n",
      "[DEBUG]: gain_classes.GainDomain : \n",
      "\t len(sequence) = 283, len(self.sequence) = 262\n",
      "IFEEDSRLVQPFEDNIKISVYTGKSETITDMLLQKCPTDLSCVIRNIQQSPWIPGNIAVIVQLLHNISTAIWTGVDEAKMQSYSTIANHILNSKSISNWTFIPDRNSSYILLHSVNSFARRLFIDKHPVDISDVFIHTMGTTISGDNIGKNFTFSMRINDTSNEVTGRVLISRDELRKVPSPSQVISIAFPTIGAILEASLLENVTVNGLVLSAILPKELKRISLIFEKISKSEERRTQCVGWHSVENRWDQQACKMIQENSQQAVCKCRPSKLFTSFSILMS\n",
      "TGKSETITDMLLQKCPTDLSCVIRNIQQSPWIPGNIAVIVQLLHNISTAIWTGVDEAKMQSYSTIANHILNSKSISNWTFIPDRNSSYILLHSVNSFARRLFIDKHPVDISDVFIHTMGTTISGDNIGKNFTFSMRINDTSNEVTGRVLISRDELRKVPSPSQVISIAFPTIGAILEASLLENVTVNGLVLSAILPKELKRISLIFEKISKSEERRTQCVGWHSVENRWDQQACKMIQENSQQAVCKCRPSKLFTSFSILMS\n",
      "[DEBUG] gain_classes.GainDomain : Q8IZF3_B3KTD0_Q2PNZ0_Q5T5B5_Q5T5B6_Q86SN9_Q8IXE6-AGRF4_HUMAN-AGRF4-Homo_sapiens\n",
      "DETECTED ALTERED GAIN DOMAIN DETECTION. TRUNCATING @ RESIDUE : 28\n",
      "\tself.start = 123\tself.end = 392\n",
      "\tlen(sequence) = 297\n",
      "\tself.end-self.start+1 = 270\n",
      "[DEBUG]: gain_classes.GainDomain : \n",
      "\t len(sequence) = 297, len(self.sequence) = 269\n",
      "KLFKDSTGASRLSVAAPSIPLHILDFRAPETIESVAQGIRKNCPFDYACITDMVKSSETTSGNIAFIVELLKNISTDLSDNVTREKMKSYSEVANHILDTAAISNWAFIPNKNASSDLLQSVNLFARQLHIHNNSENIVNELFIQTKGFHINHNTSEKSLNFSMSMNNTTEDILGMVQIPRQELRKLWPNASQAISIAFPTLGAILREAHLQNVSLPRQVNGLVLSVVLPERLQEIILTFEKINKTRNARAQCVGWHSKKRRWDEKACQMMLDIRNEVKCRCNYTSVVMSFSILMSS\n",
      "PETIESVAQGIRKNCPFDYACITDMVKSSETTSGNIAFIVELLKNISTDLSDNVTREKMKSYSEVANHILDTAAISNWAFIPNKNASSDLLQSVNLFARQLHIHNNSENIVNELFIQTKGFHINHNTSEKSLNFSMSMNNTTEDILGMVQIPRQELRKLWPNASQAISIAFPTLGAILREAHLQNVSLPRQVNGLVLSVVLPERLQEIILTFEKINKTRNARAQCVGWHSKKRRWDEKACQMMLDIRNEVKCRCNYTSVVMSFSILMSS\n",
      "[DEBUG] gain_classes.GainDomain : Q8IZP9_B1AWB3_B1AWB4_B1AWB6_B1AWB7_O00406_Q14CE0_Q8IWT2_Q8IZE4-AGRG2_HUMAN-AGRG2-Homo_sapiens\n",
      "DETECTED ALTERED GAIN DOMAIN DETECTION. TRUNCATING @ RESIDUE : 2\n",
      "\tself.start = 366\tself.end = 614\n",
      "\tlen(sequence) = 250\n",
      "\tself.end-self.start+1 = 249\n",
      "[DEBUG]: gain_classes.GainDomain : \n",
      "\t len(sequence) = 250, len(self.sequence) = 248\n",
      "TDIVNTSSISDLENQVLQMEKALSLGSLEPNLAGEMINQVSRLLHSPPDMLAPLAQRLLKVVDDIGLQLNFSNTTISLTSPSLALAVIRVNASSFNTTTFVAQDPANLQVSLETQAPENSIGTITLPSSLMNNLPAHDMELASRVQFNFFETPALFQDPSLENLSLISYVISSSVANLTVRNLTRNVTVTLKHINPSQDELTVRCVFWDLGRNGGRGGWSDNGCSVKDRRLNETICTCSHLTSFGVLLDL\n",
      "IVNTSSISDLENQVLQMEKALSLGSLEPNLAGEMINQVSRLLHSPPDMLAPLAQRLLKVVDDIGLQLNFSNTTISLTSPSLALAVIRVNASSFNTTTFVAQDPANLQVSLETQAPENSIGTITLPSSLMNNLPAHDMELASRVQFNFFETPALFQDPSLENLSLISYVISSSVANLTVRNLTRNVTVTLKHINPSQDELTVRCVFWDLGRNGGRGGWSDNGCSVKDRRLNETICTCSHLTSFGVLLDL\n",
      "[DEBUG] gain_classes.GainDomain : P48960_A8K7Z4_B2RBJ9_O00718_O76101_Q8NG72_Q8TBQ7-AGRE5_HUMAN-AGRE5-Homo_sapiens\n",
      "DETECTED ALTERED GAIN DOMAIN DETECTION. TRUNCATING @ RESIDUE : 2\n",
      "\tself.start = 266\tself.end = 541\n",
      "\tlen(sequence) = 277\n",
      "\tself.end-self.start+1 = 276\n",
      "[DEBUG]: gain_classes.GainDomain : \n",
      "\t len(sequence) = 277, len(self.sequence) = 275\n",
      "PPPGVHSQTLSRFFDKVQDLGRDSKTSSAEVTIQNVIKLVDELMEAPGDVEALAPPVRHLIATQLLSNLEDIMRILAKSLPKGPFTYISPSNTELTLMIQERGDKNVTMGQSSARMKLNWAVAAGAEDPGPAVAGILSIQNMTTLLANASLNLHSKKQAELEEIYESSIRGVQLRRLSAVNSIFLSHNNTKELNSPILFAFSHLESSDGEAGRDPPAKDVMPGPRQELLCAFWKSDSDRGGHWATEGCQVLGSKNGSTTCQCSHLSSFAILMAHYDV\n",
      "PGVHSQTLSRFFDKVQDLGRDSKTSSAEVTIQNVIKLVDELMEAPGDVEALAPPVRHLIATQLLSNLEDIMRILAKSLPKGPFTYISPSNTELTLMIQERGDKNVTMGQSSARMKLNWAVAAGAEDPGPAVAGILSIQNMTTLLANASLNLHSKKQAELEEIYESSIRGVQLRRLSAVNSIFLSHNNTKELNSPILFAFSHLESSDGEAGRDPPAKDVMPGPRQELLCAFWKSDSDRGGHWATEGCQVLGSKNGSTTCQCSHLSSFAILMAHYDV\n",
      "[DEBUG] gain_classes.GainDomain : Q6QNK2_B2CKK9_B7ZLF7_Q2M1L3_Q6ZMQ1_Q7Z7M2_Q86SM4-AGRD1_HUMAN-AGRD1-Homo_sapiens\n",
      "DETECTED ALTERED GAIN DOMAIN DETECTION. TRUNCATING @ RESIDUE : 34\n",
      "\tself.start = 268\tself.end = 555\n",
      "\tlen(sequence) = 321\n",
      "\tself.end-self.start+1 = 288\n",
      "[DEBUG]: gain_classes.GainDomain : \n",
      "\t len(sequence) = 321, len(self.sequence) = 287\n",
      "TPDEIAMYFTAAIGKHALLSSTLPSLFMTSTASPVMPTDAYHPIITNLTEERKTFQSPGVILSYLQNVSLSLPSKSLSEQTALNLTKTFLKAVGEILLLPGWIALSEDSAVVLSLIDTIDTVMGHVSSNLHGSTPQVTVEGSSAMAEFSVAKILPKTVNSSHYRFPAHGQSFIQIPHEAFHRHAWSTVVGLLYHSMHYYLNNIWPAHTKIAEAMHHQDCLLFATSHLISLEVSPPPTLSQNLSGSPLITVHLKHRLTRKQHSEATNSSNRVFVYCAFLDFSSGEGVWSNHGCALTRGNLTYSVCRCTHLTNFAILMQVVPL\n",
      "VMPTDAYHPIITNLTEERKTFQSPGVILSYLQNVSLSLPSKSLSEQTALNLTKTFLKAVGEILLLPGWIALSEDSAVVLSLIDTIDTVMGHVSSNLHGSTPQVTVEGSSAMAEFSVAKILPKTVNSSHYRFPAHGQSFIQIPHEAFHRHAWSTVVGLLYHSMHYYLNNIWPAHTKIAEAMHHQDCLLFATSHLISLEVSPPPTLSQNLSGSPLITVHLKHRLTRKQHSEATNSSNRVFVYCAFLDFSSGEGVWSNHGCALTRGNLTYSVCRCTHLTNFAILMQVVPL\n",
      "[DEBUG] gain_classes.GainDomain : Q9BY15-AGRE3_HUMAN-AGRE3-Homo_sapiens\n",
      "DETECTED ALTERED GAIN DOMAIN DETECTION. TRUNCATING @ RESIDUE : 2\n",
      "\tself.start = 121\tself.end = 347\n",
      "\tlen(sequence) = 228\n",
      "\tself.end-self.start+1 = 227\n",
      "[DEBUG]: gain_classes.GainDomain : \n",
      "\t len(sequence) = 228, len(self.sequence) = 226\n",
      "TSSKTTEGRKELQKIVDKFESLLTNQTLWRTEGRQEISSTATTILRDVESKVLETALKDPEQKVLKIQNDSVAIETQAITDNCSEERKTFNLNVQMNSMDIRCSDIIQGDTQGPSAIAFISYSSLGNIINATFFEEMDKKDQVYLNSQVVSAAIGPKRNVSLSKSVTLTFQHVKMTPSTKKVFCVYWKSTGQGSQWSRDGCFLIHVNKSHTMCNCSHLSSFAVLMALT\n",
      "SKTTEGRKELQKIVDKFESLLTNQTLWRTEGRQEISSTATTILRDVESKVLETALKDPEQKVLKIQNDSVAIETQAITDNCSEERKTFNLNVQMNSMDIRCSDIIQGDTQGPSAIAFISYSSLGNIINATFFEEMDKKDQVYLNSQVVSAAIGPKRNVSLSKSVTLTFQHVKMTPSTKKVFCVYWKSTGQGSQWSRDGCFLIHVNKSHTMCNCSHLSSFAVLMALT\n",
      "[DEBUG] gain_classes.GainDomain : Q9UHX3_B4DQ96_E7ESD7_E9PBR1_E9PEL6_E9PFQ5_E9PG91_Q8NG96_Q9Y4B1-AGRE2_HUMAN-AGRE2-Homo_sapiens\n",
      "DETECTED ALTERED GAIN DOMAIN DETECTION. TRUNCATING @ RESIDUE : 2\n",
      "\tself.start = 270\tself.end = 526\n",
      "\tlen(sequence) = 258\n",
      "\tself.end-self.start+1 = 257\n",
      "[DEBUG]: gain_classes.GainDomain : \n",
      "\t len(sequence) = 258, len(self.sequence) = 256\n",
      "PPGVHSQTLSRFFDKVQDLGRDYKPGLANNTIQSILQALDELLEAPGDLETLPRLQQHCVASHLLDGLEDVLRGLSKNLSNGLLNFSYPAGTELSLEVQKQVDRSVTLRQNQAVMQLDWNQAQKSGDPGPSVVGLVSIPGMGKLLAEAPLVLEPEKQMLLHETHQGLLQDGSPILLSDVISAFLSNNDTQNLSSPVTFTFSHRSVIPRQKVLCVFWEHGQNGCGHWATTGCSTIGTRDTSTICRCTHLSSFAVLMAHY\n",
      "GVHSQTLSRFFDKVQDLGRDYKPGLANNTIQSILQALDELLEAPGDLETLPRLQQHCVASHLLDGLEDVLRGLSKNLSNGLLNFSYPAGTELSLEVQKQVDRSVTLRQNQAVMQLDWNQAQKSGDPGPSVVGLVSIPGMGKLLAEAPLVLEPEKQMLLHETHQGLLQDGSPILLSDVISAFLSNNDTQNLSSPVTFTFSHRSVIPRQKVLCVFWEHGQNGCGHWATTGCSTIGTRDTSTICRCTHLSSFAVLMAHY\n",
      "[DEBUG] gain_classes.GainDomain : Q14246_A6NHV2_B7Z486_B7Z489_E7EPX9_E9PD45_H9KV79_Q2I7G5_Q6ZMN0-AGRE1_HUMAN-AGRE1-Homo_sapiens\n",
      "DETECTED ALTERED GAIN DOMAIN DETECTION. TRUNCATING @ RESIDUE : 2\n",
      "\tself.start = 325\tself.end = 593\n",
      "\tlen(sequence) = 270\n",
      "\tself.end-self.start+1 = 269\n",
      "[DEBUG]: gain_classes.GainDomain : \n",
      "\t len(sequence) = 270, len(self.sequence) = 268\n",
      "DVIPDNKQIQQCQEGTAVKPAYVSFCAQINNIFSVLDKVCENKTTVVSLKNTTESFVPVLKQISTWTKFTKEETSSLATVFLESVESMTLASFWKPSANITPAVRTEYLDIESKVINKECSEENVTLDLVAKGDKMKIGCSTIEESESTETTGVAFVSFVGMESVLNERFFKDHQAPLTTSEIKLKMNSRVVGGIMTGEKKDGFSDPIIYTLENIQPKQKFERPICVSWSTDVKGGRWTSFGCVILEASETYTICSCNQMANLAVIMASG\n",
      "IPDNKQIQQCQEGTAVKPAYVSFCAQINNIFSVLDKVCENKTTVVSLKNTTESFVPVLKQISTWTKFTKEETSSLATVFLESVESMTLASFWKPSANITPAVRTEYLDIESKVINKECSEENVTLDLVAKGDKMKIGCSTIEESESTETTGVAFVSFVGMESVLNERFFKDHQAPLTTSEIKLKMNSRVVGGIMTGEKKDGFSDPIIYTLENIQPKQKFERPICVSWSTDVKGGRWTSFGCVILEASETYTICSCNQMANLAVIMASG\n",
      "Completed collection with 0 invalid structures.\n"
     ]
    },
    {
     "name": "stderr",
     "output_type": "stream",
     "text": [
      "\n"
     ]
    },
    {
     "data": {
      "text/plain": [
       "'for gain in human_collection.collection:\\n    #print(gain.name, gain.start, gain.end, gain.sequence, gain.index, gain.subdomain_boundary)\\n    pdb_out = root_path+\"human/trunc_pdbs/\"+gain.name+\"_gain.pdb\"\\n    ac = gain.name.split(\"-\")[0]\\n    found_pdb = [pdb for pdb in pdb_list if ac in pdb]\\n    target_pdb = found_pdb[0]\\n    gain.write_gain_pdb(target_pdb, pdb_out)'"
      ]
     },
     "execution_count": 6,
     "metadata": {},
     "output_type": "execute_result"
    }
   ],
   "source": [
    "human_seqs = [\"Q9HBW9\",\"O60241\",\"Q6QNK2\",\"Q9UHX3\",\"Q5T601\",\"Q96PE1\",\"O60242\",\"Q86SQ4\",\n",
    "                \"O94910\",\"Q8IWK6\",\"Q8IZP9\",\"Q8WXG9\",\"Q86Y34\",\"O95490\",\"Q14246\",\"Q9BY15\",\n",
    "                \"Q8IZF2\",\"Q86SQ3\",\"Q8IZF6\",\"Q96K78\",\"Q8IZF3\",\"Q8IZF7\",\"Q8IZF5\",\"Q7Z7M1\",\n",
    "                \"Q8IZF4\",\"Q9HCU4\",\"Q9NYQ6\",\"Q9NYQ7\",\"Q9HAR2\",\"O14514\",\"P48960\",\n",
    "                \"Q9Y653\"]\n",
    "sigma_2_strides = glob.glob(\"/home/hildilab/projects/agpcr_nom/sigma_2*/*.stride\")\n",
    "list_32 = filter_by_list(valid_seqs, human_seqs)\n",
    "\n",
    "human_collection = GainCollection( alignment_file = alignment_file,\n",
    "                                        aln_cutoff = aln_cutoff,\n",
    "                                        quality = quality,\n",
    "                                        gps_index = gps_minus_one,\n",
    "                                        stride_files =  sigma_2_strides, #stride_files,\n",
    "                                        sequence_files=None,\n",
    "                                        sequences=list_32,\n",
    "                                        alignment_dict = alignment_dict,\n",
    "                                        is_truncated = True,\n",
    "                                        coil_weight = 0.08, # TESTING\n",
    "                                        stride_outlier_mode = True\n",
    "                                         )\n",
    "#print(len(human_collection.collection))\n",
    "\"\"\"for gain in human_collection.collection:\n",
    "    #print(gain.name, gain.start, gain.end, gain.sequence, gain.index, gain.subdomain_boundary)\n",
    "    pdb_out = root_path+\"human/trunc_pdbs/\"+gain.name+\"_gain.pdb\"\n",
    "    ac = gain.name.split(\"-\")[0]\n",
    "    found_pdb = [pdb for pdb in pdb_list if ac in pdb]\n",
    "    target_pdb = found_pdb[0]\n",
    "    gain.write_gain_pdb(target_pdb, pdb_out)\"\"\"\n"
   ]
  },
  {
   "cell_type": "code",
   "execution_count": null,
   "metadata": {},
   "outputs": [],
   "source": [
    "\"\"\"target_dir = root_path+\"human_31_0/\"\n",
    "\n",
    "grab_selection(parse_string='',\n",
    "              stride_path = root_path+\"all_gps_stride/\",\n",
    "              pdb_list = pdb_list,\n",
    "              sequences = list_32,\n",
    "              profile_path = profile_path,\n",
    "              target_dir = target_dir)\"\"\""
   ]
  },
  {
   "cell_type": "code",
   "execution_count": null,
   "metadata": {},
   "outputs": [],
   "source": [
    "\"\"\"for gain in human_collection.collection:\n",
    "    #print(gain.name, gain.start, gain.end, gain.sequence, gain.index, gain.subdomain_boundary)\n",
    "    pdb_out = root_path+\"human_32/trunc_pdbs/\"+gain.name+\"_gain.pdb\"\n",
    "    ac = gain.name.split(\"-\")[0]\n",
    "    found_pdb = [pdb for pdb in pdb_list if ac in pdb]\n",
    "    target_pdb = found_pdb[0]\n",
    "    gain.write_gain_pdb(target_pdb, pdb_out)\"\"\"\n"
   ]
  },
  {
   "cell_type": "code",
   "execution_count": null,
   "metadata": {},
   "outputs": [],
   "source": [
    "plt.plot(human_collection.anchor_hist)\n",
    "human_collection.plot_sse_hist(title=f\"Receptor group: HUMAN_31 (Total: 31)\",\n",
    "                                   n_max=16,\n",
    "                                   savename=\"hists/human_31.s2_newAnch.16\")"
   ]
  },
  {
   "cell_type": "code",
   "execution_count": 7,
   "metadata": {},
   "outputs": [],
   "source": [
    "#dir(valid_collection)\n",
    "occupancy = np.zeros([aln_cutoff],dtype=int)\n",
    "sse_matrix = np.zeros([len(valid_collection.collection), aln_cutoff])\n",
    "for i, gain in enumerate(valid_collection.collection):\n",
    "    #print(gain.sda_helices, gain.sdb_sheets)\n",
    "#    for res_id in range(gain.start,gain.end+1):\n",
    "    occupancy[gain.alignment_indices] += 1\n",
    "    \n",
    "    for helix in gain.sda_helices:\n",
    "        for res_id in range(helix[0],helix[1]+1):\n",
    "            sse_matrix[i,gain.alignment_indices[res_id]] = -1\n",
    "    for sheet in gain.sdb_sheets:\n",
    "        for res_id in range(sheet[0],sheet[1]+1):\n",
    "            sse_matrix[i,gain.alignment_indices[res_id]] = 1"
   ]
  },
  {
   "cell_type": "code",
   "execution_count": 8,
   "metadata": {},
   "outputs": [
    {
     "name": "stdout",
     "output_type": "stream",
     "text": [
      "Found Anchors at cutoff 3000 with 8 Helix Anchors and 15 Sheet Anchors.\n",
      "[ 886 2037 2531 2855 2931 2979 3063 3286 3471 3580 3936 4130 4183 4380\n",
      " 4968 5404 5480 5723 6151 6461 6501 6554 6631]\n",
      "0 886\n",
      "1 2037\n",
      "2 2531\n",
      "3 2855\n",
      "4 2931\n",
      "5 2979\n",
      "6 3063\n",
      "7 3286\n",
      "8 3471\n",
      "9 3580\n",
      "10 3936\n",
      "11 4130\n",
      "12 4183\n",
      "13 4380\n",
      "14 4968\n",
      "15 5404\n",
      "16 5480\n",
      "17 5723\n",
      "18 6151\n",
      "19 6461\n",
      "20 6501\n",
      "21 6554\n",
      "22 6631\n"
     ]
    },
    {
     "data": {
      "image/png": "[encoded data removed]",
      "text/plain": [
       "<Figure size 936x288 with 3 Axes>"
      ]
     },
     "metadata": {
      "needs_background": "light"
     },
     "output_type": "display_data"
    }
   ],
   "source": [
    "plt.figure(figsize=[math.ceil(aln_cutoff/600)+1,4])\n",
    "plt.subplot(3,1,1)\n",
    "plt.vlines(valid_collection.alignment_subdomain_boundary,-10000,10000, linewidth=3, color='k')\n",
    "plt.plot(np.sum(sse_matrix, axis=0))\n",
    "plt.subplot(3,1,2)\n",
    "plt.vlines(valid_collection.alignment_subdomain_boundary, -50000,100000, linewidth=3, color='k')\n",
    "plt.plot(np.convolve(np.sum(sse_matrix, axis=0), np.ones([20])))\n",
    "plt.subplot(3,1,3)\n",
    "plt.vlines(valid_collection.alignment_subdomain_boundary, 0, 13000, linewidth=3, color='k')\n",
    "plt.bar(np.arange(aln_cutoff),valid_collection.anchor_hist, width=2)\n",
    "anchors , anchor_occupation = valid_collection.find_anchors(cutoff=3000)\n",
    "print(anchors)\n",
    "for i, anchor in enumerate(anchors):\n",
    "    print(i, anchor)\n",
    "    if anchor < valid_collection.alignment_subdomain_boundary: \n",
    "        color = u'#1f77b4'\n",
    "    else: \n",
    "        color = u'#ff7f0e'\n",
    "    plt.scatter(anchor, valid_collection.anchor_hist[anchor]+1000, c=color, marker=\"1\",s=60)\n",
    "plt.savefig(\"000.big_signal.s2.nx.16.png\", dpi=600, bbox_inches='tight')"
   ]
  },
  {
   "cell_type": "code",
   "execution_count": 9,
   "metadata": {},
   "outputs": [
    {
     "name": "stdout",
     "output_type": "stream",
     "text": [
      "[ 886 2037 2531 2855 2931 2979 3063 3286 3471 3580 3936 4130 4183 4380\n",
      " 4968 5404 5480 5723 6151 6461 6501 6554 6631]\n",
      "[10581. 11921. 12383.  9013.  4946.  5456.  3046. 14260.  9020. 13406.\n",
      "  5851.  4305.  4517. 13547. 13594.  5785. 13992. 14002. 12919. 14052.\n",
      " 14353.  9597. 14216.]\n",
      "3441\n",
      "{886: 'H1', 2037: 'H2', 2531: 'H3', 2855: 'H4', 2931: 'H5', 2979: 'H6', 3063: 'H7', 3286: 'H8', 3471: 'S1', 3580: 'S2', 3936: 'S3', 4130: 'S4', 4183: 'S5', 4380: 'S6', 4968: 'S7', 5404: 'S8', 5480: 'S9', 5723: 'S10', 6151: 'S11', 6461: 'S12', 6501: 'S13', 6554: 'S14', 6631: 'S15'}\n"
     ]
    },
    {
     "data": {
      "text/plain": [
       "'named_dirs = []\\nfor gain in human_collection.collection:\\n    _,_, named_dir = gain.create_indexing(anchors, anchor_occupation, anchor_dict)\\n    named_dirs.append(named_dir)'"
      ]
     },
     "execution_count": 9,
     "metadata": {},
     "output_type": "execute_result"
    }
   ],
   "source": [
    "print(anchors)\n",
    "print(anchor_occupation)\n",
    "print(valid_collection.alignment_subdomain_boundary)\n",
    "#sdb = 3425\n",
    "#anchors = [662, 1194, 1912, 2490, 2983, 3260, 3455, 3461, 3739, 3998, 4295, 4850, 5347, 5461,\n",
    "# 5813, 5853, 6337, 6659, 6715, 6772, 6808]\n",
    "#anchor_occupation = [ 3896,  7206, 11169, 13756, 11165, 14086,  6206,  4106, 12116,  9369,\n",
    "# 12987, 12103, 11190, 11077,  5610,  8639, 13998, 13267, 13936, 10506, 14303]\n",
    "#anchor_dict = sse_func.make_anchor_dict(anchors, 3425)\n",
    "anchor_dict = sse_func.make_anchor_dict(anchors, valid_collection.alignment_subdomain_boundary)\n",
    "#dir(human_collection.collection[0])\n",
    "#human_collection.collection[0].create_indexing(anchors, anchor_occupation, anchor_dict)\n",
    "print(anchor_dict)\n",
    "\"\"\"named_dirs = []\n",
    "for gain in human_collection.collection:\n",
    "    _,_, named_dir = gain.create_indexing(anchors, anchor_occupation, anchor_dict)\n",
    "    named_dirs.append(named_dir)\"\"\""
   ]
  },
  {
   "cell_type": "code",
   "execution_count": 10,
   "metadata": {},
   "outputs": [],
   "source": [
    "class Indexing:\n",
    "    def __init__(self, aGainCollection, fasta_offsets=None, split_mode='single'):\n",
    "        \n",
    "        length = len(aGainCollection.collection)\n",
    "        names = np.empty([length], dtype=object)\n",
    "        indexing_dirs = np.empty([length], dtype=object)\n",
    "        center_dirs = np.empty([length], dtype=object)\n",
    "        offsets = np.zeros([length], dtype=int)\n",
    "        total_keys = []\n",
    "        center_keys = []\n",
    "        if fasta_offsets is None:\n",
    "            self.fasta_offsets = np.zeros([length])\n",
    "        if fasta_offsets is not None: \n",
    "            corrected_offsets = []\n",
    "            for i in range(length):\n",
    "                # The existing FASTA offsets do not account for the residue starting not at 0,\n",
    "                # Therefore the value of the starting res (gain.start) needs to be subtracted.\n",
    "                corrected_offsets.append(fasta_offsets[i]-aGainCollection.collection[i].start)\n",
    "            self.fasta_offsets = np.array(corrected_offsets, dtype=int)\n",
    "            \n",
    "        for gain_index, gain in enumerate(aGainCollection.collection):\n",
    "            indexing_dir, indexing_centers = gain.create_indexing(anchors, \n",
    "                                                                  anchor_occupation, \n",
    "                                                                  anchor_dict,\n",
    "                                                                  split_mode=split_mode)\n",
    "            print(indexing_dir, indexing_centers)\n",
    "            for key in indexing_dir.keys():\n",
    "                if key not in total_keys:\n",
    "                    total_keys.append(key)\n",
    "                    \n",
    "            for key in indexing_centers.keys():\n",
    "                if key not in center_keys:\n",
    "                    center_keys.append(key)                 \n",
    "                \n",
    "            indexing_dirs[gain_index] = indexing_dir\n",
    "            center_dirs[gain_index] = indexing_centers\n",
    "            # Patch ADGRC/CELSR naming\n",
    "            names[gain_index] = gain.name.replace(\"CadherinEGFLAGseven-passG-typereceptor\", \"AGRC\")\n",
    "            offsets[gain_index] = gain.start\n",
    "\n",
    "        self.indexing_dirs = indexing_dirs\n",
    "        self.center_dirs = center_dirs\n",
    "        self.names = names\n",
    "        self.length = length\n",
    "        self.offsets = offsets\n",
    "        self.accessions = [gain.name.split(\"-\")[0].split(\"_\")[0] for gain in aGainCollection.collection]\n",
    "        self.sequences = [\"\".join(gain.sequence) for gain in aGainCollection.collection]\n",
    "        self.total_keys = sorted(total_keys)\n",
    "        self.center_keys = sorted(center_keys)\n",
    "        \n",
    "        print(\"Total of keys found in the dictionaries:\\n\", self.total_keys, self.center_keys)\n",
    "        print(\"First entry\", self.indexing_dirs[0], self.center_dirs[0])\n",
    "        \n",
    "        header_list = [\"Receptor\", \"Accession\"] + self.total_keys + self.center_keys\n",
    "        #header = \"Receptor,Accession,\" + \",\".join(self.total_keys) + \",\".join(self.center_keys)\n",
    "              \n",
    "        header_dict = {}\n",
    "        for idx, item in enumerate(header_list):\n",
    "            header_dict[item] = idx\n",
    "\n",
    "        data_matrix = np.full([self.length, len(header_dict.keys())], fill_value='', dtype=object)\n",
    "        # Go through each of the sub-dictionaries and populate the dataframe:\n",
    "        for row in range(self.length):\n",
    "                # Q5T601_Q5KU15_..._Q9H615-AGRF1_HUMAN-AGRF1-Homo_sapiens.fa\n",
    "                # 0                        1           2     3\n",
    "            name_parts = self.names[row].split(\"-\")\n",
    "            data_matrix[row, header_dict[\"Receptor\"]] = name_parts[2]\n",
    "            data_matrix[row, header_dict[\"Accession\"]] = name_parts[0].split(\"_\")[0]\n",
    "            offset = self.offsets[row]\n",
    "            fa_offset = self.fasta_offsets[row]\n",
    "\n",
    "            for key in self.indexing_dirs[row].keys():\n",
    "                if key == \"GPS\":\n",
    "                    sse=[int(x+fa_offset) for x in self.indexing_dirs[row][key]]\n",
    "                    data_matrix[row, header_dict[key]] = f\"{sse[0]}-{sse[-1]}\"\n",
    "                else:\n",
    "                    sse = [int(x+offset+fa_offset) for x in self.indexing_dirs[row][key]]\n",
    "                    data_matrix[row, header_dict[key]] = f\"{sse[0]}-{sse[1]}\"\n",
    "\n",
    "            for key in self.center_dirs[row].keys():\n",
    "                data_matrix[row, header_dict[key]] = str(self.center_dirs[row][key]+offset+fa_offset)\n",
    "            \n",
    "            self.data_header = \",\".join(header_list)\n",
    "            self.data_matrix = data_matrix\n",
    "\n",
    "    def data2csv(self, outfile):\n",
    "        with open(outfile, \"w\") as f:\n",
    "            f.write(self.data_header+\"\\n\")\n",
    "            for row in range(self.length):\n",
    "                f.write(\",\".join(self.data_matrix[row,:])+\"\\n\")\n",
    "        print(\"Completed file\", outfile, \".\")"
   ]
  },
  {
   "cell_type": "code",
   "execution_count": 11,
   "metadata": {},
   "outputs": [],
   "source": [
    "class GPCRDBIndexing:\n",
    "    def __init__(self, aGainCollection, fasta_offsets=None, split_mode='single'):\n",
    "        \n",
    "        length = len(aGainCollection.collection)\n",
    "        names = np.empty([length], dtype=object)\n",
    "        indexing_dirs = np.empty([length], dtype=object)\n",
    "        center_dirs = np.empty([length], dtype=object)\n",
    "        offsets = np.zeros([length], dtype=int)\n",
    "        total_keys = []\n",
    "        center_keys = []\n",
    "        if fasta_offsets is None:\n",
    "            self.fasta_offsets = np.zeros([length])\n",
    "        if fasta_offsets is not None: \n",
    "            corrected_offsets = []\n",
    "            for i in range(length):\n",
    "                # The existing FASTA offsets do not account for the residue starting not at 0,\n",
    "                # Therefore the value of the starting res (gain.start) needs to be subtracted.\n",
    "                corrected_offsets.append(fasta_offsets[i]-aGainCollection.collection[i].start)\n",
    "            self.fasta_offsets = np.array(corrected_offsets, dtype=int)\n",
    "            \n",
    "        for gain_index, gain in enumerate(aGainCollection.collection):\n",
    "            print(\"\\n\\n\",\"_\"*70,\"\\n\",gain.name,\"\\n\")\n",
    "            indexing_dir, indexing_centers, _ = gain.create_indexing(anchors, \n",
    "                                                    anchor_occupation, \n",
    "                                                    anchor_dict,\n",
    "                                                    split_mode=split_mode)\n",
    "            \n",
    "            print(indexing_dir, indexing_centers)\n",
    "            for key in indexing_dir.keys():\n",
    "                if key not in total_keys:\n",
    "                    total_keys.append(key)\n",
    "                    \n",
    "            for key in indexing_centers.keys():\n",
    "                if key not in center_keys:\n",
    "                    center_keys.append(key)                 \n",
    "                \n",
    "            indexing_dirs[gain_index] = indexing_dir\n",
    "            center_dirs[gain_index] = indexing_centers\n",
    "            # Patch ADGRC/CELSR naming\n",
    "            names[gain_index] = gain.name.replace(\"CadherinEGFLAGseven-passG-typereceptor\", \"AGRC\")\n",
    "            offsets[gain_index] = gain.start\n",
    "\n",
    "        self.indexing_dirs = indexing_dirs\n",
    "        self.center_dirs = center_dirs\n",
    "        self.names = names\n",
    "        self.length = length\n",
    "        self.offsets = offsets\n",
    "        self.accessions = [gain.name.split(\"-\")[0].split(\"_\")[0] for gain in aGainCollection.collection]\n",
    "        self.sequences = [\"\".join(gain.sequence) for gain in aGainCollection.collection]\n",
    "        self.total_keys = sorted(total_keys)\n",
    "        self.center_keys = sorted(center_keys)\n",
    "        \n",
    "        print(\"Total of keys found in the dictionaries:\\n\", self.total_keys, self.center_keys)\n",
    "        print(\"First entry\", self.indexing_dirs[0], self.center_dirs[0])\n",
    "        \n",
    "        header_list = [\"Receptor\", \"Accession\"] + self.total_keys + self.center_keys\n",
    "        #header = \"Receptor,Accession,\" + \",\".join(self.total_keys) + \",\".join(self.center_keys)\n",
    "        new_header = [\"Receptor\", \"Accession\", \"GPS-2\", \"GPS-1\", \"GPS+1\"]\n",
    "        for j in self.center_keys:\n",
    "            new_header.append(f\"{j[:-3]}.start\")\n",
    "            new_header.append(f\"{j[:-3]}.anchor\")\n",
    "            new_header.append(f\"{j[:-3]}.end\")\n",
    "        \n",
    "        gpcr_db_matrix = np.full([self.length, len(new_header)], fill_value='', dtype=object)\n",
    "\n",
    "        header_dict = {}\n",
    "        for idx, item in enumerate(header_list):\n",
    "            header_dict[item] = idx\n",
    "        gpcr_header_dict = {}\n",
    "        for idx, key in enumerate(new_header):\n",
    "            gpcr_header_dict[key] = idx\n",
    "        print(gpcr_header_dict)\n",
    "        data_matrix = np.full([self.length, len(gpcr_header_dict.keys())], fill_value='', dtype=object)\n",
    "        # Go through each of the sub-dictionaries and populate the dataframe:\n",
    "        for row in range(self.length):\n",
    "                # Q5T601_Q5KU15_..._Q9H615-AGRF1_HUMAN-AGRF1-Homo_sapiens.fa\n",
    "                # 0                        1           2     3\n",
    "            name_parts = self.names[row].split(\"-\")\n",
    "            data_matrix[row, gpcr_header_dict[\"Receptor\"]] = name_parts[2]\n",
    "            data_matrix[row, gpcr_header_dict[\"Accession\"]] = name_parts[0].split(\"_\")[0]\n",
    "            offset = self.offsets[row]\n",
    "            fa_offset = self.fasta_offsets[row]\n",
    "\n",
    "            for key in self.indexing_dirs[row].keys():\n",
    "                if key == \"GPS\":\n",
    "                    sse=[int(x+fa_offset) for x in self.indexing_dirs[row][key]]\n",
    "                    data_matrix[row, 2:5] = [str(sse[0]), str(sse[1]), str(sse[2])]\n",
    "                else:\n",
    "                    sse = [int(x+offset+fa_offset) for x in self.indexing_dirs[row][key]]\n",
    "                    data_matrix[row, gpcr_header_dict[f\"{key}.start\"]] = str(sse[0])\n",
    "                    data_matrix[row, gpcr_header_dict[f\"{key}.end\"]] = str(sse[1])\n",
    "\n",
    "            for key in self.center_dirs[row].keys():\n",
    "                data_matrix[row, gpcr_header_dict[key.replace(\".50\",\".anchor\")]] = str(self.center_dirs[row][key]+offset+fa_offset)\n",
    "            \n",
    "            self.data_header = \",\".join(new_header)\n",
    "            self.data_matrix = data_matrix\n",
    "\n",
    "    def data2csv(self, outfile):\n",
    "        with open(outfile, \"w\") as f:\n",
    "            f.write(self.data_header+\"\\n\")\n",
    "            for row in range(self.length):\n",
    "                f.write(\",\".join(self.data_matrix[row,:])+\"\\n\")\n",
    "        print(\"Completed file\", outfile, \".\")"
   ]
  },
  {
   "cell_type": "code",
   "execution_count": 12,
   "metadata": {},
   "outputs": [],
   "source": [
    "#offset information\n",
    "def find_offsets(big_seq_file, accessions, sequences):\n",
    "    # searches through the accessions in the big sequence file,\n",
    "    # finds the start for the provided sequence\n",
    "    with open(big_seq_file,\"r\") as fa:\n",
    "        fata = fa.read()\n",
    "        fatas = fata.split(\">\")\n",
    "    seqs = []\n",
    "    headers = []\n",
    "    offsets = []\n",
    "    for seq in fatas:\n",
    "        if len(seq) < 10: \n",
    "            continue\n",
    "        data = seq.strip().split(\"\\n\")\n",
    "        headers.append(data[0].split(\"|\")[1])\n",
    "        seqs.append(\"\".join(data[1:]))\n",
    "    \n",
    "    heads = np.array(headers)\n",
    "    for idx, accession in enumerate(accessions):\n",
    "        #print(np.where(heads == accession))\n",
    "        seq_idx = np.where(heads == accession)[0][0]\n",
    "        offset = sse_func.find_the_start(seqs[seq_idx], sequences[idx])\n",
    "        #print(offset)\n",
    "        offsets.append(offset)\n",
    "    \n",
    "    return offsets"
   ]
  },
  {
   "cell_type": "code",
   "execution_count": 16,
   "metadata": {},
   "outputs": [
    {
     "ename": "SyntaxError",
     "evalue": "invalid syntax (2802789806.py, line 4)",
     "output_type": "error",
     "traceback": [
      "\u001b[0;36m  File \u001b[0;32m\"/tmp/ipykernel_37118/2802789806.py\"\u001b[0;36m, line \u001b[0;32m4\u001b[0m\n\u001b[0;31m    print(gain.name,\"\\n\",gain.a_breaks,\"\\n\" gain.b_breaks,\"\\n\",\"_\"*70)\u001b[0m\n\u001b[0m                                            ^\u001b[0m\n\u001b[0;31mSyntaxError\u001b[0m\u001b[0;31m:\u001b[0m invalid syntax\n"
     ]
    }
   ],
   "source": [
    "mode = 'double'\n",
    "\n",
    "for gain in human_collection.collection:\n",
    "    print(gain.name,\"\\n\",gain.a_breaks,\"\\n\",gain.b_breaks,\"\\n\",\"_\"*70)\n",
    "\n",
    "human_base = GPCRDBIndexing(human_collection, split_mode=mode)\n",
    "\n",
    "\n",
    "big_seq_file = \"/home/hildilab/projects/GPS_massif/uniprot_query/agpcr_celsr.fasta\"\n",
    "fasta_offsets = find_offsets(big_seq_file, \n",
    "                                 human_base.accessions, \n",
    "                                 human_base.sequences)\n",
    "print(fasta_offsets)\n",
    "#fa_human_base = GPCRDBIndexing(human_collection, fasta_offsets = fasta_offsets, split_mode=mode)\n",
    "#print(fa_human_base.data2csv)\n",
    "#human_base.data2csv(f\"default_indexed_s2_s2a_re_{mode}_gpcrdb.csv\")\n",
    "#fa_human_base.data2csv(f\"uniprot_indexed_s2_s2a_re_{mode}_gpcrdb.csv\")"
   ]
  },
  {
   "cell_type": "code",
   "execution_count": null,
   "metadata": {},
   "outputs": [],
   "source": [
    "all_base = GPCRDBIndexing(valid_collection, split_mode=mode)\n",
    "\n",
    "fasta_offsets = find_offsets(big_seq_file, \n",
    "                                 all_base.accessions, \n",
    "                                 all_base.sequences)\n",
    "all_base.data2csv(f\"default_indexed_all_{mode}.cut.16.csv\")\n",
    "fa_all_base = GPCRDBIndexing(valid_collection, fasta_offsets = fasta_offsets, split_mode=mode)\n",
    "\n",
    "fa_all_base.data2csv(f\"uniprot_indexed_all_{mode}.cut.16.csv\")"
   ]
  },
  {
   "cell_type": "code",
   "execution_count": null,
   "metadata": {},
   "outputs": [],
   "source": [
    "def offset_pdb(in_pdb, out_pdb, offset):\n",
    "    with open(in_pdb,\"r\") as p:\n",
    "        data = p.readlines()\n",
    "    offset_pdb = open(out_pdb, \"w\")\n",
    "    \n",
    "    for line in data:\n",
    "        if line.startswith(\"ATOM\"):\n",
    "            res_id = int(line[22:26])\n",
    "            offset_pdb.write(f\"{line[:22]}{str(res_id+offset).rjust(4)}{line[26:]}\")\n",
    "        else:\n",
    "            offset_pdb.write(line)\n",
    "    \n",
    "    print(f\"Created PDB {out_pdb} with last residue {res_id+offset}. Total offset {offset} .\")"
   ]
  },
  {
   "cell_type": "code",
   "execution_count": null,
   "metadata": {},
   "outputs": [],
   "source": [
    "#in_pdbs = glob.glob(\"/home/hildilab/projects/agpcr_nom/human_31/aligned/subd_B/trunc_pdbs/*.pdb\")"
   ]
  },
  {
   "cell_type": "code",
   "execution_count": null,
   "metadata": {},
   "outputs": [],
   "source": [
    "\"\"\"for i, offset in enumerate(fa_human_base.fasta_offsets):\n",
    "    sub_pdb = [pdb for pdb in in_pdbs if fa_human_base.accessions[i] in pdb][0]\n",
    "    offset_pdb(sub_pdb, sub_pdb.replace(\"trunc_pdbs\",\"uniprot_indexed_pdbs\"), offset)\"\"\""
   ]
  },
  {
   "cell_type": "code",
   "execution_count": null,
   "metadata": {},
   "outputs": [],
   "source": [
    "for i, gain in enumerate(human_collection.collection):\n",
    "    #if \"Q6QNK2\" in gain.name:\n",
    "        x1, x2 = gain.create_indexing(anchors, anchor_occupation, anchor_dict, \n",
    "                    outdir = \"/home/hildilab/projects/agpcr_nom/human_31/indexing_files_s2_dsp\",\n",
    "                    #offset = fasta_offsets[i]-gain.start+1,\n",
    "                    split_mode='double')\n",
    "        \n",
    "        print(x1, x2)"
   ]
  },
  {
   "cell_type": "code",
   "execution_count": null,
   "metadata": {},
   "outputs": [],
   "source": [
    "print(fasta_offsets)"
   ]
  },
  {
   "cell_type": "code",
   "execution_count": null,
   "metadata": {
    "scrolled": true
   },
   "outputs": [],
   "source": [
    "rev_named_dirs = []\n",
    "for named_dir in named_dirs:\n",
    "    rev_dir = {v: k for k, v in named_dir.items()}\n",
    "    rev_named_dirs.append(rev_dir)"
   ]
  },
  {
   "cell_type": "code",
   "execution_count": null,
   "metadata": {},
   "outputs": [],
   "source": []
  }
 ],
 "metadata": {
  "kernelspec": {
   "display_name": "Python 3 (ipykernel)",
   "language": "python",
   "name": "python3"
  },
  "language_info": {
   "codemirror_mode": {
    "name": "ipython",
    "version": 3
   },
   "file_extension": ".py",
   "mimetype": "text/x-python",
   "name": "python",
   "nbconvert_exporter": "python",
   "pygments_lexer": "ipython3",
   "version": "3.9.6"
  }
 },
 "nbformat": 4,
 "nbformat_minor": 4
}
